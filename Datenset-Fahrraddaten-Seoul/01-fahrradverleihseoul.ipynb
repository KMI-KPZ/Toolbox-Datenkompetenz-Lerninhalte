





<!DOCTYPE html>
<html
  lang="en"
  
  data-color-mode="auto" data-light-theme="light" data-dark-theme="dark"
  data-a11y-animated-images="system" data-a11y-link-underlines="true"
  
  >



  <head>
    <meta charset="utf-8">
  <link rel="dns-prefetch" href="https://github.githubassets.com">
  <link rel="dns-prefetch" href="https://avatars.githubusercontent.com">
  <link rel="dns-prefetch" href="https://github-cloud.s3.amazonaws.com">
  <link rel="dns-prefetch" href="https://user-images.githubusercontent.com/">
  <link rel="preconnect" href="https://github.githubassets.com" crossorigin>
  <link rel="preconnect" href="https://avatars.githubusercontent.com">

  


  <link crossorigin="anonymous" media="all" rel="stylesheet" href="https://github.githubassets.com/assets/light-74231a1f3bbb.css" /><link crossorigin="anonymous" media="all" rel="stylesheet" href="https://github.githubassets.com/assets/dark-8a995f0bacd4.css" /><link data-color-theme="dark_dimmed" crossorigin="anonymous" media="all" rel="stylesheet" data-href="https://github.githubassets.com/assets/dark_dimmed-f37fb7684b1f.css" /><link data-color-theme="dark_high_contrast" crossorigin="anonymous" media="all" rel="stylesheet" data-href="https://github.githubassets.com/assets/dark_high_contrast-9ac301c3ebe5.css" /><link data-color-theme="dark_colorblind" crossorigin="anonymous" media="all" rel="stylesheet" data-href="https://github.githubassets.com/assets/dark_colorblind-cd826e8636dc.css" /><link data-color-theme="light_colorblind" crossorigin="anonymous" media="all" rel="stylesheet" data-href="https://github.githubassets.com/assets/light_colorblind-f91b0f603451.css" /><link data-color-theme="light_high_contrast" crossorigin="anonymous" media="all" rel="stylesheet" data-href="https://github.githubassets.com/assets/light_high_contrast-83beb16e0ecf.css" /><link data-color-theme="light_tritanopia" crossorigin="anonymous" media="all" rel="stylesheet" data-href="https://github.githubassets.com/assets/light_tritanopia-6e122dab64fc.css" /><link data-color-theme="dark_tritanopia" crossorigin="anonymous" media="all" rel="stylesheet" data-href="https://github.githubassets.com/assets/dark_tritanopia-18119e682df0.css" />

    <link crossorigin="anonymous" media="all" rel="stylesheet" href="https://github.githubassets.com/assets/primer-primitives-225433424a87.css" />
    <link crossorigin="anonymous" media="all" rel="stylesheet" href="https://github.githubassets.com/assets/primer-aaa714e5674d.css" />
    <link crossorigin="anonymous" media="all" rel="stylesheet" href="https://github.githubassets.com/assets/global-0a3c53b9d1c2.css" />
    <link crossorigin="anonymous" media="all" rel="stylesheet" href="https://github.githubassets.com/assets/github-ea73c9cb5377.css" />
  <link crossorigin="anonymous" media="all" rel="stylesheet" href="https://github.githubassets.com/assets/repository-4fce88777fa8.css" />
<link crossorigin="anonymous" media="all" rel="stylesheet" href="https://github.githubassets.com/assets/code-0210be90f4d3.css" />

  


  <script type="application/json" id="client-env">{"locale":"en","featureFlags":["a11y_quote_reply_fix","allow_subscription_halted_error","copilot_immersive_issue_preview","copilot_new_references_ui","copilot_chat_repo_custom_instructions_preview","copilot_chat_opening_thread_switch","copilot_no_floating_button","copilot_topics_as_references","copilot_read_shared_conversation","copilot_duplicate_thread","copilot_share_active_subthread","copilot_buffered_streaming","dotcom_chat_client_side_skills","experimentation_azure_variant_endpoint","failbot_handle_non_errors","geojson_azure_maps","ghost_pilot_confidence_truncation_25","ghost_pilot_confidence_truncation_40","github_models_gateway","github_models_gateway_parse_params","github_models_o3_mini_streaming","insert_before_patch","issues_advanced_search","issues_react_remove_placeholders","issues_react_blur_item_picker_on_close","marketing_pages_search_explore_provider","memex_roadmap_drag_style","primer_react_css_modules_ga","react_data_router_pull_requests","remove_child_patch","repository_suggester_elastic_search","sample_network_conn_type","swp_enterprise_contact_form","site_proxima_australia_update","viewscreen_sandbox","issues_react_create_milestone","issues_react_cache_fix_workaround","lifecycle_label_name_updates","item_picker_new_select_panel","copilot_task_oriented_assistive_prompts","issue_types_prevent_private_type_creation","issues_react_grouped_diff_on_edit_history","issues_react_bypass_template_selection","refresh_image_video_src","react_router_dispose_on_disconnect","codespaces_prebuild_region_target_update","turbo_app_id_restore","copilot_code_review_sign_up_closed"],"login":"MartinLechner89"}</script>
<script crossorigin="anonymous" defer="defer" type="application/javascript" src="https://github.githubassets.com/assets/wp-runtime-900d20148682.js"></script>
<script crossorigin="anonymous" defer="defer" type="application/javascript" src="https://github.githubassets.com/assets/vendors-node_modules_oddbird_popover-polyfill_dist_popover_js-9da652f58479.js"></script>
<script crossorigin="anonymous" defer="defer" type="application/javascript" src="https://github.githubassets.com/assets/vendors-node_modules_github_arianotify-polyfill_ariaNotify-polyfill_js-node_modules_github_mi-3abb8f-46b9f4874d95.js"></script>
<script crossorigin="anonymous" defer="defer" type="application/javascript" src="https://github.githubassets.com/assets/ui_packages_failbot_failbot_ts-75968cfb5298.js"></script>
<script crossorigin="anonymous" defer="defer" type="application/javascript" src="https://github.githubassets.com/assets/environment-f04cb2a9fc8c.js"></script>
<script crossorigin="anonymous" defer="defer" type="application/javascript" src="https://github.githubassets.com/assets/vendors-node_modules_primer_behaviors_dist_esm_index_mjs-0dbb79f97f8f.js"></script>
<script crossorigin="anonymous" defer="defer" type="application/javascript" src="https://github.githubassets.com/assets/vendors-node_modules_github_selector-observer_dist_index_esm_js-f690fd9ae3d5.js"></script>
<script crossorigin="anonymous" defer="defer" type="application/javascript" src="https://github.githubassets.com/assets/vendors-node_modules_github_relative-time-element_dist_index_js-62d275b7ddd9.js"></script>
<script crossorigin="anonymous" defer="defer" type="application/javascript" src="https://github.githubassets.com/assets/vendors-node_modules_github_text-expander-element_dist_index_js-78748950cb0c.js"></script>
<script crossorigin="anonymous" defer="defer" type="application/javascript" src="https://github.githubassets.com/assets/vendors-node_modules_github_auto-complete-element_dist_index_js-node_modules_github_catalyst_-8e9f78-a90ac05d2469.js"></script>
<script crossorigin="anonymous" defer="defer" type="application/javascript" src="https://github.githubassets.com/assets/vendors-node_modules_github_filter-input-element_dist_index_js-node_modules_github_remote-inp-b5f1d7-a1760ffda83d.js"></script>
<script crossorigin="anonymous" defer="defer" type="application/javascript" src="https://github.githubassets.com/assets/vendors-node_modules_github_markdown-toolbar-element_dist_index_js-ceef33f593fa.js"></script>
<script crossorigin="anonymous" defer="defer" type="application/javascript" src="https://github.githubassets.com/assets/vendors-node_modules_github_file-attachment-element_dist_index_js-node_modules_primer_view-co-c44a69-efa32db3a345.js"></script>
<script crossorigin="anonymous" defer="defer" type="application/javascript" src="https://github.githubassets.com/assets/github-elements-394f8eb34f19.js"></script>
<script crossorigin="anonymous" defer="defer" type="application/javascript" src="https://github.githubassets.com/assets/element-registry-25113a65b77f.js"></script>
<script crossorigin="anonymous" defer="defer" type="application/javascript" src="https://github.githubassets.com/assets/vendors-node_modules_braintree_browser-detection_dist_browser-detection_js-node_modules_githu-2906d7-2a07a295af40.js"></script>
<script crossorigin="anonymous" defer="defer" type="application/javascript" src="https://github.githubassets.com/assets/vendors-node_modules_lit-html_lit-html_js-be8cb88f481b.js"></script>
<script crossorigin="anonymous" defer="defer" type="application/javascript" src="https://github.githubassets.com/assets/vendors-node_modules_github_mini-throttle_dist_index_js-node_modules_morphdom_dist_morphdom-e-7c534c-a4a1922eb55f.js"></script>
<script crossorigin="anonymous" defer="defer" type="application/javascript" src="https://github.githubassets.com/assets/vendors-node_modules_github_turbo_dist_turbo_es2017-esm_js-a03ee12d659a.js"></script>
<script crossorigin="anonymous" defer="defer" type="application/javascript" src="https://github.githubassets.com/assets/vendors-node_modules_github_remote-form_dist_index_js-node_modules_delegated-events_dist_inde-893f9f-b6294cf703b7.js"></script>
<script crossorigin="anonymous" defer="defer" type="application/javascript" src="https://github.githubassets.com/assets/vendors-node_modules_color-convert_index_js-e3180fe3bcb3.js"></script>
<script crossorigin="anonymous" defer="defer" type="application/javascript" src="https://github.githubassets.com/assets/vendors-node_modules_github_quote-selection_dist_index_js-node_modules_github_session-resume_-947061-e7a6c4a19f98.js"></script>
<script crossorigin="anonymous" defer="defer" type="application/javascript" src="https://github.githubassets.com/assets/ui_packages_updatable-content_updatable-content_ts-eb3147a21e96.js"></script>
<script crossorigin="anonymous" defer="defer" type="application/javascript" src="https://github.githubassets.com/assets/app_assets_modules_github_behaviors_task-list_ts-app_assets_modules_github_sso_ts-ui_packages-900dde-768abe60b1f8.js"></script>
<script crossorigin="anonymous" defer="defer" type="application/javascript" src="https://github.githubassets.com/assets/app_assets_modules_github_sticky-scroll-into-view_ts-3e000c5d31a9.js"></script>
<script crossorigin="anonymous" defer="defer" type="application/javascript" src="https://github.githubassets.com/assets/app_assets_modules_github_behaviors_ajax-error_ts-app_assets_modules_github_behaviors_include-87a4ae-4c160a67a3f8.js"></script>
<script crossorigin="anonymous" defer="defer" type="application/javascript" src="https://github.githubassets.com/assets/app_assets_modules_github_behaviors_commenting_edit_ts-app_assets_modules_github_behaviors_ht-83c235-e429cff6ceb1.js"></script>
<script crossorigin="anonymous" defer="defer" type="application/javascript" src="https://github.githubassets.com/assets/behaviors-1f167e0c2aee.js"></script>
<script crossorigin="anonymous" defer="defer" type="application/javascript" src="https://github.githubassets.com/assets/vendors-node_modules_delegated-events_dist_index_js-node_modules_github_catalyst_lib_index_js-f6223d90c7ba.js"></script>
<script crossorigin="anonymous" defer="defer" type="application/javascript" src="https://github.githubassets.com/assets/notifications-global-01e85cd1be94.js"></script>
<script crossorigin="anonymous" defer="defer" type="application/javascript" src="https://github.githubassets.com/assets/vendors-node_modules_github_mini-throttle_dist_index_js-node_modules_github_catalyst_lib_inde-dbbea9-26cce2010167.js"></script>
<script crossorigin="anonymous" defer="defer" type="application/javascript" src="https://github.githubassets.com/assets/code-menu-1c0aedc134b1.js"></script>
  
  <script crossorigin="anonymous" defer="defer" type="application/javascript" src="https://github.githubassets.com/assets/primer-react-602097a4b0db.js"></script>
<script crossorigin="anonymous" defer="defer" type="application/javascript" src="https://github.githubassets.com/assets/react-core-0bc17999cb79.js"></script>
<script crossorigin="anonymous" defer="defer" type="application/javascript" src="https://github.githubassets.com/assets/react-lib-f1bca44e0926.js"></script>
<script crossorigin="anonymous" defer="defer" type="application/javascript" src="https://github.githubassets.com/assets/octicons-react-cf2f2ab8dab4.js"></script>
<script crossorigin="anonymous" defer="defer" type="application/javascript" src="https://github.githubassets.com/assets/vendors-node_modules_emotion_is-prop-valid_dist_emotion-is-prop-valid_esm_js-node_modules_emo-62da9f-2df2f32ec596.js"></script>
<script crossorigin="anonymous" defer="defer" type="application/javascript" src="https://github.githubassets.com/assets/vendors-node_modules_github_mini-throttle_dist_index_js-node_modules_stacktrace-parser_dist_s-e7dcdd-9a233856b02c.js"></script>
<script crossorigin="anonymous" defer="defer" type="application/javascript" src="https://github.githubassets.com/assets/vendors-node_modules_oddbird_popover-polyfill_dist_popover-fn_js-55fea94174bf.js"></script>
<script crossorigin="anonymous" defer="defer" type="application/javascript" src="https://github.githubassets.com/assets/vendors-node_modules_dompurify_dist_purify_es_mjs-dd1d3ea6a436.js"></script>
<script crossorigin="anonymous" defer="defer" type="application/javascript" src="https://github.githubassets.com/assets/vendors-node_modules_lodash-es__Stack_js-node_modules_lodash-es__Uint8Array_js-node_modules_l-4faaa6-4a736fde5c2f.js"></script>
<script crossorigin="anonymous" defer="defer" type="application/javascript" src="https://github.githubassets.com/assets/vendors-node_modules_lodash-es__baseIsEqual_js-8929eb9718d5.js"></script>
<script crossorigin="anonymous" defer="defer" type="application/javascript" src="https://github.githubassets.com/assets/vendors-node_modules_react-intersection-observer_react-intersection-observer_modern_mjs-node_-b27033-ba82cef135e3.js"></script>
<script crossorigin="anonymous" defer="defer" type="application/javascript" src="https://github.githubassets.com/assets/vendors-node_modules_focus-visible_dist_focus-visible_js-node_modules_fzy_js_index_js-node_mo-f2fece-29a0ceccb1f1.js"></script>
<script crossorigin="anonymous" defer="defer" type="application/javascript" src="https://github.githubassets.com/assets/ui_packages_aria-live_aria-live_ts-ui_packages_history_history_ts-ui_packages_promise-with-re-01dc80-134579ff449f.js"></script>
<script crossorigin="anonymous" defer="defer" type="application/javascript" src="https://github.githubassets.com/assets/ui_packages_paths_index_ts-3adbcf6faa83.js"></script>
<script crossorigin="anonymous" defer="defer" type="application/javascript" src="https://github.githubassets.com/assets/ui_packages_ref-selector_RefSelector_tsx-7496afc3784d.js"></script>
<script crossorigin="anonymous" defer="defer" type="application/javascript" src="https://github.githubassets.com/assets/ui_packages_commit-attribution_index_ts-ui_packages_commit-checks-status_index_ts-ui_packages-7094d4-b869a469ca5e.js"></script>
<script crossorigin="anonymous" defer="defer" type="application/javascript" src="https://github.githubassets.com/assets/ui_packages_diffs_diff-parts_ts-b05d9274ce63.js"></script>
<script crossorigin="anonymous" defer="defer" type="application/javascript" src="https://github.githubassets.com/assets/ui_packages_app-uuid_app-uuid_ts-ui_packages_document-metadata_document-metadata_ts-ui_packag-4d8de9-e34d18d8cc94.js"></script>
<script crossorigin="anonymous" defer="defer" type="application/javascript" src="https://github.githubassets.com/assets/ui_packages_hydro-analytics_hydro-analytics_ts-ui_packages_verified-fetch_verified-fetch_ts-u-4672d1-96a19eaeffb7.js"></script>
<script crossorigin="anonymous" defer="defer" type="application/javascript" src="https://github.githubassets.com/assets/ui_packages_code-view-shared_hooks_use-canonical-object_ts-ui_packages_code-view-shared_hooks-d63960-3a5579c864b4.js"></script>
<script crossorigin="anonymous" defer="defer" type="application/javascript" src="https://github.githubassets.com/assets/app_assets_modules_github_blob-anchor_ts-ui_packages_code-nav_code-nav_ts-ui_packages_filter--8253c1-91468a3354f9.js"></script>
<script crossorigin="anonymous" defer="defer" type="application/javascript" src="https://github.githubassets.com/assets/react-code-view-45766ab73683.js"></script>
<link crossorigin="anonymous" media="all" rel="stylesheet" href="https://github.githubassets.com/assets/primer-react.8157a56b30ae88a1b356.module.css" />
<link crossorigin="anonymous" media="all" rel="stylesheet" href="https://github.githubassets.com/assets/react-code-view.91744b0963019bd58290.module.css" />


  <title>Toolbox-Datenkompetenz-Lerninhalte/fahrrad-in-seoul/01-fahrradverleihseoul.ipynb at main · KMI-KPZ/Toolbox-Datenkompetenz-Lerninhalte</title>



  <meta name="route-pattern" content="/:user_id/:repository/blob/*name(/*path)" data-turbo-transient>
  <meta name="route-controller" content="blob" data-turbo-transient>
  <meta name="route-action" content="show" data-turbo-transient>

    
  <meta name="current-catalog-service-hash" content="f3abb0cc802f3d7b95fc8762b94bdcb13bf39634c40c357301c4aa1d67a256fb">


  <meta name="request-id" content="E45C:354278:830C357:87D1141:67EA4979" data-turbo-transient="true" /><meta name="html-safe-nonce" content="912098c211b0d416f4a66c9d5ccafb554d091c35b04e5f9e4fbddea134dfa5a6" data-turbo-transient="true" /><meta name="visitor-payload" content="eyJyZWZlcnJlciI6Imh0dHBzOi8vZ2l0aHViLmNvbS9LTUktS1BaL1Rvb2xib3gtRGF0ZW5rb21wZXRlbnotTGVybmluaGFsdGUvdHJlZS9tYWluL2ZhaHJyYWQtaW4tc2VvdWwiLCJyZXF1ZXN0X2lkIjoiRTQ1QzozNTQyNzg6ODMwQzM1Nzo4N0QxMTQxOjY3RUE0OTc5IiwidmlzaXRvcl9pZCI6IjgyMzcwNTczNDkwOTI3NTYzNDYiLCJyZWdpb25fZWRnZSI6ImZyYSIsInJlZ2lvbl9yZW5kZXIiOiJpYWQifQ==" data-turbo-transient="true" /><meta name="visitor-hmac" content="6c9246664cced321dd56c97d366bf77df9c87d1480388728acf9b25e4333e639" data-turbo-transient="true" />


    <meta name="hovercard-subject-tag" content="repository:956612093" data-turbo-transient>


  <meta name="github-keyboard-shortcuts" content="repository,source-code,file-tree,copilot" data-turbo-transient="true" />
  

  <meta name="selected-link" value="repo_source" data-turbo-transient>
  <link rel="assets" href="https://github.githubassets.com/">

    <meta name="google-site-verification" content="Apib7-x98H0j5cPqHWwSMm6dNU4GmODRoqxLiDzdx9I">

<meta name="octolytics-url" content="https://collector.github.com/github/collect" /><meta name="octolytics-actor-id" content="86261200" /><meta name="octolytics-actor-login" content="MartinLechner89" /><meta name="octolytics-actor-hash" content="c3551356511aa2be89979895be2d486e3677aca54b267170d732557e46cdf2cd" />

  <meta name="analytics-location" content="/&lt;user-name&gt;/&lt;repo-name&gt;/blob/show" data-turbo-transient="true" />

  




    <meta name="user-login" content="MartinLechner89">

  <link rel="sudo-modal" href="/sessions/sudo_modal">

    <meta name="viewport" content="width=device-width">

    

      <meta name="description" content="Lerninhalte als Jupyter Notebooks für die Toolbox Datenkompetenz - Toolbox-Datenkompetenz-Lerninhalte/fahrrad-in-seoul/01-fahrradverleihseoul.ipynb at main · KMI-KPZ/Toolbox-Datenkompetenz-Lerninhalte">

      <link rel="search" type="application/opensearchdescription+xml" href="/opensearch.xml" title="GitHub">

    <link rel="fluid-icon" href="https://github.com/fluidicon.png" title="GitHub">
    <meta property="fb:app_id" content="1401488693436528">
    <meta name="apple-itunes-app" content="app-id=1477376905, app-argument=https://github.com/KMI-KPZ/Toolbox-Datenkompetenz-Lerninhalte/blob/main/fahrrad-in-seoul/01-fahrradverleihseoul.ipynb" />

      <meta name="twitter:image" content="https://opengraph.githubassets.com/9a2fbcf5a9705e3d168a7a9fc846cef1f8e80219584373a0481410d6c8c9ceb0/KMI-KPZ/Toolbox-Datenkompetenz-Lerninhalte" /><meta name="twitter:site" content="@github" /><meta name="twitter:card" content="summary_large_image" /><meta name="twitter:title" content="Toolbox-Datenkompetenz-Lerninhalte/fahrrad-in-seoul/01-fahrradverleihseoul.ipynb at main · KMI-KPZ/Toolbox-Datenkompetenz-Lerninhalte" /><meta name="twitter:description" content="Lerninhalte als Jupyter Notebooks für die Toolbox Datenkompetenz - KMI-KPZ/Toolbox-Datenkompetenz-Lerninhalte" />
  <meta property="og:image" content="https://opengraph.githubassets.com/9a2fbcf5a9705e3d168a7a9fc846cef1f8e80219584373a0481410d6c8c9ceb0/KMI-KPZ/Toolbox-Datenkompetenz-Lerninhalte" /><meta property="og:image:alt" content="Lerninhalte als Jupyter Notebooks für die Toolbox Datenkompetenz - KMI-KPZ/Toolbox-Datenkompetenz-Lerninhalte" /><meta property="og:image:width" content="1200" /><meta property="og:image:height" content="600" /><meta property="og:site_name" content="GitHub" /><meta property="og:type" content="object" /><meta property="og:title" content="Toolbox-Datenkompetenz-Lerninhalte/fahrrad-in-seoul/01-fahrradverleihseoul.ipynb at main · KMI-KPZ/Toolbox-Datenkompetenz-Lerninhalte" /><meta property="og:url" content="https://github.com/KMI-KPZ/Toolbox-Datenkompetenz-Lerninhalte/blob/main/fahrrad-in-seoul/01-fahrradverleihseoul.ipynb" /><meta property="og:description" content="Lerninhalte als Jupyter Notebooks für die Toolbox Datenkompetenz - KMI-KPZ/Toolbox-Datenkompetenz-Lerninhalte" />
  


      <link rel="shared-web-socket" href="wss://alive.github.com/_sockets/u/86261200/ws?session=eyJ2IjoiVjMiLCJ1Ijo4NjI2MTIwMCwicyI6MTYzMTQ1MDUyNywiYyI6NDEyODUyODA4NCwidCI6MTc0MzQwNzUwNX0=--6b309c21d441dab70a87758848f8b39e6124d1590c5cc46f59d25d6711170962" data-refresh-url="/_alive" data-session-id="eb14653c3f8f280a2149d95ebc97edbdc38f26aa4dc8d55fc92caf8d77d736f4">
      <link rel="shared-web-socket-src" href="/assets-cdn/worker/socket-worker-eff89a71ae86.js">


      <meta name="hostname" content="github.com">


      <meta name="keyboard-shortcuts-preference" content="all">
      <meta name="hovercards-preference" content="true">
      <meta name="announcement-preference-hovercard" content="true">

        <meta name="expected-hostname" content="github.com">


  <meta http-equiv="x-pjax-version" content="154e3ed6ec9e0d6fff5da6846be55e3cefb81f7aa557cdcfe2a45d929fc158d2" data-turbo-track="reload">
  <meta http-equiv="x-pjax-csp-version" content="e26f9f0ba624ee85cc7ac057d8faa8618a4f25a85eab052c33d018ac0f6b1a46" data-turbo-track="reload">
  <meta http-equiv="x-pjax-css-version" content="159e03504eed5183f9787c72780a7d8c1460af30746ab09d728b048c41719efa" data-turbo-track="reload">
  <meta http-equiv="x-pjax-js-version" content="3ef84064f1c111becc704df35223db168ecae977ac2d9ec422601ed98490e586" data-turbo-track="reload">

  <meta name="turbo-cache-control" content="no-preview" data-turbo-transient="">

      <meta name="turbo-cache-control" content="no-cache" data-turbo-transient>

    <meta data-hydrostats="publish">
  <meta name="go-import" content="github.com/KMI-KPZ/Toolbox-Datenkompetenz-Lerninhalte git https://github.com/KMI-KPZ/Toolbox-Datenkompetenz-Lerninhalte.git">

  <meta name="octolytics-dimension-user_id" content="33578370" /><meta name="octolytics-dimension-user_login" content="KMI-KPZ" /><meta name="octolytics-dimension-repository_id" content="956612093" /><meta name="octolytics-dimension-repository_nwo" content="KMI-KPZ/Toolbox-Datenkompetenz-Lerninhalte" /><meta name="octolytics-dimension-repository_public" content="true" /><meta name="octolytics-dimension-repository_is_fork" content="false" /><meta name="octolytics-dimension-repository_network_root_id" content="956612093" /><meta name="octolytics-dimension-repository_network_root_nwo" content="KMI-KPZ/Toolbox-Datenkompetenz-Lerninhalte" />



    

    <meta name="turbo-body-classes" content="logged-in env-production page-responsive">


  <meta name="browser-stats-url" content="https://api.github.com/_private/browser/stats">

  <meta name="browser-errors-url" content="https://api.github.com/_private/browser/errors">

  <meta name="release" content="8eeecb1d48698c64c0ce9a752ce676906be19c6c">

  <link rel="mask-icon" href="https://github.githubassets.com/assets/pinned-octocat-093da3e6fa40.svg" color="#000000">
  <link rel="alternate icon" class="js-site-favicon" type="image/png" href="https://github.githubassets.com/favicons/favicon.png">
  <link rel="icon" class="js-site-favicon" type="image/svg+xml" href="https://github.githubassets.com/favicons/favicon.svg" data-base-href="https://github.githubassets.com/favicons/favicon">

<meta name="theme-color" content="#1e2327">
<meta name="color-scheme" content="light dark" />


  <link rel="manifest" href="/manifest.json" crossOrigin="use-credentials">

  </head>

  <body class="logged-in env-production page-responsive" style="word-wrap: break-word;">
    <div data-turbo-body class="logged-in env-production page-responsive" style="word-wrap: break-word;">
      


    <div class="position-relative header-wrapper js-header-wrapper ">
      <a href="#start-of-content" data-skip-target-assigned="false" class="p-3 color-bg-accent-emphasis color-fg-on-emphasis show-on-focus js-skip-to-content">Skip to content</a>

      <span data-view-component="true" class="progress-pjax-loader Progress position-fixed width-full">
    <span style="width: 0%;" data-view-component="true" class="Progress-item progress-pjax-loader-bar left-0 top-0 color-bg-accent-emphasis"></span>
</span>      
      
      <script crossorigin="anonymous" defer="defer" type="application/javascript" src="https://github.githubassets.com/assets/ui_packages_ui-commands_ui-commands_ts-2ea4e93613c0.js"></script>
<script crossorigin="anonymous" defer="defer" type="application/javascript" src="https://github.githubassets.com/assets/keyboard-shortcuts-dialog-79d6a754ebf9.js"></script>
<link crossorigin="anonymous" media="all" rel="stylesheet" href="https://github.githubassets.com/assets/primer-react.8157a56b30ae88a1b356.module.css" />

<react-partial
  partial-name="keyboard-shortcuts-dialog"
  data-ssr="false"
  data-attempted-ssr="false"
>
  
  <script type="application/json" data-target="react-partial.embeddedData">{"props":{"docsUrl":"https://docs.github.com/get-started/accessibility/keyboard-shortcuts"}}</script>
  <div data-target="react-partial.reactRoot"></div>
</react-partial>




      

          

              <header class="AppHeader" role="banner">
  <h2 class="sr-only">Navigation Menu</h2>

    

    <div class="AppHeader-globalBar pb-2 js-global-bar">
      <div class="AppHeader-globalBar-start">
          <deferred-side-panel data-url="/_side-panels/global">
  <include-fragment data-target="deferred-side-panel.fragment">
      <button aria-label="Open global navigation menu" data-action="click:deferred-side-panel#loadPanel click:deferred-side-panel#panelOpened" data-show-dialog-id="dialog-944adbc1-596d-4c59-82bc-663ed532ae54" id="dialog-show-dialog-944adbc1-596d-4c59-82bc-663ed532ae54" type="button" data-view-component="true" class="Button Button--iconOnly Button--secondary Button--medium AppHeader-button p-0 color-fg-muted">  <svg aria-hidden="true" height="16" viewBox="0 0 16 16" version="1.1" width="16" data-view-component="true" class="octicon octicon-three-bars Button-visual">
    <path d="M1 2.75A.75.75 0 0 1 1.75 2h12.5a.75.75 0 0 1 0 1.5H1.75A.75.75 0 0 1 1 2.75Zm0 5A.75.75 0 0 1 1.75 7h12.5a.75.75 0 0 1 0 1.5H1.75A.75.75 0 0 1 1 7.75ZM1.75 12h12.5a.75.75 0 0 1 0 1.5H1.75a.75.75 0 0 1 0-1.5Z"></path>
</svg>
</button>

<dialog-helper>
  <dialog data-target="deferred-side-panel.panel" id="dialog-944adbc1-596d-4c59-82bc-663ed532ae54" aria-modal="true" aria-labelledby="dialog-944adbc1-596d-4c59-82bc-663ed532ae54-title" aria-describedby="dialog-944adbc1-596d-4c59-82bc-663ed532ae54-description" data-view-component="true" class="Overlay Overlay-whenNarrow Overlay--size-small-portrait Overlay--motion-scaleFade Overlay--placement-left SidePanel Overlay--disableScroll">
    <div styles="flex-direction: row;" data-view-component="true" class="Overlay-header">
  <div class="Overlay-headerContentWrap">
    <div class="Overlay-titleWrap">
      <h1 class="Overlay-title sr-only" id="dialog-944adbc1-596d-4c59-82bc-663ed532ae54-title">
        Global navigation
      </h1>
            <div data-view-component="true" class="d-flex">
      <div data-view-component="true" class="AppHeader-logo position-relative">
        <svg aria-hidden="true" height="24" viewBox="0 0 24 24" version="1.1" width="24" data-view-component="true" class="octicon octicon-mark-github">
    <path d="M12 1C5.9225 1 1 5.9225 1 12C1 16.8675 4.14875 20.9787 8.52125 22.4362C9.07125 22.5325 9.2775 22.2025 9.2775 21.9137C9.2775 21.6525 9.26375 20.7862 9.26375 19.865C6.5 20.3737 5.785 19.1912 5.565 18.5725C5.44125 18.2562 4.905 17.28 4.4375 17.0187C4.0525 16.8125 3.5025 16.3037 4.42375 16.29C5.29 16.2762 5.90875 17.0875 6.115 17.4175C7.105 19.0812 8.68625 18.6137 9.31875 18.325C9.415 17.61 9.70375 17.1287 10.02 16.8537C7.5725 16.5787 5.015 15.63 5.015 11.4225C5.015 10.2262 5.44125 9.23625 6.1425 8.46625C6.0325 8.19125 5.6475 7.06375 6.2525 5.55125C6.2525 5.55125 7.17375 5.2625 9.2775 6.67875C10.1575 6.43125 11.0925 6.3075 12.0275 6.3075C12.9625 6.3075 13.8975 6.43125 14.7775 6.67875C16.8813 5.24875 17.8025 5.55125 17.8025 5.55125C18.4075 7.06375 18.0225 8.19125 17.9125 8.46625C18.6138 9.23625 19.04 10.2125 19.04 11.4225C19.04 15.6437 16.4688 16.5787 14.0213 16.8537C14.42 17.1975 14.7638 17.8575 14.7638 18.8887C14.7638 20.36 14.75 21.5425 14.75 21.9137C14.75 22.2025 14.9563 22.5462 15.5063 22.4362C19.8513 20.9787 23 16.8537 23 12C23 5.9225 18.0775 1 12 1Z"></path>
</svg>
</div></div>
    </div>
    <div class="Overlay-actionWrap">
      <button data-close-dialog-id="dialog-944adbc1-596d-4c59-82bc-663ed532ae54" aria-label="Close" type="button" data-view-component="true" class="close-button Overlay-closeButton"><svg aria-hidden="true" height="16" viewBox="0 0 16 16" version="1.1" width="16" data-view-component="true" class="octicon octicon-x">
    <path d="M3.72 3.72a.75.75 0 0 1 1.06 0L8 6.94l3.22-3.22a.749.749 0 0 1 1.275.326.749.749 0 0 1-.215.734L9.06 8l3.22 3.22a.749.749 0 0 1-.326 1.275.749.749 0 0 1-.734-.215L8 9.06l-3.22 3.22a.751.751 0 0 1-1.042-.018.751.751 0 0 1-.018-1.042L6.94 8 3.72 4.78a.75.75 0 0 1 0-1.06Z"></path>
</svg></button>
    </div>
  </div>
  
</div>
      <scrollable-region data-labelled-by="dialog-944adbc1-596d-4c59-82bc-663ed532ae54-title">
        <div data-view-component="true" class="Overlay-body d-flex flex-column px-2">    <div data-view-component="true" class="d-flex flex-column mb-3">
        <nav aria-label="Site navigation" data-view-component="true" class="ActionList">
  
  <nav-list>
    <ul data-target="nav-list.topLevelList" data-view-component="true" class="ActionListWrap">
        
          
<li data-item-id="" data-targets="nav-list.items" data-view-component="true" class="ActionListItem">
    
    
    <a data-hotkey="g d" data-analytics-event="{&quot;category&quot;:&quot;Global navigation&quot;,&quot;action&quot;:&quot;HOME&quot;,&quot;label&quot;:null}" id="item-f65b4618-107a-4503-9a6f-8a96b63eab7b" href="/dashboard" data-view-component="true" class="ActionListContent ActionListContent--visual16">
        <span class="ActionListItem-visual ActionListItem-visual--leading">
          <svg aria-hidden="true" height="16" viewBox="0 0 16 16" version="1.1" width="16" data-view-component="true" class="octicon octicon-home">
    <path d="M6.906.664a1.749 1.749 0 0 1 2.187 0l5.25 4.2c.415.332.657.835.657 1.367v7.019A1.75 1.75 0 0 1 13.25 15h-3.5a.75.75 0 0 1-.75-.75V9H7v5.25a.75.75 0 0 1-.75.75h-3.5A1.75 1.75 0 0 1 1 13.25V6.23c0-.531.242-1.034.657-1.366l5.25-4.2Zm1.25 1.171a.25.25 0 0 0-.312 0l-5.25 4.2a.25.25 0 0 0-.094.196v7.019c0 .138.112.25.25.25H5.5V8.25a.75.75 0 0 1 .75-.75h3.5a.75.75 0 0 1 .75.75v5.25h2.75a.25.25 0 0 0 .25-.25V6.23a.25.25 0 0 0-.094-.195Z"></path>
</svg>
        </span>
      
        <span data-view-component="true" class="ActionListItem-label">
          Home
</span>      
</a>
  
</li>

        
          
<li data-item-id="" data-targets="nav-list.items" data-view-component="true" class="ActionListItem">
    
    
    <a data-hotkey="g i" data-analytics-event="{&quot;category&quot;:&quot;Global navigation&quot;,&quot;action&quot;:&quot;ISSUES&quot;,&quot;label&quot;:null}" id="item-9d201909-ee0b-406c-bab7-86131900d6a5" href="/issues" data-view-component="true" class="ActionListContent ActionListContent--visual16">
        <span class="ActionListItem-visual ActionListItem-visual--leading">
          <svg aria-hidden="true" height="16" viewBox="0 0 16 16" version="1.1" width="16" data-view-component="true" class="octicon octicon-issue-opened">
    <path d="M8 9.5a1.5 1.5 0 1 0 0-3 1.5 1.5 0 0 0 0 3Z"></path><path d="M8 0a8 8 0 1 1 0 16A8 8 0 0 1 8 0ZM1.5 8a6.5 6.5 0 1 0 13 0 6.5 6.5 0 0 0-13 0Z"></path>
</svg>
        </span>
      
        <span data-view-component="true" class="ActionListItem-label">
          Issues
</span>      
</a>
  
</li>

        
          
<li data-item-id="" data-targets="nav-list.items" data-view-component="true" class="ActionListItem">
    
    
    <a data-hotkey="g p" data-analytics-event="{&quot;category&quot;:&quot;Global navigation&quot;,&quot;action&quot;:&quot;PULL_REQUESTS&quot;,&quot;label&quot;:null}" id="item-2ab7e26b-a7b6-49d5-a79d-708893fb4346" href="/pulls" data-view-component="true" class="ActionListContent ActionListContent--visual16">
        <span class="ActionListItem-visual ActionListItem-visual--leading">
          <svg aria-hidden="true" height="16" viewBox="0 0 16 16" version="1.1" width="16" data-view-component="true" class="octicon octicon-git-pull-request">
    <path d="M1.5 3.25a2.25 2.25 0 1 1 3 2.122v5.256a2.251 2.251 0 1 1-1.5 0V5.372A2.25 2.25 0 0 1 1.5 3.25Zm5.677-.177L9.573.677A.25.25 0 0 1 10 .854V2.5h1A2.5 2.5 0 0 1 13.5 5v5.628a2.251 2.251 0 1 1-1.5 0V5a1 1 0 0 0-1-1h-1v1.646a.25.25 0 0 1-.427.177L7.177 3.427a.25.25 0 0 1 0-.354ZM3.75 2.5a.75.75 0 1 0 0 1.5.75.75 0 0 0 0-1.5Zm0 9.5a.75.75 0 1 0 0 1.5.75.75 0 0 0 0-1.5Zm8.25.75a.75.75 0 1 0 1.5 0 .75.75 0 0 0-1.5 0Z"></path>
</svg>
        </span>
      
        <span data-view-component="true" class="ActionListItem-label">
          Pull requests
</span>      
</a>
  
</li>

        
          
<li data-item-id="" data-targets="nav-list.items" data-item-id="projects" data-view-component="true" class="ActionListItem">
    
    
    <a data-analytics-event="{&quot;category&quot;:&quot;Global navigation&quot;,&quot;action&quot;:&quot;PROJECTS&quot;,&quot;label&quot;:null}" id="item-c2e13e63-48b0-42bb-9a9f-fcdc3cd63c8b" href="/projects" data-view-component="true" class="ActionListContent ActionListContent--visual16">
        <span class="ActionListItem-visual ActionListItem-visual--leading">
          <svg aria-hidden="true" height="16" viewBox="0 0 16 16" version="1.1" width="16" data-view-component="true" class="octicon octicon-table">
    <path d="M0 1.75C0 .784.784 0 1.75 0h12.5C15.216 0 16 .784 16 1.75v12.5A1.75 1.75 0 0 1 14.25 16H1.75A1.75 1.75 0 0 1 0 14.25ZM6.5 6.5v8h7.75a.25.25 0 0 0 .25-.25V6.5Zm8-1.5V1.75a.25.25 0 0 0-.25-.25H6.5V5Zm-13 1.5v7.75c0 .138.112.25.25.25H5v-8ZM5 5V1.5H1.75a.25.25 0 0 0-.25.25V5Z"></path>
</svg>
        </span>
      
        <span data-view-component="true" class="ActionListItem-label">
          Projects
</span>      
</a>
  
</li>

        
          
<li data-item-id="" data-targets="nav-list.items" data-view-component="true" class="ActionListItem">
    
    
    <a data-analytics-event="{&quot;category&quot;:&quot;Global navigation&quot;,&quot;action&quot;:&quot;DISCUSSIONS&quot;,&quot;label&quot;:null}" id="item-da71491f-6ac1-41d5-943e-59fe6f0736e9" href="/discussions" data-view-component="true" class="ActionListContent ActionListContent--visual16">
        <span class="ActionListItem-visual ActionListItem-visual--leading">
          <svg aria-hidden="true" height="16" viewBox="0 0 16 16" version="1.1" width="16" data-view-component="true" class="octicon octicon-comment-discussion">
    <path d="M1.75 1h8.5c.966 0 1.75.784 1.75 1.75v5.5A1.75 1.75 0 0 1 10.25 10H7.061l-2.574 2.573A1.458 1.458 0 0 1 2 11.543V10h-.25A1.75 1.75 0 0 1 0 8.25v-5.5C0 1.784.784 1 1.75 1ZM1.5 2.75v5.5c0 .138.112.25.25.25h1a.75.75 0 0 1 .75.75v2.19l2.72-2.72a.749.749 0 0 1 .53-.22h3.5a.25.25 0 0 0 .25-.25v-5.5a.25.25 0 0 0-.25-.25h-8.5a.25.25 0 0 0-.25.25Zm13 2a.25.25 0 0 0-.25-.25h-.5a.75.75 0 0 1 0-1.5h.5c.966 0 1.75.784 1.75 1.75v5.5A1.75 1.75 0 0 1 14.25 12H14v1.543a1.458 1.458 0 0 1-2.487 1.03L9.22 12.28a.749.749 0 0 1 .326-1.275.749.749 0 0 1 .734.215l2.22 2.22v-2.19a.75.75 0 0 1 .75-.75h1a.25.25 0 0 0 .25-.25Z"></path>
</svg>
        </span>
      
        <span data-view-component="true" class="ActionListItem-label">
          Discussions
</span>      
</a>
  
</li>

        
          
<li data-item-id="" data-targets="nav-list.items" data-view-component="true" class="ActionListItem">
    
    
    <a data-analytics-event="{&quot;category&quot;:&quot;Global navigation&quot;,&quot;action&quot;:&quot;CODESPACES&quot;,&quot;label&quot;:null}" id="item-9710eb75-6846-46ea-81c3-bfc5bc92af78" href="https://github.com/codespaces" data-view-component="true" class="ActionListContent ActionListContent--visual16">
        <span class="ActionListItem-visual ActionListItem-visual--leading">
          <svg aria-hidden="true" height="16" viewBox="0 0 16 16" version="1.1" width="16" data-view-component="true" class="octicon octicon-codespaces">
    <path d="M0 11.25c0-.966.784-1.75 1.75-1.75h12.5c.966 0 1.75.784 1.75 1.75v3A1.75 1.75 0 0 1 14.25 16H1.75A1.75 1.75 0 0 1 0 14.25Zm2-9.5C2 .784 2.784 0 3.75 0h8.5C13.216 0 14 .784 14 1.75v5a1.75 1.75 0 0 1-1.75 1.75h-8.5A1.75 1.75 0 0 1 2 6.75Zm1.75-.25a.25.25 0 0 0-.25.25v5c0 .138.112.25.25.25h8.5a.25.25 0 0 0 .25-.25v-5a.25.25 0 0 0-.25-.25Zm-2 9.5a.25.25 0 0 0-.25.25v3c0 .138.112.25.25.25h12.5a.25.25 0 0 0 .25-.25v-3a.25.25 0 0 0-.25-.25Z"></path><path d="M7 12.75a.75.75 0 0 1 .75-.75h4.5a.75.75 0 0 1 0 1.5h-4.5a.75.75 0 0 1-.75-.75Zm-4 0a.75.75 0 0 1 .75-.75h.5a.75.75 0 0 1 0 1.5h-.5a.75.75 0 0 1-.75-.75Z"></path>
</svg>
        </span>
      
        <span data-view-component="true" class="ActionListItem-label">
          Codespaces
</span>      
</a>
  
</li>

        
          
<li data-item-id="" data-targets="nav-list.items" data-view-component="true" class="ActionListItem">
    
    
    <a data-analytics-event="{&quot;category&quot;:&quot;Global navigation&quot;,&quot;action&quot;:&quot;COPILOT&quot;,&quot;label&quot;:null}" id="item-c39c0786-a11a-470d-b7e4-9e1ac8547830" href="/copilot" data-view-component="true" class="ActionListContent ActionListContent--visual16">
        <span class="ActionListItem-visual ActionListItem-visual--leading">
          <svg aria-hidden="true" height="16" viewBox="0 0 16 16" version="1.1" width="16" data-view-component="true" class="octicon octicon-copilot">
    <path d="M7.998 15.035c-4.562 0-7.873-2.914-7.998-3.749V9.338c.085-.628.677-1.686 1.588-2.065.013-.07.024-.143.036-.218.029-.183.06-.384.126-.612-.201-.508-.254-1.084-.254-1.656 0-.87.128-1.769.693-2.484.579-.733 1.494-1.124 2.724-1.261 1.206-.134 2.262.034 2.944.765.05.053.096.108.139.165.044-.057.094-.112.143-.165.682-.731 1.738-.899 2.944-.765 1.23.137 2.145.528 2.724 1.261.566.715.693 1.614.693 2.484 0 .572-.053 1.148-.254 1.656.066.228.098.429.126.612.012.076.024.148.037.218.924.385 1.522 1.471 1.591 2.095v1.872c0 .766-3.351 3.795-8.002 3.795Zm0-1.485c2.28 0 4.584-1.11 5.002-1.433V7.862l-.023-.116c-.49.21-1.075.291-1.727.291-1.146 0-2.059-.327-2.71-.991A3.222 3.222 0 0 1 8 6.303a3.24 3.24 0 0 1-.544.743c-.65.664-1.563.991-2.71.991-.652 0-1.236-.081-1.727-.291l-.023.116v4.255c.419.323 2.722 1.433 5.002 1.433ZM6.762 2.83c-.193-.206-.637-.413-1.682-.297-1.019.113-1.479.404-1.713.7-.247.312-.369.789-.369 1.554 0 .793.129 1.171.308 1.371.162.181.519.379 1.442.379.853 0 1.339-.235 1.638-.54.315-.322.527-.827.617-1.553.117-.935-.037-1.395-.241-1.614Zm4.155-.297c-1.044-.116-1.488.091-1.681.297-.204.219-.359.679-.242 1.614.091.726.303 1.231.618 1.553.299.305.784.54 1.638.54.922 0 1.28-.198 1.442-.379.179-.2.308-.578.308-1.371 0-.765-.123-1.242-.37-1.554-.233-.296-.693-.587-1.713-.7Z"></path><path d="M6.25 9.037a.75.75 0 0 1 .75.75v1.501a.75.75 0 0 1-1.5 0V9.787a.75.75 0 0 1 .75-.75Zm4.25.75v1.501a.75.75 0 0 1-1.5 0V9.787a.75.75 0 0 1 1.5 0Z"></path>
</svg>
        </span>
      
        <span data-view-component="true" class="ActionListItem-label">
          Copilot
</span>      
</a>
  
</li>

        
          <li role="presentation" aria-hidden="true" data-view-component="true" class="ActionList-sectionDivider"></li>
        
          
<li data-item-id="" data-targets="nav-list.items" data-view-component="true" class="ActionListItem">
    
    
    <a data-analytics-event="{&quot;category&quot;:&quot;Global navigation&quot;,&quot;action&quot;:&quot;EXPLORE&quot;,&quot;label&quot;:null}" id="item-b0d150c8-61b6-49a1-8818-add696de8e1b" href="/explore" data-view-component="true" class="ActionListContent ActionListContent--visual16">
        <span class="ActionListItem-visual ActionListItem-visual--leading">
          <svg aria-hidden="true" height="16" viewBox="0 0 16 16" version="1.1" width="16" data-view-component="true" class="octicon octicon-telescope">
    <path d="M14.184 1.143v-.001l1.422 2.464a1.75 1.75 0 0 1-.757 2.451L3.104 11.713a1.75 1.75 0 0 1-2.275-.702l-.447-.775a1.75 1.75 0 0 1 .53-2.32L11.682.573a1.748 1.748 0 0 1 2.502.57Zm-4.709 9.32h-.001l2.644 3.863a.75.75 0 1 1-1.238.848l-1.881-2.75v2.826a.75.75 0 0 1-1.5 0v-2.826l-1.881 2.75a.75.75 0 1 1-1.238-.848l2.049-2.992a.746.746 0 0 1 .293-.253l1.809-.87a.749.749 0 0 1 .944.252ZM9.436 3.92h-.001l-4.97 3.39.942 1.63 5.42-2.61Zm3.091-2.108h.001l-1.85 1.26 1.505 2.605 2.016-.97a.247.247 0 0 0 .13-.151.247.247 0 0 0-.022-.199l-1.422-2.464a.253.253 0 0 0-.161-.119.254.254 0 0 0-.197.038ZM1.756 9.157a.25.25 0 0 0-.075.33l.447.775a.25.25 0 0 0 .325.1l1.598-.769-.83-1.436-1.465 1Z"></path>
</svg>
        </span>
      
        <span data-view-component="true" class="ActionListItem-label">
          Explore
</span>      
</a>
  
</li>

        
          
<li data-item-id="" data-targets="nav-list.items" data-view-component="true" class="ActionListItem">
    
    
    <a data-analytics-event="{&quot;category&quot;:&quot;Global navigation&quot;,&quot;action&quot;:&quot;MARKETPLACE&quot;,&quot;label&quot;:null}" id="item-b45f2ce1-aaa0-4b5b-a1b6-52d7370e77b4" href="/marketplace" data-view-component="true" class="ActionListContent ActionListContent--visual16">
        <span class="ActionListItem-visual ActionListItem-visual--leading">
          <svg aria-hidden="true" height="16" viewBox="0 0 16 16" version="1.1" width="16" data-view-component="true" class="octicon octicon-gift">
    <path d="M2 2.75A2.75 2.75 0 0 1 4.75 0c.983 0 1.873.42 2.57 1.232.268.318.497.668.68 1.042.183-.375.411-.725.68-1.044C9.376.42 10.266 0 11.25 0a2.75 2.75 0 0 1 2.45 4h.55c.966 0 1.75.784 1.75 1.75v2c0 .698-.409 1.301-1 1.582v4.918A1.75 1.75 0 0 1 13.25 16H2.75A1.75 1.75 0 0 1 1 14.25V9.332C.409 9.05 0 8.448 0 7.75v-2C0 4.784.784 4 1.75 4h.55c-.192-.375-.3-.8-.3-1.25ZM7.25 9.5H2.5v4.75c0 .138.112.25.25.25h4.5Zm1.5 0v5h4.5a.25.25 0 0 0 .25-.25V9.5Zm0-4V8h5.5a.25.25 0 0 0 .25-.25v-2a.25.25 0 0 0-.25-.25Zm-7 0a.25.25 0 0 0-.25.25v2c0 .138.112.25.25.25h5.5V5.5h-5.5Zm3-4a1.25 1.25 0 0 0 0 2.5h2.309c-.233-.818-.542-1.401-.878-1.793-.43-.502-.915-.707-1.431-.707ZM8.941 4h2.309a1.25 1.25 0 0 0 0-2.5c-.516 0-1 .205-1.43.707-.337.392-.646.975-.879 1.793Z"></path>
</svg>
        </span>
      
        <span data-view-component="true" class="ActionListItem-label">
          Marketplace
</span>      
</a>
  
</li>

</ul>  </nav-list>
</nav>

        <div data-view-component="true" class="my-3 d-flex flex-justify-center height-full">
          <span data-view-component="true">
  <svg style="box-sizing: content-box; color: var(--color-icon-primary);" width="16" height="16" viewBox="0 0 16 16" fill="none" aria-hidden="true" data-view-component="true" class="anim-rotate">
    <circle cx="8" cy="8" r="7" stroke="currentColor" stroke-opacity="0.25" stroke-width="2" vector-effect="non-scaling-stroke" fill="none" />
    <path d="M15 8a7.002 7.002 0 00-7-7" stroke="currentColor" stroke-width="2" stroke-linecap="round" vector-effect="non-scaling-stroke" />
</svg>    <span class="sr-only">Loading</span>
</span>
</div>
</div>
      <div data-view-component="true" class="flex-1"></div>


      <div data-view-component="true" class="px-2">      <p class="color-fg-subtle text-small text-light">&copy; 2025 GitHub, Inc.</p>

      <div data-view-component="true" class="d-flex flex-wrap text-small text-light">
          <a target="_blank" href="https://github.com/about" data-view-component="true" class="Link mr-2">About</a>
          <a target="_blank" href="https://github.blog" data-view-component="true" class="Link mr-2">Blog</a>
          <a target="_blank" href="https://docs.github.com/site-policy/github-terms/github-terms-of-service" data-view-component="true" class="Link mr-2">Terms</a>
          <a target="_blank" href="https://docs.github.com/site-policy/privacy-policies/github-privacy-statement" data-view-component="true" class="Link mr-2">Privacy</a>
          <a target="_blank" href="https://github.com/security" data-view-component="true" class="Link mr-2">Security</a>
          <a target="_blank" href="https://www.githubstatus.com/" data-view-component="true" class="Link mr-3">Status</a>

</div></div>
</div>
      </scrollable-region>
      
</dialog></dialog-helper>

  </include-fragment>
</deferred-side-panel>

        <a
          class="AppHeader-logo ml-1 "
          href="https://github.com/"
          data-hotkey="g d"
          aria-label="Homepage "
          data-turbo="false"
          data-analytics-event="{&quot;category&quot;:&quot;Header&quot;,&quot;action&quot;:&quot;go to dashboard&quot;,&quot;label&quot;:&quot;icon:logo&quot;}"
        >
          <svg height="32" aria-hidden="true" viewBox="0 0 24 24" version="1.1" width="32" data-view-component="true" class="octicon octicon-mark-github v-align-middle">
    <path d="M12 1C5.9225 1 1 5.9225 1 12C1 16.8675 4.14875 20.9787 8.52125 22.4362C9.07125 22.5325 9.2775 22.2025 9.2775 21.9137C9.2775 21.6525 9.26375 20.7862 9.26375 19.865C6.5 20.3737 5.785 19.1912 5.565 18.5725C5.44125 18.2562 4.905 17.28 4.4375 17.0187C4.0525 16.8125 3.5025 16.3037 4.42375 16.29C5.29 16.2762 5.90875 17.0875 6.115 17.4175C7.105 19.0812 8.68625 18.6137 9.31875 18.325C9.415 17.61 9.70375 17.1287 10.02 16.8537C7.5725 16.5787 5.015 15.63 5.015 11.4225C5.015 10.2262 5.44125 9.23625 6.1425 8.46625C6.0325 8.19125 5.6475 7.06375 6.2525 5.55125C6.2525 5.55125 7.17375 5.2625 9.2775 6.67875C10.1575 6.43125 11.0925 6.3075 12.0275 6.3075C12.9625 6.3075 13.8975 6.43125 14.7775 6.67875C16.8813 5.24875 17.8025 5.55125 17.8025 5.55125C18.4075 7.06375 18.0225 8.19125 17.9125 8.46625C18.6138 9.23625 19.04 10.2125 19.04 11.4225C19.04 15.6437 16.4688 16.5787 14.0213 16.8537C14.42 17.1975 14.7638 17.8575 14.7638 18.8887C14.7638 20.36 14.75 21.5425 14.75 21.9137C14.75 22.2025 14.9563 22.5462 15.5063 22.4362C19.8513 20.9787 23 16.8537 23 12C23 5.9225 18.0775 1 12 1Z"></path>
</svg>
        </a>

          <div class="AppHeader-context" >
  <div class="AppHeader-context-compact">
      <button aria-expanded="false" aria-haspopup="dialog" aria-label="Page context: KMI-KPZ / Toolbox-Datenkompetenz-Lerninhalte" id="dialog-show-context-region-dialog" data-show-dialog-id="context-region-dialog" type="button" data-view-component="true" class="AppHeader-context-compact-trigger Truncate Button--secondary Button--medium Button box-shadow-none">  <span class="Button-content">
    <span class="Button-label"><span class="AppHeader-context-compact-lead">
                  <span class="AppHeader-context-compact-parentItem">KMI-KPZ</span>

                <span class="no-wrap">&nbsp;/</span>

            </span>

            <strong class="AppHeader-context-compact-mainItem d-flex flex-items-center Truncate" >
  

  <span class="Truncate-text ">Toolbox-Datenkompetenz-Lerninhalte</span>

</strong></span>
  </span>
</button>

<dialog-helper>
  <dialog id="context-region-dialog" aria-modal="true" aria-labelledby="context-region-dialog-title" aria-describedby="context-region-dialog-description" data-view-component="true" class="Overlay Overlay-whenNarrow Overlay--size-medium Overlay--motion-scaleFade Overlay--disableScroll">
    <div data-view-component="true" class="Overlay-header">
  <div class="Overlay-headerContentWrap">
    <div class="Overlay-titleWrap">
      <h1 class="Overlay-title " id="context-region-dialog-title">
        Navigate back to
      </h1>
        
    </div>
    <div class="Overlay-actionWrap">
      <button data-close-dialog-id="context-region-dialog" aria-label="Close" type="button" data-view-component="true" class="close-button Overlay-closeButton"><svg aria-hidden="true" height="16" viewBox="0 0 16 16" version="1.1" width="16" data-view-component="true" class="octicon octicon-x">
    <path d="M3.72 3.72a.75.75 0 0 1 1.06 0L8 6.94l3.22-3.22a.749.749 0 0 1 1.275.326.749.749 0 0 1-.215.734L9.06 8l3.22 3.22a.749.749 0 0 1-.326 1.275.749.749 0 0 1-.734-.215L8 9.06l-3.22 3.22a.751.751 0 0 1-1.042-.018.751.751 0 0 1-.018-1.042L6.94 8 3.72 4.78a.75.75 0 0 1 0-1.06Z"></path>
</svg></button>
    </div>
  </div>
  
</div>
      <scrollable-region data-labelled-by="context-region-dialog-title">
        <div data-view-component="true" class="Overlay-body">          <ul role="list" class="list-style-none" >
    <li>
      <a data-analytics-event="{&quot;category&quot;:&quot;SiteHeaderComponent&quot;,&quot;action&quot;:&quot;context_region_crumb&quot;,&quot;label&quot;:&quot;KMI-KPZ&quot;,&quot;screen_size&quot;:&quot;compact&quot;}" href="/KMI-KPZ" data-view-component="true" class="Link--primary Truncate d-flex flex-items-center py-1">
        <span class="AppHeader-context-item-label Truncate-text ">
              <svg aria-hidden="true" height="12" viewBox="0 0 16 16" version="1.1" width="12" data-view-component="true" class="octicon octicon-organization mr-1">
    <path d="M1.75 16A1.75 1.75 0 0 1 0 14.25V1.75C0 .784.784 0 1.75 0h8.5C11.216 0 12 .784 12 1.75v12.5c0 .085-.006.168-.018.25h2.268a.25.25 0 0 0 .25-.25V8.285a.25.25 0 0 0-.111-.208l-1.055-.703a.749.749 0 1 1 .832-1.248l1.055.703c.487.325.779.871.779 1.456v5.965A1.75 1.75 0 0 1 14.25 16h-3.5a.766.766 0 0 1-.197-.026c-.099.017-.2.026-.303.026h-3a.75.75 0 0 1-.75-.75V14h-1v1.25a.75.75 0 0 1-.75.75Zm-.25-1.75c0 .138.112.25.25.25H4v-1.25a.75.75 0 0 1 .75-.75h2.5a.75.75 0 0 1 .75.75v1.25h2.25a.25.25 0 0 0 .25-.25V1.75a.25.25 0 0 0-.25-.25h-8.5a.25.25 0 0 0-.25.25ZM3.75 6h.5a.75.75 0 0 1 0 1.5h-.5a.75.75 0 0 1 0-1.5ZM3 3.75A.75.75 0 0 1 3.75 3h.5a.75.75 0 0 1 0 1.5h-.5A.75.75 0 0 1 3 3.75Zm4 3A.75.75 0 0 1 7.75 6h.5a.75.75 0 0 1 0 1.5h-.5A.75.75 0 0 1 7 6.75ZM7.75 3h.5a.75.75 0 0 1 0 1.5h-.5a.75.75 0 0 1 0-1.5ZM3 9.75A.75.75 0 0 1 3.75 9h.5a.75.75 0 0 1 0 1.5h-.5A.75.75 0 0 1 3 9.75ZM7.75 9h.5a.75.75 0 0 1 0 1.5h-.5a.75.75 0 0 1 0-1.5Z"></path>
</svg>

            KMI-KPZ
        </span>

</a>
    </li>
    <li>
      <a data-analytics-event="{&quot;category&quot;:&quot;SiteHeaderComponent&quot;,&quot;action&quot;:&quot;context_region_crumb&quot;,&quot;label&quot;:&quot;Toolbox-Datenkompetenz-Lerninhalte&quot;,&quot;screen_size&quot;:&quot;compact&quot;}" href="/KMI-KPZ/Toolbox-Datenkompetenz-Lerninhalte" data-view-component="true" class="Link--primary Truncate d-flex flex-items-center py-1">
        <span class="AppHeader-context-item-label Truncate-text ">
              <svg aria-hidden="true" height="12" viewBox="0 0 16 16" version="1.1" width="12" data-view-component="true" class="octicon octicon-repo mr-1">
    <path d="M2 2.5A2.5 2.5 0 0 1 4.5 0h8.75a.75.75 0 0 1 .75.75v12.5a.75.75 0 0 1-.75.75h-2.5a.75.75 0 0 1 0-1.5h1.75v-2h-8a1 1 0 0 0-.714 1.7.75.75 0 1 1-1.072 1.05A2.495 2.495 0 0 1 2 11.5Zm10.5-1h-8a1 1 0 0 0-1 1v6.708A2.486 2.486 0 0 1 4.5 9h8ZM5 12.25a.25.25 0 0 1 .25-.25h3.5a.25.25 0 0 1 .25.25v3.25a.25.25 0 0 1-.4.2l-1.45-1.087a.249.249 0 0 0-.3 0L5.4 15.7a.25.25 0 0 1-.4-.2Z"></path>
</svg>

            Toolbox-Datenkompetenz-Lerninhalte
        </span>

</a>
    </li>
</ul>

</div>
      </scrollable-region>
      
</dialog></dialog-helper>
  </div>

  <div class="AppHeader-context-full">
    <nav role="navigation" aria-label="Page context">
      <ul role="list" class="list-style-none" >
    <li>
      <a data-analytics-event="{&quot;category&quot;:&quot;SiteHeaderComponent&quot;,&quot;action&quot;:&quot;context_region_crumb&quot;,&quot;label&quot;:&quot;KMI-KPZ&quot;,&quot;screen_size&quot;:&quot;full&quot;}" data-hovercard-type="organization" data-hovercard-url="/orgs/KMI-KPZ/hovercard" data-octo-click="hovercard-link-click" data-octo-dimensions="link_type:self" href="/KMI-KPZ" data-view-component="true" class="AppHeader-context-item">
        <span class="AppHeader-context-item-label  ">

            KMI-KPZ
        </span>

</a>
        <span class="AppHeader-context-item-separator">
          <span class='sr-only'>/</span>
          <svg width="16" height="16" viewBox="0 0 16 16" xmlns="http://www.w3.org/2000/svg" aria-hidden="true">
            <path d="M10.956 1.27994L6.06418 14.7201L5 14.7201L9.89181 1.27994L10.956 1.27994Z" fill="currentcolor"/>
          </svg>
        </span>
    </li>
    <li>
      <a data-analytics-event="{&quot;category&quot;:&quot;SiteHeaderComponent&quot;,&quot;action&quot;:&quot;context_region_crumb&quot;,&quot;label&quot;:&quot;Toolbox-Datenkompetenz-Lerninhalte&quot;,&quot;screen_size&quot;:&quot;full&quot;}" href="/KMI-KPZ/Toolbox-Datenkompetenz-Lerninhalte" data-view-component="true" class="AppHeader-context-item">
        <span class="AppHeader-context-item-label  ">

            Toolbox-Datenkompetenz-Lerninhalte
        </span>

</a>
    </li>
</ul>

    </nav>
  </div>
</div>

      </div>
      <div class="AppHeader-globalBar-end">
          <div class="AppHeader-search" >
              


<qbsearch-input class="search-input" data-scope="repo:KMI-KPZ/Toolbox-Datenkompetenz-Lerninhalte" data-custom-scopes-path="/search/custom_scopes" data-delete-custom-scopes-csrf="_U9Hpbo3bm-NlZxEwib1Id4qMbvm9B3xzbDRXI8oDqv4J2QjuOIaUFVDbinEQlwTUpfoI9e6QdAlgVbaSO2tNg" data-max-custom-scopes="10" data-header-redesign-enabled="true" data-initial-value="" data-blackbird-suggestions-path="/search/suggestions" data-jump-to-suggestions-path="/_graphql/GetSuggestedNavigationDestinations" data-current-repository="KMI-KPZ/Toolbox-Datenkompetenz-Lerninhalte" data-current-org="KMI-KPZ" data-current-owner="" data-logged-in="true" data-copilot-chat-enabled="false" data-nl-search-enabled="false">
  <div
    class="search-input-container search-with-dialog position-relative d-flex flex-row flex-items-center height-auto color-bg-transparent border-0 color-fg-subtle mx-0"
    data-action="click:qbsearch-input#searchInputContainerClicked"
  >
      
            <button type="button" data-action="click:qbsearch-input#handleExpand" class="AppHeader-button AppHeader-search-whenNarrow" aria-label="Search or jump to…" aria-expanded="false" aria-haspopup="dialog">
            <svg aria-hidden="true" height="16" viewBox="0 0 16 16" version="1.1" width="16" data-view-component="true" class="octicon octicon-search">
    <path d="M10.68 11.74a6 6 0 0 1-7.922-8.982 6 6 0 0 1 8.982 7.922l3.04 3.04a.749.749 0 0 1-.326 1.275.749.749 0 0 1-.734-.215ZM11.5 7a4.499 4.499 0 1 0-8.997 0A4.499 4.499 0 0 0 11.5 7Z"></path>
</svg>
          </button>


<div class="AppHeader-search-whenRegular">
  <div class="AppHeader-search-wrap AppHeader-search-wrap--hasTrailing">
    <div class="AppHeader-search-control AppHeader-search-control-overflow">
      <label
        for="AppHeader-searchInput"
        aria-label="Search or jump to…"
        class="AppHeader-search-visual--leading"
      >
        <svg aria-hidden="true" height="16" viewBox="0 0 16 16" version="1.1" width="16" data-view-component="true" class="octicon octicon-search">
    <path d="M10.68 11.74a6 6 0 0 1-7.922-8.982 6 6 0 0 1 8.982 7.922l3.04 3.04a.749.749 0 0 1-.326 1.275.749.749 0 0 1-.734-.215ZM11.5 7a4.499 4.499 0 1 0-8.997 0A4.499 4.499 0 0 0 11.5 7Z"></path>
</svg>
      </label>

                <button
            type="button"
            data-target="qbsearch-input.inputButton"
            data-action="click:qbsearch-input#handleExpand"
            class="AppHeader-searchButton form-control input-contrast text-left color-fg-subtle no-wrap"
            data-hotkey="s,/"
            data-analytics-event="{&quot;location&quot;:&quot;navbar&quot;,&quot;action&quot;:&quot;searchbar&quot;,&quot;context&quot;:&quot;global&quot;,&quot;tag&quot;:&quot;input&quot;,&quot;label&quot;:&quot;searchbar_input_global_navbar&quot;}"
            aria-describedby="search-error-message-flash"
          >
            <div class="overflow-hidden">
              <span id="qb-input-query" data-target="qbsearch-input.inputButtonText">
                  Type <kbd class="AppHeader-search-kbd">/</kbd> to search
              </span>
            </div>
          </button>

    </div>


  </div>
</div>

    <input type="hidden" name="type" class="js-site-search-type-field">

    
<div class="Overlay--hidden " data-modal-dialog-overlay>
  <modal-dialog data-action="close:qbsearch-input#handleClose cancel:qbsearch-input#handleClose" data-target="qbsearch-input.searchSuggestionsDialog" role="dialog" id="search-suggestions-dialog" aria-modal="true" aria-labelledby="search-suggestions-dialog-header" data-view-component="true" class="Overlay Overlay--width-medium Overlay--height-auto">
      <h1 id="search-suggestions-dialog-header" class="sr-only">Search code, repositories, users, issues, pull requests...</h1>
    <div class="Overlay-body Overlay-body--paddingNone">
      
          <div data-view-component="true">        <div class="search-suggestions position-absolute width-full color-shadow-large border color-fg-default color-bg-default overflow-hidden d-flex flex-column query-builder-container"
          style="border-radius: 12px;"
          data-target="qbsearch-input.queryBuilderContainer"
          hidden
        >
          <!-- '"` --><!-- </textarea></xmp> --></option></form><form id="query-builder-test-form" action="" accept-charset="UTF-8" method="get">
  <query-builder data-target="qbsearch-input.queryBuilder" id="query-builder-query-builder-test" data-filter-key=":" data-view-component="true" class="QueryBuilder search-query-builder">
    <div class="FormControl FormControl--fullWidth">
      <label id="query-builder-test-label" for="query-builder-test" class="FormControl-label sr-only">
        Search
      </label>
      <div
        class="QueryBuilder-StyledInput width-fit "
        data-target="query-builder.styledInput"
      >
          <span id="query-builder-test-leadingvisual-wrap" class="FormControl-input-leadingVisualWrap QueryBuilder-leadingVisualWrap">
            <svg aria-hidden="true" height="16" viewBox="0 0 16 16" version="1.1" width="16" data-view-component="true" class="octicon octicon-search FormControl-input-leadingVisual">
    <path d="M10.68 11.74a6 6 0 0 1-7.922-8.982 6 6 0 0 1 8.982 7.922l3.04 3.04a.749.749 0 0 1-.326 1.275.749.749 0 0 1-.734-.215ZM11.5 7a4.499 4.499 0 1 0-8.997 0A4.499 4.499 0 0 0 11.5 7Z"></path>
</svg>
          </span>
        <div data-target="query-builder.styledInputContainer" class="QueryBuilder-StyledInputContainer">
          <div
            aria-hidden="true"
            class="QueryBuilder-StyledInputContent"
            data-target="query-builder.styledInputContent"
          ></div>
          <div class="QueryBuilder-InputWrapper">
            <div aria-hidden="true" class="QueryBuilder-Sizer" data-target="query-builder.sizer"></div>
            <input id="query-builder-test" name="query-builder-test" value="" autocomplete="off" type="text" role="combobox" spellcheck="false" aria-expanded="false" aria-describedby="validation-4387a4ee-2e1a-4c8b-b0e7-46abc6ef7b3d" data-target="query-builder.input" data-action="
          input:query-builder#inputChange
          blur:query-builder#inputBlur
          keydown:query-builder#inputKeydown
          focus:query-builder#inputFocus
        " data-view-component="true" class="FormControl-input QueryBuilder-Input FormControl-medium" />
          </div>
        </div>
          <span class="sr-only" id="query-builder-test-clear">Clear</span>
          <button role="button" id="query-builder-test-clear-button" aria-labelledby="query-builder-test-clear query-builder-test-label" data-target="query-builder.clearButton" data-action="
                click:query-builder#clear
                focus:query-builder#clearButtonFocus
                blur:query-builder#clearButtonBlur
              " variant="small" hidden="hidden" type="button" data-view-component="true" class="Button Button--iconOnly Button--invisible Button--medium mr-1 px-2 py-0 d-flex flex-items-center rounded-1 color-fg-muted">  <svg aria-hidden="true" height="16" viewBox="0 0 16 16" version="1.1" width="16" data-view-component="true" class="octicon octicon-x-circle-fill Button-visual">
    <path d="M2.343 13.657A8 8 0 1 1 13.658 2.343 8 8 0 0 1 2.343 13.657ZM6.03 4.97a.751.751 0 0 0-1.042.018.751.751 0 0 0-.018 1.042L6.94 8 4.97 9.97a.749.749 0 0 0 .326 1.275.749.749 0 0 0 .734-.215L8 9.06l1.97 1.97a.749.749 0 0 0 1.275-.326.749.749 0 0 0-.215-.734L9.06 8l1.97-1.97a.749.749 0 0 0-.326-1.275.749.749 0 0 0-.734.215L8 6.94Z"></path>
</svg>
</button>

      </div>
      <template id="search-icon">
  <svg aria-hidden="true" height="16" viewBox="0 0 16 16" version="1.1" width="16" data-view-component="true" class="octicon octicon-search">
    <path d="M10.68 11.74a6 6 0 0 1-7.922-8.982 6 6 0 0 1 8.982 7.922l3.04 3.04a.749.749 0 0 1-.326 1.275.749.749 0 0 1-.734-.215ZM11.5 7a4.499 4.499 0 1 0-8.997 0A4.499 4.499 0 0 0 11.5 7Z"></path>
</svg>
</template>

<template id="code-icon">
  <svg aria-hidden="true" height="16" viewBox="0 0 16 16" version="1.1" width="16" data-view-component="true" class="octicon octicon-code">
    <path d="m11.28 3.22 4.25 4.25a.75.75 0 0 1 0 1.06l-4.25 4.25a.749.749 0 0 1-1.275-.326.749.749 0 0 1 .215-.734L13.94 8l-3.72-3.72a.749.749 0 0 1 .326-1.275.749.749 0 0 1 .734.215Zm-6.56 0a.751.751 0 0 1 1.042.018.751.751 0 0 1 .018 1.042L2.06 8l3.72 3.72a.749.749 0 0 1-.326 1.275.749.749 0 0 1-.734-.215L.47 8.53a.75.75 0 0 1 0-1.06Z"></path>
</svg>
</template>

<template id="file-code-icon">
  <svg aria-hidden="true" height="16" viewBox="0 0 16 16" version="1.1" width="16" data-view-component="true" class="octicon octicon-file-code">
    <path d="M4 1.75C4 .784 4.784 0 5.75 0h5.586c.464 0 .909.184 1.237.513l2.914 2.914c.329.328.513.773.513 1.237v8.586A1.75 1.75 0 0 1 14.25 15h-9a.75.75 0 0 1 0-1.5h9a.25.25 0 0 0 .25-.25V6h-2.75A1.75 1.75 0 0 1 10 4.25V1.5H5.75a.25.25 0 0 0-.25.25v2.5a.75.75 0 0 1-1.5 0Zm1.72 4.97a.75.75 0 0 1 1.06 0l2 2a.75.75 0 0 1 0 1.06l-2 2a.749.749 0 0 1-1.275-.326.749.749 0 0 1 .215-.734l1.47-1.47-1.47-1.47a.75.75 0 0 1 0-1.06ZM3.28 7.78 1.81 9.25l1.47 1.47a.751.751 0 0 1-.018 1.042.751.751 0 0 1-1.042.018l-2-2a.75.75 0 0 1 0-1.06l2-2a.751.751 0 0 1 1.042.018.751.751 0 0 1 .018 1.042Zm8.22-6.218V4.25c0 .138.112.25.25.25h2.688l-.011-.013-2.914-2.914-.013-.011Z"></path>
</svg>
</template>

<template id="history-icon">
  <svg aria-hidden="true" height="16" viewBox="0 0 16 16" version="1.1" width="16" data-view-component="true" class="octicon octicon-history">
    <path d="m.427 1.927 1.215 1.215a8.002 8.002 0 1 1-1.6 5.685.75.75 0 1 1 1.493-.154 6.5 6.5 0 1 0 1.18-4.458l1.358 1.358A.25.25 0 0 1 3.896 6H.25A.25.25 0 0 1 0 5.75V2.104a.25.25 0 0 1 .427-.177ZM7.75 4a.75.75 0 0 1 .75.75v2.992l2.028.812a.75.75 0 0 1-.557 1.392l-2.5-1A.751.751 0 0 1 7 8.25v-3.5A.75.75 0 0 1 7.75 4Z"></path>
</svg>
</template>

<template id="repo-icon">
  <svg aria-hidden="true" height="16" viewBox="0 0 16 16" version="1.1" width="16" data-view-component="true" class="octicon octicon-repo">
    <path d="M2 2.5A2.5 2.5 0 0 1 4.5 0h8.75a.75.75 0 0 1 .75.75v12.5a.75.75 0 0 1-.75.75h-2.5a.75.75 0 0 1 0-1.5h1.75v-2h-8a1 1 0 0 0-.714 1.7.75.75 0 1 1-1.072 1.05A2.495 2.495 0 0 1 2 11.5Zm10.5-1h-8a1 1 0 0 0-1 1v6.708A2.486 2.486 0 0 1 4.5 9h8ZM5 12.25a.25.25 0 0 1 .25-.25h3.5a.25.25 0 0 1 .25.25v3.25a.25.25 0 0 1-.4.2l-1.45-1.087a.249.249 0 0 0-.3 0L5.4 15.7a.25.25 0 0 1-.4-.2Z"></path>
</svg>
</template>

<template id="bookmark-icon">
  <svg aria-hidden="true" height="16" viewBox="0 0 16 16" version="1.1" width="16" data-view-component="true" class="octicon octicon-bookmark">
    <path d="M3 2.75C3 1.784 3.784 1 4.75 1h6.5c.966 0 1.75.784 1.75 1.75v11.5a.75.75 0 0 1-1.227.579L8 11.722l-3.773 3.107A.751.751 0 0 1 3 14.25Zm1.75-.25a.25.25 0 0 0-.25.25v9.91l3.023-2.489a.75.75 0 0 1 .954 0l3.023 2.49V2.75a.25.25 0 0 0-.25-.25Z"></path>
</svg>
</template>

<template id="plus-circle-icon">
  <svg aria-hidden="true" height="16" viewBox="0 0 16 16" version="1.1" width="16" data-view-component="true" class="octicon octicon-plus-circle">
    <path d="M8 0a8 8 0 1 1 0 16A8 8 0 0 1 8 0ZM1.5 8a6.5 6.5 0 1 0 13 0 6.5 6.5 0 0 0-13 0Zm7.25-3.25v2.5h2.5a.75.75 0 0 1 0 1.5h-2.5v2.5a.75.75 0 0 1-1.5 0v-2.5h-2.5a.75.75 0 0 1 0-1.5h2.5v-2.5a.75.75 0 0 1 1.5 0Z"></path>
</svg>
</template>

<template id="circle-icon">
  <svg aria-hidden="true" height="16" viewBox="0 0 16 16" version="1.1" width="16" data-view-component="true" class="octicon octicon-dot-fill">
    <path d="M8 4a4 4 0 1 1 0 8 4 4 0 0 1 0-8Z"></path>
</svg>
</template>

<template id="trash-icon">
  <svg aria-hidden="true" height="16" viewBox="0 0 16 16" version="1.1" width="16" data-view-component="true" class="octicon octicon-trash">
    <path d="M11 1.75V3h2.25a.75.75 0 0 1 0 1.5H2.75a.75.75 0 0 1 0-1.5H5V1.75C5 .784 5.784 0 6.75 0h2.5C10.216 0 11 .784 11 1.75ZM4.496 6.675l.66 6.6a.25.25 0 0 0 .249.225h5.19a.25.25 0 0 0 .249-.225l.66-6.6a.75.75 0 0 1 1.492.149l-.66 6.6A1.748 1.748 0 0 1 10.595 15h-5.19a1.75 1.75 0 0 1-1.741-1.575l-.66-6.6a.75.75 0 1 1 1.492-.15ZM6.5 1.75V3h3V1.75a.25.25 0 0 0-.25-.25h-2.5a.25.25 0 0 0-.25.25Z"></path>
</svg>
</template>

<template id="team-icon">
  <svg aria-hidden="true" height="16" viewBox="0 0 16 16" version="1.1" width="16" data-view-component="true" class="octicon octicon-people">
    <path d="M2 5.5a3.5 3.5 0 1 1 5.898 2.549 5.508 5.508 0 0 1 3.034 4.084.75.75 0 1 1-1.482.235 4 4 0 0 0-7.9 0 .75.75 0 0 1-1.482-.236A5.507 5.507 0 0 1 3.102 8.05 3.493 3.493 0 0 1 2 5.5ZM11 4a3.001 3.001 0 0 1 2.22 5.018 5.01 5.01 0 0 1 2.56 3.012.749.749 0 0 1-.885.954.752.752 0 0 1-.549-.514 3.507 3.507 0 0 0-2.522-2.372.75.75 0 0 1-.574-.73v-.352a.75.75 0 0 1 .416-.672A1.5 1.5 0 0 0 11 5.5.75.75 0 0 1 11 4Zm-5.5-.5a2 2 0 1 0-.001 3.999A2 2 0 0 0 5.5 3.5Z"></path>
</svg>
</template>

<template id="project-icon">
  <svg aria-hidden="true" height="16" viewBox="0 0 16 16" version="1.1" width="16" data-view-component="true" class="octicon octicon-project">
    <path d="M1.75 0h12.5C15.216 0 16 .784 16 1.75v12.5A1.75 1.75 0 0 1 14.25 16H1.75A1.75 1.75 0 0 1 0 14.25V1.75C0 .784.784 0 1.75 0ZM1.5 1.75v12.5c0 .138.112.25.25.25h12.5a.25.25 0 0 0 .25-.25V1.75a.25.25 0 0 0-.25-.25H1.75a.25.25 0 0 0-.25.25ZM11.75 3a.75.75 0 0 1 .75.75v7.5a.75.75 0 0 1-1.5 0v-7.5a.75.75 0 0 1 .75-.75Zm-8.25.75a.75.75 0 0 1 1.5 0v5.5a.75.75 0 0 1-1.5 0ZM8 3a.75.75 0 0 1 .75.75v3.5a.75.75 0 0 1-1.5 0v-3.5A.75.75 0 0 1 8 3Z"></path>
</svg>
</template>

<template id="pencil-icon">
  <svg aria-hidden="true" height="16" viewBox="0 0 16 16" version="1.1" width="16" data-view-component="true" class="octicon octicon-pencil">
    <path d="M11.013 1.427a1.75 1.75 0 0 1 2.474 0l1.086 1.086a1.75 1.75 0 0 1 0 2.474l-8.61 8.61c-.21.21-.47.364-.756.445l-3.251.93a.75.75 0 0 1-.927-.928l.929-3.25c.081-.286.235-.547.445-.758l8.61-8.61Zm.176 4.823L9.75 4.81l-6.286 6.287a.253.253 0 0 0-.064.108l-.558 1.953 1.953-.558a.253.253 0 0 0 .108-.064Zm1.238-3.763a.25.25 0 0 0-.354 0L10.811 3.75l1.439 1.44 1.263-1.263a.25.25 0 0 0 0-.354Z"></path>
</svg>
</template>

<template id="copilot-icon">
  <svg aria-hidden="true" height="16" viewBox="0 0 16 16" version="1.1" width="16" data-view-component="true" class="octicon octicon-copilot">
    <path d="M7.998 15.035c-4.562 0-7.873-2.914-7.998-3.749V9.338c.085-.628.677-1.686 1.588-2.065.013-.07.024-.143.036-.218.029-.183.06-.384.126-.612-.201-.508-.254-1.084-.254-1.656 0-.87.128-1.769.693-2.484.579-.733 1.494-1.124 2.724-1.261 1.206-.134 2.262.034 2.944.765.05.053.096.108.139.165.044-.057.094-.112.143-.165.682-.731 1.738-.899 2.944-.765 1.23.137 2.145.528 2.724 1.261.566.715.693 1.614.693 2.484 0 .572-.053 1.148-.254 1.656.066.228.098.429.126.612.012.076.024.148.037.218.924.385 1.522 1.471 1.591 2.095v1.872c0 .766-3.351 3.795-8.002 3.795Zm0-1.485c2.28 0 4.584-1.11 5.002-1.433V7.862l-.023-.116c-.49.21-1.075.291-1.727.291-1.146 0-2.059-.327-2.71-.991A3.222 3.222 0 0 1 8 6.303a3.24 3.24 0 0 1-.544.743c-.65.664-1.563.991-2.71.991-.652 0-1.236-.081-1.727-.291l-.023.116v4.255c.419.323 2.722 1.433 5.002 1.433ZM6.762 2.83c-.193-.206-.637-.413-1.682-.297-1.019.113-1.479.404-1.713.7-.247.312-.369.789-.369 1.554 0 .793.129 1.171.308 1.371.162.181.519.379 1.442.379.853 0 1.339-.235 1.638-.54.315-.322.527-.827.617-1.553.117-.935-.037-1.395-.241-1.614Zm4.155-.297c-1.044-.116-1.488.091-1.681.297-.204.219-.359.679-.242 1.614.091.726.303 1.231.618 1.553.299.305.784.54 1.638.54.922 0 1.28-.198 1.442-.379.179-.2.308-.578.308-1.371 0-.765-.123-1.242-.37-1.554-.233-.296-.693-.587-1.713-.7Z"></path><path d="M6.25 9.037a.75.75 0 0 1 .75.75v1.501a.75.75 0 0 1-1.5 0V9.787a.75.75 0 0 1 .75-.75Zm4.25.75v1.501a.75.75 0 0 1-1.5 0V9.787a.75.75 0 0 1 1.5 0Z"></path>
</svg>
</template>

<template id="copilot-error-icon">
  <svg aria-hidden="true" height="16" viewBox="0 0 16 16" version="1.1" width="16" data-view-component="true" class="octicon octicon-copilot-error">
    <path d="M16 11.24c0 .112-.072.274-.21.467L13 9.688V7.862l-.023-.116c-.49.21-1.075.291-1.727.291-.198 0-.388-.009-.571-.029L6.833 5.226a4.01 4.01 0 0 0 .17-.782c.117-.935-.037-1.395-.241-1.614-.193-.206-.637-.413-1.682-.297-.683.076-1.115.231-1.395.415l-1.257-.91c.579-.564 1.413-.877 2.485-.996 1.206-.134 2.262.034 2.944.765.05.053.096.108.139.165.044-.057.094-.112.143-.165.682-.731 1.738-.899 2.944-.765 1.23.137 2.145.528 2.724 1.261.566.715.693 1.614.693 2.484 0 .572-.053 1.148-.254 1.656.066.228.098.429.126.612.012.076.024.148.037.218.924.385 1.522 1.471 1.591 2.095Zm-5.083-8.707c-1.044-.116-1.488.091-1.681.297-.204.219-.359.679-.242 1.614.091.726.303 1.231.618 1.553.299.305.784.54 1.638.54.922 0 1.28-.198 1.442-.379.179-.2.308-.578.308-1.371 0-.765-.123-1.242-.37-1.554-.233-.296-.693-.587-1.713-.7Zm2.511 11.074c-1.393.776-3.272 1.428-5.43 1.428-4.562 0-7.873-2.914-7.998-3.749V9.338c.085-.628.677-1.686 1.588-2.065.013-.07.024-.143.036-.218.029-.183.06-.384.126-.612-.18-.455-.241-.963-.252-1.475L.31 4.107A.747.747 0 0 1 0 3.509V3.49a.748.748 0 0 1 .625-.73c.156-.026.306.047.435.139l14.667 10.578a.592.592 0 0 1 .227.264.752.752 0 0 1 .046.249v.022a.75.75 0 0 1-1.19.596Zm-1.367-.991L5.635 7.964a5.128 5.128 0 0 1-.889.073c-.652 0-1.236-.081-1.727-.291l-.023.116v4.255c.419.323 2.722 1.433 5.002 1.433 1.539 0 3.089-.505 4.063-.934Z"></path>
</svg>
</template>

<template id="workflow-icon">
  <svg aria-hidden="true" height="16" viewBox="0 0 16 16" version="1.1" width="16" data-view-component="true" class="octicon octicon-workflow">
    <path d="M0 1.75C0 .784.784 0 1.75 0h3.5C6.216 0 7 .784 7 1.75v3.5A1.75 1.75 0 0 1 5.25 7H4v4a1 1 0 0 0 1 1h4v-1.25C9 9.784 9.784 9 10.75 9h3.5c.966 0 1.75.784 1.75 1.75v3.5A1.75 1.75 0 0 1 14.25 16h-3.5A1.75 1.75 0 0 1 9 14.25v-.75H5A2.5 2.5 0 0 1 2.5 11V7h-.75A1.75 1.75 0 0 1 0 5.25Zm1.75-.25a.25.25 0 0 0-.25.25v3.5c0 .138.112.25.25.25h3.5a.25.25 0 0 0 .25-.25v-3.5a.25.25 0 0 0-.25-.25Zm9 9a.25.25 0 0 0-.25.25v3.5c0 .138.112.25.25.25h3.5a.25.25 0 0 0 .25-.25v-3.5a.25.25 0 0 0-.25-.25Z"></path>
</svg>
</template>

<template id="book-icon">
  <svg aria-hidden="true" height="16" viewBox="0 0 16 16" version="1.1" width="16" data-view-component="true" class="octicon octicon-book">
    <path d="M0 1.75A.75.75 0 0 1 .75 1h4.253c1.227 0 2.317.59 3 1.501A3.743 3.743 0 0 1 11.006 1h4.245a.75.75 0 0 1 .75.75v10.5a.75.75 0 0 1-.75.75h-4.507a2.25 2.25 0 0 0-1.591.659l-.622.621a.75.75 0 0 1-1.06 0l-.622-.621A2.25 2.25 0 0 0 5.258 13H.75a.75.75 0 0 1-.75-.75Zm7.251 10.324.004-5.073-.002-2.253A2.25 2.25 0 0 0 5.003 2.5H1.5v9h3.757a3.75 3.75 0 0 1 1.994.574ZM8.755 4.75l-.004 7.322a3.752 3.752 0 0 1 1.992-.572H14.5v-9h-3.495a2.25 2.25 0 0 0-2.25 2.25Z"></path>
</svg>
</template>

<template id="code-review-icon">
  <svg aria-hidden="true" height="16" viewBox="0 0 16 16" version="1.1" width="16" data-view-component="true" class="octicon octicon-code-review">
    <path d="M1.75 1h12.5c.966 0 1.75.784 1.75 1.75v8.5A1.75 1.75 0 0 1 14.25 13H8.061l-2.574 2.573A1.458 1.458 0 0 1 3 14.543V13H1.75A1.75 1.75 0 0 1 0 11.25v-8.5C0 1.784.784 1 1.75 1ZM1.5 2.75v8.5c0 .138.112.25.25.25h2a.75.75 0 0 1 .75.75v2.19l2.72-2.72a.749.749 0 0 1 .53-.22h6.5a.25.25 0 0 0 .25-.25v-8.5a.25.25 0 0 0-.25-.25H1.75a.25.25 0 0 0-.25.25Zm5.28 1.72a.75.75 0 0 1 0 1.06L5.31 7l1.47 1.47a.751.751 0 0 1-.018 1.042.751.751 0 0 1-1.042.018l-2-2a.75.75 0 0 1 0-1.06l2-2a.75.75 0 0 1 1.06 0Zm2.44 0a.75.75 0 0 1 1.06 0l2 2a.75.75 0 0 1 0 1.06l-2 2a.751.751 0 0 1-1.042-.018.751.751 0 0 1-.018-1.042L10.69 7 9.22 5.53a.75.75 0 0 1 0-1.06Z"></path>
</svg>
</template>

<template id="codespaces-icon">
  <svg aria-hidden="true" height="16" viewBox="0 0 16 16" version="1.1" width="16" data-view-component="true" class="octicon octicon-codespaces">
    <path d="M0 11.25c0-.966.784-1.75 1.75-1.75h12.5c.966 0 1.75.784 1.75 1.75v3A1.75 1.75 0 0 1 14.25 16H1.75A1.75 1.75 0 0 1 0 14.25Zm2-9.5C2 .784 2.784 0 3.75 0h8.5C13.216 0 14 .784 14 1.75v5a1.75 1.75 0 0 1-1.75 1.75h-8.5A1.75 1.75 0 0 1 2 6.75Zm1.75-.25a.25.25 0 0 0-.25.25v5c0 .138.112.25.25.25h8.5a.25.25 0 0 0 .25-.25v-5a.25.25 0 0 0-.25-.25Zm-2 9.5a.25.25 0 0 0-.25.25v3c0 .138.112.25.25.25h12.5a.25.25 0 0 0 .25-.25v-3a.25.25 0 0 0-.25-.25Z"></path><path d="M7 12.75a.75.75 0 0 1 .75-.75h4.5a.75.75 0 0 1 0 1.5h-4.5a.75.75 0 0 1-.75-.75Zm-4 0a.75.75 0 0 1 .75-.75h.5a.75.75 0 0 1 0 1.5h-.5a.75.75 0 0 1-.75-.75Z"></path>
</svg>
</template>

<template id="comment-icon">
  <svg aria-hidden="true" height="16" viewBox="0 0 16 16" version="1.1" width="16" data-view-component="true" class="octicon octicon-comment">
    <path d="M1 2.75C1 1.784 1.784 1 2.75 1h10.5c.966 0 1.75.784 1.75 1.75v7.5A1.75 1.75 0 0 1 13.25 12H9.06l-2.573 2.573A1.458 1.458 0 0 1 4 13.543V12H2.75A1.75 1.75 0 0 1 1 10.25Zm1.75-.25a.25.25 0 0 0-.25.25v7.5c0 .138.112.25.25.25h2a.75.75 0 0 1 .75.75v2.19l2.72-2.72a.749.749 0 0 1 .53-.22h4.5a.25.25 0 0 0 .25-.25v-7.5a.25.25 0 0 0-.25-.25Z"></path>
</svg>
</template>

<template id="comment-discussion-icon">
  <svg aria-hidden="true" height="16" viewBox="0 0 16 16" version="1.1" width="16" data-view-component="true" class="octicon octicon-comment-discussion">
    <path d="M1.75 1h8.5c.966 0 1.75.784 1.75 1.75v5.5A1.75 1.75 0 0 1 10.25 10H7.061l-2.574 2.573A1.458 1.458 0 0 1 2 11.543V10h-.25A1.75 1.75 0 0 1 0 8.25v-5.5C0 1.784.784 1 1.75 1ZM1.5 2.75v5.5c0 .138.112.25.25.25h1a.75.75 0 0 1 .75.75v2.19l2.72-2.72a.749.749 0 0 1 .53-.22h3.5a.25.25 0 0 0 .25-.25v-5.5a.25.25 0 0 0-.25-.25h-8.5a.25.25 0 0 0-.25.25Zm13 2a.25.25 0 0 0-.25-.25h-.5a.75.75 0 0 1 0-1.5h.5c.966 0 1.75.784 1.75 1.75v5.5A1.75 1.75 0 0 1 14.25 12H14v1.543a1.458 1.458 0 0 1-2.487 1.03L9.22 12.28a.749.749 0 0 1 .326-1.275.749.749 0 0 1 .734.215l2.22 2.22v-2.19a.75.75 0 0 1 .75-.75h1a.25.25 0 0 0 .25-.25Z"></path>
</svg>
</template>

<template id="organization-icon">
  <svg aria-hidden="true" height="16" viewBox="0 0 16 16" version="1.1" width="16" data-view-component="true" class="octicon octicon-organization">
    <path d="M1.75 16A1.75 1.75 0 0 1 0 14.25V1.75C0 .784.784 0 1.75 0h8.5C11.216 0 12 .784 12 1.75v12.5c0 .085-.006.168-.018.25h2.268a.25.25 0 0 0 .25-.25V8.285a.25.25 0 0 0-.111-.208l-1.055-.703a.749.749 0 1 1 .832-1.248l1.055.703c.487.325.779.871.779 1.456v5.965A1.75 1.75 0 0 1 14.25 16h-3.5a.766.766 0 0 1-.197-.026c-.099.017-.2.026-.303.026h-3a.75.75 0 0 1-.75-.75V14h-1v1.25a.75.75 0 0 1-.75.75Zm-.25-1.75c0 .138.112.25.25.25H4v-1.25a.75.75 0 0 1 .75-.75h2.5a.75.75 0 0 1 .75.75v1.25h2.25a.25.25 0 0 0 .25-.25V1.75a.25.25 0 0 0-.25-.25h-8.5a.25.25 0 0 0-.25.25ZM3.75 6h.5a.75.75 0 0 1 0 1.5h-.5a.75.75 0 0 1 0-1.5ZM3 3.75A.75.75 0 0 1 3.75 3h.5a.75.75 0 0 1 0 1.5h-.5A.75.75 0 0 1 3 3.75Zm4 3A.75.75 0 0 1 7.75 6h.5a.75.75 0 0 1 0 1.5h-.5A.75.75 0 0 1 7 6.75ZM7.75 3h.5a.75.75 0 0 1 0 1.5h-.5a.75.75 0 0 1 0-1.5ZM3 9.75A.75.75 0 0 1 3.75 9h.5a.75.75 0 0 1 0 1.5h-.5A.75.75 0 0 1 3 9.75ZM7.75 9h.5a.75.75 0 0 1 0 1.5h-.5a.75.75 0 0 1 0-1.5Z"></path>
</svg>
</template>

<template id="rocket-icon">
  <svg aria-hidden="true" height="16" viewBox="0 0 16 16" version="1.1" width="16" data-view-component="true" class="octicon octicon-rocket">
    <path d="M14.064 0h.186C15.216 0 16 .784 16 1.75v.186a8.752 8.752 0 0 1-2.564 6.186l-.458.459c-.314.314-.641.616-.979.904v3.207c0 .608-.315 1.172-.833 1.49l-2.774 1.707a.749.749 0 0 1-1.11-.418l-.954-3.102a1.214 1.214 0 0 1-.145-.125L3.754 9.816a1.218 1.218 0 0 1-.124-.145L.528 8.717a.749.749 0 0 1-.418-1.11l1.71-2.774A1.748 1.748 0 0 1 3.31 4h3.204c.288-.338.59-.665.904-.979l.459-.458A8.749 8.749 0 0 1 14.064 0ZM8.938 3.623h-.002l-.458.458c-.76.76-1.437 1.598-2.02 2.5l-1.5 2.317 2.143 2.143 2.317-1.5c.902-.583 1.74-1.26 2.499-2.02l.459-.458a7.25 7.25 0 0 0 2.123-5.127V1.75a.25.25 0 0 0-.25-.25h-.186a7.249 7.249 0 0 0-5.125 2.123ZM3.56 14.56c-.732.732-2.334 1.045-3.005 1.148a.234.234 0 0 1-.201-.064.234.234 0 0 1-.064-.201c.103-.671.416-2.273 1.15-3.003a1.502 1.502 0 1 1 2.12 2.12Zm6.94-3.935c-.088.06-.177.118-.266.175l-2.35 1.521.548 1.783 1.949-1.2a.25.25 0 0 0 .119-.213ZM3.678 8.116 5.2 5.766c.058-.09.117-.178.176-.266H3.309a.25.25 0 0 0-.213.119l-1.2 1.95ZM12 5a1 1 0 1 1-2 0 1 1 0 0 1 2 0Z"></path>
</svg>
</template>

<template id="shield-check-icon">
  <svg aria-hidden="true" height="16" viewBox="0 0 16 16" version="1.1" width="16" data-view-component="true" class="octicon octicon-shield-check">
    <path d="m8.533.133 5.25 1.68A1.75 1.75 0 0 1 15 3.48V7c0 1.566-.32 3.182-1.303 4.682-.983 1.498-2.585 2.813-5.032 3.855a1.697 1.697 0 0 1-1.33 0c-2.447-1.042-4.049-2.357-5.032-3.855C1.32 10.182 1 8.566 1 7V3.48a1.75 1.75 0 0 1 1.217-1.667l5.25-1.68a1.748 1.748 0 0 1 1.066 0Zm-.61 1.429.001.001-5.25 1.68a.251.251 0 0 0-.174.237V7c0 1.36.275 2.666 1.057 3.859.784 1.194 2.121 2.342 4.366 3.298a.196.196 0 0 0 .154 0c2.245-.957 3.582-2.103 4.366-3.297C13.225 9.666 13.5 8.358 13.5 7V3.48a.25.25 0 0 0-.174-.238l-5.25-1.68a.25.25 0 0 0-.153 0ZM11.28 6.28l-3.5 3.5a.75.75 0 0 1-1.06 0l-1.5-1.5a.749.749 0 0 1 .326-1.275.749.749 0 0 1 .734.215l.97.97 2.97-2.97a.751.751 0 0 1 1.042.018.751.751 0 0 1 .018 1.042Z"></path>
</svg>
</template>

<template id="heart-icon">
  <svg aria-hidden="true" height="16" viewBox="0 0 16 16" version="1.1" width="16" data-view-component="true" class="octicon octicon-heart">
    <path d="m8 14.25.345.666a.75.75 0 0 1-.69 0l-.008-.004-.018-.01a7.152 7.152 0 0 1-.31-.17 22.055 22.055 0 0 1-3.434-2.414C2.045 10.731 0 8.35 0 5.5 0 2.836 2.086 1 4.25 1 5.797 1 7.153 1.802 8 3.02 8.847 1.802 10.203 1 11.75 1 13.914 1 16 2.836 16 5.5c0 2.85-2.045 5.231-3.885 6.818a22.066 22.066 0 0 1-3.744 2.584l-.018.01-.006.003h-.002ZM4.25 2.5c-1.336 0-2.75 1.164-2.75 3 0 2.15 1.58 4.144 3.365 5.682A20.58 20.58 0 0 0 8 13.393a20.58 20.58 0 0 0 3.135-2.211C12.92 9.644 14.5 7.65 14.5 5.5c0-1.836-1.414-3-2.75-3-1.373 0-2.609.986-3.029 2.456a.749.749 0 0 1-1.442 0C6.859 3.486 5.623 2.5 4.25 2.5Z"></path>
</svg>
</template>

<template id="server-icon">
  <svg aria-hidden="true" height="16" viewBox="0 0 16 16" version="1.1" width="16" data-view-component="true" class="octicon octicon-server">
    <path d="M1.75 1h12.5c.966 0 1.75.784 1.75 1.75v4c0 .372-.116.717-.314 1 .198.283.314.628.314 1v4a1.75 1.75 0 0 1-1.75 1.75H1.75A1.75 1.75 0 0 1 0 12.75v-4c0-.358.109-.707.314-1a1.739 1.739 0 0 1-.314-1v-4C0 1.784.784 1 1.75 1ZM1.5 2.75v4c0 .138.112.25.25.25h12.5a.25.25 0 0 0 .25-.25v-4a.25.25 0 0 0-.25-.25H1.75a.25.25 0 0 0-.25.25Zm.25 5.75a.25.25 0 0 0-.25.25v4c0 .138.112.25.25.25h12.5a.25.25 0 0 0 .25-.25v-4a.25.25 0 0 0-.25-.25ZM7 4.75A.75.75 0 0 1 7.75 4h4.5a.75.75 0 0 1 0 1.5h-4.5A.75.75 0 0 1 7 4.75ZM7.75 10h4.5a.75.75 0 0 1 0 1.5h-4.5a.75.75 0 0 1 0-1.5ZM3 4.75A.75.75 0 0 1 3.75 4h.5a.75.75 0 0 1 0 1.5h-.5A.75.75 0 0 1 3 4.75ZM3.75 10h.5a.75.75 0 0 1 0 1.5h-.5a.75.75 0 0 1 0-1.5Z"></path>
</svg>
</template>

<template id="globe-icon">
  <svg aria-hidden="true" height="16" viewBox="0 0 16 16" version="1.1" width="16" data-view-component="true" class="octicon octicon-globe">
    <path d="M8 0a8 8 0 1 1 0 16A8 8 0 0 1 8 0ZM5.78 8.75a9.64 9.64 0 0 0 1.363 4.177c.255.426.542.832.857 1.215.245-.296.551-.705.857-1.215A9.64 9.64 0 0 0 10.22 8.75Zm4.44-1.5a9.64 9.64 0 0 0-1.363-4.177c-.307-.51-.612-.919-.857-1.215a9.927 9.927 0 0 0-.857 1.215A9.64 9.64 0 0 0 5.78 7.25Zm-5.944 1.5H1.543a6.507 6.507 0 0 0 4.666 5.5c-.123-.181-.24-.365-.352-.552-.715-1.192-1.437-2.874-1.581-4.948Zm-2.733-1.5h2.733c.144-2.074.866-3.756 1.58-4.948.12-.197.237-.381.353-.552a6.507 6.507 0 0 0-4.666 5.5Zm10.181 1.5c-.144 2.074-.866 3.756-1.58 4.948-.12.197-.237.381-.353.552a6.507 6.507 0 0 0 4.666-5.5Zm2.733-1.5a6.507 6.507 0 0 0-4.666-5.5c.123.181.24.365.353.552.714 1.192 1.436 2.874 1.58 4.948Z"></path>
</svg>
</template>

<template id="issue-opened-icon">
  <svg aria-hidden="true" height="16" viewBox="0 0 16 16" version="1.1" width="16" data-view-component="true" class="octicon octicon-issue-opened">
    <path d="M8 9.5a1.5 1.5 0 1 0 0-3 1.5 1.5 0 0 0 0 3Z"></path><path d="M8 0a8 8 0 1 1 0 16A8 8 0 0 1 8 0ZM1.5 8a6.5 6.5 0 1 0 13 0 6.5 6.5 0 0 0-13 0Z"></path>
</svg>
</template>

<template id="device-mobile-icon">
  <svg aria-hidden="true" height="16" viewBox="0 0 16 16" version="1.1" width="16" data-view-component="true" class="octicon octicon-device-mobile">
    <path d="M3.75 0h8.5C13.216 0 14 .784 14 1.75v12.5A1.75 1.75 0 0 1 12.25 16h-8.5A1.75 1.75 0 0 1 2 14.25V1.75C2 .784 2.784 0 3.75 0ZM3.5 1.75v12.5c0 .138.112.25.25.25h8.5a.25.25 0 0 0 .25-.25V1.75a.25.25 0 0 0-.25-.25h-8.5a.25.25 0 0 0-.25.25ZM8 13a1 1 0 1 1 0-2 1 1 0 0 1 0 2Z"></path>
</svg>
</template>

<template id="package-icon">
  <svg aria-hidden="true" height="16" viewBox="0 0 16 16" version="1.1" width="16" data-view-component="true" class="octicon octicon-package">
    <path d="m8.878.392 5.25 3.045c.54.314.872.89.872 1.514v6.098a1.75 1.75 0 0 1-.872 1.514l-5.25 3.045a1.75 1.75 0 0 1-1.756 0l-5.25-3.045A1.75 1.75 0 0 1 1 11.049V4.951c0-.624.332-1.201.872-1.514L7.122.392a1.75 1.75 0 0 1 1.756 0ZM7.875 1.69l-4.63 2.685L8 7.133l4.755-2.758-4.63-2.685a.248.248 0 0 0-.25 0ZM2.5 5.677v5.372c0 .09.047.171.125.216l4.625 2.683V8.432Zm6.25 8.271 4.625-2.683a.25.25 0 0 0 .125-.216V5.677L8.75 8.432Z"></path>
</svg>
</template>

<template id="credit-card-icon">
  <svg aria-hidden="true" height="16" viewBox="0 0 16 16" version="1.1" width="16" data-view-component="true" class="octicon octicon-credit-card">
    <path d="M10.75 9a.75.75 0 0 0 0 1.5h1.5a.75.75 0 0 0 0-1.5h-1.5Z"></path><path d="M0 3.75C0 2.784.784 2 1.75 2h12.5c.966 0 1.75.784 1.75 1.75v8.5A1.75 1.75 0 0 1 14.25 14H1.75A1.75 1.75 0 0 1 0 12.25ZM14.5 6.5h-13v5.75c0 .138.112.25.25.25h12.5a.25.25 0 0 0 .25-.25Zm0-2.75a.25.25 0 0 0-.25-.25H1.75a.25.25 0 0 0-.25.25V5h13Z"></path>
</svg>
</template>

<template id="play-icon">
  <svg aria-hidden="true" height="16" viewBox="0 0 16 16" version="1.1" width="16" data-view-component="true" class="octicon octicon-play">
    <path d="M8 0a8 8 0 1 1 0 16A8 8 0 0 1 8 0ZM1.5 8a6.5 6.5 0 1 0 13 0 6.5 6.5 0 0 0-13 0Zm4.879-2.773 4.264 2.559a.25.25 0 0 1 0 .428l-4.264 2.559A.25.25 0 0 1 6 10.559V5.442a.25.25 0 0 1 .379-.215Z"></path>
</svg>
</template>

<template id="gift-icon">
  <svg aria-hidden="true" height="16" viewBox="0 0 16 16" version="1.1" width="16" data-view-component="true" class="octicon octicon-gift">
    <path d="M2 2.75A2.75 2.75 0 0 1 4.75 0c.983 0 1.873.42 2.57 1.232.268.318.497.668.68 1.042.183-.375.411-.725.68-1.044C9.376.42 10.266 0 11.25 0a2.75 2.75 0 0 1 2.45 4h.55c.966 0 1.75.784 1.75 1.75v2c0 .698-.409 1.301-1 1.582v4.918A1.75 1.75 0 0 1 13.25 16H2.75A1.75 1.75 0 0 1 1 14.25V9.332C.409 9.05 0 8.448 0 7.75v-2C0 4.784.784 4 1.75 4h.55c-.192-.375-.3-.8-.3-1.25ZM7.25 9.5H2.5v4.75c0 .138.112.25.25.25h4.5Zm1.5 0v5h4.5a.25.25 0 0 0 .25-.25V9.5Zm0-4V8h5.5a.25.25 0 0 0 .25-.25v-2a.25.25 0 0 0-.25-.25Zm-7 0a.25.25 0 0 0-.25.25v2c0 .138.112.25.25.25h5.5V5.5h-5.5Zm3-4a1.25 1.25 0 0 0 0 2.5h2.309c-.233-.818-.542-1.401-.878-1.793-.43-.502-.915-.707-1.431-.707ZM8.941 4h2.309a1.25 1.25 0 0 0 0-2.5c-.516 0-1 .205-1.43.707-.337.392-.646.975-.879 1.793Z"></path>
</svg>
</template>

<template id="code-square-icon">
  <svg aria-hidden="true" height="16" viewBox="0 0 16 16" version="1.1" width="16" data-view-component="true" class="octicon octicon-code-square">
    <path d="M0 1.75C0 .784.784 0 1.75 0h12.5C15.216 0 16 .784 16 1.75v12.5A1.75 1.75 0 0 1 14.25 16H1.75A1.75 1.75 0 0 1 0 14.25Zm1.75-.25a.25.25 0 0 0-.25.25v12.5c0 .138.112.25.25.25h12.5a.25.25 0 0 0 .25-.25V1.75a.25.25 0 0 0-.25-.25Zm7.47 3.97a.75.75 0 0 1 1.06 0l2 2a.75.75 0 0 1 0 1.06l-2 2a.749.749 0 0 1-1.275-.326.749.749 0 0 1 .215-.734L10.69 8 9.22 6.53a.75.75 0 0 1 0-1.06ZM6.78 6.53 5.31 8l1.47 1.47a.749.749 0 0 1-.326 1.275.749.749 0 0 1-.734-.215l-2-2a.75.75 0 0 1 0-1.06l2-2a.751.751 0 0 1 1.042.018.751.751 0 0 1 .018 1.042Z"></path>
</svg>
</template>

<template id="device-desktop-icon">
  <svg aria-hidden="true" height="16" viewBox="0 0 16 16" version="1.1" width="16" data-view-component="true" class="octicon octicon-device-desktop">
    <path d="M14.25 1c.966 0 1.75.784 1.75 1.75v7.5A1.75 1.75 0 0 1 14.25 12h-3.727c.099 1.041.52 1.872 1.292 2.757A.752.752 0 0 1 11.25 16h-6.5a.75.75 0 0 1-.565-1.243c.772-.885 1.192-1.716 1.292-2.757H1.75A1.75 1.75 0 0 1 0 10.25v-7.5C0 1.784.784 1 1.75 1ZM1.75 2.5a.25.25 0 0 0-.25.25v7.5c0 .138.112.25.25.25h12.5a.25.25 0 0 0 .25-.25v-7.5a.25.25 0 0 0-.25-.25ZM9.018 12H6.982a5.72 5.72 0 0 1-.765 2.5h3.566a5.72 5.72 0 0 1-.765-2.5Z"></path>
</svg>
</template>

        <div class="position-relative">
                <ul
                  role="listbox"
                  class="ActionListWrap QueryBuilder-ListWrap"
                  aria-label="Suggestions"
                  data-action="
                    combobox-commit:query-builder#comboboxCommit
                    mousedown:query-builder#resultsMousedown
                  "
                  data-target="query-builder.resultsList"
                  data-persist-list=false
                  id="query-builder-test-results"
                ></ul>
        </div>
      <div class="FormControl-inlineValidation" id="validation-4387a4ee-2e1a-4c8b-b0e7-46abc6ef7b3d" hidden="hidden">
        <span class="FormControl-inlineValidation--visual">
          <svg aria-hidden="true" height="12" viewBox="0 0 12 12" version="1.1" width="12" data-view-component="true" class="octicon octicon-alert-fill">
    <path d="M4.855.708c.5-.896 1.79-.896 2.29 0l4.675 8.351a1.312 1.312 0 0 1-1.146 1.954H1.33A1.313 1.313 0 0 1 .183 9.058ZM7 7V3H5v4Zm-1 3a1 1 0 1 0 0-2 1 1 0 0 0 0 2Z"></path>
</svg>
        </span>
        <span></span>
</div>    </div>
    <div data-target="query-builder.screenReaderFeedback" aria-live="polite" aria-atomic="true" class="sr-only"></div>
</query-builder></form>
          <div class="d-flex flex-row color-fg-muted px-3 text-small color-bg-default search-feedback-prompt">
            <a target="_blank" href="https://docs.github.com/search-github/github-code-search/understanding-github-code-search-syntax" data-view-component="true" class="Link color-fg-accent text-normal ml-2">Search syntax tips</a>            <div class="d-flex flex-1"></div>
              <button data-action="click:qbsearch-input#showFeedbackDialog" type="button" data-view-component="true" class="Button--link Button--medium Button color-fg-accent text-normal ml-2">  <span class="Button-content">
    <span class="Button-label">Give feedback</span>
  </span>
</button>
          </div>
        </div>
</div>

    </div>
</modal-dialog></div>
  </div>
  <div data-action="click:qbsearch-input#retract" class="dark-backdrop position-fixed" hidden data-target="qbsearch-input.darkBackdrop"></div>
  <div class="color-fg-default">
    
<dialog-helper>
  <dialog data-target="qbsearch-input.feedbackDialog" data-action="close:qbsearch-input#handleDialogClose cancel:qbsearch-input#handleDialogClose" id="feedback-dialog" aria-modal="true" aria-labelledby="feedback-dialog-title" aria-describedby="feedback-dialog-description" data-view-component="true" class="Overlay Overlay-whenNarrow Overlay--size-medium Overlay--motion-scaleFade Overlay--disableScroll">
    <div data-view-component="true" class="Overlay-header">
  <div class="Overlay-headerContentWrap">
    <div class="Overlay-titleWrap">
      <h1 class="Overlay-title " id="feedback-dialog-title">
        Provide feedback
      </h1>
        
    </div>
    <div class="Overlay-actionWrap">
      <button data-close-dialog-id="feedback-dialog" aria-label="Close" type="button" data-view-component="true" class="close-button Overlay-closeButton"><svg aria-hidden="true" height="16" viewBox="0 0 16 16" version="1.1" width="16" data-view-component="true" class="octicon octicon-x">
    <path d="M3.72 3.72a.75.75 0 0 1 1.06 0L8 6.94l3.22-3.22a.749.749 0 0 1 1.275.326.749.749 0 0 1-.215.734L9.06 8l3.22 3.22a.749.749 0 0 1-.326 1.275.749.749 0 0 1-.734-.215L8 9.06l-3.22 3.22a.751.751 0 0 1-1.042-.018.751.751 0 0 1-.018-1.042L6.94 8 3.72 4.78a.75.75 0 0 1 0-1.06Z"></path>
</svg></button>
    </div>
  </div>
  
</div>
      <scrollable-region data-labelled-by="feedback-dialog-title">
        <div data-view-component="true" class="Overlay-body">        <!-- '"` --><!-- </textarea></xmp> --></option></form><form id="code-search-feedback-form" data-turbo="false" action="/search/feedback" accept-charset="UTF-8" method="post"><input type="hidden" name="authenticity_token" value="StB_otUoC6JaHEfRKCGbg7WnaR-u82pgrx3XoJ2t8T0aZjnEKZxd606TSGOv6cl-_WF9VFO5S3CdxFFKnmIMDg" />
          <p>We read every piece of feedback, and take your input very seriously.</p>
          <textarea name="feedback" class="form-control width-full mb-2" style="height: 120px" id="feedback"></textarea>
          <input name="include_email" id="include_email" aria-label="Include my email address so I can be contacted" class="form-control mr-2" type="checkbox">
          <label for="include_email" style="font-weight: normal">Include my email address so I can be contacted</label>
</form></div>
      </scrollable-region>
      <div data-view-component="true" class="Overlay-footer Overlay-footer--alignEnd">          <button data-close-dialog-id="feedback-dialog" type="button" data-view-component="true" class="btn">    Cancel
</button>
          <button form="code-search-feedback-form" data-action="click:qbsearch-input#submitFeedback" type="submit" data-view-component="true" class="btn-primary btn">    Submit feedback
</button>
</div>
</dialog></dialog-helper>

    <custom-scopes data-target="qbsearch-input.customScopesManager">
    
<dialog-helper>
  <dialog data-target="custom-scopes.customScopesModalDialog" data-action="close:qbsearch-input#handleDialogClose cancel:qbsearch-input#handleDialogClose" id="custom-scopes-dialog" aria-modal="true" aria-labelledby="custom-scopes-dialog-title" aria-describedby="custom-scopes-dialog-description" data-view-component="true" class="Overlay Overlay-whenNarrow Overlay--size-medium Overlay--motion-scaleFade Overlay--disableScroll">
    <div data-view-component="true" class="Overlay-header Overlay-header--divided">
  <div class="Overlay-headerContentWrap">
    <div class="Overlay-titleWrap">
      <h1 class="Overlay-title " id="custom-scopes-dialog-title">
        Saved searches
      </h1>
        <h2 id="custom-scopes-dialog-description" class="Overlay-description">Use saved searches to filter your results more quickly</h2>
    </div>
    <div class="Overlay-actionWrap">
      <button data-close-dialog-id="custom-scopes-dialog" aria-label="Close" type="button" data-view-component="true" class="close-button Overlay-closeButton"><svg aria-hidden="true" height="16" viewBox="0 0 16 16" version="1.1" width="16" data-view-component="true" class="octicon octicon-x">
    <path d="M3.72 3.72a.75.75 0 0 1 1.06 0L8 6.94l3.22-3.22a.749.749 0 0 1 1.275.326.749.749 0 0 1-.215.734L9.06 8l3.22 3.22a.749.749 0 0 1-.326 1.275.749.749 0 0 1-.734-.215L8 9.06l-3.22 3.22a.751.751 0 0 1-1.042-.018.751.751 0 0 1-.018-1.042L6.94 8 3.72 4.78a.75.75 0 0 1 0-1.06Z"></path>
</svg></button>
    </div>
  </div>
  
</div>
      <scrollable-region data-labelled-by="custom-scopes-dialog-title">
        <div data-view-component="true" class="Overlay-body">        <div data-target="custom-scopes.customScopesModalDialogFlash"></div>

        <div hidden class="create-custom-scope-form" data-target="custom-scopes.createCustomScopeForm">
        <!-- '"` --><!-- </textarea></xmp> --></option></form><form id="custom-scopes-dialog-form" data-turbo="false" action="/search/custom_scopes" accept-charset="UTF-8" method="post"><input type="hidden" name="authenticity_token" value="S4CNXLxJPPjeip0j2YTR6ep6_w3-CSUvf_jQvB7E1WT5OcOH6B9l1lXZn7ihCNnLZlKhUjsO6nSQz1JQcUh1-g" />
          <div data-target="custom-scopes.customScopesModalDialogFlash"></div>

          <input type="hidden" id="custom_scope_id" name="custom_scope_id" data-target="custom-scopes.customScopesIdField">

          <div class="form-group">
            <label for="custom_scope_name">Name</label>
            <auto-check src="/search/custom_scopes/check_name" required only-validate-on-blur="true">
              <input
                type="text"
                name="custom_scope_name"
                id="custom_scope_name"
                data-target="custom-scopes.customScopesNameField"
                class="form-control"
                autocomplete="off"
                placeholder="github-ruby"
                required
                maxlength="50">
              <input type="hidden" value="0EtTiSsinvSd0U6IGuEF-aND0UXWR0iO7b9RGby8uJF52Kqzmw1tPdrrY4VZ-uzIhOk-BAKxmxhNp7yKUeZ6MQ" data-csrf="true" />
            </auto-check>
          </div>

          <div class="form-group">
            <label for="custom_scope_query">Query</label>
            <input
              type="text"
              name="custom_scope_query"
              id="custom_scope_query"
              data-target="custom-scopes.customScopesQueryField"
              class="form-control"
              autocomplete="off"
              placeholder="(repo:mona/a OR repo:mona/b) AND lang:python"
              required
              maxlength="500">
          </div>

          <p class="text-small color-fg-muted">
            To see all available qualifiers, see our <a class="Link--inTextBlock" href="https://docs.github.com/search-github/github-code-search/understanding-github-code-search-syntax">documentation</a>.
          </p>
</form>        </div>

        <div data-target="custom-scopes.manageCustomScopesForm">
          <div data-target="custom-scopes.list"></div>
        </div>

</div>
      </scrollable-region>
      <div data-view-component="true" class="Overlay-footer Overlay-footer--alignEnd Overlay-footer--divided">          <button data-action="click:custom-scopes#customScopesCancel" type="button" data-view-component="true" class="btn">    Cancel
</button>
          <button form="custom-scopes-dialog-form" data-action="click:custom-scopes#customScopesSubmit" data-target="custom-scopes.customScopesSubmitButton" type="submit" data-view-component="true" class="btn-primary btn">    Create saved search
</button>
</div>
</dialog></dialog-helper>
    </custom-scopes>
  </div>
</qbsearch-input>  <input type="hidden" value="rvlNLrAAA-qRpov510w2Z0oIMqmx6MxIph-eACc33E-YnJE6VmJ0jEHlM50rMUZSMe8DMj5XexeMpTrSMQ9xQg" data-csrf="true" class="js-data-jump-to-suggestions-path-csrf" />


          </div>

        
          <div class="AppHeader-CopilotChat">
  <react-partial-anchor>
    <button id="copilot-chat-header-button" data-target="react-partial-anchor.anchor" aria-expanded="false" aria-controls="copilot-chat-panel" aria-labelledby="tooltip-206f3318-bcc8-4a52-916b-79ec75410880" type="button" disabled="disabled" data-view-component="true" class="Button Button--iconOnly Button--secondary Button--medium AppHeader-button AppHeader-buttonLeft cursor-wait hide-sm hide-md">  <svg aria-hidden="true" height="16" viewBox="0 0 16 16" version="1.1" width="16" data-view-component="true" class="octicon octicon-copilot Button-visual">
    <path d="M7.998 15.035c-4.562 0-7.873-2.914-7.998-3.749V9.338c.085-.628.677-1.686 1.588-2.065.013-.07.024-.143.036-.218.029-.183.06-.384.126-.612-.201-.508-.254-1.084-.254-1.656 0-.87.128-1.769.693-2.484.579-.733 1.494-1.124 2.724-1.261 1.206-.134 2.262.034 2.944.765.05.053.096.108.139.165.044-.057.094-.112.143-.165.682-.731 1.738-.899 2.944-.765 1.23.137 2.145.528 2.724 1.261.566.715.693 1.614.693 2.484 0 .572-.053 1.148-.254 1.656.066.228.098.429.126.612.012.076.024.148.037.218.924.385 1.522 1.471 1.591 2.095v1.872c0 .766-3.351 3.795-8.002 3.795Zm0-1.485c2.28 0 4.584-1.11 5.002-1.433V7.862l-.023-.116c-.49.21-1.075.291-1.727.291-1.146 0-2.059-.327-2.71-.991A3.222 3.222 0 0 1 8 6.303a3.24 3.24 0 0 1-.544.743c-.65.664-1.563.991-2.71.991-.652 0-1.236-.081-1.727-.291l-.023.116v4.255c.419.323 2.722 1.433 5.002 1.433ZM6.762 2.83c-.193-.206-.637-.413-1.682-.297-1.019.113-1.479.404-1.713.7-.247.312-.369.789-.369 1.554 0 .793.129 1.171.308 1.371.162.181.519.379 1.442.379.853 0 1.339-.235 1.638-.54.315-.322.527-.827.617-1.553.117-.935-.037-1.395-.241-1.614Zm4.155-.297c-1.044-.116-1.488.091-1.681.297-.204.219-.359.679-.242 1.614.091.726.303 1.231.618 1.553.299.305.784.54 1.638.54.922 0 1.28-.198 1.442-.379.179-.2.308-.578.308-1.371 0-.765-.123-1.242-.37-1.554-.233-.296-.693-.587-1.713-.7Z"></path><path d="M6.25 9.037a.75.75 0 0 1 .75.75v1.501a.75.75 0 0 1-1.5 0V9.787a.75.75 0 0 1 .75-.75Zm4.25.75v1.501a.75.75 0 0 1-1.5 0V9.787a.75.75 0 0 1 1.5 0Z"></path>
</svg>
</button><tool-tip id="tooltip-206f3318-bcc8-4a52-916b-79ec75410880" for="copilot-chat-header-button" popover="manual" data-direction="s" data-type="label" data-view-component="true" class="sr-only position-absolute">Chat with Copilot</tool-tip>

    <template data-target="react-partial-anchor.template">
      <script crossorigin="anonymous" defer="defer" type="application/javascript" src="https://github.githubassets.com/assets/vendors-node_modules_tanstack_query-core_build_modern_queryObserver_js-node_modules_tanstack_-defd52-843b41414e0e.js"></script>
<script crossorigin="anonymous" defer="defer" type="application/javascript" src="https://github.githubassets.com/assets/vendors-node_modules_react-relay_index_js-2d54b665e445.js"></script>
<script crossorigin="anonymous" defer="defer" type="application/javascript" src="https://github.githubassets.com/assets/vendors-node_modules_remark-gfm_lib_index_js-node_modules_remark-parse_lib_index_js-node_modu-44d0fc-3771aaaad894.js"></script>
<script crossorigin="anonymous" defer="defer" type="application/javascript" src="https://github.githubassets.com/assets/vendors-node_modules_highlight_js_es_core_js-node_modules_lowlight_lib_all_js-be89bc04c72d.js"></script>
<script crossorigin="anonymous" defer="defer" type="application/javascript" src="https://github.githubassets.com/assets/vendors-node_modules_hast-util-find-and-replace_lib_index_js-node_modules_hastscript_lib_inde-693930-ffb763a35ddf.js"></script>
<script crossorigin="anonymous" defer="defer" type="application/javascript" src="https://github.githubassets.com/assets/vendors-node_modules_github_mini-throttle_dist_decorators_js-node_modules_accname_dist_access-a7695e-94bc658fafd2.js"></script>
<script crossorigin="anonymous" defer="defer" type="application/javascript" src="https://github.githubassets.com/assets/vendors-node_modules_focus-visible_dist_focus-visible_js-node_modules_github_combobox-nav_dis-aab2b4-d196b80709e5.js"></script>
<script crossorigin="anonymous" defer="defer" type="application/javascript" src="https://github.githubassets.com/assets/ui_packages_item-picker_constants_labels_ts-ui_packages_item-picker_constants_values_ts-ui_pa-163a9a-3cb92bf7c1be.js"></script>
<script crossorigin="anonymous" defer="defer" type="application/javascript" src="https://github.githubassets.com/assets/ui_packages_item-picker_components_RepositoryPicker_tsx-3840f58896cc.js"></script>
<script crossorigin="anonymous" defer="defer" type="application/javascript" src="https://github.githubassets.com/assets/ui_packages_copilot-chat_utils_copilot-local-storage_ts-ui_packages_hydro-analytics_hydro-ana-74ad7c-c7609893f1ce.js"></script>
<script crossorigin="anonymous" defer="defer" type="application/javascript" src="https://github.githubassets.com/assets/ui_packages_copilot-markdown_MarkdownRenderer_tsx-1e2d5152e6bc.js"></script>
<script crossorigin="anonymous" defer="defer" type="application/javascript" src="https://github.githubassets.com/assets/ui_packages_copilot-chat_utils_CopilotChatContext_tsx-bbf546860866.js"></script>
<script crossorigin="anonymous" defer="defer" type="application/javascript" src="https://github.githubassets.com/assets/ui_packages_copilot-chat_components_CopilotIconAnimation_tsx-ui_packages_copilot-chat_compone-8be2e4-cb86c4db057a.js"></script>
<script crossorigin="anonymous" defer="defer" type="application/javascript" src="https://github.githubassets.com/assets/ui_packages_copilot-chat_hooks_use-chat-message-behavior_ts-ui_packages_copilot-chat_hooks_us-59e17b-77b1c2c10103.js"></script>
<script crossorigin="anonymous" defer="defer" type="application/javascript" src="https://github.githubassets.com/assets/ui_packages_copilot-chat_components_Chat_tsx-6f56572ab7b5.js"></script>
<script crossorigin="anonymous" defer="defer" type="application/javascript" src="https://github.githubassets.com/assets/copilot-chat-ed8041fa74cc.js"></script>
<link crossorigin="anonymous" media="all" rel="stylesheet" href="https://github.githubassets.com/assets/primer-react.8157a56b30ae88a1b356.module.css" />
<link crossorigin="anonymous" media="all" rel="stylesheet" href="https://github.githubassets.com/assets/ui_packages_copilot-chat_hooks_use-chat-message-behavior_ts-ui_packages_copilot-chat_hooks_us-59e17b.066ddf37a82d724cc150.module.css" />
<link crossorigin="anonymous" media="all" rel="stylesheet" href="https://github.githubassets.com/assets/copilot-chat.171ab343c672187140e7.module.css" />
      <link crossorigin="anonymous" media="all" rel="stylesheet" href="https://github.githubassets.com/assets/copilot-markdown-rendering-f6845e8f5d6b.css" />
      <include-fragment src="/github-copilot/chat?skip_anchor=true"></include-fragment>
    </template>
  </react-partial-anchor>
  <react-partial-anchor>
    <button id="global-copilot-menu-button" data-target="react-partial-anchor.anchor" aria-expanded="false" aria-labelledby="tooltip-fb04760c-d581-4f4b-8103-46fdaa13e776" type="button" data-view-component="true" class="Button Button--iconOnly Button--secondary Button--medium AppHeader-button AppHeader-buttonRight hide-sm hide-md">  <svg aria-hidden="true" height="16" viewBox="0 0 16 16" version="1.1" width="16" data-view-component="true" class="octicon octicon-triangle-down Button-visual">
    <path d="m4.427 7.427 3.396 3.396a.25.25 0 0 0 .354 0l3.396-3.396A.25.25 0 0 0 11.396 7H4.604a.25.25 0 0 0-.177.427Z"></path>
</svg>
</button><tool-tip id="tooltip-fb04760c-d581-4f4b-8103-46fdaa13e776" for="global-copilot-menu-button" popover="manual" data-direction="s" data-type="label" data-view-component="true" class="sr-only position-absolute">Open Copilot…</tool-tip>

    <template data-target="react-partial-anchor.template">
      <script crossorigin="anonymous" defer="defer" type="application/javascript" src="https://github.githubassets.com/assets/global-copilot-menu-af5d5074d3b7.js"></script>
<link crossorigin="anonymous" media="all" rel="stylesheet" href="https://github.githubassets.com/assets/primer-react.8157a56b30ae88a1b356.module.css" />

<react-partial
  partial-name="global-copilot-menu"
  data-ssr="false"
  data-attempted-ssr="false"
>
  
  <script type="application/json" data-target="react-partial.embeddedData">{"props":{}}</script>
  <div data-target="react-partial.reactRoot"></div>
</react-partial>

    </template>
  </react-partial-anchor>
</div>


        <div class="AppHeader-actions position-relative">
             <react-partial-anchor>
      <button id="global-create-menu-anchor" aria-label="Create something new" data-target="react-partial-anchor.anchor" type="button" disabled="disabled" data-view-component="true" class="AppHeader-button global-create-button cursor-wait Button--secondary Button--medium Button width-auto color-fg-muted">  <span class="Button-content">
      <span class="Button-visual Button-leadingVisual">
        <svg aria-hidden="true" height="16" viewBox="0 0 16 16" version="1.1" width="16" data-view-component="true" class="octicon octicon-plus">
    <path d="M7.75 2a.75.75 0 0 1 .75.75V7h4.25a.75.75 0 0 1 0 1.5H8.5v4.25a.75.75 0 0 1-1.5 0V8.5H2.75a.75.75 0 0 1 0-1.5H7V2.75A.75.75 0 0 1 7.75 2Z"></path>
</svg>
      </span>
    <span class="Button-label"><svg aria-hidden="true" height="16" viewBox="0 0 16 16" version="1.1" width="16" data-view-component="true" class="octicon octicon-triangle-down">
    <path d="m4.427 7.427 3.396 3.396a.25.25 0 0 0 .354 0l3.396-3.396A.25.25 0 0 0 11.396 7H4.604a.25.25 0 0 0-.177.427Z"></path>
</svg></span>
  </span>
</button><tool-tip id="tooltip-be221f99-41f4-40e7-aa1d-5835078606d8" for="global-create-menu-anchor" popover="manual" data-direction="s" data-type="description" data-view-component="true" class="sr-only position-absolute">Create new...</tool-tip>

      <template data-target="react-partial-anchor.template">
        <script crossorigin="anonymous" defer="defer" type="application/javascript" src="https://github.githubassets.com/assets/ui_packages_promise-with-resolvers-polyfill_promise-with-resolvers-polyfill_ts-ui_packages_re-8d43b0-eefb5a0c7939.js"></script>
<script crossorigin="anonymous" defer="defer" type="application/javascript" src="https://github.githubassets.com/assets/global-create-menu-7510a0ee7657.js"></script>
<link crossorigin="anonymous" media="all" rel="stylesheet" href="https://github.githubassets.com/assets/primer-react.8157a56b30ae88a1b356.module.css" />

<react-partial
  partial-name="global-create-menu"
  data-ssr="false"
  data-attempted-ssr="false"
>
  
  <script type="application/json" data-target="react-partial.embeddedData">{"props":{"createRepo":true,"importRepo":true,"codespaces":true,"spark":false,"gist":true,"createOrg":true,"createProject":false,"createProjectUrl":"/MartinLechner89?tab=projects","createLegacyProject":false,"createIssue":false,"org":null,"owner":"KMI-KPZ","repo":"Toolbox-Datenkompetenz-Lerninhalte"}}</script>
  <div data-target="react-partial.reactRoot"></div>
</react-partial>

      </template>
    </react-partial-anchor>


          <a href="/issues" data-analytics-event="{&quot;category&quot;:&quot;Global navigation&quot;,&quot;action&quot;:&quot;ISSUES_HEADER&quot;,&quot;label&quot;:null}" id="icon-button-c23f560b-37e4-4d58-8dc9-d3def4010370" aria-labelledby="tooltip-96a625e3-d362-4f3e-b93d-7457c3355531" data-view-component="true" class="Button Button--iconOnly Button--secondary Button--medium AppHeader-button color-fg-muted">  <svg aria-hidden="true" height="16" viewBox="0 0 16 16" version="1.1" width="16" data-view-component="true" class="octicon octicon-issue-opened Button-visual">
    <path d="M8 9.5a1.5 1.5 0 1 0 0-3 1.5 1.5 0 0 0 0 3Z"></path><path d="M8 0a8 8 0 1 1 0 16A8 8 0 0 1 8 0ZM1.5 8a6.5 6.5 0 1 0 13 0 6.5 6.5 0 0 0-13 0Z"></path>
</svg>
</a><tool-tip id="tooltip-96a625e3-d362-4f3e-b93d-7457c3355531" for="icon-button-c23f560b-37e4-4d58-8dc9-d3def4010370" popover="manual" data-direction="s" data-type="label" data-view-component="true" class="sr-only position-absolute">Your issues</tool-tip>

          <a href="/pulls" data-analytics-event="{&quot;category&quot;:&quot;Global navigation&quot;,&quot;action&quot;:&quot;PULL_REQUESTS_HEADER&quot;,&quot;label&quot;:null}" id="icon-button-84cd7ad6-2379-4edb-82fc-779a56f343b9" aria-labelledby="tooltip-8a93f10a-76f2-4eea-a54c-96ff4c184090" data-view-component="true" class="Button Button--iconOnly Button--secondary Button--medium AppHeader-button color-fg-muted">  <svg aria-hidden="true" height="16" viewBox="0 0 16 16" version="1.1" width="16" data-view-component="true" class="octicon octicon-git-pull-request Button-visual">
    <path d="M1.5 3.25a2.25 2.25 0 1 1 3 2.122v5.256a2.251 2.251 0 1 1-1.5 0V5.372A2.25 2.25 0 0 1 1.5 3.25Zm5.677-.177L9.573.677A.25.25 0 0 1 10 .854V2.5h1A2.5 2.5 0 0 1 13.5 5v5.628a2.251 2.251 0 1 1-1.5 0V5a1 1 0 0 0-1-1h-1v1.646a.25.25 0 0 1-.427.177L7.177 3.427a.25.25 0 0 1 0-.354ZM3.75 2.5a.75.75 0 1 0 0 1.5.75.75 0 0 0 0-1.5Zm0 9.5a.75.75 0 1 0 0 1.5.75.75 0 0 0 0-1.5Zm8.25.75a.75.75 0 1 0 1.5 0 .75.75 0 0 0-1.5 0Z"></path>
</svg>
</a><tool-tip id="tooltip-8a93f10a-76f2-4eea-a54c-96ff4c184090" for="icon-button-84cd7ad6-2379-4edb-82fc-779a56f343b9" popover="manual" data-direction="s" data-type="label" data-view-component="true" class="sr-only position-absolute">Your pull requests</tool-tip>

        </div>

        <notification-indicator data-channel="eyJjIjoibm90aWZpY2F0aW9uLWNoYW5nZWQ6ODYyNjEyMDAiLCJ0IjoxNzQzNDA3NTA1fQ==--c4b9e5fc468a8bd488f30b553dedf2e6e1415d5ed7bea94d70b86bf6f320cccb" data-indicator-mode="none" data-tooltip-global="You have unread notifications" data-tooltip-unavailable="Notifications are unavailable at the moment." data-tooltip-none="You have no unread notifications" data-header-redesign-enabled="true" data-fetch-indicator-src="/notifications/indicator" data-fetch-indicator-enabled="true" data-view-component="true" class="js-socket-channel">
    <a id="AppHeader-notifications-button" href="/notifications" aria-labelledby="notification-indicator-tooltip" data-hotkey="g n" data-target="notification-indicator.link" data-analytics-event="{&quot;category&quot;:&quot;Global navigation&quot;,&quot;action&quot;:&quot;NOTIFICATIONS_HEADER&quot;,&quot;label&quot;:null}" data-view-component="true" class="Button Button--iconOnly Button--secondary Button--medium AppHeader-button  color-fg-muted">  <svg aria-hidden="true" height="16" viewBox="0 0 16 16" version="1.1" width="16" data-view-component="true" class="octicon octicon-inbox Button-visual">
    <path d="M2.8 2.06A1.75 1.75 0 0 1 4.41 1h7.18c.7 0 1.333.417 1.61 1.06l2.74 6.395c.04.093.06.194.06.295v4.5A1.75 1.75 0 0 1 14.25 15H1.75A1.75 1.75 0 0 1 0 13.25v-4.5c0-.101.02-.202.06-.295Zm1.61.44a.25.25 0 0 0-.23.152L1.887 8H4.75a.75.75 0 0 1 .6.3L6.625 10h2.75l1.275-1.7a.75.75 0 0 1 .6-.3h2.863L11.82 2.652a.25.25 0 0 0-.23-.152Zm10.09 7h-2.875l-1.275 1.7a.75.75 0 0 1-.6.3h-3.5a.75.75 0 0 1-.6-.3L4.375 9.5H1.5v3.75c0 .138.112.25.25.25h12.5a.25.25 0 0 0 .25-.25Z"></path>
</svg>
</a>

    <tool-tip id="notification-indicator-tooltip" data-target="notification-indicator.tooltip" for="AppHeader-notifications-button" popover="manual" data-direction="s" data-type="label" data-view-component="true" class="sr-only position-absolute">Notifications</tool-tip>
</notification-indicator>

        <div class="AppHeader-user">
          <deferred-side-panel data-url="/_side-panels/user?repository_id=956612093">
  <include-fragment data-target="deferred-side-panel.fragment">
    <react-partial-anchor
  
>
  <button data-target="react-partial-anchor.anchor" data-login="MartinLechner89" aria-label="Open user navigation menu" type="button" data-view-component="true" class="cursor-wait Button--invisible Button--medium Button Button--invisible-noVisuals color-bg-transparent p-0">  <span class="Button-content">
    <span class="Button-label"><img src="https://avatars.githubusercontent.com/u/86261200?v=4" alt="" size="32" height="32" width="32" data-view-component="true" class="avatar circle" /></span>
  </span>
</button>
  <template data-target="react-partial-anchor.template">
    <script crossorigin="anonymous" defer="defer" type="application/javascript" src="https://github.githubassets.com/assets/global-user-nav-drawer-a6a6fefd9877.js"></script>
<link crossorigin="anonymous" media="all" rel="stylesheet" href="https://github.githubassets.com/assets/primer-react.8157a56b30ae88a1b356.module.css" />
<link crossorigin="anonymous" media="all" rel="stylesheet" href="https://github.githubassets.com/assets/global-user-nav-drawer.830d6c10c9fea7fc134e.module.css" />

<react-partial
  partial-name="global-user-nav-drawer"
  data-ssr="false"
  data-attempted-ssr="false"
>
  
  <script type="application/json" data-target="react-partial.embeddedData">{"props":{"owner":{"login":"MartinLechner89","name":"Martin Lechner","avatarUrl":"https://avatars.githubusercontent.com/u/86261200?v=4"},"drawerId":"global-user-nav-drawer","lazyLoadItemDataFetchUrl":"/_side-panels/user.json","canAddAccount":true,"addAccountPath":"/login?add_account=1\u0026return_to=https%3A%2F%2Fgithub.com%2FKMI-KPZ%2FToolbox-Datenkompetenz-Lerninhalte%2Fblob%2Fmain%2Ffahrrad-in-seoul%2F01-fahrradverleihseoul.ipynb","switchAccountPath":"/switch_account","loginAccountPath":"/login?add_account=1","projectsPath":"/MartinLechner89?tab=projects","gistsUrl":"https://gist.github.com/mine","docsUrl":"https://docs.github.com","yourEnterpriseUrl":null,"enterpriseSettingsUrl":null,"supportUrl":"https://support.github.com","showAccountSwitcher":true,"showCopilot":true,"showEnterprises":true,"showEnterprise":false,"showGists":true,"showOrganizations":true,"showSponsors":true,"showUpgrade":true,"showFeaturesPreviews":true,"showEnterpriseSettings":false,"createMenuProps":{"createRepo":true,"importRepo":true,"codespaces":true,"spark":false,"gist":true,"createOrg":true,"createProject":false,"createProjectUrl":"/MartinLechner89?tab=projects","createLegacyProject":false,"createIssue":false,"org":null,"owner":"KMI-KPZ","repo":"Toolbox-Datenkompetenz-Lerninhalte"}}}</script>
  <div data-target="react-partial.reactRoot"></div>
</react-partial>

  </template>
</react-partial-anchor>

  </include-fragment>
</deferred-side-panel>
        </div>

        <div class="position-absolute mt-2">
            
<site-header-logged-in-user-menu>

</site-header-logged-in-user-menu>

        </div>
      </div>
    </div>


    
        <div class="AppHeader-localBar" >
          <nav data-pjax="#js-repo-pjax-container" aria-label="Repository" data-view-component="true" class="js-repo-nav js-sidenav-container-pjax js-responsive-underlinenav overflow-hidden UnderlineNav">

  <ul data-view-component="true" class="UnderlineNav-body list-style-none">
      <li data-view-component="true" class="d-inline-flex">
  <a id="code-tab" href="/KMI-KPZ/Toolbox-Datenkompetenz-Lerninhalte" data-tab-item="i0code-tab" data-selected-links="repo_source repo_downloads repo_commits repo_releases repo_tags repo_branches repo_packages repo_deployments repo_attestations /KMI-KPZ/Toolbox-Datenkompetenz-Lerninhalte" data-pjax="#repo-content-pjax-container" data-turbo-frame="repo-content-turbo-frame" data-hotkey="g c" data-analytics-event="{&quot;category&quot;:&quot;Underline navbar&quot;,&quot;action&quot;:&quot;Click tab&quot;,&quot;label&quot;:&quot;Code&quot;,&quot;target&quot;:&quot;UNDERLINE_NAV.TAB&quot;}" data-view-component="true" class="UnderlineNav-item no-wrap js-responsive-underlinenav-item js-selected-navigation-item">
    
              <svg aria-hidden="true" height="16" viewBox="0 0 16 16" version="1.1" width="16" data-view-component="true" class="octicon octicon-code UnderlineNav-octicon d-none d-sm-inline">
    <path d="m11.28 3.22 4.25 4.25a.75.75 0 0 1 0 1.06l-4.25 4.25a.749.749 0 0 1-1.275-.326.749.749 0 0 1 .215-.734L13.94 8l-3.72-3.72a.749.749 0 0 1 .326-1.275.749.749 0 0 1 .734.215Zm-6.56 0a.751.751 0 0 1 1.042.018.751.751 0 0 1 .018 1.042L2.06 8l3.72 3.72a.749.749 0 0 1-.326 1.275.749.749 0 0 1-.734-.215L.47 8.53a.75.75 0 0 1 0-1.06Z"></path>
</svg>
        <span data-content="Code">Code</span>
          <span id="code-repo-tab-count" data-pjax-replace="" data-turbo-replace="" title="Not available" data-view-component="true" class="Counter"></span>


    
</a></li>
      <li data-view-component="true" class="d-inline-flex">
  <a id="issues-tab" href="/KMI-KPZ/Toolbox-Datenkompetenz-Lerninhalte/issues" data-tab-item="i1issues-tab" data-selected-links="repo_issues repo_labels repo_milestones /KMI-KPZ/Toolbox-Datenkompetenz-Lerninhalte/issues" data-pjax="#repo-content-pjax-container" data-turbo-frame="repo-content-turbo-frame" data-hotkey="g i" data-analytics-event="{&quot;category&quot;:&quot;Underline navbar&quot;,&quot;action&quot;:&quot;Click tab&quot;,&quot;label&quot;:&quot;Issues&quot;,&quot;target&quot;:&quot;UNDERLINE_NAV.TAB&quot;}" data-view-component="true" class="UnderlineNav-item no-wrap js-responsive-underlinenav-item js-selected-navigation-item">
    
              <svg aria-hidden="true" height="16" viewBox="0 0 16 16" version="1.1" width="16" data-view-component="true" class="octicon octicon-issue-opened UnderlineNav-octicon d-none d-sm-inline">
    <path d="M8 9.5a1.5 1.5 0 1 0 0-3 1.5 1.5 0 0 0 0 3Z"></path><path d="M8 0a8 8 0 1 1 0 16A8 8 0 0 1 8 0ZM1.5 8a6.5 6.5 0 1 0 13 0 6.5 6.5 0 0 0-13 0Z"></path>
</svg>
        <span data-content="Issues">Issues</span>
          <span id="issues-repo-tab-count" data-pjax-replace="" data-turbo-replace="" title="0" hidden="hidden" data-view-component="true" class="Counter">0</span>


    
</a></li>
      <li data-view-component="true" class="d-inline-flex">
  <a id="pull-requests-tab" href="/KMI-KPZ/Toolbox-Datenkompetenz-Lerninhalte/pulls" data-tab-item="i2pull-requests-tab" data-selected-links="repo_pulls checks /KMI-KPZ/Toolbox-Datenkompetenz-Lerninhalte/pulls" data-pjax="#repo-content-pjax-container" data-turbo-frame="repo-content-turbo-frame" data-hotkey="g p" data-analytics-event="{&quot;category&quot;:&quot;Underline navbar&quot;,&quot;action&quot;:&quot;Click tab&quot;,&quot;label&quot;:&quot;Pull requests&quot;,&quot;target&quot;:&quot;UNDERLINE_NAV.TAB&quot;}" data-view-component="true" class="UnderlineNav-item no-wrap js-responsive-underlinenav-item js-selected-navigation-item">
    
              <svg aria-hidden="true" height="16" viewBox="0 0 16 16" version="1.1" width="16" data-view-component="true" class="octicon octicon-git-pull-request UnderlineNav-octicon d-none d-sm-inline">
    <path d="M1.5 3.25a2.25 2.25 0 1 1 3 2.122v5.256a2.251 2.251 0 1 1-1.5 0V5.372A2.25 2.25 0 0 1 1.5 3.25Zm5.677-.177L9.573.677A.25.25 0 0 1 10 .854V2.5h1A2.5 2.5 0 0 1 13.5 5v5.628a2.251 2.251 0 1 1-1.5 0V5a1 1 0 0 0-1-1h-1v1.646a.25.25 0 0 1-.427.177L7.177 3.427a.25.25 0 0 1 0-.354ZM3.75 2.5a.75.75 0 1 0 0 1.5.75.75 0 0 0 0-1.5Zm0 9.5a.75.75 0 1 0 0 1.5.75.75 0 0 0 0-1.5Zm8.25.75a.75.75 0 1 0 1.5 0 .75.75 0 0 0-1.5 0Z"></path>
</svg>
        <span data-content="Pull requests">Pull requests</span>
          <span id="pull-requests-repo-tab-count" data-pjax-replace="" data-turbo-replace="" title="0" hidden="hidden" data-view-component="true" class="Counter">0</span>


    
</a></li>
      <li data-view-component="true" class="d-inline-flex">
  <a id="actions-tab" href="/KMI-KPZ/Toolbox-Datenkompetenz-Lerninhalte/actions" data-tab-item="i3actions-tab" data-selected-links="repo_actions /KMI-KPZ/Toolbox-Datenkompetenz-Lerninhalte/actions" data-pjax="#repo-content-pjax-container" data-turbo-frame="repo-content-turbo-frame" data-hotkey="g a" data-analytics-event="{&quot;category&quot;:&quot;Underline navbar&quot;,&quot;action&quot;:&quot;Click tab&quot;,&quot;label&quot;:&quot;Actions&quot;,&quot;target&quot;:&quot;UNDERLINE_NAV.TAB&quot;}" data-view-component="true" class="UnderlineNav-item no-wrap js-responsive-underlinenav-item js-selected-navigation-item">
    
              <svg aria-hidden="true" height="16" viewBox="0 0 16 16" version="1.1" width="16" data-view-component="true" class="octicon octicon-play UnderlineNav-octicon d-none d-sm-inline">
    <path d="M8 0a8 8 0 1 1 0 16A8 8 0 0 1 8 0ZM1.5 8a6.5 6.5 0 1 0 13 0 6.5 6.5 0 0 0-13 0Zm4.879-2.773 4.264 2.559a.25.25 0 0 1 0 .428l-4.264 2.559A.25.25 0 0 1 6 10.559V5.442a.25.25 0 0 1 .379-.215Z"></path>
</svg>
        <span data-content="Actions">Actions</span>
          <span id="actions-repo-tab-count" data-pjax-replace="" data-turbo-replace="" title="Not available" data-view-component="true" class="Counter"></span>


    
</a></li>
      <li data-view-component="true" class="d-inline-flex">
  <a id="projects-tab" href="/KMI-KPZ/Toolbox-Datenkompetenz-Lerninhalte/projects" data-tab-item="i4projects-tab" data-selected-links="repo_projects new_repo_project repo_project /KMI-KPZ/Toolbox-Datenkompetenz-Lerninhalte/projects" data-pjax="#repo-content-pjax-container" data-turbo-frame="repo-content-turbo-frame" data-hotkey="g b" data-analytics-event="{&quot;category&quot;:&quot;Underline navbar&quot;,&quot;action&quot;:&quot;Click tab&quot;,&quot;label&quot;:&quot;Projects&quot;,&quot;target&quot;:&quot;UNDERLINE_NAV.TAB&quot;}" data-view-component="true" class="UnderlineNav-item no-wrap js-responsive-underlinenav-item js-selected-navigation-item">
    
              <svg aria-hidden="true" height="16" viewBox="0 0 16 16" version="1.1" width="16" data-view-component="true" class="octicon octicon-table UnderlineNav-octicon d-none d-sm-inline">
    <path d="M0 1.75C0 .784.784 0 1.75 0h12.5C15.216 0 16 .784 16 1.75v12.5A1.75 1.75 0 0 1 14.25 16H1.75A1.75 1.75 0 0 1 0 14.25ZM6.5 6.5v8h7.75a.25.25 0 0 0 .25-.25V6.5Zm8-1.5V1.75a.25.25 0 0 0-.25-.25H6.5V5Zm-13 1.5v7.75c0 .138.112.25.25.25H5v-8ZM5 5V1.5H1.75a.25.25 0 0 0-.25.25V5Z"></path>
</svg>
        <span data-content="Projects">Projects</span>
          <span id="projects-repo-tab-count" data-pjax-replace="" data-turbo-replace="" title="0" hidden="hidden" data-view-component="true" class="Counter">0</span>


    
</a></li>
      <li data-view-component="true" class="d-inline-flex">
  <a id="wiki-tab" href="/KMI-KPZ/Toolbox-Datenkompetenz-Lerninhalte/wiki" data-tab-item="i5wiki-tab" data-selected-links="repo_wiki /KMI-KPZ/Toolbox-Datenkompetenz-Lerninhalte/wiki" data-pjax="#repo-content-pjax-container" data-turbo-frame="repo-content-turbo-frame" data-hotkey="g w" data-analytics-event="{&quot;category&quot;:&quot;Underline navbar&quot;,&quot;action&quot;:&quot;Click tab&quot;,&quot;label&quot;:&quot;Wiki&quot;,&quot;target&quot;:&quot;UNDERLINE_NAV.TAB&quot;}" data-view-component="true" class="UnderlineNav-item no-wrap js-responsive-underlinenav-item js-selected-navigation-item">
    
              <svg aria-hidden="true" height="16" viewBox="0 0 16 16" version="1.1" width="16" data-view-component="true" class="octicon octicon-book UnderlineNav-octicon d-none d-sm-inline">
    <path d="M0 1.75A.75.75 0 0 1 .75 1h4.253c1.227 0 2.317.59 3 1.501A3.743 3.743 0 0 1 11.006 1h4.245a.75.75 0 0 1 .75.75v10.5a.75.75 0 0 1-.75.75h-4.507a2.25 2.25 0 0 0-1.591.659l-.622.621a.75.75 0 0 1-1.06 0l-.622-.621A2.25 2.25 0 0 0 5.258 13H.75a.75.75 0 0 1-.75-.75Zm7.251 10.324.004-5.073-.002-2.253A2.25 2.25 0 0 0 5.003 2.5H1.5v9h3.757a3.75 3.75 0 0 1 1.994.574ZM8.755 4.75l-.004 7.322a3.752 3.752 0 0 1 1.992-.572H14.5v-9h-3.495a2.25 2.25 0 0 0-2.25 2.25Z"></path>
</svg>
        <span data-content="Wiki">Wiki</span>
          <span id="wiki-repo-tab-count" data-pjax-replace="" data-turbo-replace="" title="Not available" data-view-component="true" class="Counter"></span>


    
</a></li>
      <li data-view-component="true" class="d-inline-flex">
  <a id="security-tab" href="/KMI-KPZ/Toolbox-Datenkompetenz-Lerninhalte/security" data-tab-item="i6security-tab" data-selected-links="security overview alerts policy token_scanning code_scanning /KMI-KPZ/Toolbox-Datenkompetenz-Lerninhalte/security" data-pjax="#repo-content-pjax-container" data-turbo-frame="repo-content-turbo-frame" data-hotkey="g s" data-analytics-event="{&quot;category&quot;:&quot;Underline navbar&quot;,&quot;action&quot;:&quot;Click tab&quot;,&quot;label&quot;:&quot;Security&quot;,&quot;target&quot;:&quot;UNDERLINE_NAV.TAB&quot;}" data-view-component="true" class="UnderlineNav-item no-wrap js-responsive-underlinenav-item js-selected-navigation-item">
    
              <svg aria-hidden="true" height="16" viewBox="0 0 16 16" version="1.1" width="16" data-view-component="true" class="octicon octicon-shield UnderlineNav-octicon d-none d-sm-inline">
    <path d="M7.467.133a1.748 1.748 0 0 1 1.066 0l5.25 1.68A1.75 1.75 0 0 1 15 3.48V7c0 1.566-.32 3.182-1.303 4.682-.983 1.498-2.585 2.813-5.032 3.855a1.697 1.697 0 0 1-1.33 0c-2.447-1.042-4.049-2.357-5.032-3.855C1.32 10.182 1 8.566 1 7V3.48a1.75 1.75 0 0 1 1.217-1.667Zm.61 1.429a.25.25 0 0 0-.153 0l-5.25 1.68a.25.25 0 0 0-.174.238V7c0 1.358.275 2.666 1.057 3.86.784 1.194 2.121 2.34 4.366 3.297a.196.196 0 0 0 .154 0c2.245-.956 3.582-2.104 4.366-3.298C13.225 9.666 13.5 8.36 13.5 7V3.48a.251.251 0 0 0-.174-.237l-5.25-1.68ZM8.75 4.75v3a.75.75 0 0 1-1.5 0v-3a.75.75 0 0 1 1.5 0ZM9 10.5a1 1 0 1 1-2 0 1 1 0 0 1 2 0Z"></path>
</svg>
        <span data-content="Security">Security</span>
          <include-fragment src="/KMI-KPZ/Toolbox-Datenkompetenz-Lerninhalte/security/overall-count" accept="text/fragment+html"></include-fragment>

    
</a></li>
      <li data-view-component="true" class="d-inline-flex">
  <a id="insights-tab" href="/KMI-KPZ/Toolbox-Datenkompetenz-Lerninhalte/pulse" data-tab-item="i7insights-tab" data-selected-links="repo_graphs repo_contributors dependency_graph dependabot_updates pulse people community /KMI-KPZ/Toolbox-Datenkompetenz-Lerninhalte/pulse" data-pjax="#repo-content-pjax-container" data-turbo-frame="repo-content-turbo-frame" data-analytics-event="{&quot;category&quot;:&quot;Underline navbar&quot;,&quot;action&quot;:&quot;Click tab&quot;,&quot;label&quot;:&quot;Insights&quot;,&quot;target&quot;:&quot;UNDERLINE_NAV.TAB&quot;}" data-view-component="true" class="UnderlineNav-item no-wrap js-responsive-underlinenav-item js-selected-navigation-item">
    
              <svg aria-hidden="true" height="16" viewBox="0 0 16 16" version="1.1" width="16" data-view-component="true" class="octicon octicon-graph UnderlineNav-octicon d-none d-sm-inline">
    <path d="M1.5 1.75V13.5h13.75a.75.75 0 0 1 0 1.5H.75a.75.75 0 0 1-.75-.75V1.75a.75.75 0 0 1 1.5 0Zm14.28 2.53-5.25 5.25a.75.75 0 0 1-1.06 0L7 7.06 4.28 9.78a.751.751 0 0 1-1.042-.018.751.751 0 0 1-.018-1.042l3.25-3.25a.75.75 0 0 1 1.06 0L10 7.94l4.72-4.72a.751.751 0 0 1 1.042.018.751.751 0 0 1 .018 1.042Z"></path>
</svg>
        <span data-content="Insights">Insights</span>
          <span id="insights-repo-tab-count" data-pjax-replace="" data-turbo-replace="" title="Not available" data-view-component="true" class="Counter"></span>


    
</a></li>
      <li data-view-component="true" class="d-inline-flex">
  <a id="settings-tab" href="/KMI-KPZ/Toolbox-Datenkompetenz-Lerninhalte/settings" data-tab-item="i8settings-tab" data-selected-links="code_review_limits codespaces_repository_settings collaborators custom_tabs github_models_repo_settings hooks integration_installations interaction_limits issue_template_editor key_links_settings notifications repo_announcements repo_branch_settings repo_custom_properties repo_keys_settings repo_pages_settings repo_protected_tags_settings repo_rule_insights repo_rules_bypass_requests repo_rulesets repo_settings_copilot_coding_guidelines repo_settings_copilot_content_exclusion repo_settings reported_content repository_actions_settings_add_new_runner repository_actions_settings_general repository_actions_settings_runner_details repository_actions_settings_runners repository_actions_settings repository_environments role_details secrets_settings_actions secrets_settings_codespaces secrets_settings_dependabot secrets security_analysis security_products /KMI-KPZ/Toolbox-Datenkompetenz-Lerninhalte/settings" data-pjax="#repo-content-pjax-container" data-turbo-frame="repo-content-turbo-frame" data-analytics-event="{&quot;category&quot;:&quot;Underline navbar&quot;,&quot;action&quot;:&quot;Click tab&quot;,&quot;label&quot;:&quot;Settings&quot;,&quot;target&quot;:&quot;UNDERLINE_NAV.TAB&quot;}" data-view-component="true" class="UnderlineNav-item no-wrap js-responsive-underlinenav-item js-selected-navigation-item">
    
              <svg aria-hidden="true" height="16" viewBox="0 0 16 16" version="1.1" width="16" data-view-component="true" class="octicon octicon-gear UnderlineNav-octicon d-none d-sm-inline">
    <path d="M8 0a8.2 8.2 0 0 1 .701.031C9.444.095 9.99.645 10.16 1.29l.288 1.107c.018.066.079.158.212.224.231.114.454.243.668.386.123.082.233.09.299.071l1.103-.303c.644-.176 1.392.021 1.82.63.27.385.506.792.704 1.218.315.675.111 1.422-.364 1.891l-.814.806c-.049.048-.098.147-.088.294.016.257.016.515 0 .772-.01.147.038.246.088.294l.814.806c.475.469.679 1.216.364 1.891a7.977 7.977 0 0 1-.704 1.217c-.428.61-1.176.807-1.82.63l-1.102-.302c-.067-.019-.177-.011-.3.071a5.909 5.909 0 0 1-.668.386c-.133.066-.194.158-.211.224l-.29 1.106c-.168.646-.715 1.196-1.458 1.26a8.006 8.006 0 0 1-1.402 0c-.743-.064-1.289-.614-1.458-1.26l-.289-1.106c-.018-.066-.079-.158-.212-.224a5.738 5.738 0 0 1-.668-.386c-.123-.082-.233-.09-.299-.071l-1.103.303c-.644.176-1.392-.021-1.82-.63a8.12 8.12 0 0 1-.704-1.218c-.315-.675-.111-1.422.363-1.891l.815-.806c.05-.048.098-.147.088-.294a6.214 6.214 0 0 1 0-.772c.01-.147-.038-.246-.088-.294l-.815-.806C.635 6.045.431 5.298.746 4.623a7.92 7.92 0 0 1 .704-1.217c.428-.61 1.176-.807 1.82-.63l1.102.302c.067.019.177.011.3-.071.214-.143.437-.272.668-.386.133-.066.194-.158.211-.224l.29-1.106C6.009.645 6.556.095 7.299.03 7.53.01 7.764 0 8 0Zm-.571 1.525c-.036.003-.108.036-.137.146l-.289 1.105c-.147.561-.549.967-.998 1.189-.173.086-.34.183-.5.29-.417.278-.97.423-1.529.27l-1.103-.303c-.109-.03-.175.016-.195.045-.22.312-.412.644-.573.99-.014.031-.021.11.059.19l.815.806c.411.406.562.957.53 1.456a4.709 4.709 0 0 0 0 .582c.032.499-.119 1.05-.53 1.456l-.815.806c-.081.08-.073.159-.059.19.162.346.353.677.573.989.02.03.085.076.195.046l1.102-.303c.56-.153 1.113-.008 1.53.27.161.107.328.204.501.29.447.222.85.629.997 1.189l.289 1.105c.029.109.101.143.137.146a6.6 6.6 0 0 0 1.142 0c.036-.003.108-.036.137-.146l.289-1.105c.147-.561.549-.967.998-1.189.173-.086.34-.183.5-.29.417-.278.97-.423 1.529-.27l1.103.303c.109.029.175-.016.195-.045.22-.313.411-.644.573-.99.014-.031.021-.11-.059-.19l-.815-.806c-.411-.406-.562-.957-.53-1.456a4.709 4.709 0 0 0 0-.582c-.032-.499.119-1.05.53-1.456l.815-.806c.081-.08.073-.159.059-.19a6.464 6.464 0 0 0-.573-.989c-.02-.03-.085-.076-.195-.046l-1.102.303c-.56.153-1.113.008-1.53-.27a4.44 4.44 0 0 0-.501-.29c-.447-.222-.85-.629-.997-1.189l-.289-1.105c-.029-.11-.101-.143-.137-.146a6.6 6.6 0 0 0-1.142 0ZM11 8a3 3 0 1 1-6 0 3 3 0 0 1 6 0ZM9.5 8a1.5 1.5 0 1 0-3.001.001A1.5 1.5 0 0 0 9.5 8Z"></path>
</svg>
        <span data-content="Settings">Settings</span>
          <span id="settings-repo-tab-count" data-pjax-replace="" data-turbo-replace="" title="Not available" data-view-component="true" class="Counter"></span>


    
</a></li>
</ul>
    <div style="visibility:hidden;" data-view-component="true" class="UnderlineNav-actions js-responsive-underlinenav-overflow position-absolute pr-3 pr-md-4 pr-lg-5 right-0">      <action-menu data-select-variant="none" data-view-component="true">
  <focus-group direction="vertical" mnemonics retain>
    <button id="action-menu-1f8f32a5-bb42-4f18-b075-677c5af6cbf1-button" popovertarget="action-menu-1f8f32a5-bb42-4f18-b075-677c5af6cbf1-overlay" aria-controls="action-menu-1f8f32a5-bb42-4f18-b075-677c5af6cbf1-list" aria-haspopup="true" aria-labelledby="tooltip-040ae5e6-7dfb-4057-83e6-f4ff1dc8604c" type="button" data-view-component="true" class="Button Button--iconOnly Button--secondary Button--medium UnderlineNav-item">  <svg aria-hidden="true" height="16" viewBox="0 0 16 16" version="1.1" width="16" data-view-component="true" class="octicon octicon-kebab-horizontal Button-visual">
    <path d="M8 9a1.5 1.5 0 1 0 0-3 1.5 1.5 0 0 0 0 3ZM1.5 9a1.5 1.5 0 1 0 0-3 1.5 1.5 0 0 0 0 3Zm13 0a1.5 1.5 0 1 0 0-3 1.5 1.5 0 0 0 0 3Z"></path>
</svg>
</button><tool-tip id="tooltip-040ae5e6-7dfb-4057-83e6-f4ff1dc8604c" for="action-menu-1f8f32a5-bb42-4f18-b075-677c5af6cbf1-button" popover="manual" data-direction="s" data-type="label" data-view-component="true" class="sr-only position-absolute">Additional navigation options</tool-tip>


<anchored-position data-target="action-menu.overlay" id="action-menu-1f8f32a5-bb42-4f18-b075-677c5af6cbf1-overlay" anchor="action-menu-1f8f32a5-bb42-4f18-b075-677c5af6cbf1-button" align="start" side="outside-bottom" anchor-offset="normal" popover="auto" data-view-component="true">
  <div data-view-component="true" class="Overlay Overlay--size-auto">
    
      <div data-view-component="true" class="Overlay-body Overlay-body--paddingNone">          <action-list>
  <div data-view-component="true">
    <ul aria-labelledby="action-menu-1f8f32a5-bb42-4f18-b075-677c5af6cbf1-button" id="action-menu-1f8f32a5-bb42-4f18-b075-677c5af6cbf1-list" role="menu" data-view-component="true" class="ActionListWrap--inset ActionListWrap">
        <li hidden="hidden" data-menu-item="i0code-tab" data-targets="action-list.items" role="none" data-view-component="true" class="ActionListItem">
    
    
    <a tabindex="-1" id="item-cc7dc567-2a0f-4db2-99f2-7f75f72cc47c" href="/KMI-KPZ/Toolbox-Datenkompetenz-Lerninhalte" role="menuitem" data-view-component="true" class="ActionListContent ActionListContent--visual16">
        <span class="ActionListItem-visual ActionListItem-visual--leading">
          <svg aria-hidden="true" height="16" viewBox="0 0 16 16" version="1.1" width="16" data-view-component="true" class="octicon octicon-code">
    <path d="m11.28 3.22 4.25 4.25a.75.75 0 0 1 0 1.06l-4.25 4.25a.749.749 0 0 1-1.275-.326.749.749 0 0 1 .215-.734L13.94 8l-3.72-3.72a.749.749 0 0 1 .326-1.275.749.749 0 0 1 .734.215Zm-6.56 0a.751.751 0 0 1 1.042.018.751.751 0 0 1 .018 1.042L2.06 8l3.72 3.72a.749.749 0 0 1-.326 1.275.749.749 0 0 1-.734-.215L.47 8.53a.75.75 0 0 1 0-1.06Z"></path>
</svg>
        </span>
      
        <span data-view-component="true" class="ActionListItem-label">
          Code
</span>      
</a>
  
</li>
        <li hidden="hidden" data-menu-item="i1issues-tab" data-targets="action-list.items" role="none" data-view-component="true" class="ActionListItem">
    
    
    <a tabindex="-1" id="item-93658c74-785d-4f63-acb9-542b0c330c60" href="/KMI-KPZ/Toolbox-Datenkompetenz-Lerninhalte/issues" role="menuitem" data-view-component="true" class="ActionListContent ActionListContent--visual16">
        <span class="ActionListItem-visual ActionListItem-visual--leading">
          <svg aria-hidden="true" height="16" viewBox="0 0 16 16" version="1.1" width="16" data-view-component="true" class="octicon octicon-issue-opened">
    <path d="M8 9.5a1.5 1.5 0 1 0 0-3 1.5 1.5 0 0 0 0 3Z"></path><path d="M8 0a8 8 0 1 1 0 16A8 8 0 0 1 8 0ZM1.5 8a6.5 6.5 0 1 0 13 0 6.5 6.5 0 0 0-13 0Z"></path>
</svg>
        </span>
      
        <span data-view-component="true" class="ActionListItem-label">
          Issues
</span>      
</a>
  
</li>
        <li hidden="hidden" data-menu-item="i2pull-requests-tab" data-targets="action-list.items" role="none" data-view-component="true" class="ActionListItem">
    
    
    <a tabindex="-1" id="item-6fb2ca64-c5f1-40df-91d9-15dcbaa9f5f2" href="/KMI-KPZ/Toolbox-Datenkompetenz-Lerninhalte/pulls" role="menuitem" data-view-component="true" class="ActionListContent ActionListContent--visual16">
        <span class="ActionListItem-visual ActionListItem-visual--leading">
          <svg aria-hidden="true" height="16" viewBox="0 0 16 16" version="1.1" width="16" data-view-component="true" class="octicon octicon-git-pull-request">
    <path d="M1.5 3.25a2.25 2.25 0 1 1 3 2.122v5.256a2.251 2.251 0 1 1-1.5 0V5.372A2.25 2.25 0 0 1 1.5 3.25Zm5.677-.177L9.573.677A.25.25 0 0 1 10 .854V2.5h1A2.5 2.5 0 0 1 13.5 5v5.628a2.251 2.251 0 1 1-1.5 0V5a1 1 0 0 0-1-1h-1v1.646a.25.25 0 0 1-.427.177L7.177 3.427a.25.25 0 0 1 0-.354ZM3.75 2.5a.75.75 0 1 0 0 1.5.75.75 0 0 0 0-1.5Zm0 9.5a.75.75 0 1 0 0 1.5.75.75 0 0 0 0-1.5Zm8.25.75a.75.75 0 1 0 1.5 0 .75.75 0 0 0-1.5 0Z"></path>
</svg>
        </span>
      
        <span data-view-component="true" class="ActionListItem-label">
          Pull requests
</span>      
</a>
  
</li>
        <li hidden="hidden" data-menu-item="i3actions-tab" data-targets="action-list.items" role="none" data-view-component="true" class="ActionListItem">
    
    
    <a tabindex="-1" id="item-07e39ed0-3d36-4d3a-90be-736514b775fe" href="/KMI-KPZ/Toolbox-Datenkompetenz-Lerninhalte/actions" role="menuitem" data-view-component="true" class="ActionListContent ActionListContent--visual16">
        <span class="ActionListItem-visual ActionListItem-visual--leading">
          <svg aria-hidden="true" height="16" viewBox="0 0 16 16" version="1.1" width="16" data-view-component="true" class="octicon octicon-play">
    <path d="M8 0a8 8 0 1 1 0 16A8 8 0 0 1 8 0ZM1.5 8a6.5 6.5 0 1 0 13 0 6.5 6.5 0 0 0-13 0Zm4.879-2.773 4.264 2.559a.25.25 0 0 1 0 .428l-4.264 2.559A.25.25 0 0 1 6 10.559V5.442a.25.25 0 0 1 .379-.215Z"></path>
</svg>
        </span>
      
        <span data-view-component="true" class="ActionListItem-label">
          Actions
</span>      
</a>
  
</li>
        <li hidden="hidden" data-menu-item="i4projects-tab" data-targets="action-list.items" role="none" data-view-component="true" class="ActionListItem">
    
    
    <a tabindex="-1" id="item-36969435-73be-4eae-8f1f-2c32a74411c2" href="/KMI-KPZ/Toolbox-Datenkompetenz-Lerninhalte/projects" role="menuitem" data-view-component="true" class="ActionListContent ActionListContent--visual16">
        <span class="ActionListItem-visual ActionListItem-visual--leading">
          <svg aria-hidden="true" height="16" viewBox="0 0 16 16" version="1.1" width="16" data-view-component="true" class="octicon octicon-table">
    <path d="M0 1.75C0 .784.784 0 1.75 0h12.5C15.216 0 16 .784 16 1.75v12.5A1.75 1.75 0 0 1 14.25 16H1.75A1.75 1.75 0 0 1 0 14.25ZM6.5 6.5v8h7.75a.25.25 0 0 0 .25-.25V6.5Zm8-1.5V1.75a.25.25 0 0 0-.25-.25H6.5V5Zm-13 1.5v7.75c0 .138.112.25.25.25H5v-8ZM5 5V1.5H1.75a.25.25 0 0 0-.25.25V5Z"></path>
</svg>
        </span>
      
        <span data-view-component="true" class="ActionListItem-label">
          Projects
</span>      
</a>
  
</li>
        <li hidden="hidden" data-menu-item="i5wiki-tab" data-targets="action-list.items" role="none" data-view-component="true" class="ActionListItem">
    
    
    <a tabindex="-1" id="item-00094f4a-fc52-4e29-9405-ef6c74378af4" href="/KMI-KPZ/Toolbox-Datenkompetenz-Lerninhalte/wiki" role="menuitem" data-view-component="true" class="ActionListContent ActionListContent--visual16">
        <span class="ActionListItem-visual ActionListItem-visual--leading">
          <svg aria-hidden="true" height="16" viewBox="0 0 16 16" version="1.1" width="16" data-view-component="true" class="octicon octicon-book">
    <path d="M0 1.75A.75.75 0 0 1 .75 1h4.253c1.227 0 2.317.59 3 1.501A3.743 3.743 0 0 1 11.006 1h4.245a.75.75 0 0 1 .75.75v10.5a.75.75 0 0 1-.75.75h-4.507a2.25 2.25 0 0 0-1.591.659l-.622.621a.75.75 0 0 1-1.06 0l-.622-.621A2.25 2.25 0 0 0 5.258 13H.75a.75.75 0 0 1-.75-.75Zm7.251 10.324.004-5.073-.002-2.253A2.25 2.25 0 0 0 5.003 2.5H1.5v9h3.757a3.75 3.75 0 0 1 1.994.574ZM8.755 4.75l-.004 7.322a3.752 3.752 0 0 1 1.992-.572H14.5v-9h-3.495a2.25 2.25 0 0 0-2.25 2.25Z"></path>
</svg>
        </span>
      
        <span data-view-component="true" class="ActionListItem-label">
          Wiki
</span>      
</a>
  
</li>
        <li hidden="hidden" data-menu-item="i6security-tab" data-targets="action-list.items" role="none" data-view-component="true" class="ActionListItem">
    
    
    <a tabindex="-1" id="item-529566ab-f9a5-493d-a483-2d1ceea11b4c" href="/KMI-KPZ/Toolbox-Datenkompetenz-Lerninhalte/security" role="menuitem" data-view-component="true" class="ActionListContent ActionListContent--visual16">
        <span class="ActionListItem-visual ActionListItem-visual--leading">
          <svg aria-hidden="true" height="16" viewBox="0 0 16 16" version="1.1" width="16" data-view-component="true" class="octicon octicon-shield">
    <path d="M7.467.133a1.748 1.748 0 0 1 1.066 0l5.25 1.68A1.75 1.75 0 0 1 15 3.48V7c0 1.566-.32 3.182-1.303 4.682-.983 1.498-2.585 2.813-5.032 3.855a1.697 1.697 0 0 1-1.33 0c-2.447-1.042-4.049-2.357-5.032-3.855C1.32 10.182 1 8.566 1 7V3.48a1.75 1.75 0 0 1 1.217-1.667Zm.61 1.429a.25.25 0 0 0-.153 0l-5.25 1.68a.25.25 0 0 0-.174.238V7c0 1.358.275 2.666 1.057 3.86.784 1.194 2.121 2.34 4.366 3.297a.196.196 0 0 0 .154 0c2.245-.956 3.582-2.104 4.366-3.298C13.225 9.666 13.5 8.36 13.5 7V3.48a.251.251 0 0 0-.174-.237l-5.25-1.68ZM8.75 4.75v3a.75.75 0 0 1-1.5 0v-3a.75.75 0 0 1 1.5 0ZM9 10.5a1 1 0 1 1-2 0 1 1 0 0 1 2 0Z"></path>
</svg>
        </span>
      
        <span data-view-component="true" class="ActionListItem-label">
          Security
</span>      
</a>
  
</li>
        <li hidden="hidden" data-menu-item="i7insights-tab" data-targets="action-list.items" role="none" data-view-component="true" class="ActionListItem">
    
    
    <a tabindex="-1" id="item-3e187820-8023-4d19-a381-722523f88201" href="/KMI-KPZ/Toolbox-Datenkompetenz-Lerninhalte/pulse" role="menuitem" data-view-component="true" class="ActionListContent ActionListContent--visual16">
        <span class="ActionListItem-visual ActionListItem-visual--leading">
          <svg aria-hidden="true" height="16" viewBox="0 0 16 16" version="1.1" width="16" data-view-component="true" class="octicon octicon-graph">
    <path d="M1.5 1.75V13.5h13.75a.75.75 0 0 1 0 1.5H.75a.75.75 0 0 1-.75-.75V1.75a.75.75 0 0 1 1.5 0Zm14.28 2.53-5.25 5.25a.75.75 0 0 1-1.06 0L7 7.06 4.28 9.78a.751.751 0 0 1-1.042-.018.751.751 0 0 1-.018-1.042l3.25-3.25a.75.75 0 0 1 1.06 0L10 7.94l4.72-4.72a.751.751 0 0 1 1.042.018.751.751 0 0 1 .018 1.042Z"></path>
</svg>
        </span>
      
        <span data-view-component="true" class="ActionListItem-label">
          Insights
</span>      
</a>
  
</li>
        <li hidden="hidden" data-menu-item="i8settings-tab" data-targets="action-list.items" role="none" data-view-component="true" class="ActionListItem">
    
    
    <a tabindex="-1" id="item-ffb2f227-71aa-4267-9e2a-bbc8990e8730" href="/KMI-KPZ/Toolbox-Datenkompetenz-Lerninhalte/settings" role="menuitem" data-view-component="true" class="ActionListContent ActionListContent--visual16">
        <span class="ActionListItem-visual ActionListItem-visual--leading">
          <svg aria-hidden="true" height="16" viewBox="0 0 16 16" version="1.1" width="16" data-view-component="true" class="octicon octicon-gear">
    <path d="M8 0a8.2 8.2 0 0 1 .701.031C9.444.095 9.99.645 10.16 1.29l.288 1.107c.018.066.079.158.212.224.231.114.454.243.668.386.123.082.233.09.299.071l1.103-.303c.644-.176 1.392.021 1.82.63.27.385.506.792.704 1.218.315.675.111 1.422-.364 1.891l-.814.806c-.049.048-.098.147-.088.294.016.257.016.515 0 .772-.01.147.038.246.088.294l.814.806c.475.469.679 1.216.364 1.891a7.977 7.977 0 0 1-.704 1.217c-.428.61-1.176.807-1.82.63l-1.102-.302c-.067-.019-.177-.011-.3.071a5.909 5.909 0 0 1-.668.386c-.133.066-.194.158-.211.224l-.29 1.106c-.168.646-.715 1.196-1.458 1.26a8.006 8.006 0 0 1-1.402 0c-.743-.064-1.289-.614-1.458-1.26l-.289-1.106c-.018-.066-.079-.158-.212-.224a5.738 5.738 0 0 1-.668-.386c-.123-.082-.233-.09-.299-.071l-1.103.303c-.644.176-1.392-.021-1.82-.63a8.12 8.12 0 0 1-.704-1.218c-.315-.675-.111-1.422.363-1.891l.815-.806c.05-.048.098-.147.088-.294a6.214 6.214 0 0 1 0-.772c.01-.147-.038-.246-.088-.294l-.815-.806C.635 6.045.431 5.298.746 4.623a7.92 7.92 0 0 1 .704-1.217c.428-.61 1.176-.807 1.82-.63l1.102.302c.067.019.177.011.3-.071.214-.143.437-.272.668-.386.133-.066.194-.158.211-.224l.29-1.106C6.009.645 6.556.095 7.299.03 7.53.01 7.764 0 8 0Zm-.571 1.525c-.036.003-.108.036-.137.146l-.289 1.105c-.147.561-.549.967-.998 1.189-.173.086-.34.183-.5.29-.417.278-.97.423-1.529.27l-1.103-.303c-.109-.03-.175.016-.195.045-.22.312-.412.644-.573.99-.014.031-.021.11.059.19l.815.806c.411.406.562.957.53 1.456a4.709 4.709 0 0 0 0 .582c.032.499-.119 1.05-.53 1.456l-.815.806c-.081.08-.073.159-.059.19.162.346.353.677.573.989.02.03.085.076.195.046l1.102-.303c.56-.153 1.113-.008 1.53.27.161.107.328.204.501.29.447.222.85.629.997 1.189l.289 1.105c.029.109.101.143.137.146a6.6 6.6 0 0 0 1.142 0c.036-.003.108-.036.137-.146l.289-1.105c.147-.561.549-.967.998-1.189.173-.086.34-.183.5-.29.417-.278.97-.423 1.529-.27l1.103.303c.109.029.175-.016.195-.045.22-.313.411-.644.573-.99.014-.031.021-.11-.059-.19l-.815-.806c-.411-.406-.562-.957-.53-1.456a4.709 4.709 0 0 0 0-.582c-.032-.499.119-1.05.53-1.456l.815-.806c.081-.08.073-.159.059-.19a6.464 6.464 0 0 0-.573-.989c-.02-.03-.085-.076-.195-.046l-1.102.303c-.56.153-1.113.008-1.53-.27a4.44 4.44 0 0 0-.501-.29c-.447-.222-.85-.629-.997-1.189l-.289-1.105c-.029-.11-.101-.143-.137-.146a6.6 6.6 0 0 0-1.142 0ZM11 8a3 3 0 1 1-6 0 3 3 0 0 1 6 0ZM9.5 8a1.5 1.5 0 1 0-3.001.001A1.5 1.5 0 0 0 9.5 8Z"></path>
</svg>
        </span>
      
        <span data-view-component="true" class="ActionListItem-label">
          Settings
</span>      
</a>
  
</li>
</ul>    
</div></action-list>


</div>
      
</div></anchored-position>  </focus-group>
</action-menu></div>
</nav>
        </div>
</header>


      <div hidden="hidden" data-view-component="true" class="js-stale-session-flash stale-session-flash flash flash-warn flash-full">
  
        <svg aria-hidden="true" height="16" viewBox="0 0 16 16" version="1.1" width="16" data-view-component="true" class="octicon octicon-alert">
    <path d="M6.457 1.047c.659-1.234 2.427-1.234 3.086 0l6.082 11.378A1.75 1.75 0 0 1 14.082 15H1.918a1.75 1.75 0 0 1-1.543-2.575Zm1.763.707a.25.25 0 0 0-.44 0L1.698 13.132a.25.25 0 0 0 .22.368h12.164a.25.25 0 0 0 .22-.368Zm.53 3.996v2.5a.75.75 0 0 1-1.5 0v-2.5a.75.75 0 0 1 1.5 0ZM9 11a1 1 0 1 1-2 0 1 1 0 0 1 2 0Z"></path>
</svg>
        <span class="js-stale-session-flash-signed-in" hidden>You signed in with another tab or window. <a class="Link--inTextBlock" href="">Reload</a> to refresh your session.</span>
        <span class="js-stale-session-flash-signed-out" hidden>You signed out in another tab or window. <a class="Link--inTextBlock" href="">Reload</a> to refresh your session.</span>
        <span class="js-stale-session-flash-switched" hidden>You switched accounts on another tab or window. <a class="Link--inTextBlock" href="">Reload</a> to refresh your session.</span>

    <button id="icon-button-b6ce1fd7-2253-4b7e-a9d7-922ef9a28186" aria-labelledby="tooltip-e10a72f4-1392-4781-901b-b1c23ab21f84" type="button" data-view-component="true" class="Button Button--iconOnly Button--invisible Button--medium flash-close js-flash-close">  <svg aria-hidden="true" height="16" viewBox="0 0 16 16" version="1.1" width="16" data-view-component="true" class="octicon octicon-x Button-visual">
    <path d="M3.72 3.72a.75.75 0 0 1 1.06 0L8 6.94l3.22-3.22a.749.749 0 0 1 1.275.326.749.749 0 0 1-.215.734L9.06 8l3.22 3.22a.749.749 0 0 1-.326 1.275.749.749 0 0 1-.734-.215L8 9.06l-3.22 3.22a.751.751 0 0 1-1.042-.018.751.751 0 0 1-.018-1.042L6.94 8 3.72 4.78a.75.75 0 0 1 0-1.06Z"></path>
</svg>
</button><tool-tip id="tooltip-e10a72f4-1392-4781-901b-b1c23ab21f84" for="icon-button-b6ce1fd7-2253-4b7e-a9d7-922ef9a28186" popover="manual" data-direction="s" data-type="label" data-view-component="true" class="sr-only position-absolute">Dismiss alert</tool-tip>


  
</div>
          
    </div>

  <div id="start-of-content" class="show-on-focus"></div>








    <div id="js-flash-container" class="flash-container" data-turbo-replace>




  <template class="js-flash-template">
    
<div class="flash flash-full   {{ className }}">
  <div >
    <button autofocus class="flash-close js-flash-close" type="button" aria-label="Dismiss this message">
      <svg aria-hidden="true" height="16" viewBox="0 0 16 16" version="1.1" width="16" data-view-component="true" class="octicon octicon-x">
    <path d="M3.72 3.72a.75.75 0 0 1 1.06 0L8 6.94l3.22-3.22a.749.749 0 0 1 1.275.326.749.749 0 0 1-.215.734L9.06 8l3.22 3.22a.749.749 0 0 1-.326 1.275.749.749 0 0 1-.734-.215L8 9.06l-3.22 3.22a.751.751 0 0 1-1.042-.018.751.751 0 0 1-.018-1.042L6.94 8 3.72 4.78a.75.75 0 0 1 0-1.06Z"></path>
</svg>
    </button>
    <div aria-atomic="true" role="alert" class="js-flash-alert">
      
      <div>{{ message }}</div>

    </div>
  </div>
</div>
  </template>
</div>


    
  <notification-shelf-watcher data-base-url="https://github.com/notifications/beta/shelf" data-channel="eyJjIjoibm90aWZpY2F0aW9uLWNoYW5nZWQ6ODYyNjEyMDAiLCJ0IjoxNzQzNDA3NTA1fQ==--c4b9e5fc468a8bd488f30b553dedf2e6e1415d5ed7bea94d70b86bf6f320cccb" data-view-component="true" class="js-socket-channel"></notification-shelf-watcher>
  <div hidden data-initial data-target="notification-shelf-watcher.placeholder"></div>






  <div
    class="application-main "
    data-commit-hovercards-enabled
    data-discussion-hovercards-enabled
    data-issue-and-pr-hovercards-enabled
    data-project-hovercards-enabled
  >
        <div itemscope itemtype="http://schema.org/SoftwareSourceCode" class="">
    <main id="js-repo-pjax-container" >
      
      
    

    






    
  <div id="repository-container-header" data-turbo-replace hidden ></div>




<turbo-frame id="repo-content-turbo-frame" target="_top" data-turbo-action="advance" class="">
    <div id="repo-content-pjax-container" class="repository-content " >
      <a href="https://github.dev/" class="d-none js-github-dev-shortcut" data-hotkey=".,Mod+Alt+.">Open in github.dev</a>
  <a href="https://github.dev/" class="d-none js-github-dev-new-tab-shortcut" data-hotkey="Shift+.,Shift+&gt;,&gt;" target="_blank" rel="noopener noreferrer">Open in a new github.dev tab</a>
    <a class="d-none" data-hotkey=",,Mod+Alt+," target="_blank" href="/codespaces/new/KMI-KPZ/Toolbox-Datenkompetenz-Lerninhalte/tree/main?resume=1">Open in codespace</a>




    
      
    








<react-app
  app-name="react-code-view"
  initial-path="/KMI-KPZ/Toolbox-Datenkompetenz-Lerninhalte/blob/main/fahrrad-in-seoul/01-fahrradverleihseoul.ipynb"
    style="display: block; min-height: calc(100vh - 64px);"
  data-attempted-ssr="true"
  data-ssr="true"
  data-lazy="false"
  data-alternate="false"
  data-data-router-enabled="false"
>
  
  <script type="application/json" data-target="react-app.embeddedData">{"payload":{"allShortcutsEnabled":true,"fileTree":{"fahrrad-in-seoul":{"items":[{"name":"01-fahrradverleihseoul.ipynb","path":"fahrrad-in-seoul/01-fahrradverleihseoul.ipynb","contentType":"file"},{"name":"README.md","path":"fahrrad-in-seoul/README.md","contentType":"file"},{"name":"SeoulBikeData.csv","path":"fahrrad-in-seoul/SeoulBikeData.csv","contentType":"file"}],"totalCount":3},"":{"items":[{"name":"Schnee-an-Weihnachten","path":"Schnee-an-Weihnachten","contentType":"directory"},{"name":"Umwelt-Kartenprojekt","path":"Umwelt-Kartenprojekt","contentType":"directory"},{"name":"fahrrad-in-seoul","path":"fahrrad-in-seoul","contentType":"directory"},{"name":"LICENSE","path":"LICENSE","contentType":"file"},{"name":"README.md","path":"README.md","contentType":"file"}],"totalCount":5}},"fileTreeProcessingTime":20.503008,"foldersToFetch":[],"repo":{"id":956612093,"defaultBranch":"main","name":"Toolbox-Datenkompetenz-Lerninhalte","ownerLogin":"KMI-KPZ","currentUserCanPush":true,"isFork":false,"isEmpty":false,"createdAt":"2025-03-28T15:51:36.000+01:00","ownerAvatar":"https://avatars.githubusercontent.com/u/33578370?v=4","public":true,"private":false,"isOrgOwned":true},"codeLineWrapEnabled":false,"symbolsExpanded":false,"treeExpanded":true,"refInfo":{"name":"main","listCacheKey":"v0:1743173496.0","canEdit":true,"refType":"branch","currentOid":"328c2c1d47429cd87faaa2dfc38882e7b04758ea"},"path":"fahrrad-in-seoul/01-fahrradverleihseoul.ipynb","currentUser":{"id":86261200,"login":"MartinLechner89","userEmail":"martinlechner89@outlook.de"},"blob":{"rawLines":["{"," \"cells\": [","  {","   \"cell_type\": \"markdown\",","   \"id\": \"1a8d23dd\",","   \"metadata\": {},","   \"source\": [","    \"# Arbeiten mit (Fahrrad-)Daten aus Seoul\"","   ]","  },","  {","   \"cell_type\": \"markdown\",","   \"id\": \"a736dfd7\",","   \"metadata\": {},","   \"source\": [","    \"\\n\",","    \"\\n\",","    \"\u003ctable\u003e\u003ctr\u003e\\n\",","    \"\u003ctd\u003e\\n\",","    \"\u003cp xmlns:cc=\\\"http://creativecommons.org/ns#\\\" xmlns:dct=\\\"http://purl.org/dc/terms/\\\"\u003e\u003cspan property=\\\"dct:title\\\"\u003eEinblick Datensatz: Fahrradverleih in Seoul\u003c/span\u003e by \u003cspan property=\\\"cc:attributionName\\\"\u003eMartin Lechner\u003c/span\u003e is licensed under \u003ca href=\\\"http://creativecommons.org/licenses/by/4.0/?ref=chooser-v1\\\" target=\\\"_blank\\\" rel=\\\"license noopener noreferrer\\\" style=\\\"display:inline-block;\\\"\u003eCC BY 4.0\u003c/a\u003e\u003c/p\u003e\\n\",","    \"\u003c/td\u003e \\n\",","    \"\u003ctd\u003e \u003cimg src=\\\"https://mirrors.creativecommons.org/presskit/icons/cc.svg?ref=chooser-v1\\\"/ width=\\\"20\\\"; height=\\\"20\\\"\u003e \u003c/td\u003e\\n\",","    \"\u003ctd\u003e \u003cimg src=\\\"https://mirrors.creativecommons.org/presskit/icons/by.svg?ref=chooser-v1\\\"/ width=\\\"20\\\"; height=\\\"20\\\"\u003e \u003c/td\u003e\\n\",","    \"\u003c/tr\u003e\u003c/table\u003e\"","   ]","  },","  {","   \"cell_type\": \"markdown\",","   \"id\": \"d1e21aec\",","   \"metadata\": {},","   \"source\": [","    \"## Einleitung\"","   ]","  },","  {","   \"cell_type\": \"markdown\",","   \"id\": \"65463041\",","   \"metadata\": {},","   \"source\": [","    \"Willkommen zum Einführungstraining „Einblick in den Datensatz: Fahrradverleih in Seoul“ für den Datensatz \u003ci\u003eSeoul Bike Sharing Demand\u003c/i\u003e. In diesem Notebook wird gezeigt, welche Informationen ein Datensatz enthalten kann. Darüber hinaus erfährst du anhand von Analysebeispielen, wie man sich den Inhalten des Datensatzes nähern kann und welche weiterführenden Möglichkeiten es gibt, mit einem solchen Datensatz zu arbeiten. Dabei wird die Perspektive eingenommen, als hätten wir das zu bearbeitende Datenset noch nicht eingesehen.\"","   ]","  },","  {","   \"cell_type\": \"markdown\",","   \"id\": \"cc0e8f86\",","   \"metadata\": {},","   \"source\": [","    \"👶 Für dieses Notebook benötigst du kein Vorwissen: \u003cbr\u003e\\n\",","    \"- Lies dir die Texte gut durch und folge den Anweisungen.\\n\",","    \"- Es wird regelmäßig von dir verlangt, Zeilen Code auszuführen. Das wird gleich erklärt!\\n\",","    \"- Um dieses Notebook etwas interaktiver zu gestalten, gibt es Stellen, an denen du selbst Code schreiben sollst. Diese sind mit: \u003ccode\u003e# dein Code \u003c/code\u003e gekennzeichnet.\\n\",","    \"-  Eigene Gedanken und Fragen sind immer willkommen! \\n\",","    \"- Es gibt an jeder Stelle Lösungsvorschläge, die dir helfen, dich selbst zu kontrollieren und mehr zu erfahren. Du solltest sie in jedem Fall lesen!\"","   ]","  },","  {","   \"cell_type\": \"markdown\",","   \"id\": \"edf610b0\",","   \"metadata\": {},","   \"source\": [","    \"Du solltest das Notebook durchgehen,\\n\",","    \"- ... da es sich um ein Hands-on-Beispiel eines unbekannten Datensatzes in einer realen Programmierumgebung handelt,\\n\",","    \"- ... um zu erkennen, welche Fragen man in Bezug auf Datensätze stellen und welche Perspektiven man einnehmen kann,\\n\",","    \"- ... um zu sehen, dass durch Recherchieren Mehrwerte entstehen können,\\n\",","    \"- ... um eine Einführung in Python mit Hilfsbibliotheken zu erhalten,\\n\",","    \"- ... um später selbst einfache, eigene Untersuchungen durchzuführen,\\n\",","    \"- ... um einen Ausblick zu erhalten, wo Arbeiten mit Datensätzen hinführen kann.\"","   ]","  },","  {","   \"cell_type\": \"markdown\",","   \"id\": \"7207df65\",","   \"metadata\": {},","   \"source\": [","    \"❗Dieses Notebook stellt verschiedene Fragen zum Themenkomplex Fahrradverleih, geht dabei jedoch nicht explizit einer zentralen Fragestellung nach. Indem wir die Potenziale der Arbeit mit Datensätzen vorstellen, möchten wir dazu anregen, selbstständig zu denken und aufzeigen, wie man eigene Forschung mit diesem oder anderen Datensätzen voranbringen kann.\"","   ]","  },","  {","   \"cell_type\": \"markdown\",","   \"id\": \"074ae0ea\",","   \"metadata\": {},","   \"source\": [","    \"Da die Programmiersprache Python und ihre Hilfsbibliotheken sowohl als Mittel zur Demonstration von datenkompetenzrelevanter Inhalten dienen als auch als praktische Werkzeuge fungieren, profitierst du doppelt: Du erweiterst sowohl dein theoretisches Wissen als auch deine praktischen Fähigkeiten. Obwohl der Fokus dieses Notebooks darauf liegt, die möglichen Erkenntnisse aus einem Datensatz darzulegen, wird auch darauf eingegangen, wie in dieser realen Programmierumgebung gearbeitet werden kann. Wichtig ist, dass wir hier zwar „programmieren“, im Wesentlichen aber nur Funktionen bzw. Methoden nutzen, um Informationen aus Daten zu erhalten. Das bedeutet, wir schreiben zwar eigenen Code, aber kein eigenes Programm und verwenden die bereitgestellten Lösungen in Form von Funktionen bzw. Methoden aus den Hilfsbibliotheken, um unsere Analyse voranzubringen.\"","   ]","  },","  {","   \"cell_type\": \"markdown\",","   \"id\": \"196dc587\",","   \"metadata\": {},","   \"source\": [","    \"## Das interaktive Konzept dieses Notebooks: Ausführen von Code, eigener Code und Fragen\"","   ]","  },","  {","   \"cell_type\": \"markdown\",","   \"id\": \"fab8642a\",","   \"metadata\": {},","   \"source\": [","    \"Die meisten Code-Zeilen für dieses Notebook sind bereits vorgeschrieben. Diese Zeilen müssen in der Reihenfolge ihres Erscheinens ausgeführt werden. \u003cb\u003eKlicke dafür zunächst in die entsprechende Zeile Code\u003c/b\u003e. Anschließend \u003cb\u003edrücke gleichzeitig \\\"Shift+Enter\\\" auf der Tastatur\u003c/b\u003e. Alternativ kannst du mit dem Cursor auf die untere rechte Ecke der Zeile Code navigieren und sie mit dem Textsymbol \u003cb\u003eRun code: Ctrl + Enter\u003c/b\u003e ausführen.\u003cbr\u003e \"","   ]","  },","  {","   \"cell_type\": \"markdown\",","   \"id\": \"b4156106\",","   \"metadata\": {},","   \"source\": [","    \"\u003cb\u003e a) Ausführen von Code \u003c/b\u003e\"","   ]","  },","  {","   \"cell_type\": \"markdown\",","   \"id\": \"d155914f\",","   \"metadata\": {},","   \"source\": [","    \"👇 Unten findest du ist eine Zeile Code, die lediglich einen Text ausgeben wird. Führe sie wie oberhalb beschrieben aus! \"","   ]","  },","  {","   \"cell_type\": \"code\",","   \"execution_count\": null,","   \"id\": \"1a71049b\",","   \"metadata\": {},","   \"outputs\": [],","   \"source\": [","    \"print(\\\"Hallo Welt!\\\")\"","   ]","  },","  {","   \"cell_type\": \"markdown\",","   \"id\": \"e2e9c231\",","   \"metadata\": {},","   \"source\": [","    \"Bei korrekter Ausführung sollte der Text \u003ccode\u003eHallo Welt!\u003c/code\u003e erscheinen. Außerdem sollte in der Zeile neben dem Code nun eine Zahl innerhalb der eckigen Klammern stehen, z.B. \u003ccode\u003eIn [1]\u003c/code\u003e.\"","   ]","  },","  {","   \"cell_type\": \"markdown\",","   \"id\": \"79a27cbc\",","   \"metadata\": {},","   \"source\": [","    \"\u003cb\u003e b) Eigener Code \u003cb\u003e\"","   ]","  },","  {","   \"cell_type\": \"markdown\",","   \"id\": \"f284b2b1\",","   \"metadata\": {},","   \"source\": [","    \"Schreibe den gleichen Code wie oben, aber ersetze das Wort \\\"Welt\\\" mit einem Namen deiner Wahl! Vergiss nicht die Zeile Code auszuführen 👇.\"","   ]","  },","  {","   \"cell_type\": \"code\",","   \"execution_count\": null,","   \"id\": \"e57af272\",","   \"metadata\": {},","   \"outputs\": [],","   \"source\": [","    \"# dein Code\\n\"","   ]","  },","  {","   \"cell_type\": \"markdown\",","   \"id\": \"e326becc\",","   \"metadata\": {},","   \"source\": [","    \"\u003cdetails\u003e\\n\",","    \"    \u003csummary\u003e\u0026#x1F449;  Hier klicken, um einen Lösungsvorschlag zu sehen \u0026#x1F448;\u003c/summary\u003e\\n\",","    \"    \\n\",","    \" ```python\\n\",","    \"# dein Code\\n\",","    \"print(\\\"Hallo, Kai!\\\")\\n\",","    \"```\\n\",","    \"Hallo, Kai!\\n\",","    \"\\n\",","    \"\u003c/details\u003e\"","   ]","  },","  {","   \"cell_type\": \"markdown\",","   \"id\": \"bb424b4b\",","   \"metadata\": {},","   \"source\": [","    \"\u003cb\u003e c) (offene) Fragen \u003c/b\u003e\"","   ]","  },","  {","   \"cell_type\": \"markdown\",","   \"id\": \"eefcda23\",","   \"metadata\": {},","   \"source\": [","    \"In diesem Notebook gibt es häufig Fragen. Einige davon sind als Aufgabenstellungen zu verstehen. Es gibt immer einen Lösungsvorschlag, der entsprechend gekennzeichnet ist. Offene Fragen sollen zum Nachdenken anregen, werden aber in diesem Sinne nicht kontrolliert oder beantwortet.\"","   ]","  },","  {","   \"cell_type\": \"markdown\",","   \"id\": \"63e1bfa1\",","   \"metadata\": {},","   \"source\": [","    \"\u003cb\u003eFrage: \u003c/b\u003e Hast du das Prinzip oberhalb verstanden?\"","   ]","  },","  {","   \"cell_type\": \"markdown\",","   \"id\": \"5be9e15e\",","   \"metadata\": {},","   \"source\": [","    \"\u003cdetails\u003e\\n\",","    \"    \u003csummary\u003e\u0026#x1F449;  Hier klicken, um einen Lösungsvorschlag zu sehen \u0026#x1F448;\u003c/summary\u003e\\n\",","    \"Ja! :) (Hoffen wir.) \\n\",","    \"\\n\",","    \"\u003c/details\u003e\"","   ]","  },","  {","   \"cell_type\": \"markdown\",","   \"id\": \"afe8628f\",","   \"metadata\": {},","   \"source\": [","    \"\u003cb\u003ed) Feedback\u003c/b\u003e\"","   ]","  },","  {","   \"cell_type\": \"markdown\",","   \"id\": \"c7b44264\",","   \"metadata\": {},","   \"source\": [","    \"Wie du oberhalb gesehen hast, gibt es in diesem Notebook zur Selbstkontrolle mit \u003ccode\u003e👉 Lösungsvorschlag/Anregung 👈\u003c/code\u003e gekennzeichnete Felder, die angeklickt werden müssen, um den Inhalt zu offenbaren. Zwei davon solltest du bereits \\\"aufgeklappt\\\" haben. Diese Felder sollten in jedem Fall gelesen werden, da sie \u003cb\u003eneben den Lösungsvorschlägen zur Vertiefung des Inhaltes dienen\u003c/b\u003e.\"","   ]","  },","  {","   \"cell_type\": \"markdown\",","   \"id\": \"876ae887\",","   \"metadata\": {},","   \"source\": [","    \"\u003cdiv class=\\\"alert alert-block alert-warning\\\"\u003e\u003cb\u003eBevor wir mit der Erkundung des Datensets beginnen:\u003c/b\u003e Wenn du das Notebook schließt und später erneut startest, wird es in dem Zustand angezeigt, in dem du es geschlossen hast. Allerdings wird häufig der Zwischenspeicher gelöscht, was dazu führen kann, dass du Fehlermeldungen erhältst, wenn du an einer bestimmten Stelle weitermachst. In einem solchen Fall musst du (leider) \u003cb\u003ealle Code-Zeilen in der Reihenfolge von vorne neu ausführen!\u003c/b\u003e Übrigens: Es kann vorkommen, dass du vergisst, eine Zeile Code auszuführen. Steht links neben der Zeile Code keine Zahl innerhalb von \u003ccode\u003eIn [ ]\u003c/code\u003e, wurde diese noch nicht ausgeführt.\u003c/div\u003e\\n\"","   ]","  },","  {","   \"cell_type\": \"markdown\",","   \"id\": \"d7dfb9ce\",","   \"metadata\": {},","   \"source\": [","    \"# Das Datenset\"","   ]","  },","  {","   \"cell_type\": \"markdown\",","   \"id\": \"3d0ce477\",","   \"metadata\": {},","   \"source\": [","    \"## Einführung in den Kontext des Datensets\"","   ]","  },","  {","   \"cell_type\": \"markdown\",","   \"id\": \"8850958e\",","   \"metadata\": {},","   \"source\": [","    \"Wir werden in diesem Notebook mit einem bereits vorgefertigten Datensatz arbeiten. Es kommt nicht selten vor, dass man Daten \\\"einfach so bekommt\\\". Daher müssen wir uns zunächst damit beschäftigen, was das Datenset enthält, woher es stammt und wie wir damit arbeiten können.\"","   ]","  },","  {","   \"cell_type\": \"markdown\",","   \"id\": \"b8649478\",","   \"metadata\": {},","   \"source\": [","    \"Das Datenset wird über die Datensetsammlung von [\u003ci\u003eUC Irvine Machine Learning Repository\u003c/i\u003e](https://archive.ics.uci.edu/dataset/560/seoul+bike+sharing+demand) mit der Lizenz [CC BY 4.0](https://creativecommons.org/licenses/by/4.0/legalcode) bereitgestellt. Die bisherige Beschreibung ist auf Englisch. Bei Bedarf kann die Seite übersetzt werden. Auch die Spaltentitel sind auf Englisch, sollten jedoch intuitiv verständlich sein. Für die weitere Bearbeitung in diesem Notebook ist es nicht zwingend erforderlich, die Beschreibung intensiv zu lesen. Wir empfehlen jedoch, ein paar Minuten damit zu verbringen, dir anzusehen, welche Informationen die Seite zum Datensatz enthält – und welche möglicherweise fehlen.\"","   ]","  },","  {","   \"cell_type\": \"markdown\",","   \"id\": \"044651fd\",","   \"metadata\": {},","   \"source\": [","    \"\u003cb\u003eFrage:\u003c/b\u003e Worauf zielt das Datenset laut der Beschreibung ab?\"","   ]","  },","  {","   \"cell_type\": \"markdown\",","   \"id\": \"20988823\",","   \"metadata\": {},","   \"source\": [","    \"\u003cdetails\u003e\\n\",","    \"    \u003csummary\u003e\u0026#x1F449;  Hier klicken, um einen Lösungsvorschlag zu sehen \u0026#x1F448;\u003c/summary\u003e\\n\",","    \"    Die Hauptfragestellung zielt darauf ab, \u003cu\u003eanhand der zur Verfügung gestellten Features\u003c/u\u003e zu berechnen, wie viele Fahrräder zu einer bestimmten Stunde (künftig) zu erwarten sind. Dieser errechnete Wert stellt die Grundlage dar, um entsprechende Fahrräder bereitzustellen.\\n\",","    \"    \u003cbr\u003e Hierzu siehe die Aussage:     \u003cb\u003e\\\"The crucial part is the prediction of bike count required at each hour for the stable supply of rental bikes.\\\" \u003ca href=\\\"https://archive.ics.uci.edu/dataset/560/seoul+bike+sharing+demand\\\"\u003eUC Irvine Machine Learning Repository\u003c/a\u003e\u003c/b\u003e\\n\",","    \"\u003c/details\u003e\"","   ]","  },","  {","   \"cell_type\": \"markdown\",","   \"id\": \"4aaab338\",","   \"metadata\": {},","   \"source\": [","    \"\u003cb\u003e Offene Frage: \u003c/b\u003e Du wirst wahrscheinlich feststellen, dass einige Informationen nicht ganz klar sind oder fehlen. Zum Beispiel könnte der Titel suggerieren, dass der gesamte Fahrradverleih in Seoul abgebildet ist. Ist das der Fall, oder handelt es sich um eine bestimmte Firma? Vielleicht kann eine kurze Recherche zum Namen Klarheit verschaffen. Auf einige Punkte wird auch im Verlauf des Notebooks noch eingegangen.\"","   ]","  },","  {","   \"cell_type\": \"markdown\",","   \"id\": \"095797ea\",","   \"metadata\": {},","   \"source\": [","    \"## Das Datenset öffnen - der \\\"normale Weg\\\"\"","   ]","  },","  {","   \"cell_type\": \"markdown\",","   \"id\": \"b61bfd9a\",","   \"metadata\": {},","   \"source\": [","    \"Für dieses Notebook ist das Datenset bereits im selben Ordner als \u003cb\u003e.CSV\u003c/b\u003e-Datei gespeichert und muss nicht extra hochgeladen werden. Bevor wir diese Datei im folgenden Abschnitt ins Notebook holen, werden wir hier kurz auf \u003cu\u003egängige \\\"Öffnungsstrategien\\\"\u003c/u\u003e eingehen, um auf mögliche Probleme hinzuweisen. Wir empfehlen, die folgenden Anweisungen selbst auszuführen, um zu sehen, was passiert. Es wird aber auch erklärt, auf welche Probleme man stoßen wird, die in diesem Fall unausweichlich sind.\"","   ]","  },","  {","   \"cell_type\": \"markdown\",","   \"id\": \"7c4133a0\",","   \"metadata\": {},","   \"source\": [","    \"\u003cdiv class=\\\"alert alert-block alert-warning\\\"\u003e\u003cb\u003eWichtig\u003c/b\u003e: Für dieses Notebook nutzen wir die Version des Datensets, die auf \u003ca href=\\\"https://archive.ics.uci.edu/dataset/560/seoul+bike+sharing+demand\\\"\u003eUC Irvine Machine Learning Repository\u003c/a\u003e bereitgestellt wird. \u003cb\u003eDiese Version weist die Herausforderungen auf, die gleich vorgestellt werden. \u003c/b\u003e Es gibt eine weitere Version auf der TBDK, welche diese \\\"Probleme\\\" umgangen hat und sofort funktionieren sollte.\u003c/div\u003e\"","   ]","  },","  {","   \"cell_type\": \"markdown\",","   \"id\": \"5d715dc0\",","   \"metadata\": {},","   \"source\": [","    \"\u003cu\u003eVerfahren über die Lernwelt bzw. den Workspace der TBDK\u003c/u\u003e:\u003cbr\u003eDas Datenset befindet sich bereits als CSV-Datei im selben Ordner wie dieses Notebook. Du siehst die Datei auf der linken Seite in einer Art Explorerfenster. Öffnest du die Datei, sollte folgende Fehlermeldung auftauchen:\u003cb\u003e\u003ci\u003e...is not UTF-8 encoded\u003c/i\u003e\u003c/b\u003e. \u003cbr\u003e\\n\",","    \"\u003ci\u003eOptional\u003c/i\u003e: Du kannst im Workspace der TBDK ein neues Projekt anlegen und die Datei hochladen, nachdem du diese über den obigen Link heruntergeladen hast. Die Oberfläche im Workspace ist die gleiche und man kann diese Datei ebenso mit \\\"Öffnen mit\\\" und \\\"Editor\\\" öffnen. Es wird aber aus den gleichen Gründen nicht funktionieren.\"","   ]","  },","  {","   \"cell_type\": \"markdown\",","   \"id\": \"ec64004b\",","   \"metadata\": {},","   \"source\": [","    \"\u003cu\u003eLokale Vorgehensweise (am Beispiel Windows-PC)\u003c/u\u003e: \u003cbr\u003e\u003cb\u003eLade dir über den Link zunächst die CSV-Datei herunter \u003c/b\u003eund \u003cb\u003eversuche sie zu öffnen\u003c/b\u003e.\\n\",","    \"Beim Versuch, das Dataset in Office-Umgebungen zu öffnen, sollte zwar eine Tabelle erscheinen, aber die Inhalte werden möglicherweise \u003cb\u003enicht ganz richtig dargestellt.\u003c/b\u003e\\n\",","    \"\u003cbr\u003e\\n\",","    \"Öffne die Datei wie folgt:  \u003cb\u003eRechtsklick auf die Datei\u003c/b\u003e -\u003e \u003cb\u003eÖffnen mit\u003c/b\u003e -\u003e \u003cb\u003eEditor\u003c/b\u003e\u003cbr\u003e\\n\",","    \"Es öffnet sich ein Editorfenster und du solltest die Daten wie folgt angezeigt bekommen:\"","   ]","  },","  {","   \"cell_type\": \"markdown\",","   \"id\": \"2bb208de\",","   \"metadata\": {},","   \"source\": [","    \"\u003ccode\u003e\\n\",","    \"Date,Rented Bike Count,Hour,Temperature(°C),Humidity(%),Wind speed (m/s),Visibility (10m), ...\\n\",","    \"01/12/2017,254,0,-5.2,37,2.2,2000,-17.6,0,0,0,Winter,No Holiday,Yes\\n\",","    \"01/12/2017,204,1,-5.5,38,0.8,2000,-17.6,0,0,0,Winter,No Holiday,Yes\\n\",","    \"01/12/2017,173,2,-6,39,1,2000,-17.7,0,0,0,Winter,No Holiday,Yes\\n\",","    \"01/12/2017,107,3,-6.2,40,0.9,2000,-17.6,0,0,0,Winter,No Holiday,Yes\\n\",","    \"    ...\\n\",","    \"\u003c/code\u003e\"","   ]","  },","  {","   \"cell_type\": \"markdown\",","   \"id\": \"b5835779\",","   \"metadata\": {},","   \"source\": [","    \"\u003cdiv class=\\\"alert alert-block alert-warning\\\"\u003e\u003cb\u003eWichtig\u003c/b\u003e: Aus Platzgründen wurde in der Darstellung oberhalb die erste Zeile nach dem siebten Komma abgeschnitten. Es wurde mit \u003cb\u003e\\\"...\\\" \u003c/b\u003e gekennzeichnet, dass die Zeile nicht zu Ende ist! Die weiteren Zeilen sind ungekürzt, allerdings werden nur die ersten fünf Zeilen wiedergegeben. Im Editor sind dagegen alle Inhalte vorhanden. \u003c/div\u003e\\n\"","   ]","  },","  {","   \"cell_type\": \"markdown\",","   \"id\": \"4bd6c661\",","   \"metadata\": {},","   \"source\": [","    \"\u003cb\u003eFrage:\u003c/b\u003e Nimm dir ein bisschen Zeit und versuche nachzuvollziehen, wie die Bestandteile zusammenhängen und was dargestellt wird. Fallen dir Muster auf, die immer wieder vorkommen? Wie unterscheiden sich die Zeilen voneinander?\"","   ]","  },","  {","   \"cell_type\": \"markdown\",","   \"id\": \"dd9a3dcd\",","   \"metadata\": {},","   \"source\": [","    \"\u003cdetails\u003e\\n\",","    \"    \u003csummary\u003e\u0026#x1F449; Hier klicken, um einen Lösungsvorschlag zu sehen \u0026#x1F448;\u003c/summary\u003e\\n\",","    \"    In dieser \u003cb\u003eCSV-Datei\u003c/b\u003e ist die erste Zeile der \u003cb\u003eSpaltenkopf (Header)\u003c/b\u003e und die nachfolgenden Zeilen enthalten die \u003cb\u003ejeweiligen Einträge\u003c/b\u003e. Das \u003cb\u003egewählte Trennzeichen ist hier ein Komma\u003c/b\u003e. Alle Werte vor dem ersten Komma in jeder Zeile gehören zur ersten Spalte. Zur zweiten Spalte gehören alle Werte zwischen dem ersten und dem zweiten Komma jeder Zeile, und so weiter.\\n\",","    \"\u003c/details\u003e\\n\"","   ]","  },","  {","   \"cell_type\": \"markdown\",","   \"id\": \"887c66d1\",","   \"metadata\": {},","   \"source\": [","    \"\u003cb\u003eCSV steht für Comma-separated values\u003c/b\u003e. Das bedeutet nicht, dass zwangsläufig ein Komma die Werte voneinander trennt. Stattdessen können auch andere Zeichen dafür benutzt werden, z.B. das Semikolon. Zu berücksichtigen ist, dass \u003cb\u003eDezimalstellen sowohl als Komma als auch als Punkt\u003c/b\u003e auftauchen können. Bei der Wahl des Trennzeichens muss daher darauf geachtet werden, dass es nicht zu Problemen beim Einlesen durch eine doppelte Verwendung desselben Zeichens zur Trennung von Werten sowie zur Kennzeichnung von Dezimalstellen kommt. Wenn man eine CSV-Tabelle öffnet, ist diese sprichwörtlich \\\"verrückt\\\". Häufig liegt es daran, dass die Trennzeichen (auch \u003cb\u003eseparator\u003c/b\u003e oder \u003cb\u003edelimiter\u003c/b\u003e genannt) entweder nicht richtig ausgewählt worden sind oder weitere Trennzeichen innerhalb von Werten auftauchen.\"","   ]","  },","  {","   \"cell_type\": \"markdown\",","   \"id\": \"4c830cec\",","   \"metadata\": {},","   \"source\": [","    \"Grundsätzlich zeigt sich bereits beim bloßen Öffnen, dass es als Datenbereitsteller:in sinnvoll sein kann, darauf zu achten, dass entsprechende Datensets die \u003cb\u003eUnicode-Formate standardmäßig unterstützen\u003c/b\u003e, und Strategien zu entwickeln, um solche „Extrazeichen“ zu vermeiden oder zumindest auf diese hinzuweisen. Nicht immer ist das der Fall und häufig muss man dies als Nutzer:in erst selbst herausfinden. Natürlich sind die Datensätze in der Regel auch an Personen gerichtet, die bezüglich solcher Probleme bereits geschult sind und wissen, wie man im Fall der Fehlermeldung \u003cb\u003e„...is not UTF-8 encoded“\u003c/b\u003e vorzugehen hat. Wir werden gleich beim Laden der Datei in dieses Notebook auf diese Besonderheiten eingehen.\\n\"","   ]","  },","  {","   \"cell_type\": \"markdown\",","   \"id\": \"337b78e4\",","   \"metadata\": {},","   \"source\": [","    \"\u003cdiv class=\\\"alert alert-block alert-info\\\"\u003e\u003cb\u003eHinweis\u003c/b\u003e: Das auf der TBDK im \u003cu\u003eBereich \u003ci\u003eDatensets\u003c/i\u003e bereitgestellte Datenset wurde dahingehend entschärft und wird die UTF-8 Problematik nicht aufweisen\u003c/u\u003e. Es kann daher auch im Workspace vom Editor geöffnet werden, allerdings sind die Trennzeichen abgeändert. Für das vorliegende Notebook ist das erst einmal unerheblich, da wir mit dem oben beschrieben Datenset aus \u003ci\u003eUC Irvine Machine Learning Repository\u003c/i\u003e fortfahren werden. \u003c/div\u003e\"","   ]","  },","  {","   \"cell_type\": \"markdown\",","   \"id\": \"5d9b0ec4\",","   \"metadata\": {},","   \"source\": [","    \"\u003cdiv class=\\\"alert alert-block alert-success\\\"\u003e\\n\",","    \"    🚩 Prima, bis hierhin haben wir den „klassischen“ Weg ausprobiert, um Daten zu öffnen, und dabei gesehen, wie eine CSV-Datei aussieht. Im Folgenden zeigen wir, wie diese CSV-Datei in das Jupyter Notebook geladen und mit entsprechenden Werkzeugen bearbeitet werden kann. Lasst die Erkundung beginnen!\\n\",","    \"\u003c/div\u003e\"","   ]","  },","  {","   \"cell_type\": \"markdown\",","   \"id\": \"e68d7cf3\",","   \"metadata\": {},","   \"source\": [","    \"## Erster Blick auf die Daten mit einem \u003ccode\u003eDataFrame\u003c/code\u003e\"","   ]","  },","  {","   \"cell_type\": \"markdown\",","   \"id\": \"8f99d11c\",","   \"metadata\": {},","   \"source\": [","    \"Im vorherigen Abschnitt haben wir uns kurz mit der Herkunft der Daten auseinandergesetzt und angeregt, mehr darüber in Erfahrung zu bringen. Nun sehen wir uns die Daten einmal genauer an. Wichtig: Das Datenset ist bereits von uns in denselben Ordner geladen worden - es muss nicht erneut hochgeladen werden!\"","   ]","  },","  {","   \"cell_type\": \"markdown\",","   \"id\": \"e916af04\",","   \"metadata\": {},","   \"source\": [","    \"👇 Wenn du die folgende Zeile Code ausführst, \u003cb\u003ewird es keinen Output geben, aber \u003c/b\u003e auf der linken Seite sollte nun \u003ccode\u003eIn [3]\u003c/code\u003e oder eine andere Zahl innerhalb der eckigen Klammern stehen. Diese Zahl steht für die bisher ausgeführten Zeilen Code. Es sollte aber mindestens eine Zahl zu sehen sein, damit wir wissen, dass wenigstens diese Zeile ausgeführt wurde.\"","   ]","  },","  {","   \"cell_type\": \"code\",","   \"execution_count\": null,","   \"id\": \"bfb1fb4b\",","   \"metadata\": {","    \"scrolled\": true","   },","   \"outputs\": [],","   \"source\": [","    \"import pandas as pd \\n\",","    \"import matplotlib.pyplot as plt \\n\",","    \"import seaborn as sns \\n\",","    \"import numpy as np \\n\",","    \"df=pd.read_csv(\\\"SeoulBikeData.csv\\\",encoding='unicode_escape',sep=\\\",\\\",header=0)\"","   ]","  },","  {","   \"cell_type\": \"markdown\",","   \"id\": \"f6e3e82e\",","   \"metadata\": {},","   \"source\": [","    \"\u003cb\u003eWas wird hier gemacht?\u003c/b\u003e \u003cbr\u003e\\n\",","    \"Zu Beginn der meisten Jupyter-Notebooks ist es grundlegend, die erforderlichen Hilfsbibliotheken zu importieren. Es ist üblich, sämtliche Hilfsbibliotheken an den Anfang zu setzen, weswegen \u003ccode\u003eMatplotlib\u003c/code\u003e und \u003ccode\u003eSeaborn\u003c/code\u003e für spätere Visualisierungen bereits im Code zu sehen sind.   \u003cbr\u003e\\n\",","    \"Im selben Atemzug werden auch entsprechende Daten geladen, in diesem Fall das SeoulBike-Datenset.\\n\",","    \"- Hier nutzen wir bereits die importierte Hilfsbibliothek \u003ccode\u003ePandas\u003c/code\u003e, welche als \u003ccode\u003epd\u003c/code\u003e abgekürzt wird, um mit \u003ccode\u003epd.read_csv()\u003c/code\u003e die Datei \u003ccode\u003e\\\"SeoulBikeData.csv\\\"\u003c/code\u003e als \u003ccode\u003eDataframe\u003c/code\u003e zu laden und in die Variable \u003ccode\u003edf\u003c/code\u003e zu speichern. Wie im vorherigen Abschnitt ausgeführt wurde, kam es zu ein paar Problemen, auf die in der Funktion bereits mit entsprechenden Spezifikationen reagiert wurde, um sie zu lösen.\\n\",","    \"    - Zunächst steht an der ersten Stelle innerhalb der \u003ccode\u003e( )\u003c/code\u003e der exakte Dateiname und die Dateiendung des Datensets in \u003ccode\u003e\\\" \\\"\u003c/code\u003e . In unserem Fall liegt die Datei im gleichen Ordner wie dieses Notebook und wir können es bei der beschriebenen Kombination aus \u003cb\u003eDateiname + Dateiendung\u003c/b\u003e belassen.  \\n\",","    \"    - Mit \u003ccode\u003eencoding\u003c/code\u003e bestimmen wir, welche Unicodes verarbeitet werden sollen. Für manche Datensätze kann es notwendig sein, das Encoding anzupassen, beispielsweise wenn spezielle Sonderzeichen oder gar Schriftzeichen benutzt werden. Sonst kommt es oft zu Fehlern, die zu der irrtümlichen Annahme verleiten, die Daten seien \\\"kaputt\\\". In diesem Dataset benutzen wir \u003ccode\u003e\\\"unicode_escape\\\"\u003c/code\u003e, damit das Sonderzeichen \u003ccode\u003e°\u003c/code\u003e in °C hinzugefügt wird, welches nicht in den Default-Settings vorgesehen ist und - wie gezeigt wurde - Fehlermeldungen verursacht. \\n\",","    \"    - Mit der Nutzung von \u003ccode\u003eheader=0\u003c/code\u003e erklären wir, auch wenn die \u003ccode\u003e0\u003c/code\u003eetwas anderes vermuten lässt, dass die \u003cu\u003eerste\u003c/u\u003e Zeile (\\\"Zeile 0\\\") der CSV-Datei als \u003ccode\u003eheader\u003c/code\u003e zu verstehen ist. Der entstehende \u003ccode\u003eIndex\u003c/code\u003e, welcher nach Ausführen der nachfolgenden Zeile Code in der Tabelle unterhalb dargestellt wird, fängt allerdings wieder bei \u003ccode\u003e0\u003c/code\u003e an und \\\"überspringt\\\" damit die Kopfzeile.\"","   ]","  },","  {","   \"cell_type\": \"markdown\",","   \"id\": \"4cc0c72a\",","   \"metadata\": {},","   \"source\": [","    \"👇 Führe die folgende Zeile Code aus, um einen Blick in das erzeugte \u003ccode\u003edf (DataFrame)\u003c/code\u003e zu werfen können.\"","   ]","  },","  {","   \"cell_type\": \"code\",","   \"execution_count\": null,","   \"id\": \"be6576ec\",","   \"metadata\": {},","   \"outputs\": [],","   \"source\": [","    \"df\"","   ]","  },","  {","   \"cell_type\": \"markdown\",","   \"id\": \"0e71e15d\",","   \"metadata\": {},","   \"source\": [","    \"Wird ein DataFrame wie oben lediglich als \u003ccode\u003edf\u003c/code\u003e aufgerufen, wird die obige Standardansicht angezeigt. Es werden die ersten fünf und die letzten fünf Einträge (Zeilen) dieser Tabelle angezeigt. Dieses Vorgehen erlaubt einen ersten Einblick in die Daten. Eigentlich handelt es sich um eine Komfortfunktion von Jupyter Notebook. In der Regel müsste man - wie zu Beginn des Notebooks - Inhalte bzw. Variablen innerhalb von \u003ccode\u003eprint()\u003c/code\u003e schreiben, um sich den Inhalt anzeigen zu lassen. Das müssen wir aber zum Glück nicht tun.\\n\",","    \"Falls man sich eines Tages dafür entscheidet, tatsächlich Code zu schreiben, um beispielsweise umfangreiche Datenpipelines zu bauen oder eine eigene Hilfsbibliothek zu entwickeln, ändert sich dies. Dazu jedoch zu einem späteren Zeitpunkt mehr.\"","   ]","  },","  {","   \"cell_type\": \"markdown\",","   \"id\": \"53098703\",","   \"metadata\": {},","   \"source\": [","    \"Unterhalb der Tabelle sehen wir die Angabe \u003ccode\u003e8760 rows × 14 columns\u003c/code\u003e. \"","   ]","  },","  {","   \"cell_type\": \"markdown\",","   \"id\": \"e6b10c35\",","   \"metadata\": {},","   \"source\": [","    \"Im Tabellenkopf sehen wir Beobachtungen, Spalten, Kategorien bzw. Features. Diese sind neben Date und Hour: Rented Bike Count, Temperature(°C),\\tHumidity(%),\\tWind speed (m/s),\\tVisibility (10m),\\tDew point temperature(°C),\\tSolar Radiation (MJ/m2),\\tRainfall(mm),\\tSnowfall (cm),\\tSeasons,\\tHoliday und\\tFunctioning Day. \u003cbr\u003e \"","   ]","  },","  {","   \"cell_type\": \"markdown\",","   \"id\": \"949f73c9\",","   \"metadata\": {},","   \"source\": [","    \"👇 Führe die folgende Zeile aus, um dir die Spaltennamen aufzulisten, wie sie im Dataset exakt benannt werden.\"","   ]","  },","  {","   \"cell_type\": \"code\",","   \"execution_count\": null,","   \"id\": \"a9353482\",","   \"metadata\": {},","   \"outputs\": [],","   \"source\": [","    \"df.columns\"","   ]","  },","  {","   \"cell_type\": \"markdown\",","   \"id\": \"8fe507c8\",","   \"metadata\": {},","   \"source\": [","    \"Dies sind die 14 Spalten (columns), die oben in \u003ccode\u003e8760 rows × 14 columns\u003c/code\u003e ausgegeben worden sind.\"","   ]","  },","  {","   \"cell_type\": \"markdown\",","   \"id\": \"0ed06cdd\",","   \"metadata\": {},","   \"source\": [","    \"\u003cb\u003eOffene Frage: \u003c/b\u003e Wie schätzt du den Einfluss jedes Features auf die Fahrradausleihe ein?\"","   ]","  },","  {","   \"cell_type\": \"markdown\",","   \"id\": \"7ceaf495\",","   \"metadata\": {},","   \"source\": [","    \"\u003cdiv class=\\\"alert alert-block alert-info\\\"\u003e\u003cb\u003eHinweis\u003c/b\u003e: Wenn du spezielle Anfragen an das Dataframe stellst, kann es sinnvoll, sein, dir die Spaltentitel direkt zu kopieren. So verhinderst du, dass Tippfehler,  (fehlende) Sonderzeichen, Leerzeichen oder Tabzeichen eine Fehlermeldung aufwerfen. Python ist sehr sensibel, was das angeht. Wenn 'Snowfall (cm)' der richtige Name ist, dann wird es Fehler geben, wenn man beispielsweise 'Snowfall (cm) ', 'Snowfall(cm)' oder 'Snoffall (cm)' schreibt.\u003c/div\u003e\"","   ]","  },","  {","   \"cell_type\": \"markdown\",","   \"id\": \"a024a9ea\",","   \"metadata\": {},","   \"source\": [","    \"Versuche nun, die folgenden Fragen mit den Informationen aus der obenstehenden Tabelle zu beantworten. Gib dir pro Frage ein bisschen Zeit und versuche selbst auf die Lösung zu kommen, bevor du dir den Lösungsvorschlag ansiehst. \"","   ]","  },","  {","   \"cell_type\": \"markdown\",","   \"id\": \"939a1a81\",","   \"metadata\": {},","   \"source\": [","    \" \u003cb\u003eFrage:\u003c/b\u003e Wie viele Fahrradstationen gibt es?\"","   ]","  },","  {","   \"cell_type\": \"markdown\",","   \"id\": \"11476d48\",","   \"metadata\": {},","   \"source\": [","    \"\u003cdetails\u003e\\n\",","    \"    \u003csummary\u003e\u0026#x1F449;  Hier klicken, um einen Lösungsvorschlag zu sehen \u0026#x1F448;\u003c/summary\u003e\\n\",","    \"Es gibt keine Informationen dazu. Es könnten aggregierte Daten mehrerer Stationen sein oder die Daten einer einzelnen Station. Vermutlich wird es sich um eine Art Aggregation mehrerer Stationen handeln. Bei solchen Fragen sollte man die Dokumentation oder Codebooks konsultieren, da diese extra dafür erstellt wurden. In einem professionellen Kontext kann es im Zweifelsfall auch angebracht sein, Rückfragen zu stellen. \\n\",","    \"\u003c/details\u003e\\n\"","   ]","  },","  {","   \"cell_type\": \"markdown\",","   \"id\": \"edb74bda\",","   \"metadata\": {},","   \"source\": [","    \"\u003cb\u003eFrage:\u003c/b\u003e Von wann bis wann sind Beobachtungen notiert und zu welchen Zeiten?\"","   ]","  },","  {","   \"cell_type\": \"markdown\",","   \"id\": \"6ca6ec82\",","   \"metadata\": {},","   \"source\": [","    \"\u003cdetails\u003e\\n\",","    \"    \u003csummary\u003e\u0026#x1F449;  Hier klicken, um einen Lösungsvorschlag zu sehen \u0026#x1F448;\u003c/summary\u003e\\n\",","    \"Wir sehen, dass die Kategorie \u003ccode\u003e\\\"Date\\\"\u003c/code\u003e am \u003ccode\u003e01/12/2017\u003c/code\u003e beginnt und am \u003ccode\u003e30/11/2018\u003c/code\u003e endet. In der Spalte \u003ccode\u003eHour\u003c/code\u003e sehen wir, dass die erste Stunde offensichtlich mit \u003ccode\u003e0\u003c/code\u003e (Uhr?) beginnt und \u003ccode\u003e23\u003c/code\u003e (Uhr?) endet. Wichtig: Datensets sind nicht immer so komfortabel wie in \u003ccode\u003edf\u003c/code\u003e bereits vorbereitet. Oftmals müssen Daten erst angepasst werden, da sie nicht immer in der Form vorliegen, die für bestimmte Fragestellungen erforderlich ist.\\n\",","    \"\u003c/details\u003e\\n\",","    \"\\n\"","   ]","  },","  {","   \"cell_type\": \"markdown\",","   \"id\": \"178a719e\",","   \"metadata\": {},","   \"source\": [","    \"\u003cb\u003eFrage:\u003c/b\u003e Wofür stehen die \u003ccode\u003e8760 rows\u003c/code\u003e (Zeilen) in \u003ccode\u003e8760 rows × 14 columns\u003c/code\u003e.\"","   ]","  },","  {","   \"cell_type\": \"markdown\",","   \"id\": \"04d735fe\",","   \"metadata\": {},","   \"source\": [","    \"\u003cdetails\u003e\\n\",","    \"    \u003csummary\u003e\u0026#x1F449;  Hier klicken, um einen Lösungsvorschlag zu sehen \u0026#x1F448;\u003c/summary\u003e\\n\",","    \"Dies steht für die Anzahl der Reihen im Datenset. Teilt man diese Anzahl durch 24, erhält man 365, also ein Jahr. Kurz: Für einen Zeitraum von einem Jahr sind pro Tag stündliche Beobachtungen vermerkt.\\n\",","    \"\u003c/details\u003e\\n\"","   ]","  },","  {","   \"cell_type\": \"markdown\",","   \"id\": \"1107eb61\",","   \"metadata\": {},","   \"source\": [","    \"## Erkundung der Spalte 'Rented Bike Count'\"","   ]","  },","  {","   \"cell_type\": \"markdown\",","   \"id\": \"65c1fe41\",","   \"metadata\": {},","   \"source\": [","    \"Wir wollen uns anhand einfacher mathematischer und statistischer Hilfsmittel zunächst vorwiegend mit der Spalte \u003cb\u003eRented Bike Count\u003c/b\u003e auseinandersetzen. Welche Aussagen können wir hier generieren? \"","   ]","  },","  {","   \"cell_type\": \"markdown\",","   \"id\": \"fd829fd0\",","   \"metadata\": {},","   \"source\": [","    \"### Erster Blick in die Spalte 'Rented Bike Count'\"","   ]","  },","  {","   \"cell_type\": \"markdown\",","   \"id\": \"bd41a4f8\",","   \"metadata\": {},","   \"source\": [","    \"👇 Führe die folgende Zeile aus, um dir Inhalte dieser Spalte anzeigen zu lassen.\"","   ]","  },","  {","   \"cell_type\": \"code\",","   \"execution_count\": null,","   \"id\": \"2446c0bb\",","   \"metadata\": {},","   \"outputs\": [],","   \"source\": [","    \"df[\\\"Rented Bike Count\\\"]\"","   ]","  },","  {","   \"cell_type\": \"markdown\",","   \"id\": \"b312cf51\",","   \"metadata\": {},","   \"source\": [","    \"Was du siehst, ist eine \u003ccode\u003eSeries\u003c/code\u003e. Ein \u003ccode\u003eDataFrame\u003c/code\u003e besteht aus vielen dieser \u003ccode\u003eSeries\u003c/code\u003e, die dadurch gekennzeichnet sind, dass sie wie eine Liste oder ein Array Einträge aneinanderreihen, aber auch über einen \u003ccode\u003eIndex\u003c/code\u003e verfügen. Dieser gemeinsame \u003ccode\u003eIndex\u003c/code\u003e vereint die \u003ccode\u003eSeries\u003c/code\u003e zu einem \u003ccode\u003eDataFrame\u003c/code\u003e. In der gezeigten Zeile Code lassen wir uns eine dieser \u003ccode\u003eSeries\u003c/code\u003e anzeigen.\"","   ]","  },","  {","   \"cell_type\": \"markdown\",","   \"id\": \"04ee0f42\",","   \"metadata\": {},","   \"source\": [","    \"\u003cdiv class=\\\"alert alert-block alert-info\\\"\u003e\\n\",","    \"    \u003cb\u003eHinweis\u003c/b\u003e: In Python beginnt die Zählung der Iterationen bei 0, ebenso wie die Nummerierung im Index. Daher siehst du auf der linken Seite im Index die Zahl 8759 als letzte Zahl, obwohl es insgesamt 8760 Einträge gibt (die Länge ist hier angegeben als „Length“).\\n\",","    \"\u003c/div\u003e\"","   ]","  },","  {","   \"cell_type\": \"markdown\",","   \"id\": \"5156c414\",","   \"metadata\": {},","   \"source\": [","    \"Am Ende des Outputs der obigen Zeile Code finden sich sowohl der \u003ccode\u003eName\u003c/code\u003e der Spalte als auch die \u003ccode\u003eLength\u003c/code\u003e, die angibt, wie viele Einträge verzeichnet wurden. Zusätzlich ist der \u003ccode\u003edtype (Datentyp)\u003c/code\u003e angegeben, in diesem Fall \u003ccode\u003eint64\u003c/code\u003e. \"","   ]","  },","  {","   \"cell_type\": \"markdown\",","   \"id\": \"a515210f\",","   \"metadata\": {},","   \"source\": [","    \"Der \u003ccode\u003edtype\u003c/code\u003e ist wichtig und kann in einigen Fällen Probleme bereiten. Prinzipiell kann es vorkommen, dass der Datentyp nicht zum Inhalt der Spalte passt. Bei den Befehlen, die weiter unten vorgestellt werden, sind dadurch verursachte Fehlermeldungen keine Seltenheit. In der Regel sind Fehlermeldungen in Python und mit den verwendeten Hilfsbibliotheken gut lesbar, und es wird vermutlich darauf hingewiesen, dass der dtype der Spalte nicht mit einer Methode vereinbar ist.\"","   ]","  },","  {","   \"cell_type\": \"markdown\",","   \"id\": \"cf353edf\",","   \"metadata\": {},","   \"source\": [","    \"Zur Vollständigkeit ein Überblick zu den \u003ccode\u003edtype-Formaten\u003c/code\u003e:\\n\",","    \"- int64: 64-bit Ganzzahlen wie \u003ccode\u003e8760\u003c/code\u003e\\n\",","    \"- float64: 64-bit Fließkommazahlen wie \u003ccode\u003e7.965\u003c/code\u003e (in Python mit Punkt!)\\n\",","    \"- object: Allgemeiner Datentyp für Zeichenketten (Strings) oder gemischte Datentypen, geschrieben in doppelten Anführungsstrichen (\u003cb\u003e\\\" \\\"\u003c/b\u003e) wie \u003ccode\u003e\\\"Hallo Welt\\\"\u003c/code\u003e. Alternativ können einfache Anführungsstriche (\u003cb\u003e' '\u003c/b\u003e) benutzt werden, welche \\\"stärker\\\" sind und dafür sorgen, dass \u003cb\u003e\\\"\u003c/b\u003e als Zeichen innerhalb eines Strings auftauchen kann, wie es beispielsweise bei Zitaten üblich ist.\\n\",","    \"- bool: Boolean, binäre Unterscheidung zwischen \u003ccode\u003eTRUE\u003c/code\u003e und \u003ccode\u003eFALSE\u003c/code\u003e\\n\",","    \"- datetime64: Datums- und Zeitangaben wie \u003ccode\u003enp.datetime64('2018-04-11')\u003c/code\u003e, welche mit der Hilfsbibliothek Numpy erstellt werden\"","   ]","  },","  {","   \"cell_type\": \"markdown\",","   \"id\": \"ba3734b5\",","   \"metadata\": {},","   \"source\": [","    \"In Python gibt es auch sogenannte Listen (lists), Wörterbücher (dictionaries) und Tupel (tuples). In diese Datenstrukturen können Elemente beliebiger Datentypen eingefügt werden. Üblicherweise enthalten sie jedoch Elemente desselben Typs, wie in den folgenden Beispielen:\\n\",","    \"- Listen (lists): wie \u003ccode\u003eTemperaturliste_Celsius = [22.3, 22.4, 22.5, 22.1, 21.9]\u003c/code\u003e\\n\",","    \"- Wörterbücher (dictionaries): wie \u003ccode\u003eLieblingsfilm = {\\\"titel\\\": \\\"Reise ins Wunderland\\\", \\\"erscheinungsjahr\\\": 1980}\u003c/code\u003e\\n\",","    \"- Tupel (tuples): wie \u003ccode\u003eKoordinaten_meer = (35.2278, -41.3909)\u003c/code\u003e\"","   ]","  },","  {","   \"cell_type\": \"markdown\",","   \"id\": \"ba891e48\",","   \"metadata\": {},","   \"source\": [","    \"\u003cdiv class=\\\"alert alert-block alert-info\\\"\u003e\\n\",","    \"    \u003cb\u003eTipp\u003c/b\u003e: Auch gängige Office-Programme und Tabellenkalkulationssoftware haben Formate bzw. Datentypen hinterlegt. Wenn diese nicht einheitlich ausgewählt oder sogar „falsch“ (z.B. Währung für Datumsangaben, Prozente für Dezimalangaben usw.) sind, können Tabellen merkwürdig erscheinen und bestimmte Funktionen und Methoden möglicherweise nicht funktionieren. In solchen Fällen sollte man die Formate manuell korrigieren, in der Regel durch Markieren der Spalten und Auswahl der entsprechenden Formate. In den meisten Fällen „denkt“ die Software bereits mit, liegt jedoch nicht immer richtig.\\n\",","    \"\u003c/div\u003e\\n\"","   ]","  },","  {","   \"cell_type\": \"markdown\",","   \"id\": \"457b414b\",","   \"metadata\": {},","   \"source\": [","    \"Der Output der Zeile Code \u003ccode\u003edf[\\\"Rented Bike Count\\\"]\u003c/code\u003e zeigte die ersten und letzten 5 Einträge. Wir sehen bereits in diesem kleinen Ausschnitt, dass die Anzahl der Fahrradausleihen variiert, wissen aber noch nicht, warum.\"","   ]","  },","  {","   \"cell_type\": \"markdown\",","   \"id\": \"81329c65\",","   \"metadata\": {},","   \"source\": [","    \"\u003cb\u003eDein Code: \u003c/b\u003e Für den Rest dieses Notebooks werden wir im Wesentlichen mit \u003ccode\u003edf[\\\"Rented Bike Count\\\"]\u003c/code\u003e weiterarbeiten. Wenn du einen Blick in andere Spalten werfen willst, schreibe den Code in das unten angegebene Feld und ersetze \\\"Rented Bike Count\\\" durch den Namen einer anderen Spalte. Achte darauf, dass mit \u003cb\u003e\\\" \\\"\u003c/b\u003e Text bzw. \u003cb\u003eString\u003c/b\u003e gesetzt wird. Du kannst diesen Teil auch überspringen.\"","   ]","  },","  {","   \"cell_type\": \"code\",","   \"execution_count\": null,","   \"id\": \"4f097ab6\",","   \"metadata\": {},","   \"outputs\": [],","   \"source\": [","    \"# dein Code \\n\"","   ]","  },","  {","   \"cell_type\": \"markdown\",","   \"id\": \"9888ab6d\",","   \"metadata\": {},","   \"source\": [","    \"### Berechnung von Anzahl und Summe\"","   ]","  },","  {","   \"cell_type\": \"markdown\",","   \"id\": \"0d653a9c\",","   \"metadata\": {},","   \"source\": [","    \"👇 Führe die folgende Zeile aus. Sieh dir das folgende Beispiel genau an: \u003ccode\u003edf[\\\"Rented Bike Count\\\"]\u003c/code\u003e zeigt dir eigentlich nur den Inhalt der Spalte an, wohingegen mit der Methode \u003ccode\u003e.count()\u003c/code\u003e die Menge der Einträge dieser Spalte (bzw. der in der Tabelle festgehaltenen Fälle) gezählt und ausgegeben wird.\"","   ]","  },","  {","   \"cell_type\": \"code\",","   \"execution_count\": null,","   \"id\": \"7ccc5309\",","   \"metadata\": {},","   \"outputs\": [],","   \"source\": [","    \"df[\\\"Rented Bike Count\\\"].count()\"","   ]","  },","  {","   \"cell_type\": \"markdown\",","   \"id\": \"d1366ac3\",","   \"metadata\": {},","   \"source\": [","    \"\u003cb\u003eFrage: \u003c/b\u003eKommt dir die Zahl bekannt vor? Was sagt sie aus? Was bedeutet sie für die Anzahl von Fahrradausleihen?\"","   ]","  },","  {","   \"cell_type\": \"markdown\",","   \"id\": \"61c0e000\",","   \"metadata\": {},","   \"source\": [","    \"\u003cdetails\u003e\\n\",","    \"    \u003csummary\u003e\u0026#x1F449;  Hier klicken, um einen Lösungsvorschlag zu sehen \u0026#x1F448;\u003c/summary\u003e\\n\",","    \"Die Zahl \u003ccode\u003e8760\u003c/code\u003e sollte erscheinen. Dividiert man diese Zahl durch 24, also die Anzahl der Stunden am Tag (welche auch in der Spalte \u003ccode\u003eHour\u003c/code\u003e vorkommt), erhält man 365, also die Anzahl der Tage für ein Jahr. Da die Zahl identisch ist, gibt es also gleich viele Einträge. Wäre die Zahl niedriger, würde es bedeuten, dass es entsprechend der Differenz fehlende Einträge gibt!\\n\",","    \"\u003c/details\u003e\"","   ]","  },","  {","   \"cell_type\": \"markdown\",","   \"id\": \"0cb3d2b6\",","   \"metadata\": {},","   \"source\": [","    \"\u003cb\u003eDein Code: \u003c/b\u003e Sieh dir den Code oben genau an. Schreibe unterhalb einen Code, der die Methode \u003ccode\u003e.sum()\u003c/code\u003e auf die Spalte \u003ccode\u003edf[\\\"Rented Bike Count\\\"]\u003c/code\u003e anwendet. Achte darauf, dass im Spaltentitel Leerzeichen vorhanden sind. \"","   ]","  },","  {","   \"cell_type\": \"code\",","   \"execution_count\": null,","   \"id\": \"d4751353\",","   \"metadata\": {},","   \"outputs\": [],","   \"source\": [","    \"# Schreibe den Code unter diese Zeile. Vergiss nicht, ihn auszuführen.\\n\"","   ]","  },","  {","   \"cell_type\": \"markdown\",","   \"id\": \"a882e4f7\",","   \"metadata\": {},","   \"source\": [","    \"\u003cb\u003e Frage: \u003c/b\u003eWas bedeutet die ausgegebene Zahl? Sie sollte 7-stellig sein. Was hat \u003ccode\u003e.sum()\u003c/code\u003e gemacht?\"","   ]","  },","  {","   \"cell_type\": \"markdown\",","   \"id\": \"d0e4092d\",","   \"metadata\": {},","   \"source\": [","    \"\u003cdetails\u003e\\n\",","    \"    \u003csummary\u003e\u0026#x1F449;  Hier klicken, um einen Lösungsvorschlag zu sehen \u0026#x1F448;\u003c/summary\u003e\\n\",","    \"\u003ccode\u003edf[\\\"Rented Bike Count\\\"].sum()\u003c/code\u003e\\n\",","    \"    \u003cbr\u003e\\n\",","    \"6172314\\n\",","    \"    \\n\",","    \"Erklärung: Die Methode hat die Summe aller Fahrradausleihen gebildet. In dem Jahr, auf das sich der Datensatz bezieht, gab es also 6172314 Fahrradausleihen.\u003c/details\u003e\"","   ]","  },","  {","   \"cell_type\": \"markdown\",","   \"id\": \"36d5a0af\",","   \"metadata\": {},","   \"source\": [","    \"\u003cdiv class=\\\"alert alert-block alert-info\\\"\u003e\\n\",","    \"\u003cb\u003eMethoden und Funktionen\u003c/b\u003e: Sowohl Methoden als auch Funktionen bearbeiten Daten und führen bestimmte Aufgaben durch. Methoden sind dabei an bestimmte Objekte gebunden, wie z.B. an \u003ccode\u003edf\u003c/code\u003e in \u003ccode\u003edf.columns\u003c/code\u003e oder \u003ccode\u003edf[\\\"Rented Bike Count\\\"].count()\u003c/code\u003e. Funktionen sind dagegen unabhängig von einem spezifischen Objekt. Allerdings können Funktionen identische Operationen durchführen. Eine selbstgeschriebene Funktion könnte beispielsweise die Daten in einem DataFrame analysieren und zählen, wie viele Einträge es in einer bestimmten Spalte gibt. Das Aufrufen dieser Funktion könnte dann so aussehen: \u003ccode\u003ecount_entries(df, \\\"Rented Bike Count\\\")\u003c/code\u003e. \\n\",","    \"\u003c/div\u003e\"","   ]","  },","  {","   \"cell_type\": \"markdown\",","   \"id\": \"1b10f504\",","   \"metadata\": {},","   \"source\": [","    \"### \u003cb\u003eÜbung\u003c/b\u003e: Berechnung des Jahresumsatzes\"","   ]","  },","  {","   \"cell_type\": \"markdown\",","   \"id\": \"c263ad06\",","   \"metadata\": {},","   \"source\": [","    \"Mit den oben ermittelten Zahlen können wir bereits einige Berechnungen anstellen. In der folgenden Übung soll nun der Jahresumsatz errechnet werden. Wie eine Berechnung aussehen kann, ist im fiktiven Beispiel unterhalb aufgeführt. Nach dem Vorbild dieses Beispiels wirst du anschließend aufgefordert eigene Zahlen zu berechnen.\"","   ]","  },","  {","   \"cell_type\": \"markdown\",","   \"id\": \"b99f3a14\",","   \"metadata\": {},","   \"source\": [","    \"\u003cb\u003eBeispielrechnung mit fiktiven Zahlen und Szenario\u003c/b\u003e\"","   ]","  },","  {","   \"cell_type\": \"markdown\",","   \"id\": \"891fcbd4\",","   \"metadata\": {},","   \"source\": [","    \"\u003cb\u003eSzenario\u003c/b\u003e: Als vor über 10 Jahren zum ersten Mal Fahrradverleihe durchgeführt wurden, gab es kaum Stationen und viele technische Schwierigkeiten. In 365 Tagen wurden damals 233238 Fahrradausleihen durchgeführt. Der Preis belief sich noch auf 400 Won pro Ausleihe. \u003cbr\u003e\\n\",","    \"\u003cb\u003eAufgabenstellung\u003c/b\u003e: Berechne den Jahresumsatz und gib diesen in Euro an. 1 KRW entsprach zu jener Zeit 0,00070 Euro.\\n\"","   ]","  },","  {","   \"cell_type\": \"markdown\",","   \"id\": \"3f69034b\",","   \"metadata\": {},","   \"source\": [","    \"\\n\",","    \" \"","   ]","  },","  {","   \"cell_type\": \"markdown\",","   \"id\": \"fcdaa1d2\",","   \"metadata\": {},","   \"source\": [","    \"👇 Führe die Zeile Code aus. Schau dir an, wie sich die Aufgabenstellung im Code widerspiegelt.\"","   ]","  },","  {","   \"cell_type\": \"code\",","   \"execution_count\": null,","   \"id\": \"ec286f8a\",","   \"metadata\": {},","   \"outputs\": [],","   \"source\": [","    \"Anzahl= 233238\\n\",","    \"Preis_won = 400\\n\",","    \"Umsatz_won= Anzahl* Preis_won\\n\",","    \"Umrechnungsfaktor = 0.00070\\n\",","    \"Umsatz_euro= Umsatz_won * Umrechnungsfaktor\\n\",","    \"\\n\",","    \"print(\\\"In 365 Tagen wurden damals\\\", Umsatz_won,\\\"Won erwirtschaftet. Umgerechnet sind das\\\",Umsatz_euro,\\\"€.\\\")\"","   ]","  },","  {","   \"cell_type\": \"markdown\",","   \"id\": \"55c5c4c4\",","   \"metadata\": {},","   \"source\": [","    \"\u003cdiv class=\\\"alert alert-block alert-info\\\"\u003e\u003cb\u003eHinweis\u003c/b\u003e: In einigen Ländern ist es üblich, \u003cb\u003eDezimalstellen\u003c/b\u003e mit einem \u003cb\u003eKomma\u003c/b\u003e zu trennen, in anderen Ländern wird dafür ein \u003cb\u003ePunkt\u003c/b\u003e verwendet. Schau dir den Umrechnungsfaktor in unserem fiktiven Beispiel an und wie die Dezimalangabe in die Variable \u003ccode\u003eUmrechnungsfaktor\u003c/code\u003e geschrieben wird.\u003c/div\u003e\"","   ]","  },","  {","   \"cell_type\": \"markdown\",","   \"id\": \"a21150af\",","   \"metadata\": {},","   \"source\": [","    \"\u003cb\u003eEigene Berechnung anhand des vorliegenden Datensets\u003c/b\u003e\"","   ]","  },","  {","   \"cell_type\": \"markdown\",","   \"id\": \"4a397281\",","   \"metadata\": {},","   \"source\": [","    \"\u003cb\u003eÜbung\u003c/b\u003e: \u003cu\u003eUnterhalb\u003c/u\u003e findest du den gleichen Code wie oben, allerdings fehlen die entsprechenden Werte. Führe die Zeile zunächst so aus, wie sie dasteht, um eine Fehlermeldung zu erzeugen. Ergänze dann im Anschluss folgende Zahlen:\\n\",","    \"- \u003ccode\u003eAnzahl\u003c/code\u003e: Summe aller Fahrradausleihen innerhalb des Jahres, wie sie im Datenset berechnet wurde\\n\",","    \"- \u003ccode\u003ePreis_won\u003c/code\u003e: Preis pro Ausleihe, die nun 900 Won kostet\\n\",","    \"- \u003ccode\u003eUmrechnungsfaktor\u003c/code\u003e: Umrechnung von südkoreanischem Won zu Euro. \u003cu\u003eDies muss recherchiert werden\u003c/u\u003e. Beachte hierbei die Richtung!\"","   ]","  },","  {","   \"cell_type\": \"markdown\",","   \"id\": \"8df9ea87\",","   \"metadata\": {},","   \"source\": [","    \"\u003cdiv class=\\\"alert alert-block alert-warning\\\"\u003e👇 Führe die Zeile Code unterhalb zunächst ohne Einträge aus. Du wirst eine Fehlermeldung bekommen. Das ist ok. Schau sie dir genau an. Verstehst du, wodurch die Meldung ausgelöst wird? Werden darin alle Probleme aufgelistet? \u003c/div\u003e\"","   ]","  },","  {","   \"cell_type\": \"code\",","   \"execution_count\": null,","   \"id\": \"f335ba86\",","   \"metadata\": {","    \"scrolled\": true","   },","   \"outputs\": [],","   \"source\": [","    \"# dein Code\\n\",","    \"Anzahl= \\n\",","    \"Preis_won = \\n\",","    \"Umsatz_won= Anzahl* Preis_won\\n\",","    \"Umrechnungsfaktor =  \\n\",","    \"Umsatz_euro= Umsatz_won * Umrechnungsfaktor\\n\",","    \"\\n\",","    \"print(\\\"In 365 Tagen wurden \\\", Umsatz_won,\\\"Won erwirtschaftet. Umgerechnet sind das\\\",Umsatz_euro,\\\"€.\\\")\"","   ]","  },","  {","   \"cell_type\": \"markdown\",","   \"id\": \"7504abcf\",","   \"metadata\": {},","   \"source\": [","    \"Bei längeren Fehlermeldungen wird das \\\"Wichtigste\\\" in der Regel am Ende der Meldung detaillierter aufgelistet. In unserem Beispiel wird die Fehlermeldung \u003cb\u003eSyntaxError: invalid syntax\u003c/b\u003e angezeigt, da einer Variable noch kein Wert zugewiesen wurde. Fehlermeldungen sorgen dafür, dass die Zeile Code nicht weiter ausgeführt wird. Es wird immer der Fehler angezeigt wird, der zuerst aufgetreten ist. \u003cbr\u003e\u003cu\u003eFühre die Zeile Code oberhalb erneut aus, wenn du für die drei Variablen Werte eingetragen hast. Unterhalb findest du auch einen Lösungsvorschlag dazu. \u003c/u\u003e\"","   ]","  },","  {","   \"cell_type\": \"markdown\",","   \"id\": \"1fa93891\",","   \"metadata\": {},","   \"source\": [","    \"\u003cdetails\u003e\\n\",","    \"    \u003csummary\u003e\u0026#x1F449;  Hier klicken, um einen Lösungsvorschlag zu sehen \u0026#x1F448;\u003c/summary\u003e\\n\",","    \"    Die weiter oben von \u003ccode\u003e.sum()\u003c/code\u003e ausgegebene Zahl sollte die Gesamtanzahl aller Fahrten des Jahres darstellen, welche 6172314 beträgt. Allerdings wissen wir nicht, wie lange die Fahrten dauerten und ob Fahrten, wenn sie in die nächste Stunde hineinreichten, erneut gezählt wurden oder nicht. Für einen fiktiven Preis pro Fahrt können wir ungefähr erahnen, wie viel Umsatz generiert wurde.\\n\",","    \"    \u003cbr\u003e Für die entsprechende Anzahl ist es ok, die Zahl 6172314 zu benutzen, welche zuvor mittels \u003ccode\u003e.sum()\u003c/code\u003e erzeugt wurde. Unterhalb siehst du aber, dass das Ergebnis der Methode eben diese Zahl ist und entsprechend zur Berechnung benutzt werden kann. Beachte hierzu das Hinweisfeld.\\n\",","    \"    \\n\",","    \" ```python\\n\",","    \"Anzahl= df[\\\"Rented Bike Count\\\"].sum()\\n\",","    \"Preis_won = 900\\n\",","    \"Umsatz_won= Anzahl* Preis_won\\n\",","    \"Umrechnungsfaktor = 0.00068 \\n\",","    \"Umsatz_euro= Umsatz_won * Umrechnungsfaktor\\n\",","    \"\\n\",","    \"print(\\\"In 365 Tagen wurden \\\", Umsatz_won,\\\"Won erwirtschaftet. Umgerechnet sind das\\\",Umsatz_euro,\\\"€.\\\")\\n\",","    \"```\\n\",","    \"    In 365 Tagen wurden  5555082600 Won erwirtschaftet. Umgerechnet sind das 3777456.168 €.\\n\",","    \"\u003c/details\u003e\"","   ]","  },","  {","   \"cell_type\": \"markdown\",","   \"id\": \"235d4af2\",","   \"metadata\": {},","   \"source\": [","    \"\u003cdiv class=\\\"alert alert-block alert-info\\\"\u003e\\n\",","    \"\u003cb\u003e Hinweis: Klarzahlen vs. dynamische Berechnung\u003c/b\u003e. Vermutlich wirst du bei der Berechnung der \u003ccode\u003eAnzahl\u003c/code\u003e die Klarzahl \u003ccode\u003e6172314\u003c/code\u003e verwendet haben. Im Lösungsvorschlag siehst du als eingesetzten Wert jedoch die Methode \u003ccode\u003edf[\\\"Rented Bike Count\\\"].sum()\u003c/code\u003e, welche der Variablen \u003ccode\u003eAnzahl\u003c/code\u003e zugeordnet wurde. Für dieses Beispiel sind beide Verfahren möglich, da es sich um einen eingeschränkten Aufgabenbereich handelt und wir (noch) keine weiteren Berechnungen vorgenommen haben, welche die \u003ccode\u003eAnzahl\u003c/code\u003e beeinflussen. Die ausgegebene Zahl ist in beiden Fällen (noch) gleich. \u003cbr\u003e\\n\",","    \"Sollte der Code zur Berechnung des Umsatzes aber wiederverwendet oder sogar automatisiert hinterlegt werden, wird ein Update der zugrundeliegenden Daten bei ursprünglich hinterlegten Klarzahlen nicht berücksichtigt und müsste immer manuell erfolgen, was sehr aufwendig ist. Obwohl also die errechnete Zahl für diese Aufgabenstellung korrekt war, ist das künftig nicht mehr zwingend der Fall. Es empfiehlt sich daher die Methode, also \u003ccode\u003edf[\\\"Rented Bike Count\\\"].sum()\u003c/code\u003e der \u003ccode\u003eKlarzahl 6172314\u003c/code\u003e vorzuziehen, um den entsprechenden dynamischen Output zu erhalten.\u003c/div\u003e\"","   ]","  },","  {","   \"cell_type\": \"markdown\",","   \"id\": \"7a108cc9\",","   \"metadata\": {},","   \"source\": [","    \"\u003cdiv class=\\\"alert alert-block alert-info\\\"\u003e\\n\",","    \"\u003cb\u003eHinweis: Namen für Variablen\u003c/b\u003e. In diesem Beispiel haben wir uns aus praktischen Gründen keine große Mühe mit den Variablennamen gemacht. \u003cu\u003eDas ist ein Problem\u003c/u\u003e. Wollte man zum Beispiel den (fiktiven) Umsatz von vor 10 Jahren mit dem Umsatz des aktuellen Datensets vergleichen, wäre das nicht möglich. Beide sind der Variable \u003ccode\u003eUmsatz_euro\u003c/code\u003e zugewiesen, wodurch mindestens eine der beiden überschrieben wurde. Es empfiehlt sich in diesem Fall, unterscheidbare Variablennamen zu wählen. In diesem Beispiel könnte die Jahreszahl den Variablennamen (und anderen Variablennamen) hinzugefügt werden. \\n\",","    \"\u003c/div\u003e\"","   ]","  },","  {","   \"cell_type\": \"markdown\",","   \"id\": \"56549eae\",","   \"metadata\": {},","   \"source\": [","    \"\u003cdiv class=\\\"alert alert-block alert-info\\\"\u003e\\n\",","    \"    \u003cb\u003eHinweis: Was als Variablen verstanden wird.\u003c/b\u003e In der Aufgabenstellung oben hast du gesehen, dass eine Variable das ist, was vor dem Gleichheitszeichen (=) steht, also ein Name, dem ein Wert zugewiesen wird, wie z.B. Preis_won = 900. Wenn wir diesen Ticketpreis nun innerhalb einer Gleichung verwenden, z.B. um einen Tagesumsatz zu berechnen, wird in der mathematischen Sprechweise die Zahl 900 ebenfalls als Variable betrachtet: Der Variable Preis_won wird der Wert 900 zugewiesen, und dieser Wert wird dann in der Gleichung als Variable bezeichnet.\\n\",","    \"    \u003c/div\u003e\"","   ]","  },","  {","   \"cell_type\": \"markdown\",","   \"id\": \"cb2d7fed\",","   \"metadata\": {},","   \"source\": [","    \"\u003cdiv class=\\\"alert alert-block alert-info\\\"\u003e\\n\",","    \"    \u003cb\u003eHinweis\u003c/b\u003e: Vor und nach dem Gleichheitszeichen (=) siehst du Leerzeichen stehen. An dieser Stelle spielt es keine Rolle. Wenn jedoch Leerzeichen zwischen Zahlen stehen, wie z.B. bei \u003ccode\u003e1 + 2 2\u003c/code\u003e, wird eine Fehlermeldung angezeigt. Befinden sich Leerzeichen innerhalb eines Strings, wie in ' Hallo' und 'Hallo', bedeutet dies, dass die beiden Strings nicht identisch sind. Fragt man also, ob der erste String dem zweiten entspricht, also \u003ccode\u003e' Hallo' == 'Hallo'\u003c/code\u003e, erhält man \u003ccode\u003e'FALSE'\u003c/code\u003e.\\n\",","    \"    \u003c/div\u003e\"","   ]","  },","  {","   \"cell_type\": \"markdown\",","   \"id\": \"eae0ec6c\",","   \"metadata\": {},","   \"source\": [","    \"\u003cb\u003eFreiwillige Recherche- und Rechenübung: \u003c/b\u003eNicht nur der Umsatz lässt sich mit der Gesamtanzahl der Ausleihen berechnen, sondern auch, welche CO₂-Einsparung erreicht werden konnte. Das ist besonders vor dem Hintergrund von Klimabestrebungen interessant. Dazu benötigen wir allerdings \u003cb\u003e Daten von \\\"außerhalb des Datensets\\\"\u003c/b\u003e. Nehmen wir einmal an, dass die Gesamtzahl der Ausleihen bedeutet, dass tatsächlich immer eine volle Stunde Fahrrad gefahren wurde. Wir hätten also insgesamt 6172314 gefahrene Fahrradstunden. Es wurde demnach 6172314 Stunden lang darauf verzichtet, ein anderes Verkehrsmittel zu benutzen. Geht man davon aus, dass dieselben Menschen zurvor ein PKW bzw. ein Taxi genutzt hätten, wie viel CO₂ wäre dann eingespart worden? Als dynamischen Rechner für den CO₂-Ausstoß verschiedener Fahrzeugarten könnte man den [\\\"CO₂-Rechner für Auto, Flugzeug und Co. von \u003ci\u003eQuarks\u003c/i\u003e\\\"](https://www.quarks.de/umwelt/klimawandel/co2-rechner-fuer-auto-flugzeug-und-co/) nutzen. Aber auch andere Quellen sind hier möglich!\"","   ]","  },","  {","   \"cell_type\": \"code\",","   \"execution_count\": null,","   \"id\": \"c3b0c1a8\",","   \"metadata\": {},","   \"outputs\": [],","   \"source\": [","    \"# dein Code (freiwillig)\\n\"","   ]","  },","  {","   \"cell_type\": \"markdown\",","   \"id\": \"04e78001\",","   \"metadata\": {},","   \"source\": [","    \"\u003cdetails\u003e\\n\",","    \"    \u003csummary\u003e\u0026#x1F449;  Hier klicken, um einen Lösungsvorschlag zu sehen \u0026#x1F448;\u003c/summary\u003e\\n\",","    \"Vermutlich wird man in der Stadt keine 100 km pro Stunde  zurücklegen, aber zur groben Orientierung könnte man diesen Wert zur Bestimmung des Verbrauchs nutzen und dazu z.B. 6,8 l / 100 km einstellen. Als Fahrzeugtyp wählen wir Benzin und die Anzahl der Personen im Pkw soll 1 betragen. Der Rechner ermittelt automatisch den CO₂-Verbrauch. In diesem Fall sollten ziemlich genau 20,0 kg CO₂ anzeigt werden. Verrechnet man diesen Wert mit den zuvor bestimmten 6172314 Fahrradstunden, erhält man 123.446.280 kg an eingespartem CO₂. Natürlich hinkt in dieser Rechnung der Vergleich mit der zurückgelegten Strecke eines Fahrrads, das vermutlich keine 100 km in einer Stunde zurücklegt. Man könnte überlegen, Fahrzeugtypen, die beispielsweise gängigen Taxi-Modellen entsprechen, sowie deren zurückgelegte Kilometer pro Stunde im Rechner nachzubilden, um eine realistischere CO₂-Ersparnis zu berechnen.\\n\",","    \"\u003c/details\u003e\"","   ]","  },","  {","   \"cell_type\": \"markdown\",","   \"id\": \"90d5ae6f\",","   \"metadata\": {},","   \"source\": [","    \"##  Berechnung des Maximums und Minimums sowie des Medians und arithmetischen Mittels\"","   ]","  },","  {","   \"cell_type\": \"markdown\",","   \"id\": \"bf9b395a\",","   \"metadata\": {},","   \"source\": [","    \"Bis jetzt haben wir gesehen, dass für jede Stunde ein Wert für die Fahrradausleihe eingetragen wurde und dass dieser je Stunde variiert. Nun wollen wir uns der Fahrradausleihe mit statistischen Kennenzahlen nähern. Dafür gibt es einige Methoden, von denen vier im folgenden Abschnitt vorgestellt werden.\"","   ]","  },","  {","   \"cell_type\": \"markdown\",","   \"id\": \"8952044f\",","   \"metadata\": {},","   \"source\": [","    \"\u003cb\u003eDein Code\u003c/b\u003e (Der Lösungsvorschlag befindet sich unterhalb der kommenden Aufgaben.)\"","   ]","  },","  {","   \"cell_type\": \"markdown\",","   \"id\": \"710fb9b7\",","   \"metadata\": {},","   \"source\": [","    \"Ermittle den höchsten Wert, indem du die Methode \u003ccode\u003e.max()\u003c/code\u003e auf \u003ccode\u003edf[\\\"Rented Bike Count\\\"]\u003c/code\u003e anwendest.\"","   ]","  },","  {","   \"cell_type\": \"code\",","   \"execution_count\": null,","   \"id\": \"a803f686\",","   \"metadata\": {},","   \"outputs\": [],","   \"source\": [","    \"# dein Code\\n\"","   ]","  },","  {","   \"cell_type\": \"markdown\",","   \"id\": \"2c24b25b\",","   \"metadata\": {},","   \"source\": [","    \"Ermittle das arithmetisches Mittel, indem du \u003ccode\u003e.mean()\u003c/code\u003e auf \u003ccode\u003edf[\\\"Rented Bike Count\\\"]\u003c/code\u003e anwendest.\"","   ]","  },","  {","   \"cell_type\": \"code\",","   \"execution_count\": null,","   \"id\": \"b2899f3c\",","   \"metadata\": {},","   \"outputs\": [],","   \"source\": [","    \"# dein Code\\n\"","   ]","  },","  {","   \"cell_type\": \"markdown\",","   \"id\": \"552e98c0\",","   \"metadata\": {},","   \"source\": [","    \"Ermittle den Median, indem du \u003ccode\u003e.median()\u003c/code\u003e auf \u003ccode\u003edf[\\\"Rented Bike Count\\\"]\u003c/code\u003e anwendest.\"","   ]","  },","  {","   \"cell_type\": \"code\",","   \"execution_count\": null,","   \"id\": \"c993b799\",","   \"metadata\": {},","   \"outputs\": [],","   \"source\": [","    \"# dein Code\\n\"","   ]","  },","  {","   \"cell_type\": \"markdown\",","   \"id\": \"b14c5aba\",","   \"metadata\": {},","   \"source\": [","    \"Ermittle den niedrigsten Wert, indem du \u003ccode\u003e.min()\u003c/code\u003e auf \u003ccode\u003edf[\\\"Rented Bike Count\\\"]\u003c/code\u003e anwendest.\"","   ]","  },","  {","   \"cell_type\": \"code\",","   \"execution_count\": null,","   \"id\": \"2089a29e\",","   \"metadata\": {},","   \"outputs\": [],","   \"source\": [","    \"# dein Code\\n\"","   ]","  },","  {","   \"cell_type\": \"markdown\",","   \"id\": \"03de2c8c\",","   \"metadata\": {},","   \"source\": [","    \"\u003cdetails\u003e\\n\",","    \"    \u003csummary\u003e\u0026#x1F449;  Hier klicken, um einen Lösungsvorschlag zu sehen \u0026#x1F448;\u003c/summary\u003e\\n\",","    \"    \\n\",","    \" ```python\\n\",","    \"df[\\\"Rented Bike Count\\\"].max()\\n\",","    \"3556\\n\",","    \"    \\n\",","    \"df[\\\"Rented Bike Count\\\"].mean()\\n\",","    \"704.6020547945205 \\n\",","    \"    \\n\",","    \"df[\\\"Rented Bike Count\\\"].median()\\n\",","    \"504.5\\n\",","    \"   \\n\",","    \"df[\\\"Rented Bike Count\\\"].min()\\n\",","    \"0   \\n\",","    \" ```\\n\",","    \"    \\n\",","    \"Mit den statistischen Kennzahlen nähern wir uns einem Gesamtbild der Fahrradausleihe für die 365 Tage. \\n\",","    \"\u003cbr\u003e\\n\",","    \"Der Maximalwert \u003ccode\u003e.max()\u003c/code\u003egibt den höchsten Wert des Datensets für die Anzahl der Fahrradausleihen pro Stunde wieder. In diesem Fall sind es 3556 Ausleihen.\u003cbr\u003e\\n\",","    \"Die durchschnittliche Anzahl \u003ccode\u003e.mean()\u003c/code\u003e der Fahrradausleihen beträgt rund 704,60 pro Stunde/Uhrzeit. Da man für die Berechnung des Mittelwerts alle einzelnen Werte addiert und die Summe anschließend durch deren Anzahl teilt, ist dieser Wert empfindlich gegenüber Ausreißern, also sehr hohen und sehr niedrigen Werten. Dieser Umstand hat eine mögliche Verzerrung des Ergebnisses zur Folge. \\n\",","    \"\u003cbr\u003e\\n\",","    \"Der Median \u003ccode\u003e.median()\u003c/code\u003e wird hingegen nicht wie der Mittelwert berechnet. Die Datenreihe wird zunächst der Größe nach geordnet. Wenn die Anzahl der Datenpunkte ungerade ist, ist der Median der mittlere Wert. Wenn die Anzahl der Datenpunkte gerade ist, ist der Median der Durchschnitt der beiden mittleren Werte. Da der Median in diesem Fall 504,5 beträgt, liegt er zwischen den Werten 504 und 505.\\n\",","    \"\u003cbr\u003e\\n\",","    \"Der Minimalwert \u003ccode\u003e.min()\u003c/code\u003e gibt den niedrigsten Wert der Verteilung an. In diesem Fall gibt es mindestens eine Stunde in der es 0 Ausleihen gab.\\n\",","    \"\u003c/details\u003e\"","   ]","  },","  {","   \"cell_type\": \"markdown\",","   \"id\": \"6eeff64f\",","   \"metadata\": {},","   \"source\": [","    \"\u003cb\u003eOffene Frage\u003c/b\u003e: Grundsätzlich haben wir uns gerade einen Überblick über 365 Tage verschafft. Wenn wir uns überlegen, wie viele Fahrradausleihen an einem bestimmten Tag bzw. zu einer bestimmten Stunde zu erwarten sind, wie nützlich hältst du die bisher berechneten statistischen Kennzahlen? Wie schätzt du den Einfluss weiterer Spalten wie Temperatur, Luftfeuchtigkeit etc. in diesem Zusammenhang ein?\"","   ]","  },","  {","   \"cell_type\": \"markdown\",","   \"id\": \"a6f51358\",","   \"metadata\": {},","   \"source\": [","    \"## Wie viele Fahrradausleihen haben den Wert \u003ccode\u003e0\u003c/code\u003e und warum?\"","   ]","  },","  {","   \"cell_type\": \"markdown\",","   \"id\": \"af1b2add\",","   \"metadata\": {},","   \"source\": [","    \"Bevor weitere mathematische bzw. statistische Ansätze bemüht werden, wirft insbesondere der Output der Methode \u003ccode\u003e.min()\u003c/code\u003e die Frage auf: Wie oft taucht der Wert \u003ccode\u003e0\u003c/code\u003e auf? Hat er eine spezielle Bedeutung?\"","   ]","  },","  {","   \"cell_type\": \"markdown\",","   \"id\": \"a4f2e6db\",","   \"metadata\": {},","   \"source\": [","    \"### Ein neues Dataframe erstellen: \u003ccode\u003ezero_df\u003c/code\u003e\"","   ]","  },","  {","   \"cell_type\": \"markdown\",","   \"id\": \"ca81a530\",","   \"metadata\": {},","   \"source\": [","    \"Um der Frage nachgehen zu können, wenden wir einen Filter auf das \u003ccode\u003eDataFrame\u003c/code\u003e an. Dieser Filter enthält die Bedingung, dass alle Einträge gelistet werden, die \u003ccode\u003e0\u003c/code\u003e Ausleihen beinhalten. Wir speichern dieses neue \u003ccode\u003eDataFrame\u003c/code\u003e als Variable\u003ccode\u003ezero_df\u003c/code\u003eab, um damit weitere Analysen durchzuführen. Wichtig: Es ist durchaus oft zu sehen, dass auf \u003ccode\u003e.copy()\u003c/code\u003everzichtet wird. In den meisten Fällen wird nichts passieren. Allerdings besteht bei komplexeren Datenverarbeitungsprozessen die Gefahr, dass Daten weiterhin mit \u003ccode\u003edf\u003c/code\u003e verbunden sind und \u003ccode\u003ezero_df\u003c/code\u003e verfälschen könnte. Mit \u003ccode\u003e.copy()\u003c/code\u003e stellen wir sicher, dass ein neues DataFrame erzeugt wird und wir nicht versehentlich Daten manipulieren.\"","   ]","  },","  {","   \"cell_type\": \"markdown\",","   \"id\": \"07b0d385\",","   \"metadata\": {},","   \"source\": [","    \"👇 Führe die Zeile Code aus. \"","   ]","  },","  {","   \"cell_type\": \"code\",","   \"execution_count\": null,","   \"id\": \"0ab632f5\",","   \"metadata\": {},","   \"outputs\": [],","   \"source\": [","    \"zero_df=df[df[\\\"Rented Bike Count\\\"]==0].copy()\\n\",","    \"zero_df\"","   ]","  },","  {","   \"cell_type\": \"markdown\",","   \"id\": \"780e454f\",","   \"metadata\": {},","   \"source\": [","    \"\u003cb\u003eFrage:\u003c/b\u003e Wir sehen, dass es 295 Einträge gibt, die 0 Fahrradausleihen haben. Siehst du anhand der oben gezeigten Einträge, woran es liegen könnte?\"","   ]","  },","  {","   \"cell_type\": \"markdown\",","   \"id\": \"e9c26eb7\",","   \"metadata\": {},","   \"source\": [","    \"\u003cdetails\u003e\\n\",","    \"    \u003csummary\u003e\u0026#x1F449;  Hier klicken, um einen Lösungsvorschlag zu sehen \u0026#x1F448;\u003c/summary\u003e \\n\",","    \"Die bisher in der Spalte \u003ccode\u003eHour\u003c/code\u003e ausgegebenen Werte deuten darauf hin, dass die Ausleihe eines Fahrrads entweder sehr früh oder sehr spät am Tag stattgefunden haben könnte. Das Datum in der Spalte \u003ccode\u003eDate\u003c/code\u003e scheint konstant zu sein und zeigt bisher zwei verschiedene \\\"Daten\\\" an.\\n\",","    \"\u003c/details\u003e\"","   ]","  },","  {","   \"cell_type\": \"markdown\",","   \"id\": \"b6a9f305\",","   \"metadata\": {},","   \"source\": [","    \"Es gibt hier verschiedene Wege, um eine Erklärung zu finden, warum es keine Fahrradausleihen gab. \"","   ]","  },","  {","   \"cell_type\": \"markdown\",","   \"id\": \"f4cf443d\",","   \"metadata\": {},","   \"source\": [","    \"Wir können uns zunächst verschiedene Spalten im \u003ccode\u003ezero_df\u003c/code\u003e anschauen. Nehmen wir uns einmal das Datum vor. Ein Datum kann bis zu 24 mal vorkommen, da jede Stunde vom Ausleihtag dokumentiert wurde. Möchten wir uns das jetzt für alle 295 Einträge anschauen, wird es schnell unübersichtlich, da wir tatsächlich alle 295 Einträge anschauen müssten. Allerdings zeigt die obige Ansicht des \u003ccode\u003ezero_df\u003c/code\u003e an, dass ein Datum (z.B. 11/04/2018) häufiger vorkommt.\"","   ]","  },","  {","   \"cell_type\": \"markdown\",","   \"id\": \"2d27c16c\",","   \"metadata\": {},","   \"source\": [","    \"Wir können in diesem Fall die Methode \u003ccode\u003e.unique()\u003c/code\u003e verwenden. Anstelle 295 Datumseinträge mit z.T. mehreren Einträgen pro Datum anzuzeigen, wird nun so jedes \\\"einzigartige\\\" Datum angezeigt. \"","   ]","  },","  {","   \"cell_type\": \"markdown\",","   \"id\": \"18e68384\",","   \"metadata\": {},","   \"source\": [","    \"\u003cb\u003eDein Code\u003c/b\u003e: Wende die Methode \u003ccode\u003e.unique()\u003c/code\u003e auf die Spalte \u003ccode\u003eDate\u003c/code\u003e des neuen \u003ccode\u003eDataFrame\u003c/code\u003e namens \u003ccode\u003ezero_df\u003c/code\u003e an.\"","   ]","  },","  {","   \"cell_type\": \"code\",","   \"execution_count\": null,","   \"id\": \"c012c9dd\",","   \"metadata\": {},","   \"outputs\": [],","   \"source\": [","    \"# dein Code\\n\"","   ]","  },","  {","   \"cell_type\": \"markdown\",","   \"id\": \"32a5d981\",","   \"metadata\": {},","   \"source\": [","    \"\u003cdetails\u003e\\n\",","    \"    \u003csummary\u003e\u0026#x1F449;  Hier klicken, um einen Lösungsvorschlag zu sehen \u0026#x1F448;\u003c/summary\u003e\\n\",","    \"\\n\",","    \"```python\\n\",","    \"zero_df[\\\"Date\\\"].unique()\\n\",","    \"```    \\n\",","    \"\u003ccode\u003earray(['11/04/2018', '10/05/2018', '18/09/2018', '19/09/2018',\\n\",","    \"       '28/09/2018', '30/09/2018', '02/10/2018', '04/10/2018',\\n\",","    \"       '06/10/2018', '09/10/2018', '03/11/2018', '06/11/2018',\\n\",","    \"       '09/11/2018'], dtype=object)\u003c/code\u003e\\n\",","    \"    \u003cbr\u003eDank der Methode \u003ccode\u003e.unique()\u003c/code\u003esehen wir, dass nur die aufgeführten 13 Tage betroffen sind. In welchem Umfang und warum, ergründen wir gleich.\\n\",","    \"    \u003c/details\u003e\"","   ]","  },","  {","   \"cell_type\": \"markdown\",","   \"id\": \"4049a5ed\",","   \"metadata\": {},","   \"source\": [","    \"\u003cb\u003eFrage:\u003c/b\u003e Das Datum ist als\u003ccode\u003edtype=object\u003c/code\u003e gespeichert. Was bedeutet das? \"","   ]","  },","  {","   \"cell_type\": \"markdown\",","   \"id\": \"8bd898dc\",","   \"metadata\": {},","   \"source\": [","    \"\u003cdetails\u003e\\n\",","    \"    \u003csummary\u003e\u0026#x1F449;  Hier klicken, um einen Lösungsvorschlag zu sehen \u0026#x1F448;\u003c/summary\u003e\\n\",","    \"Der \u003ccode\u003eDatentyp object\u003c/code\u003e weist darauf hin, dass die hier hinterlegten Datumseinträge als \\\"String\\\" behandelt werden und nicht als Zahl oder gar als Datum. Ein String ist dadurch gekennzeichnet, dass er innerhalb von \u003cb\u003e\\\" \\\"\u003c/b\u003e oder \u003cb\u003e' '\u003c/b\u003esteht, und wird in der Regel für Text verwendet. Wie in diesem Beispiel gezeigt, können auch Datumsangaben so ausgegeben werden. Um mathematische bzw. statistische Verfahren darauf anwenden zu lassen, müssten sie umgewandelt werden. Die Hilfsbibliothek \u003ccode\u003eDateTime\u003c/code\u003e empfiehlt sich für das Arbeiten mit Datumsangaben und kann entsprechende Datumsangaben vom String-Format in Datumsobjekte umwandeln. Das erleichtert weitere Bearbeitungen, und es kann unmittelbar nach Tagen, Monaten oder Jahren gefiltert werden. Für dieses Notebook ist sie zunächst nicht relevant, sollte aber beachtet werden, insbesondere wenn Datumsangaben eine Rolle bei der Verarbeitung bzw. Analyse spielen sollen.\\n\",","    \"    \u003c/details\u003e\"","   ]","  },","  {","   \"cell_type\": \"markdown\",","   \"id\": \"f4fb89c7\",","   \"metadata\": {},","   \"source\": [","    \"Es gibt also 13 Tage, an denen es zu bestimmten Stunden keine Fahrradausleihen gab. Angesichts der 295 Einträge für \\\"Stunden\\\" im \u003ccode\u003ezero_df\u003c/code\u003e liegt der Schluss nahe, dass bestimmte Tage überhaupt keine Werte enthalten. Das können wir nochmals überprüfen. \"","   ]","  },","  {","   \"cell_type\": \"markdown\",","   \"id\": \"f127119c\",","   \"metadata\": {},","   \"source\": [","    \"### Mit \u003ccode\u003e.groupby()\u003c/code\u003e und \u003ccode\u003e.count()\u003c/code\u003e das \u003ccode\u003ezero_df\u003c/code\u003e überprüfen\"","   ]","  },","  {","   \"cell_type\": \"markdown\",","   \"id\": \"663d6816\",","   \"metadata\": {},","   \"source\": [","    \"Mit \u003ccode\u003e.groupby()\u003c/code\u003e kann man Daten gruppieren. Die Zielspalte wird innerhalb der runden Klammern \u003cb\u003e( )\u003c/b\u003e angegeben. Es können auch mehrere Spalten als Liste übermittelt werden. Im Wesentlichen passiert etwas ähnliches wie zuvor mit der Methode \u003ccode\u003e.unique()\u003c/code\u003e und zwar dahingehend, dass die \\\"einzigartigen\\\" Werte bestehen bleiben. Da wir im \u003ccode\u003eDataFrame\u003c/code\u003e wieder mehrere Features haben, muss eine Methode gewählt werden, die bestimmt, wie die Features zusammengeführt werden. Wie diese Zusammenführung der Spalten hinsichtlich dieser einzigartigen Werte geschieht, wird beispielsweise durch die oben bereits kennengelernten statistischen Methoden, wie \u003ccode\u003e.min()\u003c/code\u003e oder \u003ccode\u003e.max()\u003c/code\u003e, festgelegt. In unserem Fall nutzen wir die Methode \u003ccode\u003e.count()\u003c/code\u003e, die keine statistischen Werte wie Minimum oder Maximum für die vorhandenen Einträge je Datum ausgibt, sondern lediglich deren Anzahl. Taucht das Datum 5 mal in dem Dataframe \u003ccode\u003ezero_df\u003c/code\u003e auf, dann wird der Wert jedes Features für dieses Datum \u003ccode\u003e5\u003c/code\u003e betragen, sofern keine Werte fehlen.\\n\",","    \"Anhand des untenstehenden Codes, der die Methode \u003ccode\u003e.count()\u003c/code\u003e anwendet, sollte es einfacher zu verstehen sein, was passiert.\"","   ]","  },","  {","   \"cell_type\": \"markdown\",","   \"id\": \"907421cb\",","   \"metadata\": {},","   \"source\": [","    \"Um zu sehen, ob für die oben mit \u003ccode\u003e.unique()\u003c/code\u003e ausgegeben Datumsangaben auch bei allen \u003ccode\u003e24\u003c/code\u003e Stunden je \u003ccode\u003e0\u003c/code\u003e Ausleihen gezählt worden sind, wollen wir weiterhin nach der Spalte \u003ccode\u003eDate\u003c/code\u003e gruppieren und nutzen dazu das \u003ccode\u003ezero_df\u003c/code\u003e. Zuvor haben wir für das gesamte Datenset mithilfe der Methode \u003ccode\u003e.count()\u003c/code\u003e gesehen, dass die Anzahl der verzeichneten Werte für die Spalte \u003ccode\u003edf[\\\"Rented Bike Count\\\"]\u003c/code\u003e so groß ist wie die Anzahl an Zeilen im Datenset. Das bedeutet, dass es keine fehlenden Einträge gibt. Fehlende Daten sind in der Regel mit \u003ccode\u003eNaN\u003c/code\u003e gekennzeichnet und würden bei dieser Methode nicht mitgezählt. Es gäbe natürlich auch die Möglichkeit, dass stattdessen ein String-Wert (Text) wie \\\"Keine Angaben\\\" oder Zahlen wie die \u003ccode\u003e0\u003c/code\u003e die gleiche Bedeutung haben. Da bisher alle statistischen Methoden funktioniert haben, können wir aber davon ausgehen, dass nur Zahlenwerte vorhanden sind. Da \u003ccode\u003ezero_df\u003c/code\u003e nur Einträge mit \u003ccode\u003eAusleihe=0\u003c/code\u003e enthält, kann es beim Gruppieren mit \u003ccode\u003e.count()\u003c/code\u003e vorkommen, dass \\\"Lücken\\\" entstehen. Mehr dazu weiter unten.\"","   ]","  },","  {","   \"cell_type\": \"markdown\",","   \"id\": \"35e0e662\",","   \"metadata\": {},","   \"source\": [","    \"👇 Führe die Zeile Code aus, um nach \\\"Date\\\" zu gruppieren und die Einträge zu zählen. \"","   ]","  },","  {","   \"cell_type\": \"code\",","   \"execution_count\": null,","   \"id\": \"fabb1f2b\",","   \"metadata\": {","    \"scrolled\": true","   },","   \"outputs\": [],","   \"source\": [","    \"zero_df.groupby(\\\"Date\\\").count()\"","   ]","  },","  {","   \"cell_type\": \"markdown\",","   \"id\": \"643a5cd7\",","   \"metadata\": {},","   \"source\": [","    \"\u003cb\u003eFrage:\u003c/b\u003e Die Zahl \u003ccode\u003e24\u003c/code\u003e ist am häufigsten in der Spalte \u003ccode\u003edf[\\\"Rented Bike Count\\\"]\u003c/code\u003e vorhanden. Was bedeutet sie und warum kommt sie überall vor? Wie ist die \u003ccode\u003e7\u003c/code\u003e am \u003ccode\u003e06.10.2018\u003c/code\u003e zu interpretieren?\"","   ]","  },","  {","   \"cell_type\": \"markdown\",","   \"id\": \"a8f2b3a7\",","   \"metadata\": {},","   \"source\": [","    \"\u003cdetails\u003e\\n\",","    \"    \u003csummary\u003e\u0026#x1F449;  Hier klicken, um einen Lösungsvorschlag zu sehen \u0026#x1F448;\u003c/summary\u003e\\n\",","    \"Da wir mit dem \u003ccode\u003ezero_df\u003c/code\u003e arbeiten, sehen wir, dass an 13 Tagen zu jeder Uhrzeit die Fahrradausleihe 0 beträgt. Für den 06.10.2018 haben wir nur 7 Einträge, an denen keine Ausleihen stattgefunden haben (somit allerdings 17 dokumentierte Uhrzeiten mit Fahrradverleih).\\n\",","    \"    \u003c/details\u003e\"","   ]","  },","  {","   \"cell_type\": \"markdown\",","   \"id\": \"527aa531\",","   \"metadata\": {},","   \"source\": [","    \"\u003cb\u003eFrage: \u003c/b\u003e Nimm dir ein wenig Zeit und überlege, wie du die \u003ccode\u003e0\u003c/code\u003e nun interpretieren solltest und wie du mit dem Sachverhalt umgehst.\"","   ]","  },","  {","   \"cell_type\": \"markdown\",","   \"id\": \"138b7b1c\",","   \"metadata\": {},","   \"source\": [","    \"\u003cdetails\u003e\\n\",","    \"    \u003csummary\u003e\u0026#x1F449;  Hier klicken, um einige Anregungen zu erhalten \u0026#x1F448;\u003c/summary\u003e\\n\",","    \"    \u003cb\u003e Anregungen\u003c/b\u003e \u003cbr\u003e\\n\",","    \"1. Grundsätzlich sollte man zunächst in der zum Datensatz bereitgestellten Dokumentation bzw. dem bereitgestellten Codebook nachsehen, was eine \\\"0\\\" bedeutet und ob und wie auf die Tage eingegangen wird. \u003cbr\u003e\\n\",","    \"2. Bei den Daten könnte es sich um Tage handeln, die eine besondere Bedeutung haben. Das könnten Feiertage sein oder die \\\"Suneung\\\" (수능), eine der wichtigsten Prüfungen in Südkorea ist. \u003cbr\u003e\\n\",","    \"    \u003c/details\u003e\"","   ]","  },","  {","   \"cell_type\": \"markdown\",","   \"id\": \"62597615\",","   \"metadata\": {},","   \"source\": [","    \"\u003cdetails\u003e\\n\",","    \"    \u003csummary\u003e\u0026#x1F449;  Hier klicken, um Lösungsvorschläge zu den Anregungen zu sehen\u0026#x1F448;\u003c/summary\u003e\\n\",","    \"Tatsächlich geht das Codebook bzw. die Dokumentation allenfalls indirekt darauf ein. Lediglich die letzte Spalte \u003ccode\u003e\\\"Functioning Day\\\"\u003c/code\u003e deutet darauf hin, dass es offenbar Tage gibt, an denen der Service nicht in Betrieb war. Vielleicht gab es Wartungsarbeiten? Übrigens, mit \u003ccode\u003edf[df[\\\"Functioning Day\\\"]==\\\"No\\\"].groupby(\\\"Date\\\").count()\u003c/code\u003e würden wir mit unserem \\\"normalen\\\" \u003ccode\u003edf\u003c/code\u003e, die gleichen Ergebnisse wie oberhalb erhalten. Das heißt also, dass es zu jeder Uhrzeit im Gesamtdatensatz Fahrradausleihen gibt, außer zu den Tagen und den entsprechenden Uhrzeiten, die auch als \u003ccode\u003e\\\"Functioning Day\\\"\u003c/code\u003e markiert sind bzw. für die das Feature „Functioning Day“ den Wert \u003ccode\u003eNo\u003c/code\u003e aufweist.\\n\",","    \"\u003c/details\u003e\"","   ]","  },","  {","   \"cell_type\": \"code\",","   \"execution_count\": null,","   \"id\": \"a8f57413\",","   \"metadata\": {},","   \"outputs\": [],","   \"source\": [","    \"# Probiere den Code aus\\n\"","   ]","  },","  {","   \"cell_type\": \"markdown\",","   \"id\": \"25a44b42\",","   \"metadata\": {},","   \"source\": [","    \"\u003cdetails\u003e\\n\",","    \"    \u003csummary\u003e\u0026#x1F449;  Hier klicken, um Lösungsvorschläge für die zweite Anregung zu sehen \u0026#x1F448;\u003c/summary\u003e\\n\",","    \"Zwar haben wir oben geklärt, dass die Spalte \u003ccode\u003eFunctioning Day\u003c/code\u003e ausschlaggebend dafür ist, dass es keine Ausleihen gibt, aber vielleicht existieren noch weitere Zusammenhänge. Man könnte überlegen, ob die Spalte \u003ccode\u003e\\\"Holiday\\\"\u003c/code\u003e damit zusammenhängt. So ist anzunehmen, dass auch der Betrieb des Fahrradverleihs an Feiertagen ruht ... oder vielleicht gerade nicht? Wir können uns die Festtage beispielsweise so anzeigen lassen: \u003ccode\u003edf[df[\\\"Holiday\\\"]=='Holiday'][\\\"Date\\\"].unique()\u003c/code\u003e.  Gibt es Überschneidungen mit den Daten, an denen es keine Ausleihe gab?\\n\",","    \"    \u003c/details\u003e\"","   ]","  },","  {","   \"cell_type\": \"code\",","   \"execution_count\": null,","   \"id\": \"a1c737be\",","   \"metadata\": {},","   \"outputs\": [],","   \"source\": [","    \"# Probiere den Code aus\\n\"","   ]","  },","  {","   \"cell_type\": \"markdown\",","   \"id\": \"82b688ba\",","   \"metadata\": {},","   \"source\": [","    \"Bis zu diesem Punkt haben wir uns bereits einige Kennzahlen zur Spalte \u003ccode\u003edf[\\\"Rented Bike Count\\\"]\u003c/code\u003e angeschaut. Für einen besseren Überblick wird im folgenden Abschnitt die Möglichkeiten genutzt, bestimmte Features in Zusammenhang mit der Fahrradausleihe zu visualisieren.\"","   ]","  },","  {","   \"cell_type\": \"markdown\",","   \"id\": \"415f3e7c\",","   \"metadata\": {},","   \"source\": [","    \"# Auf einen Blick: Zur Nutzung von Visualisierungen\"","   ]","  },","  {","   \"cell_type\": \"markdown\",","   \"id\": \"33d959b8\",","   \"metadata\": {},","   \"source\": [","    \"In diesem Abschnitt betrachten wir die Daten noch einmal mithilfe von Visualisierungsmöglichkeiten. Es werden drei Visualisierungen vorgestellt, die prinzipiell auch angepasst werden können. Unser Hauptaugenmerk liegt jedoch auf der Beantwortung von Fragen, die anhand dieser Visualisierungen gestellt werden können.\"","   ]","  },","  {","   \"cell_type\": \"markdown\",","   \"id\": \"dd54a8e7\",","   \"metadata\": {},","   \"source\": [","    \"##  Visualisierung I: Liniendiagramm zur Fahrradausleihe zu verschiedenen Tageszeiten\"","   ]","  },","  {","   \"cell_type\": \"markdown\",","   \"id\": \"2fdd1c84\",","   \"metadata\": {},","   \"source\": [","    \"Das Liniendiagramm ist eine der grundlegendsten Diagrammarten. In der Regel bildet dieses Diagramm eine Linie auf Basis von verschiedenen Datenpunkten und zeigt damit im Wesentlichen die Beziehungen zweier Variablen.\"","   ]","  },","  {","   \"cell_type\": \"markdown\",","   \"id\": \"4898f157\",","   \"metadata\": {},","   \"source\": [","    \"Zuvor haben wir mit \u003ccode\u003e.mean()\u003c/code\u003e einen Durchschnittswert der Fahrradausleihe für das gesamte Jahr berechnet. Allerdings liegt nahe, dass auch die Uhrzeit eine wichtige Rolle bei der Anzahl der Ausleihen hat. Im Folgenden erstellen wir daher ein Diagramm, welches lediglich \u003ccode\u003eHour\u003c/code\u003e und \u003ccode\u003eRented Bike Count\u003c/code\u003e zeigt. Dabei stellen wir mit \u003ccode\u003eestimator='mean'\u003c/code\u003e ein, dass für jede Stunde/Uhrzeit der Durchschnitt aller im Datensatz berücksichtigten 365 Tage gebildet wird.\"","   ]","  },","  {","   \"cell_type\": \"markdown\",","   \"id\": \"60d5d85f\",","   \"metadata\": {},","   \"source\": [","    \"👇 Führe die Zeile Code aus, um das Diagramm ausgeben zu lassen.\"","   ]","  },","  {","   \"cell_type\": \"code\",","   \"execution_count\": null,","   \"id\": \"ff18129e\",","   \"metadata\": {},","   \"outputs\": [],","   \"source\": [","    \"plt.figure(figsize=(12, 6)) \\n\",","    \"sns.lineplot(data=df, x='Hour', y='Rented Bike Count', estimator='mean') \\n\",","    \"plt.title('Durchschnittliche Anzahl der gemieteten Fahrräder pro Stunde') \\n\",","    \"plt.xlabel('Stunde') \\n\",","    \"plt.ylabel('Durchschnittliche Anzahl der Vermietungen') \\n\",","    \"plt.xticks(range(0, 24)) \\n\",","    \"plt.grid(True) \\n\",","    \"plt.show() \"","   ]","  },","  {","   \"cell_type\": \"markdown\",","   \"id\": \"5d958f80\",","   \"metadata\": {},","   \"source\": [","    \"\u003cb\u003eFragen\u003c/b\u003e:\\n\",","    \"- Wann wurden die meisten Fahrten durchgeführt?\\n\",","    \"- Wann wurden die wenigsten Fahrten durchgeführt?\\n\",","    \"- Welcher Zusammenhang könnte zwischen der frühen Spitze und der späten Spitze bestehen? \\n\",","    \"- Schauen wir uns noch einmal das Ergebnis des Mittelwerts für das gesamte Jahr an: Zu welchen Uhrzeiten liegt dieser Wert 704.60 vor?\\n\",","    \"- Auf welche Probleme können wir stoßen, wenn wir den Mittelwert als unseren Orientierungswert für die \u003cu\u003eBereitstellung von Fahrrädern\u003c/u\u003e für einen beliebigen Tag nutzen? \\n\",","    \"- Überlege nochmals anhand der Art und Weise, wie die Daten eingetragen sind, ob das Liniendiagramm oberhalb aussagekräftig ist oder in dieser Form zu Missverständnissen führt, insbesondere im Hinblick auf die \u003cu\u003eBereitstellung von Fahrrädern zu bestimmten Uhrzeiten\u003c/u\u003e.\"","   ]","  },","  {","   \"cell_type\": \"markdown\",","   \"id\": \"e1d96c80\",","   \"metadata\": {},","   \"source\": [","    \"\u003cdetails\u003e\\n\",","    \"    \u003csummary\u003e\u0026#x1F449;  Hier klicken, um einen Lösungsvorschlag zu sehen \u0026#x1F448;\u003c/summary\u003e\\n\",","    \"Das Liniendiagramm hat den Höhepunkt bei Stunde 18 und die niedrigsten Werte bei den Stunden 4 und 5. Die erste Spitze findet sich bei Stunde 8 und die zweite bei Stunde 18, dem besagten Höchstwert. Vermutlich hängt dies mit dem Arbeitsbeginn und dem Feierabend eines Großteils der Menschen in Seoul zusammen. Der Jahresdurchschnittswert von 704,60 wird etwa zwischen den Stunden 7 und 8 sowie 8 und 9 erreicht, ebenso zu den Stunden 12 und 23. Für die Bereitstellung von Fahrrädern kann dieses Diagramm insofern nützlich sein, als man daraus ablesen kann, zu welchen Tageszeiten durchschnittlich wie viele Fahrradausausleihen zu erwarten sind bzw. Fahrräder benötigt werden. Allerdings bleiben hierbei alle anderen Variablen unberücksichtigt. Als Entscheidungsgrundlage für den Verleih an einem bestimmten Tag eignet sich das Liniendiagramm in dieser Form möglicherweise nicht, da es anzeigt, dass ab Stunde \u003ccode\u003e18\u003c/code\u003e weniger Verleihe stattfinden. Die Stundenangabe \u003ccode\u003eHour\u003c/code\u003e bezieht sich jedoch sehr wahrscheinlich auf den gesamten Zeitraum der Stunde, also für \u003ccode\u003e18\u003c/code\u003e von 18:00 Uhr bis 18:59 Uhr oder für \u003ccode\u003e0\u003c/code\u003e von 00:00 Uhr bis 00:59 Uhr. Dementsprechend wäre erst ab 19:00 Uhr mit weniger Ausleihen zu rechnen. Die Verwendung eines Balkendiagramms oder das Verschieben des Graphen könnte dem entgegenwirken.\\n\",","    \"    \u003c/details\u003e\"","   ]","  },","  {","   \"cell_type\": \"markdown\",","   \"id\": \"dc0b9e80\",","   \"metadata\": {},","   \"source\": [","    \"## Visualisierung II: Streudiagramm zum Zusammenhang von Fahrradausleihe und Temperatur pro Stunde\"","   ]","  },","  {","   \"cell_type\": \"markdown\",","   \"id\": \"039b3a6d\",","   \"metadata\": {},","   \"source\": [","    \"Wie sich gezeigt hat, ist die Uhrzeit ein wichtiger Faktor, um zu bestimmen, wie viele Fahrräder ausgeliehen werden. Allerdings können sich sowohl die Temperatur als auch die Jahreszeit darauf auswirken, wie oft Fahrräder ausgeliehen werden. Im Streudiagramm unterhalb haben wir genau das abgebildet. Im Gegensatz zum Liniendiagramm sind die einzelnen Punkte im Streudiagramm zwar auch eingetragen, aber nicht miteinander verbunden. Damit lassen sich z.B. anhand großer \\\"Datenpunkte\\\"  Trends erkennen - hoffentlich!\"","   ]","  },","  {","   \"cell_type\": \"markdown\",","   \"id\": \"87c22a97\",","   \"metadata\": {},","   \"source\": [","    \"👇 Führe die Zeile Code aus, um das Diagramm erstellen zu lassen.\"","   ]","  },","  {","   \"cell_type\": \"code\",","   \"execution_count\": null,","   \"id\": \"d0455e04\",","   \"metadata\": {},","   \"outputs\": [],","   \"source\": [","    \"plt.figure(figsize=(12, 6)) \\n\",","    \"palette = sns.color_palette(\\\"colorblind\\\")\\n\",","    \"c1 = palette[0]\\n\",","    \"c2 = palette[1]\\n\",","    \"c3 = palette[2]\\n\",","    \"c4 = palette[4]\\n\",","    \"sns.scatterplot(data=df, x='Temperature(°C)', y='Rented Bike Count',hue=\\\"Seasons\\\",palette=[c1,c2,c3,c4],s=15) \\n\",","    \"plt.title('Gemietete Fahrräder zur Temperatur') \\n\",","    \"plt.xlabel('Temperatur in °C') \\n\",","    \"plt.ylabel('Anzahl der Vermietungen')\\n\",","    \"plt.xticks()\\n\",","    \"plt.grid(True) \\n\",","    \"plt.show() \"","   ]","  },","  {","   \"cell_type\": \"markdown\",","   \"id\": \"990794c9\",","   \"metadata\": {},","   \"source\": [","    \"\u003cb\u003eFragen\u003c/b\u003e:\\n\",","    \"- Wie viele Punkte sollte es hier zu sehen geben? (Wichtig: Einige Punkte überlagern sich)\\n\",","    \"- Angenommen, in einer Stunde wurden 2000 Fahrräder ausgeliehen und eine Temperatur von 20 Grad gemessen. Wo würde dieser Punkt liegen? Welche Farbe könnte der Punkt haben? Wofür stehen die Farben?\\n\",","    \"- Was ist die höchste und was die niedrigste Temperatur? \\n\",","    \"- Wie würdest du die Ausprägung der vier Jahreszeiten interpretieren?\\n\",","    \"- Wie würdest du die Beziehung zwischen Temperatur und Fahrradausleihe beschreiben?\"","   ]","  },","  {","   \"cell_type\": \"markdown\",","   \"id\": \"cddcfa3d\",","   \"metadata\": {},","   \"source\": [","    \"\u003cdetails\u003e\\n\",","    \"    \u003csummary\u003e\u0026#x1F449;  Hier klicken, um einen Lösungsvorschlag zu sehen \u0026#x1F448;\u003c/summary\u003e\\n\",","    \"Im Streudiagramm sind insgesamt so viele Punkte abgebildet, wie im Datenset existieren, also 8760. Exakt auf dem Datenpunkt (2000,20) gibt es keinen Datenpunkt. Allerdings liegen von jeder Jahreszeit, außer Winter, Punkte in der Nähe vor. Die niedrigste Temperatur liegt bei etwa -18°C und die höchste bei etwa 39°C. Die vier Jahreszeiten sind teilweise recht gut voneinander abgrenzbar, zumindest hinsichtlich der Temperaturen. Der Winter zeigt fast exklusiv Minusgrade und scheint bis maximal 10°C zu reichen, während die Temperaturen sowohl im Frühling als auch im Herbst vorwiegend zwischen 0°C und 20°C liegen, aber auch darüber. Im Sommer dagegen scheinen die Temperaturen überwiegend zwischen 20°C und 30°C zu liegen, vereinzelt auch darüber. Zu beachten ist hier, dass jede Uhrzeit mit einem eigenen Punkt abgebildet ist, also auch die Temperaturen in der Nacht in die Darstellung eingehen. Für die Fahrradausleihe zeigt sich mit diesem Diagramm, dass die Anzahl der Ausleihen mit steigenden Temperaturen zunehmen. In unserem Fall sieht es aus, als ob der Höhepunkt bei etwa 27°C mit den meisten Ausleihen erreicht ist. Steigt die Temperatur über diesen Punkt, nehmen die Ausleihen mit zunehmender Wärme immer weiter ab. \\n\",","    \"    \u003c/details\u003e\"","   ]","  },","  {","   \"cell_type\": \"markdown\",","   \"id\": \"0cefc693\",","   \"metadata\": {},","   \"source\": [","    \"## Visualisierung III: Violinplot - Ein differenzierter Blick auf die vier Jahreszeiten\"","   ]","  },","  {","   \"cell_type\": \"markdown\",","   \"id\": \"330c6d6e\",","   \"metadata\": {},","   \"source\": [","    \"Eine Möglichkeit, sowohl mehrere Variablen als auch statistische Kennwerte zu visualisieren, ist ein sogenannter Violin- bzw. Geigenplot. Der von uns im Folgenden erzeugte Violinplot zeigt die Ausleihen nach Jahreszeiten. Schau ihn dir an, bevor du dich den Fragen widmest. Durch die Art und Weise, wie der Plot erzeugt wird, können tatsächlich Werte unter 0 angezeigt werden, die wir jedoch mit \u003ccode\u003ecut=0\u003c/code\u003e abschneiden.\"","   ]","  },","  {","   \"cell_type\": \"markdown\",","   \"id\": \"ba786286\",","   \"metadata\": {},","   \"source\": [","    \"👇 Führe die Zeile Code aus, um das Diagramm darstellen zu lassen.\"","   ]","  },","  {","   \"cell_type\": \"code\",","   \"execution_count\": null,","   \"id\": \"4bfd582c\",","   \"metadata\": {},","   \"outputs\": [],","   \"source\": [","    \"plt.figure(figsize=(12, 6)) \\n\",","    \"sns.violinplot(data=df, y=\\\"Rented Bike Count\\\", x=\\\"Seasons\\\",cut=0)\\n\",","    \"plt.title('Verteilung der Fahrradverleihe über die Jahreszeiten') \\n\",","    \"plt.grid(True)\\n\",","    \"plt.xlabel('Jahreszeit') \\n\",","    \"plt.ylabel('Anzahl der Fahrradvermietungen') \\n\",","    \"plt.show() \"","   ]","  },","  {","   \"cell_type\": \"markdown\",","   \"id\": \"bae3447f\",","   \"metadata\": {},","   \"source\": [","    \"\u003cb\u003eFragen:\u003c/b\u003e\\n\",","    \"- Was bedeutet die Länge jeder \\\"Geige\\\"?\\n\",","    \"- Wofür steht die Farbe der jeweils ausgemalten Fläche? Warum ist die Fläche an manchen Stellen schmaler und an anderen Stellen weiter geformt?\\n\",","    \"- Innerhalb der Violine sind einige Merkmale zu sehen: eine dünne Linie oberhalb und unterhalb einer dickeren Linie sowie ein weißer Punkt. Wie heißen diese Bestandteile und wofür stehen sie? Warum beginnen und enden sie dort, wo sie abgebildet sind?\\n\",","    \"- Was lässt sich grob anhand der Darstellung der Fahrradausleihen nach Jahreszeiten sagen? Wie würdest du die Bereitstellung von Fahrrädern im Winter und im Sommer gestalten?\"","   ]","  },","  {","   \"cell_type\": \"markdown\",","   \"id\": \"c00ed712\",","   \"metadata\": {},","   \"source\": [","    \"\u003cdetails\u003e\\n\",","    \"    \u003csummary\u003e\u0026#x1F449;  Hier klicken, um einen Lösungsvorschlag zu sehen \u0026#x1F448;\u003c/summary\u003e\\n\",","    \"Ein Violinplot eignet sich insbesondere dafür, statistische Kennzahlen darstellen zu lassen. Die \\\"Höhe\\\" der \\\"Geigen\\\" zeigt den Maximalwert an und der \\\"Boden\\\" den Minimalwert. Die Dicke der \\\"Violinen\\\" zeigt die Dichte der Datenpunkte an (d.h. deren Anzahl bezogen auf den jeweiligen Wert der y-Achse), welche beispielsweise im Winter bei etwa 250 Ausleihen am höchsten ist und nachfolgend immer niedriger wird. Das Maximum liegt bei etwas unter 1000 Fahrradausleihen. Der weiße Punkt innerhalb der Violinen zeigt den Median, also nicht das arithmetische Mittel aller Einträge, sondern den genau in der Mitte liegenden aller Datenpunkte. Er ist weniger anfällig gegenüber Ausreißern, also extremen Datenwerten, und zeigt eine robuste zentrale Tendenz an. Die die dickere Linie, die den Median umgibt, sowie die dünneren Linien, die sich jeweils oberhalb und unterhalb der dickeren befinden, repräsentieren Streumaße der deskriptiven Statistik: Das Erste Quartil (Q1) - die untere dünne Linie - ist der Bereich, in dem unter 25% der Werte liegen, die dünnere Linie oberhalb, das Dritte Quartil (Q3), zeigt die Werte oberhalb der übrigen 75% und die dickere Linie in der Mitte ist der Interquartilsabstand (IQA), welcher sich aus der Differenz von Q3 und Q1 ergibt und die Verteilung der mittleren 50% der Werte darstellt. \\n\",","    \"    \u003c/details\u003e\"","   ]","  },","  {","   \"cell_type\": \"markdown\",","   \"id\": \"066b82cc\",","   \"metadata\": {},","   \"source\": [","    \"\u003cdiv class=\\\"alert alert-block alert-success\\\"\u003e\\n\",","    \"    🚩\u003cb\u003eFast geschafft!\u003c/b\u003e \u003cbr\u003eIm Folgenden \u003cb\u003efassen wir das Notebook noch einmal kurz zusammen\u003c/b\u003e und zeigen einen \u003cb\u003eAusblick\u003c/b\u003e anhand von \u003cb\u003ezwei Hauptrichtungen\u003c/b\u003e. \\n\",","    \"\u003c/div\u003e\"","   ]","  },","  {","   \"cell_type\": \"markdown\",","   \"id\": \"7be60b4c\",","   \"metadata\": {},","   \"source\": [","    \"# Rückblick und Ausblick\"","   ]","  },","  {","   \"cell_type\": \"markdown\",","   \"id\": \"a44e3b6c\",","   \"metadata\": {},","   \"source\": [","    \"## Rückblick\"","   ]","  },","  {","   \"cell_type\": \"markdown\",","   \"id\": \"fcd3bd7d\",","   \"metadata\": {},","   \"source\": [","    \"Im Notebook wurde gezeigt, wie man ein unbekanntes Datenset erkundet, welche Fragen man stellen kann und wie entsprechenden mathematischen und statistischen Überlegungen mit Python-Code nachgegangen werden kann. Zu Beginn wurde auf eine Herausforderung aufmerksam gemacht: das Öffnen eines Datensets. Der Hauptfragestellung des Datensets, wann und wie viele Fahrradausleihen zu erwarten sind, haben wir uns \u003cb\u003emit statistischen Kennzahlen und Graphen\u003c/b\u003e genähert. Nach dieser Einführung sollte man ein Verständnis für den Einfluss der Features auf die Fahrradausleihe erworben haben und wissen, wie bei der Untersuchung weiterer Features vorgegangen werden kann. Anhand einiger der oben gezeigten Ergebnisse, kann man der Frage nachgehen, welche typischen Schulzeiten oder Kernarbeitszeiten gelten. Man könnte auch zusätzliche Nachforschungen dazu anstellen, warum die Menschen in Seoul überhaupt Fahrräder ausleihen. Ersetzt das Rad andere Verkehrsmittel oder fahren sie überwiegend kurze Strecken, beispielsweise zur nächsten U-Bahnstation?\u003cbr\u003e\u003cbr\u003e\\n\",","    \"    Wie es weitergehen kann, ist tatsächlich eine wichtige Frage und hängt, wie gezeigt wurde, vom (Forschungs-)Interesse ab. Dir steht es nun frei, wie du ab hier fortfahren möchtest. Grundsätzlich kannst du ein weiteres Notebook erstellen und selbstständig bestimmten Fragen nachgehen. \u003cbr\u003e\u003cbr\u003eIm nun folgenden \u003cb\u003eAusblick\u003c/b\u003e werden \u003cb\u003ezwei weiterführende Ansätze\u003c/b\u003e mit Erläuterungen und anregenden (offenen) Fragestellungen vorgestellt.\"","   ]","  },","  {","   \"cell_type\": \"markdown\",","   \"id\": \"9a9ea454\",","   \"metadata\": {},","   \"source\": [","    \"## Ausblick I: Analyse\"","   ]","  },","  {","   \"cell_type\": \"markdown\",","   \"id\": \"73fb3eca\",","   \"metadata\": {},","   \"source\": [","    \"Anhand der \u003cb\u003emitgelieferten Daten\u003c/b\u003e kann man erkennen, dass die Fragen, die wir an die Daten stellen, unterschiedlich aussagekräftige Antworten liefern. Außerdem kann die Art der Fragen, die wir an die Daten richten, variieren. Bei einfachen Fragestellungen \u003cb\u003e\\\"innerhalb der Daten\\\"\u003c/b\u003e, also solchen Fragen, die allein mithilfe des Datensatzes beantwortet werden können, konnten wir bereits bestimmte Muster erkennen. Weiterführend kann man hier Methoden aus der Statistik anwenden, beispielsweise Inferenzstatistik oder Modelle wie lineare und gemischte Modelle (mixed models). Mit den hier durchgeführten Berechnungen können wir bereits aussagen, dass in diesem Winter deutlich weniger Ausleihen pro Stunde getätigt wurden als in den anderen Jahreszeiten und dass vor und nach Arbeits- bzw. Schulzeiten die meisten Fahrräder ausgeliehen wurden. Können wir daran Prognosen für die zukünftige Fahrradausleihen ableiten?\\n\",","    \"\u003cbr\u003e\\n\",","    \"Während wir im Wesentlichen versucht haben zu ermitteln, wie sich einzelne Features (z.B. die soeben erwähnten \u003ccode\u003eSeason\u003c/code\u003e und \u003ccode\u003eHour\u003c/code\u003e) auf die Fahrradausleihe auswirken, könnte der Datensatz auch an eine Person übergeben werden, mit der Aufgabe, eine Art Jahresbericht zu erstellen. In unserer Beispielrechnung haben wir zumindest den ungefähren Jahresumsatz ermitteln können. Allerdings fehlen für Fragestellungen rund um den Jahresumsatz wesentliche Informationen, die \u003cb\u003e\\\"außerhalb der Daten\\\"\u003c/b\u003e liegen. Das bedeutet, dass wir zusätzliche Daten und Informationen recherchieren bzw. heranziehen müssen, die über den vorliegenden Datensatz hinausgehen.\\n\",","    \"\u003cbr\u003e\\n\",","    \"Neben diesen rein finanziellen Fragestellungen könnten auch die Dauer, der Ort der Ausleihe und der Rückgabeort interessant sein. Damit könnte man begründete Thesen aufstellen, warum Menschen diese Fahrräder ausleihen: Fahren sie damit zur U-Bahn, zur Arbeit, nach Hause oder in eines der angesagten Viertel? Diese Angaben könnten auch für Stadtplaner:innen relevant sein, um entsprechende Stellplätze für diese Art von Fortbewegung bereitzustellen und damit nachhaltige Mobilität großflächig zu ermöglichen. \"","   ]","  },","  {","   \"cell_type\": \"markdown\",","   \"id\": \"f96d6ef8\",","   \"metadata\": {},","   \"source\": [","    \"\u003cb\u003eAnregungen zu weiteren Fragestellungen\u003c/b\u003e:\"","   ]","  },","  {","   \"cell_type\": \"markdown\",","   \"id\": \"a2db689b\",","   \"metadata\": {},","   \"source\": [","    \"- Welche „Spalten“ fehlen dir, um weiteren für dich interessanten Fragestellungen nachgehen zu können?\\n\",","    \"- Bis jetzt haben wir immer von „Arbeits- und Schulbeginn“ und „Feierabend“ gesprochen. Wie schätzt du den Einfluss der Wochentage auf die Ausleihe aus und was ist mit dem Wochenende?\\n\",","    \"- Welche Daten, vermutest du, wurden nicht im Datenset mitgegeben?\\n\",","    \"- Denkst du, dass man anhand der Daten feststellen kann, wie viele Fahrräder es gibt?\"","   ]","  },","  {","   \"cell_type\": \"markdown\",","   \"id\": \"00e58d8a\",","   \"metadata\": {},","   \"source\": [","    \"## Ausblick II: Datenaufbereitung und Erstellung eines KI-Modells\"","   ]","  },","  {","   \"cell_type\": \"markdown\",","   \"id\": \"452fe01c\",","   \"metadata\": {},","   \"source\": [","    \"Mithilfe des Datensets lassen sich noch eine Reihe von Untersuchungen anstellen, insbesondere solche, die sich auf die verfügbaren Kategorien bzw. Features beziehen, wie den Einfluss von Sichtweite, Luftfeuchtigkeit, Regen, Wind oder Feiertage. Während man zunächst ein intuitives Gefühl für jede dieser Kategorien haben kann (z. B. weil man annehmen könnte, dass die wenigsten Menschen gerne bei Regen Fahrrad fahren), können mathematische und weiterführende statistische Untersuchungen genau aufzeigen, welche Features einen wie großen Einfluss auf die Fahrradausleihen haben und welche weniger relevant sind. Einige dieser Ansätze haben wir weiter oben angedeutet.\"","   ]","  },","  {","   \"cell_type\": \"markdown\",","   \"id\": \"969b3e91\",","   \"metadata\": {},","   \"source\": [","    \"Um zu berechnen, wie viele Fahrradausleihen an einem bestimmten Tag und zu einer bestimmten Stunde getätigt werden, kann man überlegen, welche Features ausschlaggebend sind, insbesondere, wenn alle Features gemeinsam betrachtet werden. Dazu gehört auch die Frage, ob und in welcher Weise die Werte der Features überhaupt mathematisch bzw. statistisch weiter aufbereitet werden müssen und ob gegebenenfalls aus vorhandenen Features neue erzeugt werden sollten. Es könnte sinnvoll sein zwischen Werktagen und Wochenenden zu unterscheiden, sofern – nach einer Recherche – beide Begriffe so stark zu trennen sind wie beispielsweise hierzulande. Dies kann auch durch eine genauere Untersuchung der Daten mit statistischen Analysen ermittelt werden und ist somit auch für den Analysepfad interessant.\"","   ]","  },","  {","   \"cell_type\": \"markdown\",","   \"id\": \"0ac6c8fb\",","   \"metadata\": {},","   \"source\": [","    \"Die gerade beschriebenen Überlegungen sind Herangehensweisen und Strategien des sogenannten Feature Engineering sowie der Datenexploration. Sollten wir durch eine Analyse herausfinden, dass sich Werktage und Wochenenden tatsächlich merklich unterscheiden, können wir diese Entdeckung nutzen und eine neue Spalte (also ein neues Feature) mit dieser Unterscheidung im Datenset hinzufügen.\"","   ]","  },","  {","   \"cell_type\": \"markdown\",","   \"id\": \"b8d3a58a\",","   \"metadata\": {},","   \"source\": [","    \"Die beiden in Wechselwirkung stehenden Herangehensweisen zielen in der Regel darauf ab, ein (KI-)Modell zu erstellen, das die mitgelieferten Features durch ein Verfahren und mittels einer Metrik im Zusammenspiel betrachtet, um einen Wert vorherzusagen (\\\"predict\\\"). Die Features neu aufzubereiten kann helfen, exaktere Ergebnisse zu erzielen. Um ein Modell zu trainieren und Anfragen zu stellen, ist es in jedem Fall notwendig, die Werte aller Features maschinenlesbar zu machen: Anstelle von \u003ccode\u003eMontag\u003c/code\u003e und \u003ccode\u003eSonntag\u003c/code\u003e könnten \u003ccode\u003e0\u003c/code\u003e und \u003ccode\u003e6\u003c/code\u003e stehen, anstelle von \u003ccode\u003eUrlaub\u003c/code\u003e \u003ccode\u003e1\u003c/code\u003e und anstelle von \u003ccode\u003ekeinem Urlaub\u003c/code\u003e \u003ccode\u003e0\u003c/code\u003e.\"","   ]","  },","  {","   \"cell_type\": \"markdown\",","   \"id\": \"a2bffd10\",","   \"metadata\": {},","   \"source\": [","    \"Welche Verfahren (z.B. Maschinelles Lernen, Deep Learning) und welche Metriken (z.B. Genauigkeit, Mean Absolute Error) im Bereich der künstlichen Intelligenz für ein bestimmtes Datenset relevant sein könnten, werden im Folgenden nicht behandelt und sind ein Thema für sich. Um dennoch eine Vorstellung von einer solchen Vorhersage zu bekommen, wird in der folgenden Zeile ein Code-Beispiel gezeigt, dass eine Anfrage an ein fertig trainiertes Modell exemplarisch veranschaulicht:\"","   ]","  },","  {","   \"cell_type\": \"markdown\",","   \"id\": \"150c95d7\",","   \"metadata\": {},","   \"source\": [","    \"\u003ccode\u003e  ... \u003c/code\u003e\\n\",","    \"```python\\n\",","    \"values_tomorrow=np.array([[3,7,2024,18,30,30,2.3,2000,24,0,0,0,2,0,1]])\\n\",","    \"predict_tomorrow=model.predict(values_tomorrow)\\n\",","    \"print(\\\"Morgen, am 3. Juli 2024 werden 18 Uhr\\\", predict_tomorrow, \\\"Fahrradausleihen erwartet.\\\")\\n\",","    \" ```\\n\",","    \"Output: \u003ccode\u003e \\\"Morgen, am 3. Juli 2024 werden 18 Uhr 2440 Fahrradausleihen erwartet.\\\" \u003c/code\u003e\"","   ]","  },","  {","   \"cell_type\": \"markdown\",","   \"id\": \"899fb4f8\",","   \"metadata\": {},","   \"source\": [","    \"In diesem exemplarischen Modell wurden alle ursprünglichen Features beibehalten, aber das Feature \u003ccode\u003edate\u003c/code\u003e wurde in \u003ccode\u003eTag\u003c/code\u003e, \u003ccode\u003eMonat\u003c/code\u003e und \u003ccode\u003eJahr\u003c/code\u003e aufgespalten. Außerdem wurden die letzten drei Spalten in numerische Werte überführt, sodass beispielsweise die Jahreszeit \u003ccode\u003e'Summer'\u003c/code\u003e nun der Zahl \u003ccode\u003e2\u003c/code\u003e entspricht. Das Modell errechnet für das Datum 3. Juli 2024 um 18 Uhr eine erwartete Fahrradausleihe von \u003ccode\u003e2440\u003c/code\u003e. Je nach Wahl der Metrik und der Parameter wird beim Training eines solchen Modells auf unterschiedliche Gütemaße Wert gelegt, und die Vorhersage wird immer wieder mit einem Teil der verfügbaren Daten abgeglichen. Je näher die Vorhersage an den tatsächlichen Werten liegt, desto stärker wird angenommen, dass das Modell auch in Zukunft „richtig“ liegen wird!\"","   ]","  },","  {","   \"cell_type\": \"markdown\",","   \"id\": \"25ab904a\",","   \"metadata\": {},","   \"source\": [","    \"\u003cdiv class=\\\"alert alert-block alert-success\\\"\u003e\\n\",","    \"    Die Erstellung des noch zu justierenden KI-Modells kann ein Lösungsansatz sein, um die Hauptaufgabe zu erfüllen - zur Erinnerung:\u003cbr\u003e \u003cb\u003e\\\"The crucial part is the prediction of bike count required at each hour for the stable supply of rental bikes.\\\" \u003ca href=\\\"https://archive.ics.uci.edu/dataset/560/seoul+bike+sharing+demand\\\"\u003eUC Irvine Machine Learning Repository\u003c/a\u003e\u003c/b\u003e\\n\",","    \"    \u003cbr\u003e\\n\",","    \"Es ist üblich, dass große Plattformen, die Datensätze bereitstellen, auch Lösungsmetriken vorgeben, die es zu optimieren gilt. Solche Formate, häufig als 'Challenges' bezeichnet, bieten die Möglichkeit, selbst dazuzulernen, gelegentlich Preisgelder zu gewinnen und die eigenen Chancen auf dem Arbeitsmarkt zu verbessern, da entsprechende Kompetenzen stark gefragt sind. In der Regel werden solche Notebooks gehostet oder öffentlich zugänglich gemacht. Alternativ kann man diese Notebooks auch selbst veröffentlichen, um sie anderen zugänglich zu machen.\\n\",","    \"\u003c/div\u003e\"","   ]","  },","  {","   \"cell_type\": \"markdown\",","   \"id\": \"065484e1\",","   \"metadata\": {},","   \"source\": [","    \"\u003cb\u003eAnregungen zu weiteren Fragestellungen\u003c/b\u003e:\"","   ]","  },","  {","   \"cell_type\": \"markdown\",","   \"id\": \"f1037809\",","   \"metadata\": {},","   \"source\": [","    \"Ein „richtiges“ bzw. „gutes“ Modell zu erstellen, ist – wie bereits angesprochen – sehr komplex und aufwendig und wird in anderen Lerneinheiten behandelt. Nachfolgend findest du einige Anregungen, die relevant sein könnten\"","   ]","  },","  {","   \"cell_type\": \"markdown\",","   \"id\": \"91fc8621\",","   \"metadata\": {},","   \"source\": [","    \"- Welche Einwände könnte man dagegen haben, das vorliegende Datenset als Grundlage für ein KI-Modell zu nutzen?\\n\",","    \"- Wie schätzt du den vorgegebenen Zeitraum von 365 Tagen ein? Können wir damit Ausleihen in einem anderen Jahr vorhersagen?\\n\",","    \"- Wie schätzt du in diesem Zusammenhang die Rolle von Wetterdaten ein? Auch für unsere Anfragen an das exemplarische Ki-Modell haben wir Wetterdaten übermittelt.\\n\",","    \"- Wie sollte man mit der Spalte \u003ccode\u003eFunctioning Day\u003c/code\u003e umgehen? Sind Ausfälle in jedem Jahr an den gleichen Tagen zu erwarten?\\n\",","    \"- Welche Verfahren werden allgemein genutzt, um überhaupt Vorhersagen zu treffen?\\n\",","    \"- Es wird in diesem Bereich von einem KI-Modell gesprochen. Entspricht es deiner Vorstellung von KI? \"","   ]","  },","  {","   \"cell_type\": \"markdown\",","   \"id\": \"cdbe52f8\",","   \"metadata\": {},","   \"source\": [","    \"\u003cdiv class=\\\"alert alert-block alert-success\\\"\u003e\\n\",","    \"    🚩\u003cb\u003eVielen Dank\u003c/b\u003e für das Durcharbeiten dieses Notebooks \u003cb\u003eund viel Spaß bei deinen zukünftigen Erkundungen!\u003c/b\u003e\\n\",","    \"\u003c/div\u003e\"","   ]","  }"," ],"," \"metadata\": {","  \"kernelspec\": {","   \"display_name\": \"Python 3 (ipykernel)\",","   \"language\": \"python\",","   \"name\": \"python3\"","  },","  \"language_info\": {","   \"codemirror_mode\": {","    \"name\": \"ipython\",","    \"version\": 3","   },","   \"file_extension\": \".py\",","   \"mimetype\": \"text/x-python\",","   \"name\": \"python\",","   \"nbconvert_exporter\": \"python\",","   \"pygments_lexer\": \"ipython3\",","   \"version\": \"3.11.9\"","  },","  \"toc\": {","   \"base_numbering\": 1,","   \"nav_menu\": {","    \"height\": \"322.4px\",","    \"width\": \"382.4px\"","   },","   \"number_sections\": true,","   \"sideBar\": true,","   \"skip_h1_title\": false,","   \"title_cell\": \"Table of Contents\",","   \"title_sidebar\": \"Contents\",","   \"toc_cell\": false,","   \"toc_position\": {","    \"height\": \"calc(100% - 180px)\",","    \"left\": \"10px\",","    \"top\": \"150px\",","    \"width\": \"210.225px\"","   },","   \"toc_section_display\": true,","   \"toc_window_display\": false","  }"," },"," \"nbformat\": 4,"," \"nbformat_minor\": 5","}"],"stylingDirectives":null,"colorizedLines":null,"csv":null,"csvError":null,"dependabotInfo":{"showConfigurationBanner":false,"configFilePath":null,"networkDependabotPath":"/KMI-KPZ/Toolbox-Datenkompetenz-Lerninhalte/network/updates","dismissConfigurationNoticePath":"/settings/dismiss-notice/dependabot_configuration_notice","configurationNoticeDismissed":false},"displayName":"01-fahrradverleihseoul.ipynb","displayUrl":"https://notebooks.githubusercontent.com/view/ipynb?browser=chrome\u0026bypass_fastly=true\u0026color_mode=auto\u0026commit=328c2c1d47429cd87faaa2dfc38882e7b04758ea\u0026device=unknown_device\u0026docs_host=https%3A%2F%2Fdocs.github.com\u0026enc_url=68747470733a2f2f7261772e67697468756275736572636f6e74656e742e636f6d2f4b4d492d4b505a2f546f6f6c626f782d446174656e6b6f6d706574656e7a2d4c65726e696e68616c74652f333238633263316434373432396364383766616161326466633338383832653762303437353865612f666168727261642d696e2d73656f756c2f30312d666168727261647665726c65696873656f756c2e6970796e62\u0026logged_in=true\u0026nwo=KMI-KPZ%2FToolbox-Datenkompetenz-Lerninhalte\u0026path=fahrrad-in-seoul%2F01-fahrradverleihseoul.ipynb\u0026platform=windows\u0026repository_id=956612093\u0026repository_type=Repository\u0026version=134","headerInfo":{"blobSize":"96.6 KB","deleteTooltip":"Delete this file","editTooltip":"Edit this file","ghDesktopPath":"https://desktop.github.com","isGitLfs":false,"onBranch":true,"shortPath":"2b4a840","siteNavLoginPath":"/login?return_to=https%3A%2F%2Fgithub.com%2FKMI-KPZ%2FToolbox-Datenkompetenz-Lerninhalte%2Fblob%2Fmain%2Ffahrrad-in-seoul%2F01-fahrradverleihseoul.ipynb","isCSV":false,"isRichtext":false,"toc":null,"lineInfo":{"truncatedLoc":"1967","truncatedSloc":"1967"},"mode":"file"},"image":false,"isCodeownersFile":null,"isPlain":false,"isValidLegacyIssueTemplate":false,"issueTemplate":null,"discussionTemplate":null,"language":"Jupyter Notebook","languageID":185,"large":false,"planSupportInfo":{"repoIsFork":null,"repoOwnedByCurrentUser":null,"requestFullPath":"/KMI-KPZ/Toolbox-Datenkompetenz-Lerninhalte/blob/main/fahrrad-in-seoul/01-fahrradverleihseoul.ipynb","showFreeOrgGatedFeatureMessage":null,"showPlanSupportBanner":null,"upgradeDataAttributes":null,"upgradePath":null},"publishBannersInfo":{"dismissActionNoticePath":"/settings/dismiss-notice/publish_action_from_dockerfile","releasePath":"/KMI-KPZ/Toolbox-Datenkompetenz-Lerninhalte/releases/new?marketplace=true","showPublishActionBanner":false},"rawBlobUrl":"https://github.com/KMI-KPZ/Toolbox-Datenkompetenz-Lerninhalte/raw/refs/heads/main/fahrrad-in-seoul/01-fahrradverleihseoul.ipynb","renderImageOrRaw":false,"richText":null,"renderedFileInfo":{"identityUUID":"39680a6d-c49a-40ca-b6c1-b10ad18b02c5","renderFileType":"ipynb","size":98882},"shortPath":null,"symbolsEnabled":true,"tabSize":8,"topBannersInfo":{"overridingGlobalFundingFile":false,"globalPreferredFundingPath":null,"showInvalidCitationWarning":false,"citationHelpUrl":"https://docs.github.com/github/creating-cloning-and-archiving-repositories/creating-a-repository-on-github/about-citation-files","actionsOnboardingTip":null},"truncated":false,"viewable":true,"workflowRedirectUrl":null,"symbols":{"timed_out":false,"not_analyzed":true,"symbols":[]}},"copilotInfo":null,"copilotAccessAllowed":false,"modelsAccessAllowed":false,"modelsRepoIntegrationEnabled":false,"csrf_tokens":{"/KMI-KPZ/Toolbox-Datenkompetenz-Lerninhalte/branches":{"post":"6JsiXADPuRbPFNU8IrFXQ3LpTWY3e3F8rm1ziYkIARoG2xFS6vX6nuMiHuYYUHoCacww6eyPW1LIQqduiJ8HuQ"},"/repos/preferences":{"post":"899TI5rsOhLatsvIINWBZ2Lf1sO2JSvclnNvzp3m3rY4tAsNzofPuHDgi8cuWh1goGYNtT0-F-JtFoaukW7t9A"}}},"title":"Toolbox-Datenkompetenz-Lerninhalte/fahrrad-in-seoul/01-fahrradverleihseoul.ipynb at main · KMI-KPZ/Toolbox-Datenkompetenz-Lerninhalte","appPayload":{"helpUrl":"https://docs.github.com","findFileWorkerPath":"/assets-cdn/worker/find-file-worker-7d7eb7c71814.js","findInFileWorkerPath":"/assets-cdn/worker/find-in-file-worker-96e76d5fdb2c.js","githubDevUrl":"https://github.dev/","enabled_features":{"code_nav_ui_events":false,"overview_shared_code_dropdown_button":true,"react_blob_overlay":true,"accessible_code_button":true,"github_models_repo_integration":false}}}</script>
  <div data-target="react-app.reactRoot"><style data-styled="true" data-styled-version="5.3.11">.gISSDQ{width:100%;}/*!sc*/
@media screen and (min-width:544px){.gISSDQ{width:100%;}}/*!sc*/
@media screen and (min-width:768px){.gISSDQ{width:auto;}}/*!sc*/
.birIjn{max-height:100%;height:100%;display:-webkit-box;display:-webkit-flex;display:-ms-flexbox;display:flex;-webkit-flex-direction:column;-ms-flex-direction:column;flex-direction:column;}/*!sc*/
@media screen and (max-width:768px){.birIjn{display:none;}}/*!sc*/
@media screen and (min-width:768px){.birIjn{max-height:100vh;height:100vh;}}/*!sc*/
.hNNCwk{display:-webkit-box;display:-webkit-flex;display:-ms-flexbox;display:flex;-webkit-flex-direction:column;-ms-flex-direction:column;flex-direction:column;-webkit-align-items:center;-webkit-box-align:center;-ms-flex-align:center;align-items:center;padding-left:16px;padding-right:16px;padding-bottom:8px;padding-top:16px;}/*!sc*/
.jfIeyl{display:-webkit-box;display:-webkit-flex;display:-ms-flexbox;display:flex;width:100%;margin-bottom:16px;-webkit-align-items:center;-webkit-box-align:center;-ms-flex-align:center;align-items:center;}/*!sc*/
.XosP{display:-webkit-box;display:-webkit-flex;display:-ms-flexbox;display:flex;font-size:14px;}/*!sc*/
.bCKfWo[data-size="medium"]{color:var(--fgColor-muted,var(--color-fg-muted,#656d76));padding-left:8px;padding-right:8px;display:none;}/*!sc*/
@media screen and (max-width:768px){.bCKfWo[data-size="medium"]{display:block;}}/*!sc*/
.gUkoLg{-webkit-box-pack:center;-webkit-justify-content:center;-ms-flex-pack:center;justify-content:center;}/*!sc*/
.kOkWgo{font-size:16px;margin-left:8px;}/*!sc*/
.lhbroM{margin-left:24px;margin-right:24px;display:-webkit-box;display:-webkit-flex;display:-ms-flexbox;display:flex;width:100%;}/*!sc*/
.khzwtX{-webkit-box-flex:1;-webkit-flex-grow:1;-ms-flex-positive:1;flex-grow:1;}/*!sc*/
.gMOVLe[data-size="medium"]{display:-webkit-box;display:-webkit-flex;display:-ms-flexbox;display:flex;min-width:0;}/*!sc*/
.gMOVLe[data-size="medium"] svg{color:var(--fgColor-muted,var(--color-fg-muted,#656d76));}/*!sc*/
.gMOVLe[data-size="medium"] > span{width:inherit;}/*!sc*/
.bZBlpz{display:-webkit-box;display:-webkit-flex;display:-ms-flexbox;display:flex;width:100%;}/*!sc*/
.lhTYNA{margin-right:4px;color:var(--fgColor-muted,var(--color-fg-muted,#656d76));}/*!sc*/
.ffLUq{font-size:14px;min-width:0;overflow:hidden;text-overflow:ellipsis;white-space:nowrap;}/*!sc*/
.bmcJak{min-width:0;}/*!sc*/
.eTeVqd{margin-left:8px;white-space:nowrap;}/*!sc*/
.eTeVqd:hover button:not(:hover){border-left-color:var(--button-default-borderColor-hover,var(--color-btn-hover-border));}/*!sc*/
.fhbevO[data-size="medium"][data-no-visuals]{color:var(--fgColor-muted,var(--color-fg-subtle,#6e7781));border-top-right-radius:0;border-bottom-right-radius:0;border-right:0;}/*!sc*/
.fCjIQM[data-size="medium"][data-no-visuals]{color:var(--fgColor-muted,var(--color-fg-subtle,#6e7781));font-size:14px;font-weight:400;-webkit-flex-shrink:0;-ms-flex-negative:0;flex-shrink:0;border-top-left-radius:0;border-bottom-left-radius:0;}/*!sc*/
.ftzGWg{margin-left:16px;margin-right:16px;margin-bottom:12px;}/*!sc*/
@media screen and (max-width:768px){.ftzGWg{display:none;}}/*!sc*/
.vcvyP{display:-webkit-box;display:-webkit-flex;display:-ms-flexbox;display:flex;min-width:160px;}/*!sc*/
.dItACB{margin-right:-6px;}/*!sc*/
.gjtfVk{-webkit-box-flex:1;-webkit-flex-grow:1;-ms-flex-positive:1;flex-grow:1;max-height:100% !important;overflow-y:auto;-webkit-scrollbar-gutter:stable;-moz-scrollbar-gutter:stable;-ms-scrollbar-gutter:stable;scrollbar-gutter:stable;}/*!sc*/
@media screen and (max-width:768px){.gjtfVk{display:none;}}/*!sc*/
.cOxzdh{padding-left:16px;padding-right:16px;padding-bottom:8px;}/*!sc*/
.bHLmSv{position:absolute;inset:0 -2px;cursor:col-resize;background-color:transparent;-webkit-transition-delay:0.1s;transition-delay:0.1s;}/*!sc*/
.bHLmSv:hover{background-color:var(--bgColor-neutral-muted,var(--color-neutral-muted,rgba(175,184,193,0.2)));}/*!sc*/
.leYMvG{margin-left:auto;margin-right:auto;-webkit-flex-direction:column;-ms-flex-direction:column;flex-direction:column;padding-bottom:40px;max-width:100%;margin-top:0;}/*!sc*/
.KMPzq{display:inherit;}/*!sc*/
.hfKjHv{width:100%;}/*!sc*/
.gZWyZE{display:-webkit-box;display:-webkit-flex;display:-ms-flexbox;display:flex;gap:8px;-webkit-flex-direction:column;-ms-flex-direction:column;flex-direction:column;width:100%;}/*!sc*/
.dwYKDk{display:-webkit-box;display:-webkit-flex;display:-ms-flexbox;display:flex;-webkit-align-items:start;-webkit-box-align:start;-ms-flex-align:start;align-items:start;-webkit-box-pack:justify;-webkit-justify-content:space-between;-ms-flex-pack:justify;justify-content:space-between;gap:8px;}/*!sc*/
.iDtIiT{-webkit-align-self:center;-ms-flex-item-align:center;align-self:center;display:-webkit-box;display:-webkit-flex;display:-ms-flexbox;display:flex;padding-right:8px;min-width:0;}/*!sc*/
.cEytCf{display:-webkit-box;display:-webkit-flex;display:-ms-flexbox;display:flex;-webkit-flex-direction:row;-ms-flex-direction:row;flex-direction:row;font-size:16px;min-width:0;-webkit-flex-shrink:1;-ms-flex-negative:1;flex-shrink:1;-webkit-flex-wrap:wrap;-ms-flex-wrap:wrap;flex-wrap:wrap;max-width:100%;-webkit-align-items:center;-webkit-box-align:center;-ms-flex-align:center;align-items:center;}/*!sc*/
.fzFXnm{max-width:100%;}/*!sc*/
.iMnkmv{max-width:100%;list-style:none;display:inline-block;}/*!sc*/
.ghzDag{display:inline-block;max-width:100%;}/*!sc*/
.kHuKdh{font-weight:600;}/*!sc*/
.hzJBof{padding-left:4px;padding-right:4px;font-weight:400;color:var(--fgColor-muted,var(--color-fg-muted,#656d76));font-size:16px;}/*!sc*/
.kgiVEz{font-weight:400;}/*!sc*/
.jGhzSQ{font-weight:600;display:inline-block;max-width:100%;font-size:16px;}/*!sc*/
.faNtbn{min-height:32px;display:-webkit-box;display:-webkit-flex;display:-ms-flexbox;display:flex;-webkit-align-items:start;-webkit-box-align:start;-ms-flex-align:start;align-items:start;}/*!sc*/
.dwNhzn[data-size="medium"][data-no-visuals]{border-top-left-radius:0;border-bottom-left-radius:0;display:none;}/*!sc*/
.fGwBZA[data-size="medium"][data-no-visuals]{color:var(--fgColor-muted,var(--color-fg-muted,#656d76));}/*!sc*/
.dJxjrT{margin-left:16px;margin-right:16px;}/*!sc*/
.eFxKDQ{display:-webkit-box;display:-webkit-flex;display:-ms-flexbox;display:flex;-webkit-flex-direction:column;-ms-flex-direction:column;flex-direction:column;}/*!sc*/
.dzCJzi{display:-webkit-box;display:-webkit-flex;display:-ms-flexbox;display:flex;-webkit-flex-direction:row;-ms-flex-direction:row;flex-direction:row;-webkit-flex-wrap:wrap;-ms-flex-wrap:wrap;flex-wrap:wrap;-webkit-box-pack:justify;-webkit-justify-content:space-between;-ms-flex-pack:justify;justify-content:space-between;-webkit-align-items:center;-webkit-box-align:center;-ms-flex-align:center;align-items:center;gap:8px;min-width:273px;padding:8px;}/*!sc*/
@media screen and (min-width:544px){.dzCJzi{-webkit-flex-wrap:nowrap;-ms-flex-wrap:nowrap;flex-wrap:nowrap;}}/*!sc*/
.ldRxiI{display:-webkit-box;display:-webkit-flex;display:-ms-flexbox;display:flex;-webkit-flex-direction:row;-ms-flex-direction:row;flex-direction:row;}/*!sc*/
.fVkfyA{width:100%;height:-webkit-fit-content;height:-moz-fit-content;height:fit-content;min-width:0;margin-right:0;}/*!sc*/
.gNAmSV{height:40px;padding-left:4px;padding-bottom:16px;}/*!sc*/
.jNEwzY{-webkit-align-items:center;-webkit-box-align:center;-ms-flex-align:center;align-items:center;}/*!sc*/
.bsDwxw{font-size:12px;-webkit-flex:auto;-ms-flex:auto;flex:auto;padding-right:16px;color:var(--fgColor-muted,var(--color-fg-muted,#656d76));min-width:0;}/*!sc*/
.jdLMhu{top:0px;z-index:4;background:var(--bgColor-default,var(--color-canvas-default));position:-webkit-sticky;position:sticky;}/*!sc*/
.tOISc{display:-webkit-box;display:-webkit-flex;display:-ms-flexbox;display:flex;-webkit-flex-direction:column;-ms-flex-direction:column;flex-direction:column;width:100%;position:absolute;}/*!sc*/
.hqwSEx{display:none;min-width:0;padding-top:8px;padding-bottom:8px;}/*!sc*/
.lzKZY{margin-right:8px;margin-left:16px;text-overflow:ellipsis;overflow:hidden;display:-webkit-box;display:-webkit-flex;display:-ms-flexbox;display:flex;-webkit-flex-direction:row;-ms-flex-direction:row;flex-direction:row;-webkit-align-items:center;-webkit-box-align:center;-ms-flex-align:center;align-items:center;-webkit-box-pack:justify;-webkit-justify-content:space-between;-ms-flex-pack:justify;justify-content:space-between;width:100%;}/*!sc*/
.fHind{display:-webkit-box;display:-webkit-flex;display:-ms-flexbox;display:flex;-webkit-flex-direction:row;-ms-flex-direction:row;flex-direction:row;font-size:14px;min-width:0;-webkit-flex-shrink:1;-ms-flex-negative:1;flex-shrink:1;-webkit-flex-wrap:wrap;-ms-flex-wrap:wrap;flex-wrap:wrap;max-width:100%;-webkit-align-items:center;-webkit-box-align:center;-ms-flex-align:center;align-items:center;}/*!sc*/
.oDtgN{padding-left:4px;padding-right:4px;font-weight:400;color:var(--fgColor-muted,var(--color-fg-muted,#656d76));font-size:14px;}/*!sc*/
.dnZoUW{font-weight:600;display:inline-block;max-width:100%;font-size:14px;}/*!sc*/
.jRZWlf[data-size="small"]{color:var(--fgColor-default,var(--color-fg-default,#1F2328));margin-left:8px;}/*!sc*/
.kTvpNk{padding-left:8px;padding-top:8px;padding-bottom:8px;display:-webkit-box;display:-webkit-flex;display:-ms-flexbox;display:flex;-webkit-flex:1;-ms-flex:1;flex:1;-webkit-align-items:center;-webkit-box-align:center;-ms-flex-align:center;align-items:center;-webkit-box-pack:justify;-webkit-justify-content:space-between;-ms-flex-pack:justify;justify-content:space-between;background-color:var(--bgColor-muted,var(--color-canvas-subtle,#f6f8fa));border:1px solid var(--borderColor-default,var(--color-border-default));border-radius:6px 6px 0px 0px;}/*!sc*/
.iNMjfP{display:-webkit-box;display:-webkit-flex;display:-ms-flexbox;display:flex;-webkit-align-items:center;-webkit-box-align:center;-ms-flex-align:center;align-items:center;gap:8px;min-width:0;}/*!sc*/
.gtTaSn{font-size:14px;}/*!sc*/
.dXYHoy{--separator-color:transparent;}/*!sc*/
.jBWIdY{--separator-color:var(--borderColor-default,var(--color-border-default,#d0d7de));}/*!sc*/
.kcLCKF{display:-webkit-box;display:-webkit-flex;display:-ms-flexbox;display:flex;-webkit-align-items:center;-webkit-box-align:center;-ms-flex-align:center;align-items:center;gap:8px;margin-right:8px;}/*!sc*/
.kVWtTz{gap:8px;}/*!sc*/
.gWqxTd{padding-left:8px;padding-right:8px;}/*!sc*/
.gWqxTd linkButtonSx:hover:not([disabled]){-webkit-text-decoration:none;text-decoration:none;}/*!sc*/
.gWqxTd linkButtonSx:focus:not([disabled]){-webkit-text-decoration:none;text-decoration:none;}/*!sc*/
.gWqxTd linkButtonSx:active:not([disabled]){-webkit-text-decoration:none;text-decoration:none;}/*!sc*/
.ivobqY[data-size="small"][data-no-visuals]{border-top-left-radius:0;border-bottom-left-radius:0;}/*!sc*/
.kilKoS[data-size="small"][data-no-visuals]{border-top-right-radius:0;border-bottom-right-radius:0;border-right-width:0;}/*!sc*/
.kilKoS[data-size="small"][data-no-visuals]:hover:not([disabled]){-webkit-text-decoration:none;text-decoration:none;}/*!sc*/
.kilKoS[data-size="small"][data-no-visuals]:focus:not([disabled]){-webkit-text-decoration:none;text-decoration:none;}/*!sc*/
.kilKoS[data-size="small"][data-no-visuals]:active:not([disabled]){-webkit-text-decoration:none;text-decoration:none;}/*!sc*/
.ffkqe[data-size="small"][data-no-visuals]{color:var(--fgColor-muted,var(--color-fg-muted,#656d76));}/*!sc*/
.hGyMdv{border:1px solid;border-top:none;border-color:var(--borderColor-default,var(--color-border-default,#d0d7de));border-radius:0px 0px 6px 6px;min-width:273px;}/*!sc*/
.iWAocR{background-color:var(--bgColor-default,var(--color-canvas-default));border:0px;border-width:0;border-radius:0px 0px 6px 6px;padding:0;min-width:0;margin-top:46px;overflow:auto;}/*!sc*/
.cCoXib{position:fixed;top:0;right:0;height:100%;width:15px;-webkit-transition:-webkit-transform 0.3s;-webkit-transition:transform 0.3s;transition:transform 0.3s;z-index:1;}/*!sc*/
.cCoXib:hover{-webkit-transform:scaleX(1.5);-ms-transform:scaleX(1.5);transform:scaleX(1.5);}/*!sc*/
.fgsa-DI{display:-webkit-box;display:-webkit-flex;display:-ms-flexbox;display:flex;-webkit-flex-direction:column;-ms-flex-direction:column;flex-direction:column;-webkit-align-items:center;-webkit-box-align:center;-ms-flex-align:center;align-items:center;padding-top:16px;padding-bottom:16px;}/*!sc*/
data-styled.g1[id="Box-sc-g0xbh4-0"]{content:"gISSDQ,birIjn,hNNCwk,jfIeyl,XosP,bCKfWo,gUkoLg,kOkWgo,lhbroM,khzwtX,gMOVLe,bZBlpz,lhTYNA,ffLUq,bmcJak,eTeVqd,fhbevO,fCjIQM,ftzGWg,vcvyP,dItACB,gjtfVk,cOxzdh,bHLmSv,leYMvG,KMPzq,hfKjHv,gZWyZE,dwYKDk,iDtIiT,cEytCf,fzFXnm,iMnkmv,ghzDag,kHuKdh,hzJBof,kgiVEz,jGhzSQ,faNtbn,dwNhzn,fGwBZA,dJxjrT,eFxKDQ,dzCJzi,ldRxiI,fVkfyA,gNAmSV,jNEwzY,bsDwxw,jdLMhu,tOISc,hqwSEx,lzKZY,fHind,oDtgN,dnZoUW,jRZWlf,kTvpNk,iNMjfP,gtTaSn,dXYHoy,jBWIdY,kcLCKF,kVWtTz,gWqxTd,ivobqY,kilKoS,ffkqe,hGyMdv,iWAocR,cCoXib,fgsa-DI,"}/*!sc*/
.brGdpi{position:absolute;width:1px;height:1px;padding:0;margin:-1px;overflow:hidden;-webkit-clip:rect(0,0,0,0);clip:rect(0,0,0,0);white-space:nowrap;border-width:0;}/*!sc*/
data-styled.g5[id="_VisuallyHidden__VisuallyHidden-sc-11jhm7a-0"]{content:"brGdpi,"}/*!sc*/
.hWlpPn{position:relative;display:inline-block;}/*!sc*/
.hWlpPn::after{position:absolute;z-index:1000000;display:none;padding:0.5em 0.75em;font:normal normal 11px/1.5 -apple-system,BlinkMacSystemFont,"Segoe UI","Noto Sans",Helvetica,Arial,sans-serif,"Apple Color Emoji","Segoe UI Emoji";-webkit-font-smoothing:subpixel-antialiased;color:var(--tooltip-fgColor,var(--fgColor-onEmphasis,var(--color-fg-on-emphasis,#ffffff)));text-align:center;-webkit-text-decoration:none;text-decoration:none;text-shadow:none;text-transform:none;-webkit-letter-spacing:normal;-moz-letter-spacing:normal;-ms-letter-spacing:normal;letter-spacing:normal;word-wrap:break-word;white-space:pre;pointer-events:none;content:attr(aria-label);background:var(--tooltip-bgColor,var(--bgColor-emphasis,var(--color-neutral-emphasis-plus,#24292f)));border-radius:6px;opacity:0;}/*!sc*/
@-webkit-keyframes tooltip-appear{from{opacity:0;}to{opacity:1;}}/*!sc*/
@keyframes tooltip-appear{from{opacity:0;}to{opacity:1;}}/*!sc*/
.hWlpPn:hover::after,.hWlpPn:active::after,.hWlpPn:focus::after,.hWlpPn:focus-within::after{display:inline-block;-webkit-text-decoration:none;text-decoration:none;-webkit-animation-name:tooltip-appear;animation-name:tooltip-appear;-webkit-animation-duration:0.1s;animation-duration:0.1s;-webkit-animation-fill-mode:forwards;animation-fill-mode:forwards;-webkit-animation-timing-function:ease-in;animation-timing-function:ease-in;-webkit-animation-delay:0s;animation-delay:0s;}/*!sc*/
.hWlpPn.tooltipped-no-delay:hover::after,.hWlpPn.tooltipped-no-delay:active::after,.hWlpPn.tooltipped-no-delay:focus::after,.hWlpPn.tooltipped-no-delay:focus-within::after{-webkit-animation-delay:0s;animation-delay:0s;}/*!sc*/
.hWlpPn.tooltipped-multiline:hover::after,.hWlpPn.tooltipped-multiline:active::after,.hWlpPn.tooltipped-multiline:focus::after,.hWlpPn.tooltipped-multiline:focus-within::after{display:table-cell;}/*!sc*/
.hWlpPn.tooltipped-s::after,.hWlpPn.tooltipped-se::after,.hWlpPn.tooltipped-sw::after{top:100%;right:50%;margin-top:6px;}/*!sc*/
.hWlpPn.tooltipped-se::after{right:auto;left:50%;margin-left:-16px;}/*!sc*/
.hWlpPn.tooltipped-sw::after{margin-right:-16px;}/*!sc*/
.hWlpPn.tooltipped-n::after,.hWlpPn.tooltipped-ne::after,.hWlpPn.tooltipped-nw::after{right:50%;bottom:100%;margin-bottom:6px;}/*!sc*/
.hWlpPn.tooltipped-ne::after{right:auto;left:50%;margin-left:-16px;}/*!sc*/
.hWlpPn.tooltipped-nw::after{margin-right:-16px;}/*!sc*/
.hWlpPn.tooltipped-s::after,.hWlpPn.tooltipped-n::after{-webkit-transform:translateX(50%);-ms-transform:translateX(50%);transform:translateX(50%);}/*!sc*/
.hWlpPn.tooltipped-w::after{right:100%;bottom:50%;margin-right:6px;-webkit-transform:translateY(50%);-ms-transform:translateY(50%);transform:translateY(50%);}/*!sc*/
.hWlpPn.tooltipped-e::after{bottom:50%;left:100%;margin-left:6px;-webkit-transform:translateY(50%);-ms-transform:translateY(50%);transform:translateY(50%);}/*!sc*/
.hWlpPn.tooltipped-multiline::after{width:-webkit-max-content;width:-moz-max-content;width:max-content;max-width:250px;word-wrap:break-word;white-space:pre-line;border-collapse:separate;}/*!sc*/
.hWlpPn.tooltipped-multiline.tooltipped-s::after,.hWlpPn.tooltipped-multiline.tooltipped-n::after{right:auto;left:50%;-webkit-transform:translateX(-50%);-ms-transform:translateX(-50%);transform:translateX(-50%);}/*!sc*/
.hWlpPn.tooltipped-multiline.tooltipped-w::after,.hWlpPn.tooltipped-multiline.tooltipped-e::after{right:100%;}/*!sc*/
.hWlpPn.tooltipped-align-right-2::after{right:0;margin-right:0;}/*!sc*/
.hWlpPn.tooltipped-align-left-2::after{left:0;margin-left:0;}/*!sc*/
data-styled.g16[id="Tooltip__TooltipBase-sc-17tf59c-0"]{content:"hWlpPn,"}/*!sc*/
.eAtkQz{display:inline-block;overflow:hidden;text-overflow:ellipsis;vertical-align:top;white-space:nowrap;max-width:125px;max-width:100%;}/*!sc*/
data-styled.g18[id="Truncate__StyledTruncate-sc-23o1d2-0"]{content:"eAtkQz,"}/*!sc*/
</style><meta data-hydrostats="publish"/> <!-- --> <!-- --> <button hidden="" data-testid="header-permalink-button" data-hotkey-scope="read-only-cursor-text-area"></button><button hidden=""></button><div><div style="--sticky-pane-height:100vh;--spacing:var(--spacing-none)" class="Box-sc-g0xbh4-0 prc-PageLayout-PageLayoutRoot-1zlEO"><div class="Box-sc-g0xbh4-0 prc-PageLayout-PageLayoutWrapper-s2ao4" data-width="full"><div class="Box-sc-g0xbh4-0 prc-PageLayout-PageLayoutContent-jzDMn"><div tabindex="0" class="Box-sc-g0xbh4-0 gISSDQ"><div class="Box-sc-g0xbh4-0 prc-PageLayout-PaneWrapper-nGO0U ReposFileTreePane-module__Pane--wS7IV ReposFileTreePane-module__HidePane--Gj4XZ" style="--offset-header:0px;--spacing-row:var(--spacing-none);--spacing-column:var(--spacing-none)" data-is-hidden="false" data-position="start" data-sticky="true"><div class="Box-sc-g0xbh4-0 prc-PageLayout-HorizontalDivider-CYLp5 prc-PageLayout-PaneHorizontalDivider-4exOb" data-variant="none" data-position="start" style="--spacing-divider:var(--spacing-none);--spacing:var(--spacing-none)"></div><div class="Box-sc-g0xbh4-0 prc-PageLayout-Pane-Vl5LI" data-resizable="true" style="--spacing:var(--spacing-none);--pane-min-width:256px;--pane-max-width:calc(100vw - var(--pane-max-width-diff));--pane-width-size:var(--pane-width-large);--pane-width:320px"><div class="react-tree-pane-contents"><div id="repos-file-tree" class="Box-sc-g0xbh4-0 birIjn"><div class="Box-sc-g0xbh4-0 hNNCwk"><div class="Box-sc-g0xbh4-0 jfIeyl"><h2 class="Box-sc-g0xbh4-0 XosP prc-Heading-Heading-6CmGO"><button style="--button-color:fg.muted" type="button" aria-label="Expand file tree" data-testid="expand-file-tree-button-mobile" class="Box-sc-g0xbh4-0 bCKfWo prc-Button-ButtonBase-c50BI" data-loading="false" data-size="medium" data-variant="invisible" aria-describedby=":Rl6mplab:-loading-announcement"><span data-component="buttonContent" class="Box-sc-g0xbh4-0 gUkoLg prc-Button-ButtonContent-HKbr-"><span data-component="leadingVisual" class="prc-Button-Visual-2epfX prc-Button-VisualWrap-Db-eB"><svg aria-hidden="true" focusable="false" class="octicon octicon-arrow-left" viewBox="0 0 16 16" width="16" height="16" fill="currentColor" display="inline-block" overflow="visible" style="vertical-align:text-bottom"><path d="M7.78 12.53a.75.75 0 0 1-1.06 0L2.47 8.28a.75.75 0 0 1 0-1.06l4.25-4.25a.751.751 0 0 1 1.042.018.751.751 0 0 1 .018 1.042L4.81 7h7.44a.75.75 0 0 1 0 1.5H4.81l2.97 2.97a.75.75 0 0 1 0 1.06Z"></path></svg></span><span data-component="text" class="prc-Button-Label-pTQ3x">Files</span></span></button><span role="tooltip" aria-label="Collapse file tree" id="expand-button-file-tree-button" class="Tooltip__TooltipBase-sc-17tf59c-0 hWlpPn tooltipped-se"><button data-component="IconButton" type="button" data-testid="collapse-file-tree-button" aria-expanded="true" aria-controls="repos-file-tree" class="prc-Button-ButtonBase-c50BI position-relative ExpandFileTreeButton-module__expandButton--gL4is ExpandFileTreeButton-module__filesButtonBreakpoint--WfX9t fgColor-muted prc-Button-IconButton-szpyj" data-loading="false" data-no-visuals="true" data-size="medium" data-variant="invisible" aria-describedby=":R356mplab:-loading-announcement" aria-labelledby="expand-button-file-tree-button"><svg aria-hidden="true" focusable="false" class="octicon octicon-sidebar-expand" viewBox="0 0 16 16" width="16" height="16" fill="currentColor" display="inline-block" overflow="visible" style="vertical-align:text-bottom"><path d="m4.177 7.823 2.396-2.396A.25.25 0 0 1 7 5.604v4.792a.25.25 0 0 1-.427.177L4.177 8.177a.25.25 0 0 1 0-.354Z"></path><path d="M0 1.75C0 .784.784 0 1.75 0h12.5C15.216 0 16 .784 16 1.75v12.5A1.75 1.75 0 0 1 14.25 16H1.75A1.75 1.75 0 0 1 0 14.25Zm1.75-.25a.25.25 0 0 0-.25.25v12.5c0 .138.112.25.25.25H9.5v-13Zm12.5 13a.25.25 0 0 0 .25-.25V1.75a.25.25 0 0 0-.25-.25H11v13Z"></path></svg></button></span><button hidden="" data-testid="" data-hotkey-scope="read-only-cursor-text-area"></button></h2><h2 class="Box-sc-g0xbh4-0 kOkWgo prc-Heading-Heading-6CmGO">Files</h2></div><div class="Box-sc-g0xbh4-0 lhbroM"><div class="Box-sc-g0xbh4-0 khzwtX"><button type="button" aria-haspopup="true" aria-expanded="false" tabindex="0" aria-label="main branch" data-testid="anchor-button" class="Box-sc-g0xbh4-0 gMOVLe prc-Button-ButtonBase-c50BI react-repos-tree-pane-ref-selector width-full ref-selector-class" data-loading="false" data-size="medium" data-variant="default" aria-describedby="branch-picker-repos-header-ref-selector-loading-announcement" id="branch-picker-repos-header-ref-selector"><span data-component="buttonContent" class="Box-sc-g0xbh4-0 gUkoLg prc-Button-ButtonContent-HKbr-"><span data-component="text" class="prc-Button-Label-pTQ3x"><div class="Box-sc-g0xbh4-0 bZBlpz"><div class="Box-sc-g0xbh4-0 lhTYNA"><svg aria-hidden="true" focusable="false" class="octicon octicon-git-branch" viewBox="0 0 16 16" width="16" height="16" fill="currentColor" display="inline-block" overflow="visible" style="vertical-align:text-bottom"><path d="M9.5 3.25a2.25 2.25 0 1 1 3 2.122V6A2.5 2.5 0 0 1 10 8.5H6a1 1 0 0 0-1 1v1.128a2.251 2.251 0 1 1-1.5 0V5.372a2.25 2.25 0 1 1 1.5 0v1.836A2.493 2.493 0 0 1 6 7h4a1 1 0 0 0 1-1v-.628A2.25 2.25 0 0 1 9.5 3.25Zm-6 0a.75.75 0 1 0 1.5 0 .75.75 0 0 0-1.5 0Zm8.25-.75a.75.75 0 1 0 0 1.5.75.75 0 0 0 0-1.5ZM4.25 12a.75.75 0 1 0 0 1.5.75.75 0 0 0 0-1.5Z"></path></svg></div><div class="Box-sc-g0xbh4-0 ffLUq ref-selector-button-text-container"><span class="Box-sc-g0xbh4-0 bmcJak prc-Text-Text-0ima0"> <!-- -->main</span></div></div></span><span data-component="trailingVisual" class="prc-Button-Visual-2epfX prc-Button-VisualWrap-Db-eB"><svg aria-hidden="true" focusable="false" class="octicon octicon-triangle-down" viewBox="0 0 16 16" width="16" height="16" fill="currentColor" display="inline-block" overflow="visible" style="vertical-align:text-bottom"><path d="m4.427 7.427 3.396 3.396a.25.25 0 0 0 .354 0l3.396-3.396A.25.25 0 0 0 11.396 7H4.604a.25.25 0 0 0-.177.427Z"></path></svg></span></span></button><button hidden="" data-hotkey-scope="read-only-cursor-text-area"></button></div><div class="Box-sc-g0xbh4-0 eTeVqd"><a sx="[object Object]" data-component="IconButton" type="button" aria-label="Add file" class="Box-sc-g0xbh4-0 fhbevO prc-Button-ButtonBase-c50BI prc-Button-IconButton-szpyj" data-loading="false" data-no-visuals="true" data-size="medium" data-variant="default" aria-describedby=":R6q6mplab:-loading-announcement :Rq6mplab:" href="/KMI-KPZ/Toolbox-Datenkompetenz-Lerninhalte/new/main/fahrrad-in-seoul"><svg aria-hidden="true" focusable="false" class="octicon octicon-plus" viewBox="0 0 16 16" width="16" height="16" fill="currentColor" display="inline-block" overflow="visible" style="vertical-align:text-bottom"><path d="M7.75 2a.75.75 0 0 1 .75.75V7h4.25a.75.75 0 0 1 0 1.5H8.5v4.25a.75.75 0 0 1-1.5 0V8.5H2.75a.75.75 0 0 1 0-1.5H7V2.75A.75.75 0 0 1 7.75 2Z"></path></svg></a><span class="prc-TooltipV2-Tooltip-cYMVY" data-direction="s" aria-label="Add file" role="tooltip" aria-hidden="true" id=":Rq6mplab:">Add file</span><button data-component="IconButton" type="button" aria-label="Search this repository" class="Box-sc-g0xbh4-0 fCjIQM prc-Button-ButtonBase-c50BI prc-Button-IconButton-szpyj" data-loading="false" data-no-visuals="true" data-size="medium" data-variant="default" aria-describedby=":R3a6mplab:-loading-announcement"><svg aria-hidden="true" focusable="false" class="octicon octicon-search" viewBox="0 0 16 16" width="16" height="16" fill="currentColor" display="inline-block" overflow="visible" style="vertical-align:text-bottom"><path d="M10.68 11.74a6 6 0 0 1-7.922-8.982 6 6 0 0 1 8.982 7.922l3.04 3.04a.749.749 0 0 1-.326 1.275.749.749 0 0 1-.734-.215ZM11.5 7a4.499 4.499 0 1 0-8.997 0A4.499 4.499 0 0 0 11.5 7Z"></path></svg></button><button hidden="" data-testid="" data-hotkey-scope="read-only-cursor-text-area"></button></div></div></div><div class="Box-sc-g0xbh4-0 ftzGWg"><span class="Box-sc-g0xbh4-0 vcvyP TextInput-wrapper prc-components-TextInputWrapper-i1ofR prc-components-TextInputBaseWrapper-ueK9q" data-leading-visual="true" data-trailing-visual="true" aria-busy="false"><span class="TextInput-icon" id=":R5amplab:" aria-hidden="true"><svg aria-hidden="true" focusable="false" class="octicon octicon-search" viewBox="0 0 16 16" width="16" height="16" fill="currentColor" display="inline-block" overflow="visible" style="vertical-align:text-bottom"><path d="M10.68 11.74a6 6 0 0 1-7.922-8.982 6 6 0 0 1 8.982 7.922l3.04 3.04a.749.749 0 0 1-.326 1.275.749.749 0 0 1-.734-.215ZM11.5 7a4.499 4.499 0 1 0-8.997 0A4.499 4.499 0 0 0 11.5 7Z"></path></svg></span><input type="text" aria-label="Go to file" role="combobox" aria-controls="file-results-list" aria-expanded="false" aria-haspopup="dialog" autoCorrect="off" spellcheck="false" placeholder="Go to file" aria-describedby=":R5amplab: :R5amplabH1:" data-component="input" class="prc-components-Input-Ic-y8" value=""/><span class="TextInput-icon" id=":R5amplabH1:" aria-hidden="true"><div class="Box-sc-g0xbh4-0 dItACB"><kbd>t</kbd></div></span></span></div><button hidden="" data-testid="" data-hotkey-scope="read-only-cursor-text-area"></button><button hidden=""></button><div class="Box-sc-g0xbh4-0 gjtfVk"><div class="react-tree-show-tree-items"><div class="Box-sc-g0xbh4-0 cOxzdh" data-testid="repos-file-tree-container"><nav aria-label="File Tree Navigation"><span role="status" aria-live="polite" aria-atomic="true" class="_VisuallyHidden__VisuallyHidden-sc-11jhm7a-0 brGdpi"></span><ul role="tree" aria-label="Files" data-truncate-text="true" class="prc-TreeView-TreeViewRootUlStyles-eZtxW"><li class="PRIVATE_TreeView-item prc-TreeView-TreeViewItem-ShJr0" tabindex="0" id="Schnee-an-Weihnachten-item" role="treeitem" aria-labelledby=":R39implab:" aria-describedby=":R39implabH1:" aria-level="1" aria-expanded="false" aria-selected="false"><div class="PRIVATE_TreeView-item-container prc-TreeView-TreeViewItemContainer--2Rkn" style="--level:1;content-visibility:auto;contain-intrinsic-size:auto 2rem"><div style="grid-area:spacer;display:flex"><div style="width:100%;display:flex"></div></div><div class="PRIVATE_TreeView-item-toggle PRIVATE_TreeView-item-toggle--hover PRIVATE_TreeView-item-toggle--end prc-TreeView-TreeViewItemToggle-gWUdE prc-TreeView-TreeViewItemToggleHover-nEgP- prc-TreeView-TreeViewItemToggleEnd-t-AEB"><svg aria-hidden="true" focusable="false" class="octicon octicon-chevron-right" viewBox="0 0 12 12" width="12" height="12" fill="currentColor" display="inline-block" overflow="visible" style="vertical-align:text-bottom"><path d="M4.7 10c-.2 0-.4-.1-.5-.2-.3-.3-.3-.8 0-1.1L6.9 6 4.2 3.3c-.3-.3-.3-.8 0-1.1.3-.3.8-.3 1.1 0l3.3 3.2c.3.3.3.8 0 1.1L5.3 9.7c-.2.2-.4.3-.6.3Z"></path></svg></div><div id=":R39implab:" class="PRIVATE_TreeView-item-content prc-TreeView-TreeViewItemContent-f0r0b"><div class="PRIVATE_VisuallyHidden prc-TreeView-TreeViewVisuallyHidden-4-mPv" aria-hidden="true" id=":R39implabH1:"></div><div class="PRIVATE_TreeView-item-visual prc-TreeView-TreeViewItemVisual-dRlGq" aria-hidden="true"><div class="PRIVATE_TreeView-directory-icon prc-TreeView-TreeViewDirectoryIcon-PHbeP"><svg aria-hidden="true" focusable="false" class="octicon octicon-file-directory-fill" viewBox="0 0 16 16" width="16" height="16" fill="currentColor" display="inline-block" overflow="visible" style="vertical-align:text-bottom"><path d="M1.75 1A1.75 1.75 0 0 0 0 2.75v10.5C0 14.216.784 15 1.75 15h12.5A1.75 1.75 0 0 0 16 13.25v-8.5A1.75 1.75 0 0 0 14.25 3H7.5a.25.25 0 0 1-.2-.1l-.9-1.2C6.07 1.26 5.55 1 5 1H1.75Z"></path></svg></div></div><span class="PRIVATE_TreeView-item-content-text prc-TreeView-TreeViewItemContentText-smZM-"><span>Schnee-an-Weihnachten</span></span></div></div></li><li class="PRIVATE_TreeView-item prc-TreeView-TreeViewItem-ShJr0" tabindex="0" id="Umwelt-Kartenprojekt-item" role="treeitem" aria-labelledby=":R59implab:" aria-describedby=":R59implabH1:" aria-level="1" aria-expanded="false" aria-selected="false"><div class="PRIVATE_TreeView-item-container prc-TreeView-TreeViewItemContainer--2Rkn" style="--level:1;content-visibility:auto;contain-intrinsic-size:auto 2rem"><div style="grid-area:spacer;display:flex"><div style="width:100%;display:flex"></div></div><div class="PRIVATE_TreeView-item-toggle PRIVATE_TreeView-item-toggle--hover PRIVATE_TreeView-item-toggle--end prc-TreeView-TreeViewItemToggle-gWUdE prc-TreeView-TreeViewItemToggleHover-nEgP- prc-TreeView-TreeViewItemToggleEnd-t-AEB"><svg aria-hidden="true" focusable="false" class="octicon octicon-chevron-right" viewBox="0 0 12 12" width="12" height="12" fill="currentColor" display="inline-block" overflow="visible" style="vertical-align:text-bottom"><path d="M4.7 10c-.2 0-.4-.1-.5-.2-.3-.3-.3-.8 0-1.1L6.9 6 4.2 3.3c-.3-.3-.3-.8 0-1.1.3-.3.8-.3 1.1 0l3.3 3.2c.3.3.3.8 0 1.1L5.3 9.7c-.2.2-.4.3-.6.3Z"></path></svg></div><div id=":R59implab:" class="PRIVATE_TreeView-item-content prc-TreeView-TreeViewItemContent-f0r0b"><div class="PRIVATE_VisuallyHidden prc-TreeView-TreeViewVisuallyHidden-4-mPv" aria-hidden="true" id=":R59implabH1:"></div><div class="PRIVATE_TreeView-item-visual prc-TreeView-TreeViewItemVisual-dRlGq" aria-hidden="true"><div class="PRIVATE_TreeView-directory-icon prc-TreeView-TreeViewDirectoryIcon-PHbeP"><svg aria-hidden="true" focusable="false" class="octicon octicon-file-directory-fill" viewBox="0 0 16 16" width="16" height="16" fill="currentColor" display="inline-block" overflow="visible" style="vertical-align:text-bottom"><path d="M1.75 1A1.75 1.75 0 0 0 0 2.75v10.5C0 14.216.784 15 1.75 15h12.5A1.75 1.75 0 0 0 16 13.25v-8.5A1.75 1.75 0 0 0 14.25 3H7.5a.25.25 0 0 1-.2-.1l-.9-1.2C6.07 1.26 5.55 1 5 1H1.75Z"></path></svg></div></div><span class="PRIVATE_TreeView-item-content-text prc-TreeView-TreeViewItemContentText-smZM-"><span>Umwelt-Kartenprojekt</span></span></div></div></li><li class="PRIVATE_TreeView-item prc-TreeView-TreeViewItem-ShJr0" tabindex="0" id="fahrrad-in-seoul-item" role="treeitem" aria-labelledby=":R79implab:" aria-describedby=":R79implabH1:" aria-level="1" aria-expanded="true" aria-selected="false"><div class="PRIVATE_TreeView-item-container prc-TreeView-TreeViewItemContainer--2Rkn" style="--level:1;content-visibility:auto;contain-intrinsic-size:auto 2rem"><div style="grid-area:spacer;display:flex"><div style="width:100%;display:flex"></div></div><div class="PRIVATE_TreeView-item-toggle PRIVATE_TreeView-item-toggle--hover PRIVATE_TreeView-item-toggle--end prc-TreeView-TreeViewItemToggle-gWUdE prc-TreeView-TreeViewItemToggleHover-nEgP- prc-TreeView-TreeViewItemToggleEnd-t-AEB"><svg aria-hidden="true" focusable="false" class="octicon octicon-chevron-down" viewBox="0 0 12 12" width="12" height="12" fill="currentColor" display="inline-block" overflow="visible" style="vertical-align:text-bottom"><path d="M6 8.825c-.2 0-.4-.1-.5-.2l-3.3-3.3c-.3-.3-.3-.8 0-1.1.3-.3.8-.3 1.1 0l2.7 2.7 2.7-2.7c.3-.3.8-.3 1.1 0 .3.3.3.8 0 1.1l-3.2 3.2c-.2.2-.4.3-.6.3Z"></path></svg></div><div id=":R79implab:" class="PRIVATE_TreeView-item-content prc-TreeView-TreeViewItemContent-f0r0b"><div class="PRIVATE_VisuallyHidden prc-TreeView-TreeViewVisuallyHidden-4-mPv" aria-hidden="true" id=":R79implabH1:"></div><div class="PRIVATE_TreeView-item-visual prc-TreeView-TreeViewItemVisual-dRlGq" aria-hidden="true"><div class="PRIVATE_TreeView-directory-icon prc-TreeView-TreeViewDirectoryIcon-PHbeP"><svg aria-hidden="true" focusable="false" class="octicon octicon-file-directory-open-fill" viewBox="0 0 16 16" width="16" height="16" fill="currentColor" display="inline-block" overflow="visible" style="vertical-align:text-bottom"><path d="M.513 1.513A1.75 1.75 0 0 1 1.75 1h3.5c.55 0 1.07.26 1.4.7l.9 1.2a.25.25 0 0 0 .2.1H13a1 1 0 0 1 1 1v.5H2.75a.75.75 0 0 0 0 1.5h11.978a1 1 0 0 1 .994 1.117L15 13.25A1.75 1.75 0 0 1 13.25 15H1.75A1.75 1.75 0 0 1 0 13.25V2.75c0-.464.184-.91.513-1.237Z"></path></svg></div></div><span class="PRIVATE_TreeView-item-content-text prc-TreeView-TreeViewItemContentText-smZM-"><span>fahrrad-in-seoul</span></span></div></div><ul role="group" style="list-style:none;padding:0;margin:0" aria-label=""><li class="PRIVATE_TreeView-item prc-TreeView-TreeViewItem-ShJr0" tabindex="0" id="fahrrad-in-seoul/01-fahrradverleihseoul.ipynb-item" role="treeitem" aria-labelledby=":R2mn9implab:" aria-describedby=":R2mn9implabH1:" aria-level="2" aria-current="true" aria-selected="false"><div class="PRIVATE_TreeView-item-container prc-TreeView-TreeViewItemContainer--2Rkn" style="--level:2"><div style="grid-area:spacer;display:flex"><div style="width:100%;display:flex"><div class="PRIVATE_TreeView-item-level-line prc-TreeView-TreeViewItemLevelLine-KPSSL"></div></div></div><div id=":R2mn9implab:" class="PRIVATE_TreeView-item-content prc-TreeView-TreeViewItemContent-f0r0b"><div class="PRIVATE_VisuallyHidden prc-TreeView-TreeViewVisuallyHidden-4-mPv" aria-hidden="true" id=":R2mn9implabH1:"></div><div class="PRIVATE_TreeView-item-visual prc-TreeView-TreeViewItemVisual-dRlGq" aria-hidden="true"><svg aria-hidden="true" focusable="false" class="octicon octicon-file" viewBox="0 0 16 16" width="16" height="16" fill="currentColor" display="inline-block" overflow="visible" style="vertical-align:text-bottom"><path d="M2 1.75C2 .784 2.784 0 3.75 0h6.586c.464 0 .909.184 1.237.513l2.914 2.914c.329.328.513.773.513 1.237v9.586A1.75 1.75 0 0 1 13.25 16h-9.5A1.75 1.75 0 0 1 2 14.25Zm1.75-.25a.25.25 0 0 0-.25.25v12.5c0 .138.112.25.25.25h9.5a.25.25 0 0 0 .25-.25V6h-2.75A1.75 1.75 0 0 1 9 4.25V1.5Zm6.75.062V4.25c0 .138.112.25.25.25h2.688l-.011-.013-2.914-2.914-.013-.011Z"></path></svg></div><span class="PRIVATE_TreeView-item-content-text prc-TreeView-TreeViewItemContentText-smZM-"><span>01-fahrradverleihseoul.ipynb</span></span></div></div></li><li class="PRIVATE_TreeView-item prc-TreeView-TreeViewItem-ShJr0" tabindex="0" id="fahrrad-in-seoul/README.md-item" role="treeitem" aria-labelledby=":R4mn9implab:" aria-describedby=":R4mn9implabH1:" aria-level="2" aria-selected="false"><div class="PRIVATE_TreeView-item-container prc-TreeView-TreeViewItemContainer--2Rkn" style="--level:2;content-visibility:auto;contain-intrinsic-size:auto 2rem"><div style="grid-area:spacer;display:flex"><div style="width:100%;display:flex"><div class="PRIVATE_TreeView-item-level-line prc-TreeView-TreeViewItemLevelLine-KPSSL"></div></div></div><div id=":R4mn9implab:" class="PRIVATE_TreeView-item-content prc-TreeView-TreeViewItemContent-f0r0b"><div class="PRIVATE_VisuallyHidden prc-TreeView-TreeViewVisuallyHidden-4-mPv" aria-hidden="true" id=":R4mn9implabH1:"></div><div class="PRIVATE_TreeView-item-visual prc-TreeView-TreeViewItemVisual-dRlGq" aria-hidden="true"><svg aria-hidden="true" focusable="false" class="octicon octicon-file" viewBox="0 0 16 16" width="16" height="16" fill="currentColor" display="inline-block" overflow="visible" style="vertical-align:text-bottom"><path d="M2 1.75C2 .784 2.784 0 3.75 0h6.586c.464 0 .909.184 1.237.513l2.914 2.914c.329.328.513.773.513 1.237v9.586A1.75 1.75 0 0 1 13.25 16h-9.5A1.75 1.75 0 0 1 2 14.25Zm1.75-.25a.25.25 0 0 0-.25.25v12.5c0 .138.112.25.25.25h9.5a.25.25 0 0 0 .25-.25V6h-2.75A1.75 1.75 0 0 1 9 4.25V1.5Zm6.75.062V4.25c0 .138.112.25.25.25h2.688l-.011-.013-2.914-2.914-.013-.011Z"></path></svg></div><span class="PRIVATE_TreeView-item-content-text prc-TreeView-TreeViewItemContentText-smZM-"><span>README.md</span></span></div></div></li><li class="PRIVATE_TreeView-item prc-TreeView-TreeViewItem-ShJr0" tabindex="0" id="fahrrad-in-seoul/SeoulBikeData.csv-item" role="treeitem" aria-labelledby=":R6mn9implab:" aria-describedby=":R6mn9implabH1:" aria-level="2" aria-selected="false"><div class="PRIVATE_TreeView-item-container prc-TreeView-TreeViewItemContainer--2Rkn" style="--level:2;content-visibility:auto;contain-intrinsic-size:auto 2rem"><div style="grid-area:spacer;display:flex"><div style="width:100%;display:flex"><div class="PRIVATE_TreeView-item-level-line prc-TreeView-TreeViewItemLevelLine-KPSSL"></div></div></div><div id=":R6mn9implab:" class="PRIVATE_TreeView-item-content prc-TreeView-TreeViewItemContent-f0r0b"><div class="PRIVATE_VisuallyHidden prc-TreeView-TreeViewVisuallyHidden-4-mPv" aria-hidden="true" id=":R6mn9implabH1:"></div><div class="PRIVATE_TreeView-item-visual prc-TreeView-TreeViewItemVisual-dRlGq" aria-hidden="true"><svg aria-hidden="true" focusable="false" class="octicon octicon-file" viewBox="0 0 16 16" width="16" height="16" fill="currentColor" display="inline-block" overflow="visible" style="vertical-align:text-bottom"><path d="M2 1.75C2 .784 2.784 0 3.75 0h6.586c.464 0 .909.184 1.237.513l2.914 2.914c.329.328.513.773.513 1.237v9.586A1.75 1.75 0 0 1 13.25 16h-9.5A1.75 1.75 0 0 1 2 14.25Zm1.75-.25a.25.25 0 0 0-.25.25v12.5c0 .138.112.25.25.25h9.5a.25.25 0 0 0 .25-.25V6h-2.75A1.75 1.75 0 0 1 9 4.25V1.5Zm6.75.062V4.25c0 .138.112.25.25.25h2.688l-.011-.013-2.914-2.914-.013-.011Z"></path></svg></div><span class="PRIVATE_TreeView-item-content-text prc-TreeView-TreeViewItemContentText-smZM-"><span>SeoulBikeData.csv</span></span></div></div></li></ul></li><li class="PRIVATE_TreeView-item prc-TreeView-TreeViewItem-ShJr0" tabindex="0" id="LICENSE-item" role="treeitem" aria-labelledby=":R99implab:" aria-describedby=":R99implabH1:" aria-level="1" aria-selected="false"><div class="PRIVATE_TreeView-item-container prc-TreeView-TreeViewItemContainer--2Rkn" style="--level:1;content-visibility:auto;contain-intrinsic-size:auto 2rem"><div style="grid-area:spacer;display:flex"><div style="width:100%;display:flex"></div></div><div id=":R99implab:" class="PRIVATE_TreeView-item-content prc-TreeView-TreeViewItemContent-f0r0b"><div class="PRIVATE_VisuallyHidden prc-TreeView-TreeViewVisuallyHidden-4-mPv" aria-hidden="true" id=":R99implabH1:"></div><div class="PRIVATE_TreeView-item-visual prc-TreeView-TreeViewItemVisual-dRlGq" aria-hidden="true"><svg aria-hidden="true" focusable="false" class="octicon octicon-file" viewBox="0 0 16 16" width="16" height="16" fill="currentColor" display="inline-block" overflow="visible" style="vertical-align:text-bottom"><path d="M2 1.75C2 .784 2.784 0 3.75 0h6.586c.464 0 .909.184 1.237.513l2.914 2.914c.329.328.513.773.513 1.237v9.586A1.75 1.75 0 0 1 13.25 16h-9.5A1.75 1.75 0 0 1 2 14.25Zm1.75-.25a.25.25 0 0 0-.25.25v12.5c0 .138.112.25.25.25h9.5a.25.25 0 0 0 .25-.25V6h-2.75A1.75 1.75 0 0 1 9 4.25V1.5Zm6.75.062V4.25c0 .138.112.25.25.25h2.688l-.011-.013-2.914-2.914-.013-.011Z"></path></svg></div><span class="PRIVATE_TreeView-item-content-text prc-TreeView-TreeViewItemContentText-smZM-"><span>LICENSE</span></span></div></div></li><li class="PRIVATE_TreeView-item prc-TreeView-TreeViewItem-ShJr0" tabindex="0" id="README.md-item" role="treeitem" aria-labelledby=":Rb9implab:" aria-describedby=":Rb9implabH1:" aria-level="1" aria-selected="false"><div class="PRIVATE_TreeView-item-container prc-TreeView-TreeViewItemContainer--2Rkn" style="--level:1;content-visibility:auto;contain-intrinsic-size:auto 2rem"><div style="grid-area:spacer;display:flex"><div style="width:100%;display:flex"></div></div><div id=":Rb9implab:" class="PRIVATE_TreeView-item-content prc-TreeView-TreeViewItemContent-f0r0b"><div class="PRIVATE_VisuallyHidden prc-TreeView-TreeViewVisuallyHidden-4-mPv" aria-hidden="true" id=":Rb9implabH1:"></div><div class="PRIVATE_TreeView-item-visual prc-TreeView-TreeViewItemVisual-dRlGq" aria-hidden="true"><svg aria-hidden="true" focusable="false" class="octicon octicon-file" viewBox="0 0 16 16" width="16" height="16" fill="currentColor" display="inline-block" overflow="visible" style="vertical-align:text-bottom"><path d="M2 1.75C2 .784 2.784 0 3.75 0h6.586c.464 0 .909.184 1.237.513l2.914 2.914c.329.328.513.773.513 1.237v9.586A1.75 1.75 0 0 1 13.25 16h-9.5A1.75 1.75 0 0 1 2 14.25Zm1.75-.25a.25.25 0 0 0-.25.25v12.5c0 .138.112.25.25.25h9.5a.25.25 0 0 0 .25-.25V6h-2.75A1.75 1.75 0 0 1 9 4.25V1.5Zm6.75.062V4.25c0 .138.112.25.25.25h2.688l-.011-.013-2.914-2.914-.013-.011Z"></path></svg></div><span class="PRIVATE_TreeView-item-content-text prc-TreeView-TreeViewItemContentText-smZM-"><span>README.md</span></span></div></div></li></ul></nav></div></div></div></div></div></div><div class="Box-sc-g0xbh4-0 prc-PageLayout-VerticalDivider-4A4Qm prc-PageLayout-PaneVerticalDivider-1c9vy" data-variant="none" data-position="start" style="--spacing:var(--spacing-none)"><div role="slider" aria-label="Draggable pane splitter" aria-valuemin="0" aria-valuemax="0" aria-valuenow="0" aria-valuetext="Pane width 0 pixels" tabindex="0" class="Box-sc-g0xbh4-0 bHLmSv"></div></div></div></div><div class="Box-sc-g0xbh4-0 prc-PageLayout-ContentWrapper-b-QRo CodeView-module__SplitPageLayout_Content--qxR1C" data-is-hidden="false"><div class="Box-sc-g0xbh4-0"></div><div class="Box-sc-g0xbh4-0 prc-PageLayout-Content--F7-I" data-width="full" style="--spacing:var(--spacing-none)"><div data-selector="repos-split-pane-content" tabindex="0" class="Box-sc-g0xbh4-0 leYMvG"><div class="Box-sc-g0xbh4-0 KMPzq"><div class="Box-sc-g0xbh4-0 hfKjHv container"><div class="px-3 pt-3 pb-0" id="StickyHeader"><div class="Box-sc-g0xbh4-0 gZWyZE"><div class="Box-sc-g0xbh4-0 dwYKDk"><div class="Box-sc-g0xbh4-0 iDtIiT"><div class="Box-sc-g0xbh4-0 cEytCf"><nav data-testid="breadcrumbs" aria-labelledby="repos-header-breadcrumb--wide-heading" id="repos-header-breadcrumb--wide" class="Box-sc-g0xbh4-0 fzFXnm"><h2 class="sr-only ScreenReaderHeading-module__userSelectNone--vW4Cq prc-Heading-Heading-6CmGO" data-testid="screen-reader-heading" id="repos-header-breadcrumb--wide-heading">Breadcrumbs</h2><ol class="Box-sc-g0xbh4-0 iMnkmv"><li class="Box-sc-g0xbh4-0 ghzDag"><a class="Box-sc-g0xbh4-0 kHuKdh prc-Link-Link-85e08" sx="[object Object]" data-testid="breadcrumbs-repo-link" href="/KMI-KPZ/Toolbox-Datenkompetenz-Lerninhalte/tree/main">Toolbox-Datenkompetenz-Lerninhalte</a></li><li class="Box-sc-g0xbh4-0 ghzDag"><span class="Box-sc-g0xbh4-0 hzJBof prc-Text-Text-0ima0" aria-hidden="true">/</span><a class="Box-sc-g0xbh4-0 kgiVEz prc-Link-Link-85e08" sx="[object Object]" href="/KMI-KPZ/Toolbox-Datenkompetenz-Lerninhalte/tree/main/fahrrad-in-seoul">fahrrad-in-seoul</a></li></ol></nav><div data-testid="breadcrumbs-filename" class="Box-sc-g0xbh4-0 ghzDag"><span class="Box-sc-g0xbh4-0 hzJBof prc-Text-Text-0ima0" aria-hidden="true">/</span><h1 class="Box-sc-g0xbh4-0 jGhzSQ prc-Heading-Heading-6CmGO" tabindex="-1" id="file-name-id-wide">01-fahrradverleihseoul.ipynb</h1></div><button data-component="IconButton" type="button" class="prc-Button-ButtonBase-c50BI ml-2 prc-Button-IconButton-szpyj" data-loading="false" data-no-visuals="true" data-size="small" data-variant="invisible" aria-describedby=":R3td9lab:-loading-announcement" aria-labelledby=":Rdd9lab:"><svg aria-hidden="true" focusable="false" class="octicon octicon-copy" viewBox="0 0 16 16" width="16" height="16" fill="currentColor" display="inline-block" overflow="visible" style="vertical-align:text-bottom"><path d="M0 6.75C0 5.784.784 5 1.75 5h1.5a.75.75 0 0 1 0 1.5h-1.5a.25.25 0 0 0-.25.25v7.5c0 .138.112.25.25.25h7.5a.25.25 0 0 0 .25-.25v-1.5a.75.75 0 0 1 1.5 0v1.5A1.75 1.75 0 0 1 9.25 16h-7.5A1.75 1.75 0 0 1 0 14.25Z"></path><path d="M5 1.75C5 .784 5.784 0 6.75 0h7.5C15.216 0 16 .784 16 1.75v7.5A1.75 1.75 0 0 1 14.25 11h-7.5A1.75 1.75 0 0 1 5 9.25Zm1.75-.25a.25.25 0 0 0-.25.25v7.5c0 .138.112.25.25.25h7.5a.25.25 0 0 0 .25-.25v-7.5a.25.25 0 0 0-.25-.25Z"></path></svg></button><span class="CopyToClipboardButton-module__tooltip--Dq1IB prc-TooltipV2-Tooltip-cYMVY" data-direction="nw" aria-label="Copy path" aria-hidden="true" id=":Rdd9lab:">Copy path</span></div></div><div class="react-code-view-header-element--wide"><div class="Box-sc-g0xbh4-0 faNtbn"><div class="d-flex gap-2"> <button type="button" class="Box-sc-g0xbh4-0 dwNhzn prc-Button-ButtonBase-c50BI" data-loading="false" data-no-visuals="true" data-size="medium" data-variant="default" aria-describedby=":R5a6d9lab:-loading-announcement"><span data-component="buttonContent" class="Box-sc-g0xbh4-0 gUkoLg prc-Button-ButtonContent-HKbr-"><span data-component="text" class="prc-Button-Label-pTQ3x">Blame</span></span></button><button hidden="" data-testid="" data-hotkey-scope="read-only-cursor-text-area"></button><button data-component="IconButton" type="button" aria-label="More file actions" title="More file actions" data-testid="more-file-actions-button-nav-menu-wide" aria-haspopup="true" aria-expanded="false" tabindex="0" class="Box-sc-g0xbh4-0 fGwBZA prc-Button-ButtonBase-c50BI js-blob-dropdown-click prc-Button-IconButton-szpyj" data-loading="false" data-no-visuals="true" data-size="medium" data-variant="default" aria-describedby=":R2a6d9lab:-loading-announcement" id=":R2a6d9lab:"><svg aria-hidden="true" focusable="false" class="octicon octicon-kebab-horizontal" viewBox="0 0 16 16" width="16" height="16" fill="currentColor" display="inline-block" overflow="visible" style="vertical-align:text-bottom"><path d="M8 9a1.5 1.5 0 1 0 0-3 1.5 1.5 0 0 0 0 3ZM1.5 9a1.5 1.5 0 1 0 0-3 1.5 1.5 0 0 0 0 3Zm13 0a1.5 1.5 0 1 0 0-3 1.5 1.5 0 0 0 0 3Z"></path></svg></button> </div></div></div><div class="react-code-view-header-element--narrow"><div class="Box-sc-g0xbh4-0 faNtbn"><div class="d-flex gap-2"> <button type="button" class="Box-sc-g0xbh4-0 dwNhzn prc-Button-ButtonBase-c50BI" data-loading="false" data-no-visuals="true" data-size="medium" data-variant="default" aria-describedby=":R5a7d9lab:-loading-announcement"><span data-component="buttonContent" class="Box-sc-g0xbh4-0 gUkoLg prc-Button-ButtonContent-HKbr-"><span data-component="text" class="prc-Button-Label-pTQ3x">Blame</span></span></button><button hidden="" data-testid="" data-hotkey-scope="read-only-cursor-text-area"></button><button data-component="IconButton" type="button" aria-label="More file actions" title="More file actions" data-testid="more-file-actions-button-nav-menu-narrow" aria-haspopup="true" aria-expanded="false" tabindex="0" class="Box-sc-g0xbh4-0 fGwBZA prc-Button-ButtonBase-c50BI js-blob-dropdown-click prc-Button-IconButton-szpyj" data-loading="false" data-no-visuals="true" data-size="medium" data-variant="default" aria-describedby=":R2a7d9lab:-loading-announcement" id=":R2a7d9lab:"><svg aria-hidden="true" focusable="false" class="octicon octicon-kebab-horizontal" viewBox="0 0 16 16" width="16" height="16" fill="currentColor" display="inline-block" overflow="visible" style="vertical-align:text-bottom"><path d="M8 9a1.5 1.5 0 1 0 0-3 1.5 1.5 0 0 0 0 3ZM1.5 9a1.5 1.5 0 1 0 0-3 1.5 1.5 0 0 0 0 3Zm13 0a1.5 1.5 0 1 0 0-3 1.5 1.5 0 0 0 0 3Z"></path></svg></button> </div></div></div></div></div></div></div></div><div class="Box-sc-g0xbh4-0 dJxjrT react-code-view-bottom-padding"> <div class="Box-sc-g0xbh4-0 eFxKDQ"></div> <!-- --> <!-- --> </div><div class="Box-sc-g0xbh4-0 dJxjrT"> <!-- --> <!-- --> <div class="d-flex flex-column border rounded-2 mb-3 pl-1"><div class="Box-sc-g0xbh4-0 dzCJzi"><h2 class="sr-only ScreenReaderHeading-module__userSelectNone--vW4Cq prc-Heading-Heading-6CmGO" data-testid="screen-reader-heading">Latest commit</h2><div style="width:120px" class="Skeleton Skeleton--text" data-testid="loading"> </div><div class="d-flex flex-shrink-0 gap-2"><div data-testid="latest-commit-details" class="d-none d-sm-flex flex-items-center"></div><div class="d-flex gap-2"><h2 class="sr-only ScreenReaderHeading-module__userSelectNone--vW4Cq prc-Heading-Heading-6CmGO" data-testid="screen-reader-heading">History</h2><a href="/KMI-KPZ/Toolbox-Datenkompetenz-Lerninhalte/commits/main/fahrrad-in-seoul/01-fahrradverleihseoul.ipynb" class="prc-Button-ButtonBase-c50BI d-none d-lg-flex LinkButton-module__code-view-link-button--xvCGA flex-items-center fgColor-default" data-loading="false" data-size="small" data-variant="invisible" aria-describedby=":R5dlal9lab:-loading-announcement"><span data-component="buttonContent" data-align="center" class="prc-Button-ButtonContent-HKbr-"><span data-component="leadingVisual" class="prc-Button-Visual-2epfX prc-Button-VisualWrap-Db-eB"><svg aria-hidden="true" focusable="false" class="octicon octicon-history" viewBox="0 0 16 16" width="16" height="16" fill="currentColor" display="inline-block" overflow="visible" style="vertical-align:text-bottom"><path d="m.427 1.927 1.215 1.215a8.002 8.002 0 1 1-1.6 5.685.75.75 0 1 1 1.493-.154 6.5 6.5 0 1 0 1.18-4.458l1.358 1.358A.25.25 0 0 1 3.896 6H.25A.25.25 0 0 1 0 5.75V2.104a.25.25 0 0 1 .427-.177ZM7.75 4a.75.75 0 0 1 .75.75v2.992l2.028.812a.75.75 0 0 1-.557 1.392l-2.5-1A.751.751 0 0 1 7 8.25v-3.5A.75.75 0 0 1 7.75 4Z"></path></svg></span><span data-component="text" class="prc-Button-Label-pTQ3x"><span class="fgColor-default">History</span></span></span></a><div class="d-sm-none"></div><div class="d-flex d-lg-none"><span role="tooltip" aria-label="History" id="history-icon-button-tooltip" class="Tooltip__TooltipBase-sc-17tf59c-0 hWlpPn tooltipped-n"><a href="/KMI-KPZ/Toolbox-Datenkompetenz-Lerninhalte/commits/main/fahrrad-in-seoul/01-fahrradverleihseoul.ipynb" class="prc-Button-ButtonBase-c50BI LinkButton-module__code-view-link-button--xvCGA flex-items-center fgColor-default" data-loading="false" data-size="small" data-variant="invisible" aria-describedby=":Rpdlal9lab:-loading-announcement history-icon-button-tooltip"><span data-component="buttonContent" data-align="center" class="prc-Button-ButtonContent-HKbr-"><span data-component="leadingVisual" class="prc-Button-Visual-2epfX prc-Button-VisualWrap-Db-eB"><svg aria-hidden="true" focusable="false" class="octicon octicon-history" viewBox="0 0 16 16" width="16" height="16" fill="currentColor" display="inline-block" overflow="visible" style="vertical-align:text-bottom"><path d="m.427 1.927 1.215 1.215a8.002 8.002 0 1 1-1.6 5.685.75.75 0 1 1 1.493-.154 6.5 6.5 0 1 0 1.18-4.458l1.358 1.358A.25.25 0 0 1 3.896 6H.25A.25.25 0 0 1 0 5.75V2.104a.25.25 0 0 1 .427-.177ZM7.75 4a.75.75 0 0 1 .75.75v2.992l2.028.812a.75.75 0 0 1-.557 1.392l-2.5-1A.751.751 0 0 1 7 8.25v-3.5A.75.75 0 0 1 7.75 4Z"></path></svg></span></span></a></span></div></div></div></div></div><div class="Box-sc-g0xbh4-0 ldRxiI"><div class="Box-sc-g0xbh4-0 fVkfyA container"><div class="Box-sc-g0xbh4-0 gNAmSV react-code-size-details-banner"><div class="Box-sc-g0xbh4-0 jNEwzY react-code-size-details-banner"><div class="Box-sc-g0xbh4-0 bsDwxw text-mono"><div title="96.6 KB" data-testid="blob-size" class="Truncate__StyledTruncate-sc-23o1d2-0 eAtkQz"><span>1967 lines (1967 loc) · 96.6 KB</span></div></div></div></div><div class="Box-sc-g0xbh4-0 jdLMhu react-blob-view-header-sticky" id="repos-sticky-header"><div class="Box-sc-g0xbh4-0 tOISc"><div class="react-blob-sticky-header"><div class="Box-sc-g0xbh4-0 hqwSEx"><div class="Box-sc-g0xbh4-0 lzKZY"><div class="Box-sc-g0xbh4-0 fHind"><nav data-testid="breadcrumbs" aria-labelledby="sticky-breadcrumb-heading" id="sticky-breadcrumb" class="Box-sc-g0xbh4-0 fzFXnm"><h2 class="sr-only ScreenReaderHeading-module__userSelectNone--vW4Cq prc-Heading-Heading-6CmGO" data-testid="screen-reader-heading" id="sticky-breadcrumb-heading">Breadcrumbs</h2><ol class="Box-sc-g0xbh4-0 iMnkmv"><li class="Box-sc-g0xbh4-0 ghzDag"><a class="Box-sc-g0xbh4-0 kHuKdh prc-Link-Link-85e08" sx="[object Object]" data-testid="breadcrumbs-repo-link" href="/KMI-KPZ/Toolbox-Datenkompetenz-Lerninhalte/tree/main">Toolbox-Datenkompetenz-Lerninhalte</a></li><li class="Box-sc-g0xbh4-0 ghzDag"><span class="Box-sc-g0xbh4-0 oDtgN prc-Text-Text-0ima0" aria-hidden="true">/</span><a class="Box-sc-g0xbh4-0 kgiVEz prc-Link-Link-85e08" sx="[object Object]" href="/KMI-KPZ/Toolbox-Datenkompetenz-Lerninhalte/tree/main/fahrrad-in-seoul">fahrrad-in-seoul</a></li></ol></nav><div data-testid="breadcrumbs-filename" class="Box-sc-g0xbh4-0 ghzDag"><span class="Box-sc-g0xbh4-0 oDtgN prc-Text-Text-0ima0" aria-hidden="true">/</span><h1 class="Box-sc-g0xbh4-0 dnZoUW prc-Heading-Heading-6CmGO" tabindex="-1" id="sticky-file-name-id">01-fahrradverleihseoul.ipynb</h1></div></div><button style="--button-color:fg.default" type="button" class="Box-sc-g0xbh4-0 jRZWlf prc-Button-ButtonBase-c50BI" data-loading="false" data-size="small" data-variant="invisible" aria-describedby=":Riptal9lab:-loading-announcement"><span data-component="buttonContent" class="Box-sc-g0xbh4-0 gUkoLg prc-Button-ButtonContent-HKbr-"><span data-component="leadingVisual" class="prc-Button-Visual-2epfX prc-Button-VisualWrap-Db-eB"><svg aria-hidden="true" focusable="false" class="octicon octicon-arrow-up" viewBox="0 0 16 16" width="16" height="16" fill="currentColor" display="inline-block" overflow="visible" style="vertical-align:text-bottom"><path d="M3.47 7.78a.75.75 0 0 1 0-1.06l4.25-4.25a.75.75 0 0 1 1.06 0l4.25 4.25a.751.751 0 0 1-.018 1.042.751.751 0 0 1-1.042.018L9 4.81v7.44a.75.75 0 0 1-1.5 0V4.81L4.53 7.78a.75.75 0 0 1-1.06 0Z"></path></svg></span><span data-component="text" class="prc-Button-Label-pTQ3x">Top</span></span></button></div></div></div><div class="Box-sc-g0xbh4-0 kTvpNk"><h2 class="sr-only ScreenReaderHeading-module__userSelectNone--vW4Cq prc-Heading-Heading-6CmGO" data-testid="screen-reader-heading">File metadata and controls</h2><div class="Box-sc-g0xbh4-0 iNMjfP"><ul aria-label="File view" class="Box-sc-g0xbh4-0 gtTaSn prc-SegmentedControl-SegmentedControl-e7570" data-size="small"><li class="Box-sc-g0xbh4-0 dXYHoy prc-SegmentedControl-Item-7Aq6h" data-selected="true"><button aria-current="true" class="prc-SegmentedControl-Button-ojWXD" type="button"><span class="prc-SegmentedControl-Content-gnQ4n"><div class="Box-sc-g0xbh4-0 prc-SegmentedControl-Text-c5gSh" data-text="Preview">Preview</div></span></button></li><li class="Box-sc-g0xbh4-0 jBWIdY prc-SegmentedControl-Item-7Aq6h"><button aria-current="false" class="prc-SegmentedControl-Button-ojWXD" type="button"><span class="prc-SegmentedControl-Content-gnQ4n"><div class="Box-sc-g0xbh4-0 prc-SegmentedControl-Text-c5gSh" data-text="Code">Code</div></span></button></li><li class="Box-sc-g0xbh4-0 jBWIdY prc-SegmentedControl-Item-7Aq6h"><button aria-current="false" class="prc-SegmentedControl-Button-ojWXD" type="button"><span class="prc-SegmentedControl-Content-gnQ4n"><div class="Box-sc-g0xbh4-0 prc-SegmentedControl-Text-c5gSh" data-text="Blame">Blame</div></span></button></li></ul><button hidden="" data-testid="" data-hotkey-scope="read-only-cursor-text-area"></button><button hidden="" data-testid="" data-hotkey-scope="read-only-cursor-text-area"></button><button hidden="" data-testid="" data-hotkey-scope="read-only-cursor-text-area"></button><div class="Box-sc-g0xbh4-0 jNEwzY react-code-size-details-in-header"><div class="Box-sc-g0xbh4-0 bsDwxw text-mono"><div title="96.6 KB" data-testid="blob-size" class="Truncate__StyledTruncate-sc-23o1d2-0 eAtkQz"><span>1967 lines (1967 loc) · 96.6 KB</span></div></div></div></div><div class="Box-sc-g0xbh4-0 kcLCKF"><div class="Box-sc-g0xbh4-0 kVWtTz react-blob-header-edit-and-raw-actions"><div class="Box-sc-g0xbh4-0 prc-ButtonGroup-ButtonGroup-vcMeG"><div><a href="https://github.com/KMI-KPZ/Toolbox-Datenkompetenz-Lerninhalte/raw/refs/heads/main/fahrrad-in-seoul/01-fahrradverleihseoul.ipynb" data-testid="raw-button" class="Box-sc-g0xbh4-0 gWqxTd prc-Button-ButtonBase-c50BI" data-loading="false" data-no-visuals="true" data-size="small" data-variant="default" aria-describedby=":R5csptal9lab:-loading-announcement"><span data-component="buttonContent" class="Box-sc-g0xbh4-0 gUkoLg prc-Button-ButtonContent-HKbr-"><span data-component="text" class="prc-Button-Label-pTQ3x">Raw</span></span></a></div><div><button data-component="IconButton" type="button" aria-label="Copy raw content" data-testid="copy-raw-button" class="prc-Button-ButtonBase-c50BI prc-Button-IconButton-szpyj" data-loading="false" data-no-visuals="true" data-size="small" data-variant="default" aria-describedby=":Rpcsptal9lab:-loading-announcement"><svg aria-hidden="true" focusable="false" class="octicon octicon-copy" viewBox="0 0 16 16" width="16" height="16" fill="currentColor" display="inline-block" overflow="visible" style="vertical-align:text-bottom"><path d="M0 6.75C0 5.784.784 5 1.75 5h1.5a.75.75 0 0 1 0 1.5h-1.5a.25.25 0 0 0-.25.25v7.5c0 .138.112.25.25.25h7.5a.25.25 0 0 0 .25-.25v-1.5a.75.75 0 0 1 1.5 0v1.5A1.75 1.75 0 0 1 9.25 16h-7.5A1.75 1.75 0 0 1 0 14.25Z"></path><path d="M5 1.75C5 .784 5.784 0 6.75 0h7.5C15.216 0 16 .784 16 1.75v7.5A1.75 1.75 0 0 1 14.25 11h-7.5A1.75 1.75 0 0 1 5 9.25Zm1.75-.25a.25.25 0 0 0-.25.25v7.5c0 .138.112.25.25.25h7.5a.25.25 0 0 0 .25-.25v-7.5a.25.25 0 0 0-.25-.25Z"></path></svg></button></div><div><span role="tooltip" aria-label="Download raw file" id=":Rdcsptal9lab:" class="Tooltip__TooltipBase-sc-17tf59c-0 hWlpPn tooltipped-n"><button data-component="IconButton" type="button" aria-label="Download raw content" data-testid="download-raw-button" class="Box-sc-g0xbh4-0 ivobqY prc-Button-ButtonBase-c50BI prc-Button-IconButton-szpyj" data-loading="false" data-no-visuals="true" data-size="small" data-variant="default" aria-describedby=":Rtcsptal9lab:-loading-announcement"><svg aria-hidden="true" focusable="false" class="octicon octicon-download" viewBox="0 0 16 16" width="16" height="16" fill="currentColor" display="inline-block" overflow="visible" style="vertical-align:text-bottom"><path d="M2.75 14A1.75 1.75 0 0 1 1 12.25v-2.5a.75.75 0 0 1 1.5 0v2.5c0 .138.112.25.25.25h10.5a.25.25 0 0 0 .25-.25v-2.5a.75.75 0 0 1 1.5 0v2.5A1.75 1.75 0 0 1 13.25 14Z"></path><path d="M7.25 7.689V2a.75.75 0 0 1 1.5 0v5.689l1.97-1.969a.749.749 0 1 1 1.06 1.06l-3.25 3.25a.749.749 0 0 1-1.06 0L4.22 6.78a.749.749 0 1 1 1.06-1.06l1.97 1.969Z"></path></svg></button></span></div></div><button hidden="" data-testid="raw-button-shortcut" data-hotkey-scope="read-only-cursor-text-area"></button><button hidden="" data-testid="copy-raw-button-shortcut" data-hotkey-scope="read-only-cursor-text-area"></button><button hidden="" data-testid="download-raw-button-shortcut" data-hotkey-scope="read-only-cursor-text-area"></button><a class="js-github-dev-shortcut d-none prc-Link-Link-85e08" href="https://github.dev/"></a><button hidden="" data-testid="" data-hotkey-scope="read-only-cursor-text-area"></button><a class="js-github-dev-new-tab-shortcut d-none prc-Link-Link-85e08" href="https://github.dev/" target="_blank"></a><button hidden="" data-testid="" data-hotkey-scope="read-only-cursor-text-area"></button><div class="Box-sc-g0xbh4-0 prc-ButtonGroup-ButtonGroup-vcMeG"><div><span role="tooltip" aria-label="Edit this file" id=":R6ksptal9lab:" class="Tooltip__TooltipBase-sc-17tf59c-0 hWlpPn tooltipped-nw"><a sx="[object Object]" data-component="IconButton" type="button" aria-label="Edit file" data-testid="edit-button" class="Box-sc-g0xbh4-0 kilKoS prc-Button-ButtonBase-c50BI prc-Button-IconButton-szpyj" data-loading="false" data-no-visuals="true" data-size="small" data-variant="default" aria-describedby=":Rmksptal9lab:-loading-announcement" href="/KMI-KPZ/Toolbox-Datenkompetenz-Lerninhalte/edit/main/fahrrad-in-seoul/01-fahrradverleihseoul.ipynb"><svg aria-hidden="true" focusable="false" class="octicon octicon-pencil" viewBox="0 0 16 16" width="16" height="16" fill="currentColor" display="inline-block" overflow="visible" style="vertical-align:text-bottom"><path d="M11.013 1.427a1.75 1.75 0 0 1 2.474 0l1.086 1.086a1.75 1.75 0 0 1 0 2.474l-8.61 8.61c-.21.21-.47.364-.756.445l-3.251.93a.75.75 0 0 1-.927-.928l.929-3.25c.081-.286.235-.547.445-.758l8.61-8.61Zm.176 4.823L9.75 4.81l-6.286 6.287a.253.253 0 0 0-.064.108l-.558 1.953 1.953-.558a.253.253 0 0 0 .108-.064Zm1.238-3.763a.25.25 0 0 0-.354 0L10.811 3.75l1.439 1.44 1.263-1.263a.25.25 0 0 0 0-.354Z"></path></svg></a></span></div><div><button data-component="IconButton" type="button" aria-label="More edit options" data-testid="more-edit-button" aria-haspopup="true" aria-expanded="false" tabindex="0" class="prc-Button-ButtonBase-c50BI prc-Button-IconButton-szpyj" data-loading="false" data-no-visuals="true" data-size="small" data-variant="default" aria-describedby=":Raksptal9lab:-loading-announcement" id=":Raksptal9lab:"><svg aria-hidden="true" focusable="false" class="octicon octicon-triangle-down" viewBox="0 0 16 16" width="16" height="16" fill="currentColor" display="inline-block" overflow="visible" style="vertical-align:text-bottom"><path d="m4.427 7.427 3.396 3.396a.25.25 0 0 0 .354 0l3.396-3.396A.25.25 0 0 0 11.396 7H4.604a.25.25 0 0 0-.177.427Z"></path></svg></button></div></div><button hidden="" data-testid="" data-hotkey="e,Shift+E" data-hotkey-scope="read-only-cursor-text-area"></button></div><div class="react-blob-header-edit-and-raw-actions-combined"><button data-component="IconButton" type="button" aria-label="Edit and raw actions" title="More file actions" data-testid="more-file-actions-button" aria-haspopup="true" aria-expanded="false" tabindex="0" class="Box-sc-g0xbh4-0 ffkqe prc-Button-ButtonBase-c50BI js-blob-dropdown-click prc-Button-IconButton-szpyj" data-loading="false" data-no-visuals="true" data-size="small" data-variant="invisible" aria-describedby=":Rnsptal9lab:-loading-announcement" id=":Rnsptal9lab:"><svg aria-hidden="true" focusable="false" class="octicon octicon-kebab-horizontal" viewBox="0 0 16 16" width="16" height="16" fill="currentColor" display="inline-block" overflow="visible" style="vertical-align:text-bottom"><path d="M8 9a1.5 1.5 0 1 0 0-3 1.5 1.5 0 0 0 0 3ZM1.5 9a1.5 1.5 0 1 0 0-3 1.5 1.5 0 0 0 0 3Zm13 0a1.5 1.5 0 1 0 0-3 1.5 1.5 0 0 0 0 3Z"></path></svg></button></div></div></div></div><div></div></div><div class="Box-sc-g0xbh4-0 hGyMdv"><section aria-labelledby="file-name-id-wide file-name-id-mobile" class="Box-sc-g0xbh4-0 iWAocR"><!--$!--><template></template><div class="Box-sc-g0xbh4-0 fgsa-DI"><span class="prc-Spinner-Box-qNUI9"><svg height="32px" width="32px" viewBox="0 0 16 16" fill="none" aria-hidden="true" aria-label="Loading" class="prc-Spinner-SpinnerAnimation-e7Gf-"><circle cx="8" cy="8" r="7" stroke="currentColor" stroke-opacity="0.25" stroke-width="2" vector-effect="non-scaling-stroke"></circle><path d="M15 8a7.002 7.002 0 00-7-7" stroke="currentColor" stroke-width="2" stroke-linecap="round" vector-effect="non-scaling-stroke"></path></svg></span></div><!--/$--></section></div></div></div> <!-- --> <!-- --> </div></div></div><div class="Box-sc-g0xbh4-0"></div></div></div></div></div><div id="find-result-marks-container" class="Box-sc-g0xbh4-0 cCoXib"></div><button hidden="" data-testid="" data-hotkey-scope="read-only-cursor-text-area"></button><button hidden=""></button></div> <!-- --> <!-- --> <script type="application/json" id="__PRIMER_DATA_:R0:__">{"resolvedServerColorMode":"day"}</script></div>
</react-app>
</turbo-frame>



  </div>

</turbo-frame>

    </main>
  </div>

  </div>

          <footer class="footer pt-8 pb-6 f6 color-fg-muted p-responsive" role="contentinfo" >
  <h2 class='sr-only'>Footer</h2>

  


  <div class="d-flex flex-justify-center flex-items-center flex-column-reverse flex-lg-row flex-wrap flex-lg-nowrap">
    <div class="d-flex flex-items-center flex-shrink-0 mx-2">
      <a aria-label="Homepage" title="GitHub" class="footer-octicon mr-2" href="https://github.com">
        <svg aria-hidden="true" height="24" viewBox="0 0 24 24" version="1.1" width="24" data-view-component="true" class="octicon octicon-mark-github">
    <path d="M12 1C5.9225 1 1 5.9225 1 12C1 16.8675 4.14875 20.9787 8.52125 22.4362C9.07125 22.5325 9.2775 22.2025 9.2775 21.9137C9.2775 21.6525 9.26375 20.7862 9.26375 19.865C6.5 20.3737 5.785 19.1912 5.565 18.5725C5.44125 18.2562 4.905 17.28 4.4375 17.0187C4.0525 16.8125 3.5025 16.3037 4.42375 16.29C5.29 16.2762 5.90875 17.0875 6.115 17.4175C7.105 19.0812 8.68625 18.6137 9.31875 18.325C9.415 17.61 9.70375 17.1287 10.02 16.8537C7.5725 16.5787 5.015 15.63 5.015 11.4225C5.015 10.2262 5.44125 9.23625 6.1425 8.46625C6.0325 8.19125 5.6475 7.06375 6.2525 5.55125C6.2525 5.55125 7.17375 5.2625 9.2775 6.67875C10.1575 6.43125 11.0925 6.3075 12.0275 6.3075C12.9625 6.3075 13.8975 6.43125 14.7775 6.67875C16.8813 5.24875 17.8025 5.55125 17.8025 5.55125C18.4075 7.06375 18.0225 8.19125 17.9125 8.46625C18.6138 9.23625 19.04 10.2125 19.04 11.4225C19.04 15.6437 16.4688 16.5787 14.0213 16.8537C14.42 17.1975 14.7638 17.8575 14.7638 18.8887C14.7638 20.36 14.75 21.5425 14.75 21.9137C14.75 22.2025 14.9563 22.5462 15.5063 22.4362C19.8513 20.9787 23 16.8537 23 12C23 5.9225 18.0775 1 12 1Z"></path>
</svg>
</a>
      <span>
        &copy; 2025 GitHub,&nbsp;Inc.
      </span>
    </div>

    <nav aria-label="Footer">
      <h3 class="sr-only" id="sr-footer-heading">Footer navigation</h3>

      <ul class="list-style-none d-flex flex-justify-center flex-wrap mb-2 mb-lg-0" aria-labelledby="sr-footer-heading">

          <li class="mx-2">
            <a data-analytics-event="{&quot;category&quot;:&quot;Footer&quot;,&quot;action&quot;:&quot;go to Terms&quot;,&quot;label&quot;:&quot;text:terms&quot;}" href="https://docs.github.com/site-policy/github-terms/github-terms-of-service" data-view-component="true" class="Link--secondary Link">Terms</a>
          </li>

          <li class="mx-2">
            <a data-analytics-event="{&quot;category&quot;:&quot;Footer&quot;,&quot;action&quot;:&quot;go to privacy&quot;,&quot;label&quot;:&quot;text:privacy&quot;}" href="https://docs.github.com/site-policy/privacy-policies/github-privacy-statement" data-view-component="true" class="Link--secondary Link">Privacy</a>
          </li>

          <li class="mx-2">
            <a data-analytics-event="{&quot;category&quot;:&quot;Footer&quot;,&quot;action&quot;:&quot;go to security&quot;,&quot;label&quot;:&quot;text:security&quot;}" href="https://github.com/security" data-view-component="true" class="Link--secondary Link">Security</a>
          </li>

          <li class="mx-2">
            <a data-analytics-event="{&quot;category&quot;:&quot;Footer&quot;,&quot;action&quot;:&quot;go to status&quot;,&quot;label&quot;:&quot;text:status&quot;}" href="https://www.githubstatus.com/" data-view-component="true" class="Link--secondary Link">Status</a>
          </li>

          <li class="mx-2">
            <a data-analytics-event="{&quot;category&quot;:&quot;Footer&quot;,&quot;action&quot;:&quot;go to docs&quot;,&quot;label&quot;:&quot;text:docs&quot;}" href="https://docs.github.com/" data-view-component="true" class="Link--secondary Link">Docs</a>
          </li>

          <li class="mx-2">
            <a data-analytics-event="{&quot;category&quot;:&quot;Footer&quot;,&quot;action&quot;:&quot;go to contact&quot;,&quot;label&quot;:&quot;text:contact&quot;}" href="https://support.github.com?tags=dotcom-footer" data-view-component="true" class="Link--secondary Link">Contact</a>
          </li>

          <li class="mx-2" >
  <cookie-consent-link>
    <button
      type="button"
      class="Link--secondary underline-on-hover border-0 p-0 color-bg-transparent"
      data-action="click:cookie-consent-link#showConsentManagement"
      data-analytics-event="{&quot;location&quot;:&quot;footer&quot;,&quot;action&quot;:&quot;cookies&quot;,&quot;context&quot;:&quot;subfooter&quot;,&quot;tag&quot;:&quot;link&quot;,&quot;label&quot;:&quot;cookies_link_subfooter_footer&quot;}"
    >
      Manage cookies
    </button>
  </cookie-consent-link>
</li>

<li class="mx-2">
  <cookie-consent-link>
    <button
      type="button"
      class="Link--secondary underline-on-hover border-0 p-0 color-bg-transparent"
      data-action="click:cookie-consent-link#showConsentManagement"
      data-analytics-event="{&quot;location&quot;:&quot;footer&quot;,&quot;action&quot;:&quot;dont_share_info&quot;,&quot;context&quot;:&quot;subfooter&quot;,&quot;tag&quot;:&quot;link&quot;,&quot;label&quot;:&quot;dont_share_info_link_subfooter_footer&quot;}"
    >
      Do not share my personal information
    </button>
  </cookie-consent-link>
</li>

      </ul>
    </nav>
  </div>
</footer>



    <ghcc-consent id="ghcc" class="position-fixed bottom-0 left-0" style="z-index: 999999" data-initial-cookie-consent-allowed="" data-cookie-consent-required="true"></ghcc-consent>



  <div id="ajax-error-message" class="ajax-error-message flash flash-error" hidden>
    <svg aria-hidden="true" height="16" viewBox="0 0 16 16" version="1.1" width="16" data-view-component="true" class="octicon octicon-alert">
    <path d="M6.457 1.047c.659-1.234 2.427-1.234 3.086 0l6.082 11.378A1.75 1.75 0 0 1 14.082 15H1.918a1.75 1.75 0 0 1-1.543-2.575Zm1.763.707a.25.25 0 0 0-.44 0L1.698 13.132a.25.25 0 0 0 .22.368h12.164a.25.25 0 0 0 .22-.368Zm.53 3.996v2.5a.75.75 0 0 1-1.5 0v-2.5a.75.75 0 0 1 1.5 0ZM9 11a1 1 0 1 1-2 0 1 1 0 0 1 2 0Z"></path>
</svg>
    <button type="button" class="flash-close js-ajax-error-dismiss" aria-label="Dismiss error">
      <svg aria-hidden="true" height="16" viewBox="0 0 16 16" version="1.1" width="16" data-view-component="true" class="octicon octicon-x">
    <path d="M3.72 3.72a.75.75 0 0 1 1.06 0L8 6.94l3.22-3.22a.749.749 0 0 1 1.275.326.749.749 0 0 1-.215.734L9.06 8l3.22 3.22a.749.749 0 0 1-.326 1.275.749.749 0 0 1-.734-.215L8 9.06l-3.22 3.22a.751.751 0 0 1-1.042-.018.751.751 0 0 1-.018-1.042L6.94 8 3.72 4.78a.75.75 0 0 1 0-1.06Z"></path>
</svg>
    </button>
    You can’t perform that action at this time.
  </div>

    <template id="site-details-dialog">
  <details class="details-reset details-overlay details-overlay-dark lh-default color-fg-default hx_rsm" open>
    <summary role="button" aria-label="Close dialog"></summary>
    <details-dialog class="Box Box--overlay d-flex flex-column anim-fade-in fast hx_rsm-dialog hx_rsm-modal">
      <button class="Box-btn-octicon m-0 btn-octicon position-absolute right-0 top-0" type="button" aria-label="Close dialog" data-close-dialog>
        <svg aria-hidden="true" height="16" viewBox="0 0 16 16" version="1.1" width="16" data-view-component="true" class="octicon octicon-x">
    <path d="M3.72 3.72a.75.75 0 0 1 1.06 0L8 6.94l3.22-3.22a.749.749 0 0 1 1.275.326.749.749 0 0 1-.215.734L9.06 8l3.22 3.22a.749.749 0 0 1-.326 1.275.749.749 0 0 1-.734-.215L8 9.06l-3.22 3.22a.751.751 0 0 1-1.042-.018.751.751 0 0 1-.018-1.042L6.94 8 3.72 4.78a.75.75 0 0 1 0-1.06Z"></path>
</svg>
      </button>
      <div class="octocat-spinner my-6 js-details-dialog-spinner"></div>
    </details-dialog>
  </details>
</template>

    <div class="Popover js-hovercard-content position-absolute" style="display: none; outline: none;">
  <div class="Popover-message Popover-message--bottom-left Popover-message--large Box color-shadow-large" style="width:360px;">
  </div>
</div>

    <template id="snippet-clipboard-copy-button">
  <div class="zeroclipboard-container position-absolute right-0 top-0">
    <clipboard-copy aria-label="Copy" class="ClipboardButton btn js-clipboard-copy m-2 p-0" data-copy-feedback="Copied!" data-tooltip-direction="w">
      <svg aria-hidden="true" height="16" viewBox="0 0 16 16" version="1.1" width="16" data-view-component="true" class="octicon octicon-copy js-clipboard-copy-icon m-2">
    <path d="M0 6.75C0 5.784.784 5 1.75 5h1.5a.75.75 0 0 1 0 1.5h-1.5a.25.25 0 0 0-.25.25v7.5c0 .138.112.25.25.25h7.5a.25.25 0 0 0 .25-.25v-1.5a.75.75 0 0 1 1.5 0v1.5A1.75 1.75 0 0 1 9.25 16h-7.5A1.75 1.75 0 0 1 0 14.25Z"></path><path d="M5 1.75C5 .784 5.784 0 6.75 0h7.5C15.216 0 16 .784 16 1.75v7.5A1.75 1.75 0 0 1 14.25 11h-7.5A1.75 1.75 0 0 1 5 9.25Zm1.75-.25a.25.25 0 0 0-.25.25v7.5c0 .138.112.25.25.25h7.5a.25.25 0 0 0 .25-.25v-7.5a.25.25 0 0 0-.25-.25Z"></path>
</svg>
      <svg aria-hidden="true" height="16" viewBox="0 0 16 16" version="1.1" width="16" data-view-component="true" class="octicon octicon-check js-clipboard-check-icon color-fg-success d-none m-2">
    <path d="M13.78 4.22a.75.75 0 0 1 0 1.06l-7.25 7.25a.75.75 0 0 1-1.06 0L2.22 9.28a.751.751 0 0 1 .018-1.042.751.751 0 0 1 1.042-.018L6 10.94l6.72-6.72a.75.75 0 0 1 1.06 0Z"></path>
</svg>
    </clipboard-copy>
  </div>
</template>
<template id="snippet-clipboard-copy-button-unpositioned">
  <div class="zeroclipboard-container">
    <clipboard-copy aria-label="Copy" class="ClipboardButton btn btn-invisible js-clipboard-copy m-2 p-0 d-flex flex-justify-center flex-items-center" data-copy-feedback="Copied!" data-tooltip-direction="w">
      <svg aria-hidden="true" height="16" viewBox="0 0 16 16" version="1.1" width="16" data-view-component="true" class="octicon octicon-copy js-clipboard-copy-icon">
    <path d="M0 6.75C0 5.784.784 5 1.75 5h1.5a.75.75 0 0 1 0 1.5h-1.5a.25.25 0 0 0-.25.25v7.5c0 .138.112.25.25.25h7.5a.25.25 0 0 0 .25-.25v-1.5a.75.75 0 0 1 1.5 0v1.5A1.75 1.75 0 0 1 9.25 16h-7.5A1.75 1.75 0 0 1 0 14.25Z"></path><path d="M5 1.75C5 .784 5.784 0 6.75 0h7.5C15.216 0 16 .784 16 1.75v7.5A1.75 1.75 0 0 1 14.25 11h-7.5A1.75 1.75 0 0 1 5 9.25Zm1.75-.25a.25.25 0 0 0-.25.25v7.5c0 .138.112.25.25.25h7.5a.25.25 0 0 0 .25-.25v-7.5a.25.25 0 0 0-.25-.25Z"></path>
</svg>
      <svg aria-hidden="true" height="16" viewBox="0 0 16 16" version="1.1" width="16" data-view-component="true" class="octicon octicon-check js-clipboard-check-icon color-fg-success d-none">
    <path d="M13.78 4.22a.75.75 0 0 1 0 1.06l-7.25 7.25a.75.75 0 0 1-1.06 0L2.22 9.28a.751.751 0 0 1 .018-1.042.751.751 0 0 1 1.042-.018L6 10.94l6.72-6.72a.75.75 0 0 1 1.06 0Z"></path>
</svg>
    </clipboard-copy>
  </div>
</template>


    <style>
      .user-mention[href$="/MartinLechner89"] {
        color: var(--color-user-mention-fg);
        background-color: var(--bgColor-attention-muted, var(--color-attention-subtle));
        border-radius: 2px;
        margin-left: -2px;
        margin-right: -2px;
      }
      .user-mention[href$="/MartinLechner89"]:before,
      .user-mention[href$="/MartinLechner89"]:after {
        content: '';
        display: inline-block;
        width: 2px;
      }
    </style>


    </div>

    <div id="js-global-screen-reader-notice" class="sr-only mt-n1" aria-live="polite" aria-atomic="true" ></div>
    <div id="js-global-screen-reader-notice-assertive" class="sr-only mt-n1" aria-live="assertive" aria-atomic="true"></div>
  </body>
</html>

