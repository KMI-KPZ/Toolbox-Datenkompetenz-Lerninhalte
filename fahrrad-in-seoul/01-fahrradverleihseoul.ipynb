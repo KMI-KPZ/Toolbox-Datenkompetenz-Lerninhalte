{
 "cells": [
  {
   "cell_type": "markdown",
   "id": "1a8d23dd",
   "metadata": {},
   "source": [
    "# Arbeiten mit (Fahrrad-)Daten aus Seoul"
   ]
  },
  {
   "cell_type": "markdown",
   "id": "a736dfd7",
   "metadata": {},
   "source": [
    "\n",
    "\n",
    "<table><tr>\n",
    "<td>\n",
    "<p xmlns:cc=\"http://creativecommons.org/ns#\" xmlns:dct=\"http://purl.org/dc/terms/\"><span property=\"dct:title\">Einblick Datensatz: Fahrradverleih in Seoul</span> by <span property=\"cc:attributionName\">Martin Lechner</span> is licensed under <a href=\"http://creativecommons.org/licenses/by/4.0/?ref=chooser-v1\" target=\"_blank\" rel=\"license noopener noreferrer\" style=\"display:inline-block;\">CC BY 4.0</a></p>\n",
    "</td> \n",
    "<td> <img src=\"https://mirrors.creativecommons.org/presskit/icons/cc.svg?ref=chooser-v1\"/ width=\"20\"; height=\"20\"> </td>\n",
    "<td> <img src=\"https://mirrors.creativecommons.org/presskit/icons/by.svg?ref=chooser-v1\"/ width=\"20\"; height=\"20\"> </td>\n",
    "</tr></table>"
   ]
  },
  {
   "cell_type": "markdown",
   "id": "d1e21aec",
   "metadata": {},
   "source": [
    "## Einleitung"
   ]
  },
  {
   "cell_type": "markdown",
   "id": "65463041",
   "metadata": {},
   "source": [
    "Willkommen zum Einführungstraining „Einblick in den Datensatz: Fahrradverleih in Seoul“ für den Datensatz <i>Seoul Bike Sharing Demand</i>. In diesem Notebook wird gezeigt, welche Informationen ein Datensatz enthalten kann. Darüber hinaus erfährst du anhand von Analysebeispielen, wie man sich den Inhalten des Datensatzes nähern kann und welche weiterführenden Möglichkeiten es gibt, mit einem solchen Datensatz zu arbeiten. Dabei wird die Perspektive eingenommen, als hätten wir das zu bearbeitende Datenset noch nicht eingesehen."
   ]
  },
  {
   "cell_type": "markdown",
   "id": "cc0e8f86",
   "metadata": {},
   "source": [
    "👶 Für dieses Notebook benötigst du kein Vorwissen: <br>\n",
    "- Lies dir die Texte gut durch und folge den Anweisungen.\n",
    "- Es wird regelmäßig von dir verlangt, Zeilen Code auszuführen. Das wird gleich erklärt!\n",
    "- Um dieses Notebook etwas interaktiver zu gestalten, gibt es Stellen, an denen du selbst Code schreiben sollst. Diese sind mit: <code># dein Code </code> gekennzeichnet.\n",
    "-  Eigene Gedanken und Fragen sind immer willkommen! \n",
    "- Es gibt an jeder Stelle Lösungsvorschläge, die dir helfen, dich selbst zu kontrollieren und mehr zu erfahren. Du solltest sie in jedem Fall lesen!"
   ]
  },
  {
   "cell_type": "markdown",
   "id": "edf610b0",
   "metadata": {},
   "source": [
    "Du solltest das Notebook durchgehen,\n",
    "- ... da es sich um ein Hands-on-Beispiel eines unbekannten Datensatzes in einer realen Programmierumgebung handelt,\n",
    "- ... um zu erkennen, welche Fragen man in Bezug auf Datensätze stellen und welche Perspektiven man einnehmen kann,\n",
    "- ... um zu sehen, dass durch Recherchieren Mehrwerte entstehen können,\n",
    "- ... um eine Einführung in Python mit Hilfsbibliotheken zu erhalten,\n",
    "- ... um später selbst einfache, eigene Untersuchungen durchzuführen,\n",
    "- ... um einen Ausblick zu erhalten, wo Arbeiten mit Datensätzen hinführen kann."
   ]
  },
  {
   "cell_type": "markdown",
   "id": "7207df65",
   "metadata": {},
   "source": [
    "❗Dieses Notebook stellt verschiedene Fragen zum Themenkomplex Fahrradverleih, geht dabei jedoch nicht explizit einer zentralen Fragestellung nach. Indem wir die Potenziale der Arbeit mit Datensätzen vorstellen, möchten wir dazu anregen, selbstständig zu denken und aufzeigen, wie man eigene Forschung mit diesem oder anderen Datensätzen voranbringen kann."
   ]
  },
  {
   "cell_type": "markdown",
   "id": "074ae0ea",
   "metadata": {},
   "source": [
    "Da die Programmiersprache Python und ihre Hilfsbibliotheken sowohl als Mittel zur Demonstration von datenkompetenzrelevanter Inhalten dienen als auch als praktische Werkzeuge fungieren, profitierst du doppelt: Du erweiterst sowohl dein theoretisches Wissen als auch deine praktischen Fähigkeiten. Obwohl der Fokus dieses Notebooks darauf liegt, die möglichen Erkenntnisse aus einem Datensatz darzulegen, wird auch darauf eingegangen, wie in dieser realen Programmierumgebung gearbeitet werden kann. Wichtig ist, dass wir hier zwar „programmieren“, im Wesentlichen aber nur Funktionen bzw. Methoden nutzen, um Informationen aus Daten zu erhalten. Das bedeutet, wir schreiben zwar eigenen Code, aber kein eigenes Programm und verwenden die bereitgestellten Lösungen in Form von Funktionen bzw. Methoden aus den Hilfsbibliotheken, um unsere Analyse voranzubringen."
   ]
  },
  {
   "cell_type": "markdown",
   "id": "196dc587",
   "metadata": {},
   "source": [
    "## Das interaktive Konzept dieses Notebooks: Ausführen von Code, eigener Code und Fragen"
   ]
  },
  {
   "cell_type": "markdown",
   "id": "fab8642a",
   "metadata": {},
   "source": [
    "Die meisten Code-Zeilen für dieses Notebook sind bereits vorgeschrieben. Diese Zeilen müssen in der Reihenfolge ihres Erscheinens ausgeführt werden. <b>Klicke dafür zunächst in die entsprechende Zeile Code</b>. Anschließend <b>drücke gleichzeitig \"Shift+Enter\" auf der Tastatur</b>. Alternativ kannst du mit dem Cursor auf die untere rechte Ecke der Zeile Code navigieren und sie mit dem Textsymbol <b>Run code: Ctrl + Enter</b> ausführen.<br> "
   ]
  },
  {
   "cell_type": "markdown",
   "id": "b4156106",
   "metadata": {},
   "source": [
    "<b> a) Ausführen von Code </b>"
   ]
  },
  {
   "cell_type": "markdown",
   "id": "d155914f",
   "metadata": {},
   "source": [
    "👇 Unten findest du ist eine Zeile Code, die lediglich einen Text ausgeben wird. Führe sie wie oberhalb beschrieben aus! "
   ]
  },
  {
   "cell_type": "code",
   "execution_count": null,
   "id": "1a71049b",
   "metadata": {},
   "outputs": [],
   "source": [
    "print(\"Hallo Welt!\")"
   ]
  },
  {
   "cell_type": "markdown",
   "id": "e2e9c231",
   "metadata": {},
   "source": [
    "Bei korrekter Ausführung sollte der Text <code>Hallo Welt!</code> erscheinen. Außerdem sollte in der Zeile neben dem Code nun eine Zahl innerhalb der eckigen Klammern stehen, z.B. <code>In [1]</code>."
   ]
  },
  {
   "cell_type": "markdown",
   "id": "79a27cbc",
   "metadata": {},
   "source": [
    "<b> b) Eigener Code <b>"
   ]
  },
  {
   "cell_type": "markdown",
   "id": "f284b2b1",
   "metadata": {},
   "source": [
    "Schreibe den gleichen Code wie oben, aber ersetze das Wort \"Welt\" mit einem Namen deiner Wahl! Vergiss nicht die Zeile Code auszuführen 👇."
   ]
  },
  {
   "cell_type": "code",
   "execution_count": null,
   "id": "e57af272",
   "metadata": {},
   "outputs": [],
   "source": [
    "# dein Code\n"
   ]
  },
  {
   "cell_type": "markdown",
   "id": "e326becc",
   "metadata": {},
   "source": [
    "<details>\n",
    "    <summary>&#x1F449;  Hier klicken, um einen Lösungsvorschlag zu sehen &#x1F448;</summary>\n",
    "    \n",
    " ```python\n",
    "# dein Code\n",
    "print(\"Hallo, Kai!\")\n",
    "```\n",
    "Hallo, Kai!\n",
    "\n",
    "</details>"
   ]
  },
  {
   "cell_type": "markdown",
   "id": "bb424b4b",
   "metadata": {},
   "source": [
    "<b> c) (offene) Fragen </b>"
   ]
  },
  {
   "cell_type": "markdown",
   "id": "eefcda23",
   "metadata": {},
   "source": [
    "In diesem Notebook gibt es häufig Fragen. Einige davon sind als Aufgabenstellungen zu verstehen. Es gibt immer einen Lösungsvorschlag, der entsprechend gekennzeichnet ist. Offene Fragen sollen zum Nachdenken anregen, werden aber in diesem Sinne nicht kontrolliert oder beantwortet."
   ]
  },
  {
   "cell_type": "markdown",
   "id": "63e1bfa1",
   "metadata": {},
   "source": [
    "<b>Frage: </b> Hast du das Prinzip oberhalb verstanden?"
   ]
  },
  {
   "cell_type": "markdown",
   "id": "5be9e15e",
   "metadata": {},
   "source": [
    "<details>\n",
    "    <summary>&#x1F449;  Hier klicken, um einen Lösungsvorschlag zu sehen &#x1F448;</summary>\n",
    "Ja! :) (Hoffen wir.) \n",
    "\n",
    "</details>"
   ]
  },
  {
   "cell_type": "markdown",
   "id": "afe8628f",
   "metadata": {},
   "source": [
    "<b>d) Feedback</b>"
   ]
  },
  {
   "cell_type": "markdown",
   "id": "c7b44264",
   "metadata": {},
   "source": [
    "Wie du oberhalb gesehen hast, gibt es in diesem Notebook zur Selbstkontrolle mit <code>👉 Lösungsvorschlag/Anregung 👈</code> gekennzeichnete Felder, die angeklickt werden müssen, um den Inhalt zu offenbaren. Zwei davon solltest du bereits \"aufgeklappt\" haben. Diese Felder sollten in jedem Fall gelesen werden, da sie <b>neben den Lösungsvorschlägen zur Vertiefung des Inhaltes dienen</b>."
   ]
  },
  {
   "cell_type": "markdown",
   "id": "876ae887",
   "metadata": {},
   "source": [
    "<div class=\"alert alert-block alert-warning\"><b>Bevor wir mit der Erkundung des Datensets beginnen:</b> Wenn du das Notebook schließt und später erneut startest, wird es in dem Zustand angezeigt, in dem du es geschlossen hast. Allerdings wird häufig der Zwischenspeicher gelöscht, was dazu führen kann, dass du Fehlermeldungen erhältst, wenn du an einer bestimmten Stelle weitermachst. In einem solchen Fall musst du (leider) <b>alle Code-Zeilen in der Reihenfolge von vorne neu ausführen!</b> Übrigens: Es kann vorkommen, dass du vergisst, eine Zeile Code auszuführen. Steht links neben der Zeile Code keine Zahl innerhalb von <code>In [ ]</code>, wurde diese noch nicht ausgeführt.</div>\n"
   ]
  },
  {
   "cell_type": "markdown",
   "id": "d7dfb9ce",
   "metadata": {},
   "source": [
    "# Das Datenset"
   ]
  },
  {
   "cell_type": "markdown",
   "id": "3d0ce477",
   "metadata": {},
   "source": [
    "## Einführung in den Kontext des Datensets"
   ]
  },
  {
   "cell_type": "markdown",
   "id": "8850958e",
   "metadata": {},
   "source": [
    "Wir werden in diesem Notebook mit einem bereits vorgefertigten Datensatz arbeiten. Es kommt nicht selten vor, dass man Daten \"einfach so bekommt\". Daher müssen wir uns zunächst damit beschäftigen, was das Datenset enthält, woher es stammt und wie wir damit arbeiten können."
   ]
  },
  {
   "cell_type": "markdown",
   "id": "b8649478",
   "metadata": {},
   "source": [
    "Das Datenset wird über die Datensetsammlung von [<i>UC Irvine Machine Learning Repository</i>](https://archive.ics.uci.edu/dataset/560/seoul+bike+sharing+demand) mit der Lizenz [CC BY 4.0](https://creativecommons.org/licenses/by/4.0/legalcode) bereitgestellt. Die bisherige Beschreibung ist auf Englisch. Bei Bedarf kann die Seite übersetzt werden. Auch die Spaltentitel sind auf Englisch, sollten jedoch intuitiv verständlich sein. Für die weitere Bearbeitung in diesem Notebook ist es nicht zwingend erforderlich, die Beschreibung intensiv zu lesen. Wir empfehlen jedoch, ein paar Minuten damit zu verbringen, dir anzusehen, welche Informationen die Seite zum Datensatz enthält – und welche möglicherweise fehlen."
   ]
  },
  {
   "cell_type": "markdown",
   "id": "044651fd",
   "metadata": {},
   "source": [
    "<b>Frage:</b> Worauf zielt das Datenset laut der Beschreibung ab?"
   ]
  },
  {
   "cell_type": "markdown",
   "id": "20988823",
   "metadata": {},
   "source": [
    "<details>\n",
    "    <summary>&#x1F449;  Hier klicken, um einen Lösungsvorschlag zu sehen &#x1F448;</summary>\n",
    "    Die Hauptfragestellung zielt darauf ab, <u>anhand der zur Verfügung gestellten Features</u> zu berechnen, wie viele Fahrräder zu einer bestimmten Stunde (künftig) zu erwarten sind. Dieser errechnete Wert stellt die Grundlage dar, um entsprechende Fahrräder bereitzustellen.\n",
    "    <br> Hierzu siehe die Aussage:     <b>\"The crucial part is the prediction of bike count required at each hour for the stable supply of rental bikes.\" <a href=\"https://archive.ics.uci.edu/dataset/560/seoul+bike+sharing+demand\">UC Irvine Machine Learning Repository</a></b>\n",
    "</details>"
   ]
  },
  {
   "cell_type": "markdown",
   "id": "4aaab338",
   "metadata": {},
   "source": [
    "<b> Offene Frage: </b> Du wirst wahrscheinlich feststellen, dass einige Informationen nicht ganz klar sind oder fehlen. Zum Beispiel könnte der Titel suggerieren, dass der gesamte Fahrradverleih in Seoul abgebildet ist. Ist das der Fall, oder handelt es sich um eine bestimmte Firma? Vielleicht kann eine kurze Recherche zum Namen Klarheit verschaffen. Auf einige Punkte wird auch im Verlauf des Notebooks noch eingegangen."
   ]
  },
  {
   "cell_type": "markdown",
   "id": "095797ea",
   "metadata": {},
   "source": [
    "## Das Datenset öffnen - der \"normale Weg\""
   ]
  },
  {
   "cell_type": "markdown",
   "id": "b61bfd9a",
   "metadata": {},
   "source": [
    "Für dieses Notebook ist das Datenset bereits im selben Ordner als <b>.CSV</b>-Datei gespeichert und muss nicht extra hochgeladen werden. Bevor wir diese Datei im folgenden Abschnitt ins Notebook holen, werden wir hier kurz auf <u>gängige \"Öffnungsstrategien\"</u> eingehen, um auf mögliche Probleme hinzuweisen. Wir empfehlen, die folgenden Anweisungen selbst auszuführen, um zu sehen, was passiert. Es wird aber auch erklärt, auf welche Probleme man stoßen wird, die in diesem Fall unausweichlich sind."
   ]
  },
  {
   "cell_type": "markdown",
   "id": "7c4133a0",
   "metadata": {},
   "source": [
    "<div class=\"alert alert-block alert-warning\"><b>Wichtig</b>: Für dieses Notebook nutzen wir die Version des Datensets, die auf <a href=\"https://archive.ics.uci.edu/dataset/560/seoul+bike+sharing+demand\">UC Irvine Machine Learning Repository</a> bereitgestellt wird. <b>Diese Version weist die Herausforderungen auf, die gleich vorgestellt werden. </b> Es gibt eine weitere Version auf der TBDK, welche diese \"Probleme\" umgangen hat und sofort funktionieren sollte.</div>"
   ]
  },
  {
   "cell_type": "markdown",
   "id": "5d715dc0",
   "metadata": {},
   "source": [
    "<u>Verfahren über die Lernwelt bzw. den Workspace der TBDK</u>:<br>Das Datenset befindet sich bereits als CSV-Datei im selben Ordner wie dieses Notebook. Du siehst die Datei auf der linken Seite in einer Art Explorerfenster. Öffnest du die Datei, sollte folgende Fehlermeldung auftauchen:<b><i>...is not UTF-8 encoded</i></b>. <br>\n",
    "<i>Optional</i>: Du kannst im Workspace der TBDK ein neues Projekt anlegen und die Datei hochladen, nachdem du diese über den obigen Link heruntergeladen hast. Die Oberfläche im Workspace ist die gleiche und man kann diese Datei ebenso mit \"Öffnen mit\" und \"Editor\" öffnen. Es wird aber aus den gleichen Gründen nicht funktionieren."
   ]
  },
  {
   "cell_type": "markdown",
   "id": "ec64004b",
   "metadata": {},
   "source": [
    "<u>Lokale Vorgehensweise (am Beispiel Windows-PC)</u>: <br><b>Lade dir über den Link zunächst die CSV-Datei herunter </b>und <b>versuche sie zu öffnen</b>.\n",
    "Beim Versuch, das Dataset in Office-Umgebungen zu öffnen, sollte zwar eine Tabelle erscheinen, aber die Inhalte werden möglicherweise <b>nicht ganz richtig dargestellt.</b>\n",
    "<br>\n",
    "Öffne die Datei wie folgt:  <b>Rechtsklick auf die Datei</b> -> <b>Öffnen mit</b> -> <b>Editor</b><br>\n",
    "Es öffnet sich ein Editorfenster und du solltest die Daten wie folgt angezeigt bekommen:"
   ]
  },
  {
   "cell_type": "markdown",
   "id": "2bb208de",
   "metadata": {},
   "source": [
    "<code>\n",
    "Date,Rented Bike Count,Hour,Temperature(°C),Humidity(%),Wind speed (m/s),Visibility (10m), ...\n",
    "01/12/2017,254,0,-5.2,37,2.2,2000,-17.6,0,0,0,Winter,No Holiday,Yes\n",
    "01/12/2017,204,1,-5.5,38,0.8,2000,-17.6,0,0,0,Winter,No Holiday,Yes\n",
    "01/12/2017,173,2,-6,39,1,2000,-17.7,0,0,0,Winter,No Holiday,Yes\n",
    "01/12/2017,107,3,-6.2,40,0.9,2000,-17.6,0,0,0,Winter,No Holiday,Yes\n",
    "    ...\n",
    "</code>"
   ]
  },
  {
   "cell_type": "markdown",
   "id": "b5835779",
   "metadata": {},
   "source": [
    "<div class=\"alert alert-block alert-warning\"><b>Wichtig</b>: Aus Platzgründen wurde in der Darstellung oberhalb die erste Zeile nach dem siebten Komma abgeschnitten. Es wurde mit <b>\"...\" </b> gekennzeichnet, dass die Zeile nicht zu Ende ist! Die weiteren Zeilen sind ungekürzt, allerdings werden nur die ersten fünf Zeilen wiedergegeben. Im Editor sind dagegen alle Inhalte vorhanden. </div>\n"
   ]
  },
  {
   "cell_type": "markdown",
   "id": "4bd6c661",
   "metadata": {},
   "source": [
    "<b>Frage:</b> Nimm dir ein bisschen Zeit und versuche nachzuvollziehen, wie die Bestandteile zusammenhängen und was dargestellt wird. Fallen dir Muster auf, die immer wieder vorkommen? Wie unterscheiden sich die Zeilen voneinander?"
   ]
  },
  {
   "cell_type": "markdown",
   "id": "dd9a3dcd",
   "metadata": {},
   "source": [
    "<details>\n",
    "    <summary>&#x1F449; Hier klicken, um einen Lösungsvorschlag zu sehen &#x1F448;</summary>\n",
    "    In dieser <b>CSV-Datei</b> ist die erste Zeile der <b>Spaltenkopf (Header)</b> und die nachfolgenden Zeilen enthalten die <b>jeweiligen Einträge</b>. Das <b>gewählte Trennzeichen ist hier ein Komma</b>. Alle Werte vor dem ersten Komma in jeder Zeile gehören zur ersten Spalte. Zur zweiten Spalte gehören alle Werte zwischen dem ersten und dem zweiten Komma jeder Zeile, und so weiter.\n",
    "</details>\n"
   ]
  },
  {
   "cell_type": "markdown",
   "id": "887c66d1",
   "metadata": {},
   "source": [
    "<b>CSV steht für Comma-separated values</b>. Das bedeutet nicht, dass zwangsläufig ein Komma die Werte voneinander trennt. Stattdessen können auch andere Zeichen dafür benutzt werden, z.B. das Semikolon. Zu berücksichtigen ist, dass <b>Dezimalstellen sowohl als Komma als auch als Punkt</b> auftauchen können. Bei der Wahl des Trennzeichens muss daher darauf geachtet werden, dass es nicht zu Problemen beim Einlesen durch eine doppelte Verwendung desselben Zeichens zur Trennung von Werten sowie zur Kennzeichnung von Dezimalstellen kommt. Wenn man eine CSV-Tabelle öffnet, ist diese sprichwörtlich \"verrückt\". Häufig liegt es daran, dass die Trennzeichen (auch <b>separator</b> oder <b>delimiter</b> genannt) entweder nicht richtig ausgewählt worden sind oder weitere Trennzeichen innerhalb von Werten auftauchen."
   ]
  },
  {
   "cell_type": "markdown",
   "id": "4c830cec",
   "metadata": {},
   "source": [
    "Grundsätzlich zeigt sich bereits beim bloßen Öffnen, dass es als Datenbereitsteller:in sinnvoll sein kann, darauf zu achten, dass entsprechende Datensets die <b>Unicode-Formate standardmäßig unterstützen</b>, und Strategien zu entwickeln, um solche „Extrazeichen“ zu vermeiden oder zumindest auf diese hinzuweisen. Nicht immer ist das der Fall und häufig muss man dies als Nutzer:in erst selbst herausfinden. Natürlich sind die Datensätze in der Regel auch an Personen gerichtet, die bezüglich solcher Probleme bereits geschult sind und wissen, wie man im Fall der Fehlermeldung <b>„...is not UTF-8 encoded“</b> vorzugehen hat. Wir werden gleich beim Laden der Datei in dieses Notebook auf diese Besonderheiten eingehen.\n"
   ]
  },
  {
   "cell_type": "markdown",
   "id": "337b78e4",
   "metadata": {},
   "source": [
    "<div class=\"alert alert-block alert-info\"><b>Hinweis</b>: Das auf der TBDK im <u>Bereich <i>Datensets</i> bereitgestellte Datenset wurde dahingehend entschärft und wird die UTF-8 Problematik nicht aufweisen</u>. Es kann daher auch im Workspace vom Editor geöffnet werden, allerdings sind die Trennzeichen abgeändert. Für das vorliegende Notebook ist das erst einmal unerheblich, da wir mit dem oben beschrieben Datenset aus <i>UC Irvine Machine Learning Repository</i> fortfahren werden. </div>"
   ]
  },
  {
   "cell_type": "markdown",
   "id": "5d9b0ec4",
   "metadata": {},
   "source": [
    "<div class=\"alert alert-block alert-success\">\n",
    "    🚩 Prima, bis hierhin haben wir den „klassischen“ Weg ausprobiert, um Daten zu öffnen, und dabei gesehen, wie eine CSV-Datei aussieht. Im Folgenden zeigen wir, wie diese CSV-Datei in das Jupyter Notebook geladen und mit entsprechenden Werkzeugen bearbeitet werden kann. Lasst die Erkundung beginnen!\n",
    "</div>"
   ]
  },
  {
   "cell_type": "markdown",
   "id": "e68d7cf3",
   "metadata": {},
   "source": [
    "## Erster Blick auf die Daten mit einem <code>DataFrame</code>"
   ]
  },
  {
   "cell_type": "markdown",
   "id": "8f99d11c",
   "metadata": {},
   "source": [
    "Im vorherigen Abschnitt haben wir uns kurz mit der Herkunft der Daten auseinandergesetzt und angeregt, mehr darüber in Erfahrung zu bringen. Nun sehen wir uns die Daten einmal genauer an. Wichtig: Das Datenset ist bereits von uns in denselben Ordner geladen worden - es muss nicht erneut hochgeladen werden!"
   ]
  },
  {
   "cell_type": "markdown",
   "id": "e916af04",
   "metadata": {},
   "source": [
    "👇 Wenn du die folgende Zeile Code ausführst, <b>wird es keinen Output geben, aber </b> auf der linken Seite sollte nun <code>In [3]</code> oder eine andere Zahl innerhalb der eckigen Klammern stehen. Diese Zahl steht für die bisher ausgeführten Zeilen Code. Es sollte aber mindestens eine Zahl zu sehen sein, damit wir wissen, dass wenigstens diese Zeile ausgeführt wurde."
   ]
  },
  {
   "cell_type": "code",
   "execution_count": null,
   "id": "bfb1fb4b",
   "metadata": {
    "scrolled": true
   },
   "outputs": [],
   "source": [
    "import pandas as pd \n",
    "import matplotlib.pyplot as plt \n",
    "import seaborn as sns \n",
    "import numpy as np \n",
    "df=pd.read_csv(\"SeoulBikeData.csv\",encoding='unicode_escape',sep=\",\",header=0)"
   ]
  },
  {
   "cell_type": "markdown",
   "id": "f6e3e82e",
   "metadata": {},
   "source": [
    "<b>Was wird hier gemacht?</b> <br>\n",
    "Zu Beginn der meisten Jupyter-Notebooks ist es grundlegend, die erforderlichen Hilfsbibliotheken zu importieren. Es ist üblich, sämtliche Hilfsbibliotheken an den Anfang zu setzen, weswegen <code>Matplotlib</code> und <code>Seaborn</code> für spätere Visualisierungen bereits im Code zu sehen sind.   <br>\n",
    "Im selben Atemzug werden auch entsprechende Daten geladen, in diesem Fall das SeoulBike-Datenset.\n",
    "- Hier nutzen wir bereits die importierte Hilfsbibliothek <code>Pandas</code>, welche als <code>pd</code> abgekürzt wird, um mit <code>pd.read_csv()</code> die Datei <code>\"SeoulBikeData.csv\"</code> als <code>Dataframe</code> zu laden und in die Variable <code>df</code> zu speichern. Wie im vorherigen Abschnitt ausgeführt wurde, kam es zu ein paar Problemen, auf die in der Funktion bereits mit entsprechenden Spezifikationen reagiert wurde, um sie zu lösen.\n",
    "    - Zunächst steht an der ersten Stelle innerhalb der <code>( )</code> der exakte Dateiname und die Dateiendung des Datensets in <code>\" \"</code> . In unserem Fall liegt die Datei im gleichen Ordner wie dieses Notebook und wir können es bei der beschriebenen Kombination aus <b>Dateiname + Dateiendung</b> belassen.  \n",
    "    - Mit <code>encoding</code> bestimmen wir, welche Unicodes verarbeitet werden sollen. Für manche Datensätze kann es notwendig sein, das Encoding anzupassen, beispielsweise wenn spezielle Sonderzeichen oder gar Schriftzeichen benutzt werden. Sonst kommt es oft zu Fehlern, die zu der irrtümlichen Annahme verleiten, die Daten seien \"kaputt\". In diesem Dataset benutzen wir <code>\"unicode_escape\"</code>, damit das Sonderzeichen <code>°</code> in °C hinzugefügt wird, welches nicht in den Default-Settings vorgesehen ist und - wie gezeigt wurde - Fehlermeldungen verursacht. \n",
    "    - Mit der Nutzung von <code>header=0</code> erklären wir, auch wenn die <code>0</code>etwas anderes vermuten lässt, dass die <u>erste</u> Zeile (\"Zeile 0\") der CSV-Datei als <code>header</code> zu verstehen ist. Der entstehende <code>Index</code>, welcher nach Ausführen der nachfolgenden Zeile Code in der Tabelle unterhalb dargestellt wird, fängt allerdings wieder bei <code>0</code> an und \"überspringt\" damit die Kopfzeile."
   ]
  },
  {
   "cell_type": "markdown",
   "id": "4cc0c72a",
   "metadata": {},
   "source": [
    "👇 Führe die folgende Zeile Code aus, um einen Blick in das erzeugte <code>df (DataFrame)</code> zu werfen können."
   ]
  },
  {
   "cell_type": "code",
   "execution_count": null,
   "id": "be6576ec",
   "metadata": {},
   "outputs": [],
   "source": [
    "df"
   ]
  },
  {
   "cell_type": "markdown",
   "id": "0e71e15d",
   "metadata": {},
   "source": [
    "Wird ein DataFrame wie oben lediglich als <code>df</code> aufgerufen, wird die obige Standardansicht angezeigt. Es werden die ersten fünf und die letzten fünf Einträge (Zeilen) dieser Tabelle angezeigt. Dieses Vorgehen erlaubt einen ersten Einblick in die Daten. Eigentlich handelt es sich um eine Komfortfunktion von Jupyter Notebook. In der Regel müsste man - wie zu Beginn des Notebooks - Inhalte bzw. Variablen innerhalb von <code>print()</code> schreiben, um sich den Inhalt anzeigen zu lassen. Das müssen wir aber zum Glück nicht tun.\n",
    "Falls man sich eines Tages dafür entscheidet, tatsächlich Code zu schreiben, um beispielsweise umfangreiche Datenpipelines zu bauen oder eine eigene Hilfsbibliothek zu entwickeln, ändert sich dies. Dazu jedoch zu einem späteren Zeitpunkt mehr."
   ]
  },
  {
   "cell_type": "markdown",
   "id": "53098703",
   "metadata": {},
   "source": [
    "Unterhalb der Tabelle sehen wir die Angabe <code>8760 rows × 14 columns</code>. "
   ]
  },
  {
   "cell_type": "markdown",
   "id": "e6b10c35",
   "metadata": {},
   "source": [
    "Im Tabellenkopf sehen wir Beobachtungen, Spalten, Kategorien bzw. Features. Diese sind neben Date und Hour: Rented Bike Count, Temperature(°C),\tHumidity(%),\tWind speed (m/s),\tVisibility (10m),\tDew point temperature(°C),\tSolar Radiation (MJ/m2),\tRainfall(mm),\tSnowfall (cm),\tSeasons,\tHoliday und\tFunctioning Day. <br> "
   ]
  },
  {
   "cell_type": "markdown",
   "id": "949f73c9",
   "metadata": {},
   "source": [
    "👇 Führe die folgende Zeile aus, um dir die Spaltennamen aufzulisten, wie sie im Dataset exakt benannt werden."
   ]
  },
  {
   "cell_type": "code",
   "execution_count": null,
   "id": "a9353482",
   "metadata": {},
   "outputs": [],
   "source": [
    "df.columns"
   ]
  },
  {
   "cell_type": "markdown",
   "id": "8fe507c8",
   "metadata": {},
   "source": [
    "Dies sind die 14 Spalten (columns), die oben in <code>8760 rows × 14 columns</code> ausgegeben worden sind."
   ]
  },
  {
   "cell_type": "markdown",
   "id": "0ed06cdd",
   "metadata": {},
   "source": [
    "<b>Offene Frage: </b> Wie schätzt du den Einfluss jedes Features auf die Fahrradausleihe ein?"
   ]
  },
  {
   "cell_type": "markdown",
   "id": "7ceaf495",
   "metadata": {},
   "source": [
    "<div class=\"alert alert-block alert-info\"><b>Hinweis</b>: Wenn du spezielle Anfragen an das Dataframe stellst, kann es sinnvoll, sein, dir die Spaltentitel direkt zu kopieren. So verhinderst du, dass Tippfehler,  (fehlende) Sonderzeichen, Leerzeichen oder Tabzeichen eine Fehlermeldung aufwerfen. Python ist sehr sensibel, was das angeht. Wenn 'Snowfall (cm)' der richtige Name ist, dann wird es Fehler geben, wenn man beispielsweise 'Snowfall (cm) ', 'Snowfall(cm)' oder 'Snoffall (cm)' schreibt.</div>"
   ]
  },
  {
   "cell_type": "markdown",
   "id": "a024a9ea",
   "metadata": {},
   "source": [
    "Versuche nun, die folgenden Fragen mit den Informationen aus der obenstehenden Tabelle zu beantworten. Gib dir pro Frage ein bisschen Zeit und versuche selbst auf die Lösung zu kommen, bevor du dir den Lösungsvorschlag ansiehst. "
   ]
  },
  {
   "cell_type": "markdown",
   "id": "939a1a81",
   "metadata": {},
   "source": [
    " <b>Frage:</b> Wie viele Fahrradstationen gibt es?"
   ]
  },
  {
   "cell_type": "markdown",
   "id": "11476d48",
   "metadata": {},
   "source": [
    "<details>\n",
    "    <summary>&#x1F449;  Hier klicken, um einen Lösungsvorschlag zu sehen &#x1F448;</summary>\n",
    "Es gibt keine Informationen dazu. Es könnten aggregierte Daten mehrerer Stationen sein oder die Daten einer einzelnen Station. Vermutlich wird es sich um eine Art Aggregation mehrerer Stationen handeln. Bei solchen Fragen sollte man die Dokumentation oder Codebooks konsultieren, da diese extra dafür erstellt wurden. In einem professionellen Kontext kann es im Zweifelsfall auch angebracht sein, Rückfragen zu stellen. \n",
    "</details>\n"
   ]
  },
  {
   "cell_type": "markdown",
   "id": "edb74bda",
   "metadata": {},
   "source": [
    "<b>Frage:</b> Von wann bis wann sind Beobachtungen notiert und zu welchen Zeiten?"
   ]
  },
  {
   "cell_type": "markdown",
   "id": "6ca6ec82",
   "metadata": {},
   "source": [
    "<details>\n",
    "    <summary>&#x1F449;  Hier klicken, um einen Lösungsvorschlag zu sehen &#x1F448;</summary>\n",
    "Wir sehen, dass die Kategorie <code>\"Date\"</code> am <code>01/12/2017</code> beginnt und am <code>30/11/2018</code> endet. In der Spalte <code>Hour</code> sehen wir, dass die erste Stunde offensichtlich mit <code>0</code> (Uhr?) beginnt und <code>23</code> (Uhr?) endet. Wichtig: Datensets sind nicht immer so komfortabel wie in <code>df</code> bereits vorbereitet. Oftmals müssen Daten erst angepasst werden, da sie nicht immer in der Form vorliegen, die für bestimmte Fragestellungen erforderlich ist.\n",
    "</details>\n",
    "\n"
   ]
  },
  {
   "cell_type": "markdown",
   "id": "178a719e",
   "metadata": {},
   "source": [
    "<b>Frage:</b> Wofür stehen die <code>8760 rows</code> (Zeilen) in <code>8760 rows × 14 columns</code>."
   ]
  },
  {
   "cell_type": "markdown",
   "id": "04d735fe",
   "metadata": {},
   "source": [
    "<details>\n",
    "    <summary>&#x1F449;  Hier klicken, um einen Lösungsvorschlag zu sehen &#x1F448;</summary>\n",
    "Dies steht für die Anzahl der Reihen im Datenset. Teilt man diese Anzahl durch 24, erhält man 365, also ein Jahr. Kurz: Für einen Zeitraum von einem Jahr sind pro Tag stündliche Beobachtungen vermerkt.\n",
    "</details>\n"
   ]
  },
  {
   "cell_type": "markdown",
   "id": "1107eb61",
   "metadata": {},
   "source": [
    "## Erkundung der Spalte 'Rented Bike Count'"
   ]
  },
  {
   "cell_type": "markdown",
   "id": "65c1fe41",
   "metadata": {},
   "source": [
    "Wir wollen uns anhand einfacher mathematischer und statistischer Hilfsmittel zunächst vorwiegend mit der Spalte <b>Rented Bike Count</b> auseinandersetzen. Welche Aussagen können wir hier generieren? "
   ]
  },
  {
   "cell_type": "markdown",
   "id": "fd829fd0",
   "metadata": {},
   "source": [
    "### Erster Blick in die Spalte 'Rented Bike Count'"
   ]
  },
  {
   "cell_type": "markdown",
   "id": "bd41a4f8",
   "metadata": {},
   "source": [
    "👇 Führe die folgende Zeile aus, um dir Inhalte dieser Spalte anzeigen zu lassen."
   ]
  },
  {
   "cell_type": "code",
   "execution_count": null,
   "id": "2446c0bb",
   "metadata": {},
   "outputs": [],
   "source": [
    "df[\"Rented Bike Count\"]"
   ]
  },
  {
   "cell_type": "markdown",
   "id": "b312cf51",
   "metadata": {},
   "source": [
    "Was du siehst, ist eine <code>Series</code>. Ein <code>DataFrame</code> besteht aus vielen dieser <code>Series</code>, die dadurch gekennzeichnet sind, dass sie wie eine Liste oder ein Array Einträge aneinanderreihen, aber auch über einen <code>Index</code> verfügen. Dieser gemeinsame <code>Index</code> vereint die <code>Series</code> zu einem <code>DataFrame</code>. In der gezeigten Zeile Code lassen wir uns eine dieser <code>Series</code> anzeigen."
   ]
  },
  {
   "cell_type": "markdown",
   "id": "04ee0f42",
   "metadata": {},
   "source": [
    "<div class=\"alert alert-block alert-info\">\n",
    "    <b>Hinweis</b>: In Python beginnt die Zählung der Iterationen bei 0, ebenso wie die Nummerierung im Index. Daher siehst du auf der linken Seite im Index die Zahl 8759 als letzte Zahl, obwohl es insgesamt 8760 Einträge gibt (die Länge ist hier angegeben als „Length“).\n",
    "</div>"
   ]
  },
  {
   "cell_type": "markdown",
   "id": "5156c414",
   "metadata": {},
   "source": [
    "Am Ende des Outputs der obigen Zeile Code finden sich sowohl der <code>Name</code> der Spalte als auch die <code>Length</code>, die angibt, wie viele Einträge verzeichnet wurden. Zusätzlich ist der <code>dtype (Datentyp)</code> angegeben, in diesem Fall <code>int64</code>. "
   ]
  },
  {
   "cell_type": "markdown",
   "id": "a515210f",
   "metadata": {},
   "source": [
    "Der <code>dtype</code> ist wichtig und kann in einigen Fällen Probleme bereiten. Prinzipiell kann es vorkommen, dass der Datentyp nicht zum Inhalt der Spalte passt. Bei den Befehlen, die weiter unten vorgestellt werden, sind dadurch verursachte Fehlermeldungen keine Seltenheit. In der Regel sind Fehlermeldungen in Python und mit den verwendeten Hilfsbibliotheken gut lesbar, und es wird vermutlich darauf hingewiesen, dass der dtype der Spalte nicht mit einer Methode vereinbar ist."
   ]
  },
  {
   "cell_type": "markdown",
   "id": "cf353edf",
   "metadata": {},
   "source": [
    "Zur Vollständigkeit ein Überblick zu den <code>dtype-Formaten</code>:\n",
    "- int64: 64-bit Ganzzahlen wie <code>8760</code>\n",
    "- float64: 64-bit Fließkommazahlen wie <code>7.965</code> (in Python mit Punkt!)\n",
    "- object: Allgemeiner Datentyp für Zeichenketten (Strings) oder gemischte Datentypen, geschrieben in doppelten Anführungsstrichen (<b>\" \"</b>) wie <code>\"Hallo Welt\"</code>. Alternativ können einfache Anführungsstriche (<b>' '</b>) benutzt werden, welche \"stärker\" sind und dafür sorgen, dass <b>\"</b> als Zeichen innerhalb eines Strings auftauchen kann, wie es beispielsweise bei Zitaten üblich ist.\n",
    "- bool: Boolean, binäre Unterscheidung zwischen <code>TRUE</code> und <code>FALSE</code>\n",
    "- datetime64: Datums- und Zeitangaben wie <code>np.datetime64('2018-04-11')</code>, welche mit der Hilfsbibliothek Numpy erstellt werden"
   ]
  },
  {
   "cell_type": "markdown",
   "id": "ba3734b5",
   "metadata": {},
   "source": [
    "In Python gibt es auch sogenannte Listen (lists), Wörterbücher (dictionaries) und Tupel (tuples). In diese Datenstrukturen können Elemente beliebiger Datentypen eingefügt werden. Üblicherweise enthalten sie jedoch Elemente desselben Typs, wie in den folgenden Beispielen:\n",
    "- Listen (lists): wie <code>Temperaturliste_Celsius = [22.3, 22.4, 22.5, 22.1, 21.9]</code>\n",
    "- Wörterbücher (dictionaries): wie <code>Lieblingsfilm = {\"titel\": \"Reise ins Wunderland\", \"erscheinungsjahr\": 1980}</code>\n",
    "- Tupel (tuples): wie <code>Koordinaten_meer = (35.2278, -41.3909)</code>"
   ]
  },
  {
   "cell_type": "markdown",
   "id": "ba891e48",
   "metadata": {},
   "source": [
    "<div class=\"alert alert-block alert-info\">\n",
    "    <b>Tipp</b>: Auch gängige Office-Programme und Tabellenkalkulationssoftware haben Formate bzw. Datentypen hinterlegt. Wenn diese nicht einheitlich ausgewählt oder sogar „falsch“ (z.B. Währung für Datumsangaben, Prozente für Dezimalangaben usw.) sind, können Tabellen merkwürdig erscheinen und bestimmte Funktionen und Methoden möglicherweise nicht funktionieren. In solchen Fällen sollte man die Formate manuell korrigieren, in der Regel durch Markieren der Spalten und Auswahl der entsprechenden Formate. In den meisten Fällen „denkt“ die Software bereits mit, liegt jedoch nicht immer richtig.\n",
    "</div>\n"
   ]
  },
  {
   "cell_type": "markdown",
   "id": "457b414b",
   "metadata": {},
   "source": [
    "Der Output der Zeile Code <code>df[\"Rented Bike Count\"]</code> zeigte die ersten und letzten 5 Einträge. Wir sehen bereits in diesem kleinen Ausschnitt, dass die Anzahl der Fahrradausleihen variiert, wissen aber noch nicht, warum."
   ]
  },
  {
   "cell_type": "markdown",
   "id": "81329c65",
   "metadata": {},
   "source": [
    "<b>Dein Code: </b> Für den Rest dieses Notebooks werden wir im Wesentlichen mit <code>df[\"Rented Bike Count\"]</code> weiterarbeiten. Wenn du einen Blick in andere Spalten werfen willst, schreibe den Code in das unten angegebene Feld und ersetze \"Rented Bike Count\" durch den Namen einer anderen Spalte. Achte darauf, dass mit <b>\" \"</b> Text bzw. <b>String</b> gesetzt wird. Du kannst diesen Teil auch überspringen."
   ]
  },
  {
   "cell_type": "code",
   "execution_count": null,
   "id": "4f097ab6",
   "metadata": {},
   "outputs": [],
   "source": [
    "# dein Code \n"
   ]
  },
  {
   "cell_type": "markdown",
   "id": "9888ab6d",
   "metadata": {},
   "source": [
    "### Berechnung von Anzahl und Summe"
   ]
  },
  {
   "cell_type": "markdown",
   "id": "0d653a9c",
   "metadata": {},
   "source": [
    "👇 Führe die folgende Zeile aus. Sieh dir das folgende Beispiel genau an: <code>df[\"Rented Bike Count\"]</code> zeigt dir eigentlich nur den Inhalt der Spalte an, wohingegen mit der Methode <code>.count()</code> die Menge der Einträge dieser Spalte (bzw. der in der Tabelle festgehaltenen Fälle) gezählt und ausgegeben wird."
   ]
  },
  {
   "cell_type": "code",
   "execution_count": null,
   "id": "7ccc5309",
   "metadata": {},
   "outputs": [],
   "source": [
    "df[\"Rented Bike Count\"].count()"
   ]
  },
  {
   "cell_type": "markdown",
   "id": "d1366ac3",
   "metadata": {},
   "source": [
    "<b>Frage: </b>Kommt dir die Zahl bekannt vor? Was sagt sie aus? Was bedeutet sie für die Anzahl von Fahrradausleihen?"
   ]
  },
  {
   "cell_type": "markdown",
   "id": "61c0e000",
   "metadata": {},
   "source": [
    "<details>\n",
    "    <summary>&#x1F449;  Hier klicken, um einen Lösungsvorschlag zu sehen &#x1F448;</summary>\n",
    "Die Zahl <code>8760</code> sollte erscheinen. Dividiert man diese Zahl durch 24, also die Anzahl der Stunden am Tag (welche auch in der Spalte <code>Hour</code> vorkommt), erhält man 365, also die Anzahl der Tage für ein Jahr. Da die Zahl identisch ist, gibt es also gleich viele Einträge. Wäre die Zahl niedriger, würde es bedeuten, dass es entsprechend der Differenz fehlende Einträge gibt!\n",
    "</details>"
   ]
  },
  {
   "cell_type": "markdown",
   "id": "0cb3d2b6",
   "metadata": {},
   "source": [
    "<b>Dein Code: </b> Sieh dir den Code oben genau an. Schreibe unterhalb einen Code, der die Methode <code>.sum()</code> auf die Spalte <code>df[\"Rented Bike Count\"]</code> anwendet. Achte darauf, dass im Spaltentitel Leerzeichen vorhanden sind. "
   ]
  },
  {
   "cell_type": "code",
   "execution_count": null,
   "id": "d4751353",
   "metadata": {},
   "outputs": [],
   "source": [
    "# Schreibe den Code unter diese Zeile. Vergiss nicht, ihn auszuführen.\n"
   ]
  },
  {
   "cell_type": "markdown",
   "id": "a882e4f7",
   "metadata": {},
   "source": [
    "<b> Frage: </b>Was bedeutet die ausgegebene Zahl? Sie sollte 7-stellig sein. Was hat <code>.sum()</code> gemacht?"
   ]
  },
  {
   "cell_type": "markdown",
   "id": "d0e4092d",
   "metadata": {},
   "source": [
    "<details>\n",
    "    <summary>&#x1F449;  Hier klicken, um einen Lösungsvorschlag zu sehen &#x1F448;</summary>\n",
    "<code>df[\"Rented Bike Count\"].sum()</code>\n",
    "    <br>\n",
    "6172314\n",
    "    \n",
    "Erklärung: Die Methode hat die Summe aller Fahrradausleihen gebildet. In dem Jahr, auf das sich der Datensatz bezieht, gab es also 6172314 Fahrradausleihen.</details>"
   ]
  },
  {
   "cell_type": "markdown",
   "id": "36d5a0af",
   "metadata": {},
   "source": [
    "<div class=\"alert alert-block alert-info\">\n",
    "<b>Methoden und Funktionen</b>: Sowohl Methoden als auch Funktionen bearbeiten Daten und führen bestimmte Aufgaben durch. Methoden sind dabei an bestimmte Objekte gebunden, wie z.B. an <code>df</code> in <code>df.columns</code> oder <code>df[\"Rented Bike Count\"].count()</code>. Funktionen sind dagegen unabhängig von einem spezifischen Objekt. Allerdings können Funktionen identische Operationen durchführen. Eine selbstgeschriebene Funktion könnte beispielsweise die Daten in einem DataFrame analysieren und zählen, wie viele Einträge es in einer bestimmten Spalte gibt. Das Aufrufen dieser Funktion könnte dann so aussehen: <code>count_entries(df, \"Rented Bike Count\")</code>. \n",
    "</div>"
   ]
  },
  {
   "cell_type": "markdown",
   "id": "1b10f504",
   "metadata": {},
   "source": [
    "### <b>Übung</b>: Berechnung des Jahresumsatzes"
   ]
  },
  {
   "cell_type": "markdown",
   "id": "c263ad06",
   "metadata": {},
   "source": [
    "Mit den oben ermittelten Zahlen können wir bereits einige Berechnungen anstellen. In der folgenden Übung soll nun der Jahresumsatz errechnet werden. Wie eine Berechnung aussehen kann, ist im fiktiven Beispiel unterhalb aufgeführt. Nach dem Vorbild dieses Beispiels wirst du anschließend aufgefordert eigene Zahlen zu berechnen."
   ]
  },
  {
   "cell_type": "markdown",
   "id": "b99f3a14",
   "metadata": {},
   "source": [
    "<b>Beispielrechnung mit fiktiven Zahlen und Szenario</b>"
   ]
  },
  {
   "cell_type": "markdown",
   "id": "891fcbd4",
   "metadata": {},
   "source": [
    "<b>Szenario</b>: Als vor über 10 Jahren zum ersten Mal Fahrradverleihe durchgeführt wurden, gab es kaum Stationen und viele technische Schwierigkeiten. In 365 Tagen wurden damals 233238 Fahrradausleihen durchgeführt. Der Preis belief sich noch auf 400 Won pro Ausleihe. <br>\n",
    "<b>Aufgabenstellung</b>: Berechne den Jahresumsatz und gib diesen in Euro an. 1 KRW entsprach zu jener Zeit 0,00070 Euro.\n"
   ]
  },
  {
   "cell_type": "markdown",
   "id": "3f69034b",
   "metadata": {},
   "source": [
    "\n",
    " "
   ]
  },
  {
   "cell_type": "markdown",
   "id": "fcdaa1d2",
   "metadata": {},
   "source": [
    "👇 Führe die Zeile Code aus. Schau dir an, wie sich die Aufgabenstellung im Code widerspiegelt."
   ]
  },
  {
   "cell_type": "code",
   "execution_count": null,
   "id": "ec286f8a",
   "metadata": {},
   "outputs": [],
   "source": [
    "Anzahl= 233238\n",
    "Preis_won = 400\n",
    "Umsatz_won= Anzahl* Preis_won\n",
    "Umrechnungsfaktor = 0.00070\n",
    "Umsatz_euro= Umsatz_won * Umrechnungsfaktor\n",
    "\n",
    "print(\"In 365 Tagen wurden damals\", Umsatz_won,\"Won erwirtschaftet. Umgerechnet sind das\",Umsatz_euro,\"€.\")"
   ]
  },
  {
   "cell_type": "markdown",
   "id": "55c5c4c4",
   "metadata": {},
   "source": [
    "<div class=\"alert alert-block alert-info\"><b>Hinweis</b>: In einigen Ländern ist es üblich, <b>Dezimalstellen</b> mit einem <b>Komma</b> zu trennen, in anderen Ländern wird dafür ein <b>Punkt</b> verwendet. Schau dir den Umrechnungsfaktor in unserem fiktiven Beispiel an und wie die Dezimalangabe in die Variable <code>Umrechnungsfaktor</code> geschrieben wird.</div>"
   ]
  },
  {
   "cell_type": "markdown",
   "id": "a21150af",
   "metadata": {},
   "source": [
    "<b>Eigene Berechnung anhand des vorliegenden Datensets</b>"
   ]
  },
  {
   "cell_type": "markdown",
   "id": "4a397281",
   "metadata": {},
   "source": [
    "<b>Übung</b>: <u>Unterhalb</u> findest du den gleichen Code wie oben, allerdings fehlen die entsprechenden Werte. Führe die Zeile zunächst so aus, wie sie dasteht, um eine Fehlermeldung zu erzeugen. Ergänze dann im Anschluss folgende Zahlen:\n",
    "- <code>Anzahl</code>: Summe aller Fahrradausleihen innerhalb des Jahres, wie sie im Datenset berechnet wurde\n",
    "- <code>Preis_won</code>: Preis pro Ausleihe, die nun 900 Won kostet\n",
    "- <code>Umrechnungsfaktor</code>: Umrechnung von südkoreanischem Won zu Euro. <u>Dies muss recherchiert werden</u>. Beachte hierbei die Richtung!"
   ]
  },
  {
   "cell_type": "markdown",
   "id": "8df9ea87",
   "metadata": {},
   "source": [
    "<div class=\"alert alert-block alert-warning\">👇 Führe die Zeile Code unterhalb zunächst ohne Einträge aus. Du wirst eine Fehlermeldung bekommen. Das ist ok. Schau sie dir genau an. Verstehst du, wodurch die Meldung ausgelöst wird? Werden darin alle Probleme aufgelistet? </div>"
   ]
  },
  {
   "cell_type": "code",
   "execution_count": null,
   "id": "f335ba86",
   "metadata": {
    "scrolled": true
   },
   "outputs": [],
   "source": [
    "# dein Code\n",
    "Anzahl= \n",
    "Preis_won = \n",
    "Umsatz_won= Anzahl* Preis_won\n",
    "Umrechnungsfaktor =  \n",
    "Umsatz_euro= Umsatz_won * Umrechnungsfaktor\n",
    "\n",
    "print(\"In 365 Tagen wurden \", Umsatz_won,\"Won erwirtschaftet. Umgerechnet sind das\",Umsatz_euro,\"€.\")"
   ]
  },
  {
   "cell_type": "markdown",
   "id": "7504abcf",
   "metadata": {},
   "source": [
    "Bei längeren Fehlermeldungen wird das \"Wichtigste\" in der Regel am Ende der Meldung detaillierter aufgelistet. In unserem Beispiel wird die Fehlermeldung <b>SyntaxError: invalid syntax</b> angezeigt, da einer Variable noch kein Wert zugewiesen wurde. Fehlermeldungen sorgen dafür, dass die Zeile Code nicht weiter ausgeführt wird. Es wird immer der Fehler angezeigt wird, der zuerst aufgetreten ist. <br><u>Führe die Zeile Code oberhalb erneut aus, wenn du für die drei Variablen Werte eingetragen hast. Unterhalb findest du auch einen Lösungsvorschlag dazu. </u>"
   ]
  },
  {
   "cell_type": "markdown",
   "id": "1fa93891",
   "metadata": {},
   "source": [
    "<details>\n",
    "    <summary>&#x1F449;  Hier klicken, um einen Lösungsvorschlag zu sehen &#x1F448;</summary>\n",
    "    Die weiter oben von <code>.sum()</code> ausgegebene Zahl sollte die Gesamtanzahl aller Fahrten des Jahres darstellen, welche 6172314 beträgt. Allerdings wissen wir nicht, wie lange die Fahrten dauerten und ob Fahrten, wenn sie in die nächste Stunde hineinreichten, erneut gezählt wurden oder nicht. Für einen fiktiven Preis pro Fahrt können wir ungefähr erahnen, wie viel Umsatz generiert wurde.\n",
    "    <br> Für die entsprechende Anzahl ist es ok, die Zahl 6172314 zu benutzen, welche zuvor mittels <code>.sum()</code> erzeugt wurde. Unterhalb siehst du aber, dass das Ergebnis der Methode eben diese Zahl ist und entsprechend zur Berechnung benutzt werden kann. Beachte hierzu das Hinweisfeld.\n",
    "    \n",
    " ```python\n",
    "Anzahl= df[\"Rented Bike Count\"].sum()\n",
    "Preis_won = 900\n",
    "Umsatz_won= Anzahl* Preis_won\n",
    "Umrechnungsfaktor = 0.00068 \n",
    "Umsatz_euro= Umsatz_won * Umrechnungsfaktor\n",
    "\n",
    "print(\"In 365 Tagen wurden \", Umsatz_won,\"Won erwirtschaftet. Umgerechnet sind das\",Umsatz_euro,\"€.\")\n",
    "```\n",
    "    In 365 Tagen wurden  5555082600 Won erwirtschaftet. Umgerechnet sind das 3777456.168 €.\n",
    "</details>"
   ]
  },
  {
   "cell_type": "markdown",
   "id": "235d4af2",
   "metadata": {},
   "source": [
    "<div class=\"alert alert-block alert-info\">\n",
    "<b> Hinweis: Klarzahlen vs. dynamische Berechnung</b>. Vermutlich wirst du bei der Berechnung der <code>Anzahl</code> die Klarzahl <code>6172314</code> verwendet haben. Im Lösungsvorschlag siehst du als eingesetzten Wert jedoch die Methode <code>df[\"Rented Bike Count\"].sum()</code>, welche der Variablen <code>Anzahl</code> zugeordnet wurde. Für dieses Beispiel sind beide Verfahren möglich, da es sich um einen eingeschränkten Aufgabenbereich handelt und wir (noch) keine weiteren Berechnungen vorgenommen haben, welche die <code>Anzahl</code> beeinflussen. Die ausgegebene Zahl ist in beiden Fällen (noch) gleich. <br>\n",
    "Sollte der Code zur Berechnung des Umsatzes aber wiederverwendet oder sogar automatisiert hinterlegt werden, wird ein Update der zugrundeliegenden Daten bei ursprünglich hinterlegten Klarzahlen nicht berücksichtigt und müsste immer manuell erfolgen, was sehr aufwendig ist. Obwohl also die errechnete Zahl für diese Aufgabenstellung korrekt war, ist das künftig nicht mehr zwingend der Fall. Es empfiehlt sich daher die Methode, also <code>df[\"Rented Bike Count\"].sum()</code> der <code>Klarzahl 6172314</code> vorzuziehen, um den entsprechenden dynamischen Output zu erhalten.</div>"
   ]
  },
  {
   "cell_type": "markdown",
   "id": "7a108cc9",
   "metadata": {},
   "source": [
    "<div class=\"alert alert-block alert-info\">\n",
    "<b>Hinweis: Namen für Variablen</b>. In diesem Beispiel haben wir uns aus praktischen Gründen keine große Mühe mit den Variablennamen gemacht. <u>Das ist ein Problem</u>. Wollte man zum Beispiel den (fiktiven) Umsatz von vor 10 Jahren mit dem Umsatz des aktuellen Datensets vergleichen, wäre das nicht möglich. Beide sind der Variable <code>Umsatz_euro</code> zugewiesen, wodurch mindestens eine der beiden überschrieben wurde. Es empfiehlt sich in diesem Fall, unterscheidbare Variablennamen zu wählen. In diesem Beispiel könnte die Jahreszahl den Variablennamen (und anderen Variablennamen) hinzugefügt werden. \n",
    "</div>"
   ]
  },
  {
   "cell_type": "markdown",
   "id": "56549eae",
   "metadata": {},
   "source": [
    "<div class=\"alert alert-block alert-info\">\n",
    "    <b>Hinweis: Was als Variablen verstanden wird.</b> In der Aufgabenstellung oben hast du gesehen, dass eine Variable das ist, was vor dem Gleichheitszeichen (=) steht, also ein Name, dem ein Wert zugewiesen wird, wie z.B. Preis_won = 900. Wenn wir diesen Ticketpreis nun innerhalb einer Gleichung verwenden, z.B. um einen Tagesumsatz zu berechnen, wird in der mathematischen Sprechweise die Zahl 900 ebenfalls als Variable betrachtet: Der Variable Preis_won wird der Wert 900 zugewiesen, und dieser Wert wird dann in der Gleichung als Variable bezeichnet.\n",
    "    </div>"
   ]
  },
  {
   "cell_type": "markdown",
   "id": "cb2d7fed",
   "metadata": {},
   "source": [
    "<div class=\"alert alert-block alert-info\">\n",
    "    <b>Hinweis</b>: Vor und nach dem Gleichheitszeichen (=) siehst du Leerzeichen stehen. An dieser Stelle spielt es keine Rolle. Wenn jedoch Leerzeichen zwischen Zahlen stehen, wie z.B. bei <code>1 + 2 2</code>, wird eine Fehlermeldung angezeigt. Befinden sich Leerzeichen innerhalb eines Strings, wie in ' Hallo' und 'Hallo', bedeutet dies, dass die beiden Strings nicht identisch sind. Fragt man also, ob der erste String dem zweiten entspricht, also <code>' Hallo' == 'Hallo'</code>, erhält man <code>'FALSE'</code>.\n",
    "    </div>"
   ]
  },
  {
   "cell_type": "markdown",
   "id": "eae0ec6c",
   "metadata": {},
   "source": [
    "<b>Freiwillige Recherche- und Rechenübung: </b>Nicht nur der Umsatz lässt sich mit der Gesamtanzahl der Ausleihen berechnen, sondern auch, welche CO₂-Einsparung erreicht werden konnte. Das ist besonders vor dem Hintergrund von Klimabestrebungen interessant. Dazu benötigen wir allerdings <b> Daten von \"außerhalb des Datensets\"</b>. Nehmen wir einmal an, dass die Gesamtzahl der Ausleihen bedeutet, dass tatsächlich immer eine volle Stunde Fahrrad gefahren wurde. Wir hätten also insgesamt 6172314 gefahrene Fahrradstunden. Es wurde demnach 6172314 Stunden lang darauf verzichtet, ein anderes Verkehrsmittel zu benutzen. Geht man davon aus, dass dieselben Menschen zurvor ein PKW bzw. ein Taxi genutzt hätten, wie viel CO₂ wäre dann eingespart worden? Als dynamischen Rechner für den CO₂-Ausstoß verschiedener Fahrzeugarten könnte man den [\"CO₂-Rechner für Auto, Flugzeug und Co. von <i>Quarks</i>\"](https://www.quarks.de/umwelt/klimawandel/co2-rechner-fuer-auto-flugzeug-und-co/) nutzen. Aber auch andere Quellen sind hier möglich!"
   ]
  },
  {
   "cell_type": "code",
   "execution_count": null,
   "id": "c3b0c1a8",
   "metadata": {},
   "outputs": [],
   "source": [
    "# dein Code (freiwillig)\n"
   ]
  },
  {
   "cell_type": "markdown",
   "id": "04e78001",
   "metadata": {},
   "source": [
    "<details>\n",
    "    <summary>&#x1F449;  Hier klicken, um einen Lösungsvorschlag zu sehen &#x1F448;</summary>\n",
    "Vermutlich wird man in der Stadt keine 100 km pro Stunde  zurücklegen, aber zur groben Orientierung könnte man diesen Wert zur Bestimmung des Verbrauchs nutzen und dazu z.B. 6,8 l / 100 km einstellen. Als Fahrzeugtyp wählen wir Benzin und die Anzahl der Personen im Pkw soll 1 betragen. Der Rechner ermittelt automatisch den CO₂-Verbrauch. In diesem Fall sollten ziemlich genau 20,0 kg CO₂ anzeigt werden. Verrechnet man diesen Wert mit den zuvor bestimmten 6172314 Fahrradstunden, erhält man 123.446.280 kg an eingespartem CO₂. Natürlich hinkt in dieser Rechnung der Vergleich mit der zurückgelegten Strecke eines Fahrrads, das vermutlich keine 100 km in einer Stunde zurücklegt. Man könnte überlegen, Fahrzeugtypen, die beispielsweise gängigen Taxi-Modellen entsprechen, sowie deren zurückgelegte Kilometer pro Stunde im Rechner nachzubilden, um eine realistischere CO₂-Ersparnis zu berechnen.\n",
    "</details>"
   ]
  },
  {
   "cell_type": "markdown",
   "id": "90d5ae6f",
   "metadata": {},
   "source": [
    "##  Berechnung des Maximums und Minimums sowie des Medians und arithmetischen Mittels"
   ]
  },
  {
   "cell_type": "markdown",
   "id": "bf9b395a",
   "metadata": {},
   "source": [
    "Bis jetzt haben wir gesehen, dass für jede Stunde ein Wert für die Fahrradausleihe eingetragen wurde und dass dieser je Stunde variiert. Nun wollen wir uns der Fahrradausleihe mit statistischen Kennenzahlen nähern. Dafür gibt es einige Methoden, von denen vier im folgenden Abschnitt vorgestellt werden."
   ]
  },
  {
   "cell_type": "markdown",
   "id": "8952044f",
   "metadata": {},
   "source": [
    "<b>Dein Code</b> (Der Lösungsvorschlag befindet sich unterhalb der kommenden Aufgaben.)"
   ]
  },
  {
   "cell_type": "markdown",
   "id": "710fb9b7",
   "metadata": {},
   "source": [
    "Ermittle den höchsten Wert, indem du die Methode <code>.max()</code> auf <code>df[\"Rented Bike Count\"]</code> anwendest."
   ]
  },
  {
   "cell_type": "code",
   "execution_count": null,
   "id": "a803f686",
   "metadata": {},
   "outputs": [],
   "source": [
    "# dein Code\n"
   ]
  },
  {
   "cell_type": "markdown",
   "id": "2c24b25b",
   "metadata": {},
   "source": [
    "Ermittle das arithmetisches Mittel, indem du <code>.mean()</code> auf <code>df[\"Rented Bike Count\"]</code> anwendest."
   ]
  },
  {
   "cell_type": "code",
   "execution_count": null,
   "id": "b2899f3c",
   "metadata": {},
   "outputs": [],
   "source": [
    "# dein Code\n"
   ]
  },
  {
   "cell_type": "markdown",
   "id": "552e98c0",
   "metadata": {},
   "source": [
    "Ermittle den Median, indem du <code>.median()</code> auf <code>df[\"Rented Bike Count\"]</code> anwendest."
   ]
  },
  {
   "cell_type": "code",
   "execution_count": null,
   "id": "c993b799",
   "metadata": {},
   "outputs": [],
   "source": [
    "# dein Code\n"
   ]
  },
  {
   "cell_type": "markdown",
   "id": "b14c5aba",
   "metadata": {},
   "source": [
    "Ermittle den niedrigsten Wert, indem du <code>.min()</code> auf <code>df[\"Rented Bike Count\"]</code> anwendest."
   ]
  },
  {
   "cell_type": "code",
   "execution_count": null,
   "id": "2089a29e",
   "metadata": {},
   "outputs": [],
   "source": [
    "# dein Code\n"
   ]
  },
  {
   "cell_type": "markdown",
   "id": "03de2c8c",
   "metadata": {},
   "source": [
    "<details>\n",
    "    <summary>&#x1F449;  Hier klicken, um einen Lösungsvorschlag zu sehen &#x1F448;</summary>\n",
    "    \n",
    " ```python\n",
    "df[\"Rented Bike Count\"].max()\n",
    "3556\n",
    "    \n",
    "df[\"Rented Bike Count\"].mean()\n",
    "704.6020547945205 \n",
    "    \n",
    "df[\"Rented Bike Count\"].median()\n",
    "504.5\n",
    "   \n",
    "df[\"Rented Bike Count\"].min()\n",
    "0   \n",
    " ```\n",
    "    \n",
    "Mit den statistischen Kennzahlen nähern wir uns einem Gesamtbild der Fahrradausleihe für die 365 Tage. \n",
    "<br>\n",
    "Der Maximalwert <code>.max()</code>gibt den höchsten Wert des Datensets für die Anzahl der Fahrradausleihen pro Stunde wieder. In diesem Fall sind es 3556 Ausleihen.<br>\n",
    "Die durchschnittliche Anzahl <code>.mean()</code> der Fahrradausleihen beträgt rund 704,60 pro Stunde/Uhrzeit. Da man für die Berechnung des Mittelwerts alle einzelnen Werte addiert und die Summe anschließend durch deren Anzahl teilt, ist dieser Wert empfindlich gegenüber Ausreißern, also sehr hohen und sehr niedrigen Werten. Dieser Umstand hat eine mögliche Verzerrung des Ergebnisses zur Folge. \n",
    "<br>\n",
    "Der Median <code>.median()</code> wird hingegen nicht wie der Mittelwert berechnet. Die Datenreihe wird zunächst der Größe nach geordnet. Wenn die Anzahl der Datenpunkte ungerade ist, ist der Median der mittlere Wert. Wenn die Anzahl der Datenpunkte gerade ist, ist der Median der Durchschnitt der beiden mittleren Werte. Da der Median in diesem Fall 504,5 beträgt, liegt er zwischen den Werten 504 und 505.\n",
    "<br>\n",
    "Der Minimalwert <code>.min()</code> gibt den niedrigsten Wert der Verteilung an. In diesem Fall gibt es mindestens eine Stunde in der es 0 Ausleihen gab.\n",
    "</details>"
   ]
  },
  {
   "cell_type": "markdown",
   "id": "6eeff64f",
   "metadata": {},
   "source": [
    "<b>Offene Frage</b>: Grundsätzlich haben wir uns gerade einen Überblick über 365 Tage verschafft. Wenn wir uns überlegen, wie viele Fahrradausleihen an einem bestimmten Tag bzw. zu einer bestimmten Stunde zu erwarten sind, wie nützlich hältst du die bisher berechneten statistischen Kennzahlen? Wie schätzt du den Einfluss weiterer Spalten wie Temperatur, Luftfeuchtigkeit etc. in diesem Zusammenhang ein?"
   ]
  },
  {
   "cell_type": "markdown",
   "id": "a6f51358",
   "metadata": {},
   "source": [
    "## Wie viele Fahrradausleihen haben den Wert <code>0</code> und warum?"
   ]
  },
  {
   "cell_type": "markdown",
   "id": "af1b2add",
   "metadata": {},
   "source": [
    "Bevor weitere mathematische bzw. statistische Ansätze bemüht werden, wirft insbesondere der Output der Methode <code>.min()</code> die Frage auf: Wie oft taucht der Wert <code>0</code> auf? Hat er eine spezielle Bedeutung?"
   ]
  },
  {
   "cell_type": "markdown",
   "id": "a4f2e6db",
   "metadata": {},
   "source": [
    "### Ein neues Dataframe erstellen: <code>zero_df</code>"
   ]
  },
  {
   "cell_type": "markdown",
   "id": "ca81a530",
   "metadata": {},
   "source": [
    "Um der Frage nachgehen zu können, wenden wir einen Filter auf das <code>DataFrame</code> an. Dieser Filter enthält die Bedingung, dass alle Einträge gelistet werden, die <code>0</code> Ausleihen beinhalten. Wir speichern dieses neue <code>DataFrame</code> als Variable<code>zero_df</code>ab, um damit weitere Analysen durchzuführen. Wichtig: Es ist durchaus oft zu sehen, dass auf <code>.copy()</code>verzichtet wird. In den meisten Fällen wird nichts passieren. Allerdings besteht bei komplexeren Datenverarbeitungsprozessen die Gefahr, dass Daten weiterhin mit <code>df</code> verbunden sind und <code>zero_df</code> verfälschen könnte. Mit <code>.copy()</code> stellen wir sicher, dass ein neues DataFrame erzeugt wird und wir nicht versehentlich Daten manipulieren."
   ]
  },
  {
   "cell_type": "markdown",
   "id": "07b0d385",
   "metadata": {},
   "source": [
    "👇 Führe die Zeile Code aus. "
   ]
  },
  {
   "cell_type": "code",
   "execution_count": null,
   "id": "0ab632f5",
   "metadata": {},
   "outputs": [],
   "source": [
    "zero_df=df[df[\"Rented Bike Count\"]==0].copy()\n",
    "zero_df"
   ]
  },
  {
   "cell_type": "markdown",
   "id": "780e454f",
   "metadata": {},
   "source": [
    "<b>Frage:</b> Wir sehen, dass es 295 Einträge gibt, die 0 Fahrradausleihen haben. Siehst du anhand der oben gezeigten Einträge, woran es liegen könnte?"
   ]
  },
  {
   "cell_type": "markdown",
   "id": "e9c26eb7",
   "metadata": {},
   "source": [
    "<details>\n",
    "    <summary>&#x1F449;  Hier klicken, um einen Lösungsvorschlag zu sehen &#x1F448;</summary> \n",
    "Die bisher in der Spalte <code>Hour</code> ausgegebenen Werte deuten darauf hin, dass die Ausleihe eines Fahrrads entweder sehr früh oder sehr spät am Tag stattgefunden haben könnte. Das Datum in der Spalte <code>Date</code> scheint konstant zu sein und zeigt bisher zwei verschiedene \"Daten\" an.\n",
    "</details>"
   ]
  },
  {
   "cell_type": "markdown",
   "id": "b6a9f305",
   "metadata": {},
   "source": [
    "Es gibt hier verschiedene Wege, um eine Erklärung zu finden, warum es keine Fahrradausleihen gab. "
   ]
  },
  {
   "cell_type": "markdown",
   "id": "f4cf443d",
   "metadata": {},
   "source": [
    "Wir können uns zunächst verschiedene Spalten im <code>zero_df</code> anschauen. Nehmen wir uns einmal das Datum vor. Ein Datum kann bis zu 24 mal vorkommen, da jede Stunde vom Ausleihtag dokumentiert wurde. Möchten wir uns das jetzt für alle 295 Einträge anschauen, wird es schnell unübersichtlich, da wir tatsächlich alle 295 Einträge anschauen müssten. Allerdings zeigt die obige Ansicht des <code>zero_df</code> an, dass ein Datum (z.B. 11/04/2018) häufiger vorkommt."
   ]
  },
  {
   "cell_type": "markdown",
   "id": "2d27c16c",
   "metadata": {},
   "source": [
    "Wir können in diesem Fall die Methode <code>.unique()</code> verwenden. Anstelle 295 Datumseinträge mit z.T. mehreren Einträgen pro Datum anzuzeigen, wird nun so jedes \"einzigartige\" Datum angezeigt. "
   ]
  },
  {
   "cell_type": "markdown",
   "id": "18e68384",
   "metadata": {},
   "source": [
    "<b>Dein Code</b>: Wende die Methode <code>.unique()</code> auf die Spalte <code>Date</code> des neuen <code>DataFrame</code> namens <code>zero_df</code> an."
   ]
  },
  {
   "cell_type": "code",
   "execution_count": null,
   "id": "c012c9dd",
   "metadata": {},
   "outputs": [],
   "source": [
    "# dein Code\n"
   ]
  },
  {
   "cell_type": "markdown",
   "id": "32a5d981",
   "metadata": {},
   "source": [
    "<details>\n",
    "    <summary>&#x1F449;  Hier klicken, um einen Lösungsvorschlag zu sehen &#x1F448;</summary>\n",
    "\n",
    "```python\n",
    "zero_df[\"Date\"].unique()\n",
    "```    \n",
    "<code>array(['11/04/2018', '10/05/2018', '18/09/2018', '19/09/2018',\n",
    "       '28/09/2018', '30/09/2018', '02/10/2018', '04/10/2018',\n",
    "       '06/10/2018', '09/10/2018', '03/11/2018', '06/11/2018',\n",
    "       '09/11/2018'], dtype=object)</code>\n",
    "    <br>Dank der Methode <code>.unique()</code>sehen wir, dass nur die aufgeführten 13 Tage betroffen sind. In welchem Umfang und warum, ergründen wir gleich.\n",
    "    </details>"
   ]
  },
  {
   "cell_type": "markdown",
   "id": "4049a5ed",
   "metadata": {},
   "source": [
    "<b>Frage:</b> Das Datum ist als<code>dtype=object</code> gespeichert. Was bedeutet das? "
   ]
  },
  {
   "cell_type": "markdown",
   "id": "8bd898dc",
   "metadata": {},
   "source": [
    "<details>\n",
    "    <summary>&#x1F449;  Hier klicken, um einen Lösungsvorschlag zu sehen &#x1F448;</summary>\n",
    "Der <code>Datentyp object</code> weist darauf hin, dass die hier hinterlegten Datumseinträge als \"String\" behandelt werden und nicht als Zahl oder gar als Datum. Ein String ist dadurch gekennzeichnet, dass er innerhalb von <b>\" \"</b> oder <b>' '</b>steht, und wird in der Regel für Text verwendet. Wie in diesem Beispiel gezeigt, können auch Datumsangaben so ausgegeben werden. Um mathematische bzw. statistische Verfahren darauf anwenden zu lassen, müssten sie umgewandelt werden. Die Hilfsbibliothek <code>DateTime</code> empfiehlt sich für das Arbeiten mit Datumsangaben und kann entsprechende Datumsangaben vom String-Format in Datumsobjekte umwandeln. Das erleichtert weitere Bearbeitungen, und es kann unmittelbar nach Tagen, Monaten oder Jahren gefiltert werden. Für dieses Notebook ist sie zunächst nicht relevant, sollte aber beachtet werden, insbesondere wenn Datumsangaben eine Rolle bei der Verarbeitung bzw. Analyse spielen sollen.\n",
    "    </details>"
   ]
  },
  {
   "cell_type": "markdown",
   "id": "f4fb89c7",
   "metadata": {},
   "source": [
    "Es gibt also 13 Tage, an denen es zu bestimmten Stunden keine Fahrradausleihen gab. Angesichts der 295 Einträge für \"Stunden\" im <code>zero_df</code> liegt der Schluss nahe, dass bestimmte Tage überhaupt keine Werte enthalten. Das können wir nochmals überprüfen. "
   ]
  },
  {
   "cell_type": "markdown",
   "id": "f127119c",
   "metadata": {},
   "source": [
    "### Mit <code>.groupby()</code> und <code>.count()</code> das <code>zero_df</code> überprüfen"
   ]
  },
  {
   "cell_type": "markdown",
   "id": "663d6816",
   "metadata": {},
   "source": [
    "Mit <code>.groupby()</code> kann man Daten gruppieren. Die Zielspalte wird innerhalb der runden Klammern <b>( )</b> angegeben. Es können auch mehrere Spalten als Liste übermittelt werden. Im Wesentlichen passiert etwas ähnliches wie zuvor mit der Methode <code>.unique()</code> und zwar dahingehend, dass die \"einzigartigen\" Werte bestehen bleiben. Da wir im <code>DataFrame</code> wieder mehrere Features haben, muss eine Methode gewählt werden, die bestimmt, wie die Features zusammengeführt werden. Wie diese Zusammenführung der Spalten hinsichtlich dieser einzigartigen Werte geschieht, wird beispielsweise durch die oben bereits kennengelernten statistischen Methoden, wie <code>.min()</code> oder <code>.max()</code>, festgelegt. In unserem Fall nutzen wir die Methode <code>.count()</code>, die keine statistischen Werte wie Minimum oder Maximum für die vorhandenen Einträge je Datum ausgibt, sondern lediglich deren Anzahl. Taucht das Datum 5 mal in dem Dataframe <code>zero_df</code> auf, dann wird der Wert jedes Features für dieses Datum <code>5</code> betragen, sofern keine Werte fehlen.\n",
    "Anhand des untenstehenden Codes, der die Methode <code>.count()</code> anwendet, sollte es einfacher zu verstehen sein, was passiert."
   ]
  },
  {
   "cell_type": "markdown",
   "id": "907421cb",
   "metadata": {},
   "source": [
    "Um zu sehen, ob für die oben mit <code>.unique()</code> ausgegeben Datumsangaben auch bei allen <code>24</code> Stunden je <code>0</code> Ausleihen gezählt worden sind, wollen wir weiterhin nach der Spalte <code>Date</code> gruppieren und nutzen dazu das <code>zero_df</code>. Zuvor haben wir für das gesamte Datenset mithilfe der Methode <code>.count()</code> gesehen, dass die Anzahl der verzeichneten Werte für die Spalte <code>df[\"Rented Bike Count\"]</code> so groß ist wie die Anzahl an Zeilen im Datenset. Das bedeutet, dass es keine fehlenden Einträge gibt. Fehlende Daten sind in der Regel mit <code>NaN</code> gekennzeichnet und würden bei dieser Methode nicht mitgezählt. Es gäbe natürlich auch die Möglichkeit, dass stattdessen ein String-Wert (Text) wie \"Keine Angaben\" oder Zahlen wie die <code>0</code> die gleiche Bedeutung haben. Da bisher alle statistischen Methoden funktioniert haben, können wir aber davon ausgehen, dass nur Zahlenwerte vorhanden sind. Da <code>zero_df</code> nur Einträge mit <code>Ausleihe=0</code> enthält, kann es beim Gruppieren mit <code>.count()</code> vorkommen, dass \"Lücken\" entstehen. Mehr dazu weiter unten."
   ]
  },
  {
   "cell_type": "markdown",
   "id": "35e0e662",
   "metadata": {},
   "source": [
    "👇 Führe die Zeile Code aus, um nach \"Date\" zu gruppieren und die Einträge zu zählen. "
   ]
  },
  {
   "cell_type": "code",
   "execution_count": null,
   "id": "fabb1f2b",
   "metadata": {
    "scrolled": true
   },
   "outputs": [],
   "source": [
    "zero_df.groupby(\"Date\").count()"
   ]
  },
  {
   "cell_type": "markdown",
   "id": "643a5cd7",
   "metadata": {},
   "source": [
    "<b>Frage:</b> Die Zahl <code>24</code> ist am häufigsten in der Spalte <code>df[\"Rented Bike Count\"]</code> vorhanden. Was bedeutet sie und warum kommt sie überall vor? Wie ist die <code>7</code> am <code>06.10.2018</code> zu interpretieren?"
   ]
  },
  {
   "cell_type": "markdown",
   "id": "a8f2b3a7",
   "metadata": {},
   "source": [
    "<details>\n",
    "    <summary>&#x1F449;  Hier klicken, um einen Lösungsvorschlag zu sehen &#x1F448;</summary>\n",
    "Da wir mit dem <code>zero_df</code> arbeiten, sehen wir, dass an 13 Tagen zu jeder Uhrzeit die Fahrradausleihe 0 beträgt. Für den 06.10.2018 haben wir nur 7 Einträge, an denen keine Ausleihen stattgefunden haben (somit allerdings 17 dokumentierte Uhrzeiten mit Fahrradverleih).\n",
    "    </details>"
   ]
  },
  {
   "cell_type": "markdown",
   "id": "527aa531",
   "metadata": {},
   "source": [
    "<b>Frage: </b> Nimm dir ein wenig Zeit und überlege, wie du die <code>0</code> nun interpretieren solltest und wie du mit dem Sachverhalt umgehst."
   ]
  },
  {
   "cell_type": "markdown",
   "id": "138b7b1c",
   "metadata": {},
   "source": [
    "<details>\n",
    "    <summary>&#x1F449;  Hier klicken, um einige Anregungen zu erhalten &#x1F448;</summary>\n",
    "    <b> Anregungen</b> <br>\n",
    "1. Grundsätzlich sollte man zunächst in der zum Datensatz bereitgestellten Dokumentation bzw. dem bereitgestellten Codebook nachsehen, was eine \"0\" bedeutet und ob und wie auf die Tage eingegangen wird. <br>\n",
    "2. Bei den Daten könnte es sich um Tage handeln, die eine besondere Bedeutung haben. Das könnten Feiertage sein oder die \"Suneung\" (수능), eine der wichtigsten Prüfungen in Südkorea ist. <br>\n",
    "    </details>"
   ]
  },
  {
   "cell_type": "markdown",
   "id": "62597615",
   "metadata": {},
   "source": [
    "<details>\n",
    "    <summary>&#x1F449;  Hier klicken, um Lösungsvorschläge zu den Anregungen zu sehen&#x1F448;</summary>\n",
    "Tatsächlich geht das Codebook bzw. die Dokumentation allenfalls indirekt darauf ein. Lediglich die letzte Spalte <code>\"Functioning Day\"</code> deutet darauf hin, dass es offenbar Tage gibt, an denen der Service nicht in Betrieb war. Vielleicht gab es Wartungsarbeiten? Übrigens, mit <code>df[df[\"Functioning Day\"]==\"No\"].groupby(\"Date\").count()</code> würden wir mit unserem \"normalen\" <code>df</code>, die gleichen Ergebnisse wie oberhalb erhalten. Das heißt also, dass es zu jeder Uhrzeit im Gesamtdatensatz Fahrradausleihen gibt, außer zu den Tagen und den entsprechenden Uhrzeiten, die auch als <code>\"Functioning Day\"</code> markiert sind bzw. für die das Feature „Functioning Day“ den Wert <code>No</code> aufweist.\n",
    "</details>"
   ]
  },
  {
   "cell_type": "code",
   "execution_count": null,
   "id": "a8f57413",
   "metadata": {},
   "outputs": [],
   "source": [
    "# Probiere den Code aus\n"
   ]
  },
  {
   "cell_type": "markdown",
   "id": "25a44b42",
   "metadata": {},
   "source": [
    "<details>\n",
    "    <summary>&#x1F449;  Hier klicken, um Lösungsvorschläge für die zweite Anregung zu sehen &#x1F448;</summary>\n",
    "Zwar haben wir oben geklärt, dass die Spalte <code>Functioning Day</code> ausschlaggebend dafür ist, dass es keine Ausleihen gibt, aber vielleicht existieren noch weitere Zusammenhänge. Man könnte überlegen, ob die Spalte <code>\"Holiday\"</code> damit zusammenhängt. So ist anzunehmen, dass auch der Betrieb des Fahrradverleihs an Feiertagen ruht ... oder vielleicht gerade nicht? Wir können uns die Festtage beispielsweise so anzeigen lassen: <code>df[df[\"Holiday\"]=='Holiday'][\"Date\"].unique()</code>.  Gibt es Überschneidungen mit den Daten, an denen es keine Ausleihe gab?\n",
    "    </details>"
   ]
  },
  {
   "cell_type": "code",
   "execution_count": null,
   "id": "a1c737be",
   "metadata": {},
   "outputs": [],
   "source": [
    "# Probiere den Code aus\n"
   ]
  },
  {
   "cell_type": "markdown",
   "id": "82b688ba",
   "metadata": {},
   "source": [
    "Bis zu diesem Punkt haben wir uns bereits einige Kennzahlen zur Spalte <code>df[\"Rented Bike Count\"]</code> angeschaut. Für einen besseren Überblick wird im folgenden Abschnitt die Möglichkeiten genutzt, bestimmte Features in Zusammenhang mit der Fahrradausleihe zu visualisieren."
   ]
  },
  {
   "cell_type": "markdown",
   "id": "415f3e7c",
   "metadata": {},
   "source": [
    "# Auf einen Blick: Zur Nutzung von Visualisierungen"
   ]
  },
  {
   "cell_type": "markdown",
   "id": "33d959b8",
   "metadata": {},
   "source": [
    "In diesem Abschnitt betrachten wir die Daten noch einmal mithilfe von Visualisierungsmöglichkeiten. Es werden drei Visualisierungen vorgestellt, die prinzipiell auch angepasst werden können. Unser Hauptaugenmerk liegt jedoch auf der Beantwortung von Fragen, die anhand dieser Visualisierungen gestellt werden können."
   ]
  },
  {
   "cell_type": "markdown",
   "id": "dd54a8e7",
   "metadata": {},
   "source": [
    "##  Visualisierung I: Liniendiagramm zur Fahrradausleihe zu verschiedenen Tageszeiten"
   ]
  },
  {
   "cell_type": "markdown",
   "id": "2fdd1c84",
   "metadata": {},
   "source": [
    "Das Liniendiagramm ist eine der grundlegendsten Diagrammarten. In der Regel bildet dieses Diagramm eine Linie auf Basis von verschiedenen Datenpunkten und zeigt damit im Wesentlichen die Beziehungen zweier Variablen."
   ]
  },
  {
   "cell_type": "markdown",
   "id": "4898f157",
   "metadata": {},
   "source": [
    "Zuvor haben wir mit <code>.mean()</code> einen Durchschnittswert der Fahrradausleihe für das gesamte Jahr berechnet. Allerdings liegt nahe, dass auch die Uhrzeit eine wichtige Rolle bei der Anzahl der Ausleihen hat. Im Folgenden erstellen wir daher ein Diagramm, welches lediglich <code>Hour</code> und <code>Rented Bike Count</code> zeigt. Dabei stellen wir mit <code>estimator='mean'</code> ein, dass für jede Stunde/Uhrzeit der Durchschnitt aller im Datensatz berücksichtigten 365 Tage gebildet wird."
   ]
  },
  {
   "cell_type": "markdown",
   "id": "60d5d85f",
   "metadata": {},
   "source": [
    "👇 Führe die Zeile Code aus, um das Diagramm ausgeben zu lassen."
   ]
  },
  {
   "cell_type": "code",
   "execution_count": null,
   "id": "ff18129e",
   "metadata": {},
   "outputs": [],
   "source": [
    "plt.figure(figsize=(12, 6)) \n",
    "sns.lineplot(data=df, x='Hour', y='Rented Bike Count', estimator='mean') \n",
    "plt.title('Durchschnittliche Anzahl der gemieteten Fahrräder pro Stunde') \n",
    "plt.xlabel('Stunde') \n",
    "plt.ylabel('Durchschnittliche Anzahl der Vermietungen') \n",
    "plt.xticks(range(0, 24)) \n",
    "plt.grid(True) \n",
    "plt.show() "
   ]
  },
  {
   "cell_type": "markdown",
   "id": "5d958f80",
   "metadata": {},
   "source": [
    "<b>Fragen</b>:\n",
    "- Wann wurden die meisten Fahrten durchgeführt?\n",
    "- Wann wurden die wenigsten Fahrten durchgeführt?\n",
    "- Welcher Zusammenhang könnte zwischen der frühen Spitze und der späten Spitze bestehen? \n",
    "- Schauen wir uns noch einmal das Ergebnis des Mittelwerts für das gesamte Jahr an: Zu welchen Uhrzeiten liegt dieser Wert 704.60 vor?\n",
    "- Auf welche Probleme können wir stoßen, wenn wir den Mittelwert als unseren Orientierungswert für die <u>Bereitstellung von Fahrrädern</u> für einen beliebigen Tag nutzen? \n",
    "- Überlege nochmals anhand der Art und Weise, wie die Daten eingetragen sind, ob das Liniendiagramm oberhalb aussagekräftig ist oder in dieser Form zu Missverständnissen führt, insbesondere im Hinblick auf die <u>Bereitstellung von Fahrrädern zu bestimmten Uhrzeiten</u>."
   ]
  },
  {
   "cell_type": "markdown",
   "id": "e1d96c80",
   "metadata": {},
   "source": [
    "<details>\n",
    "    <summary>&#x1F449;  Hier klicken, um einen Lösungsvorschlag zu sehen &#x1F448;</summary>\n",
    "Das Liniendiagramm hat den Höhepunkt bei Stunde 18 und die niedrigsten Werte bei den Stunden 4 und 5. Die erste Spitze findet sich bei Stunde 8 und die zweite bei Stunde 18, dem besagten Höchstwert. Vermutlich hängt dies mit dem Arbeitsbeginn und dem Feierabend eines Großteils der Menschen in Seoul zusammen. Der Jahresdurchschnittswert von 704,60 wird etwa zwischen den Stunden 7 und 8 sowie 8 und 9 erreicht, ebenso zu den Stunden 12 und 23. Für die Bereitstellung von Fahrrädern kann dieses Diagramm insofern nützlich sein, als man daraus ablesen kann, zu welchen Tageszeiten durchschnittlich wie viele Fahrradausausleihen zu erwarten sind bzw. Fahrräder benötigt werden. Allerdings bleiben hierbei alle anderen Variablen unberücksichtigt. Als Entscheidungsgrundlage für den Verleih an einem bestimmten Tag eignet sich das Liniendiagramm in dieser Form möglicherweise nicht, da es anzeigt, dass ab Stunde <code>18</code> weniger Verleihe stattfinden. Die Stundenangabe <code>Hour</code> bezieht sich jedoch sehr wahrscheinlich auf den gesamten Zeitraum der Stunde, also für <code>18</code> von 18:00 Uhr bis 18:59 Uhr oder für <code>0</code> von 00:00 Uhr bis 00:59 Uhr. Dementsprechend wäre erst ab 19:00 Uhr mit weniger Ausleihen zu rechnen. Die Verwendung eines Balkendiagramms oder das Verschieben des Graphen könnte dem entgegenwirken.\n",
    "    </details>"
   ]
  },
  {
   "cell_type": "markdown",
   "id": "dc0b9e80",
   "metadata": {},
   "source": [
    "## Visualisierung II: Streudiagramm zum Zusammenhang von Fahrradausleihe und Temperatur pro Stunde"
   ]
  },
  {
   "cell_type": "markdown",
   "id": "039b3a6d",
   "metadata": {},
   "source": [
    "Wie sich gezeigt hat, ist die Uhrzeit ein wichtiger Faktor, um zu bestimmen, wie viele Fahrräder ausgeliehen werden. Allerdings können sich sowohl die Temperatur als auch die Jahreszeit darauf auswirken, wie oft Fahrräder ausgeliehen werden. Im Streudiagramm unterhalb haben wir genau das abgebildet. Im Gegensatz zum Liniendiagramm sind die einzelnen Punkte im Streudiagramm zwar auch eingetragen, aber nicht miteinander verbunden. Damit lassen sich z.B. anhand großer \"Datenpunkte\"  Trends erkennen - hoffentlich!"
   ]
  },
  {
   "cell_type": "markdown",
   "id": "87c22a97",
   "metadata": {},
   "source": [
    "👇 Führe die Zeile Code aus, um das Diagramm erstellen zu lassen."
   ]
  },
  {
   "cell_type": "code",
   "execution_count": null,
   "id": "d0455e04",
   "metadata": {},
   "outputs": [],
   "source": [
    "plt.figure(figsize=(12, 6)) \n",
    "palette = sns.color_palette(\"colorblind\")\n",
    "c1 = palette[0]\n",
    "c2 = palette[1]\n",
    "c3 = palette[2]\n",
    "c4 = palette[4]\n",
    "sns.scatterplot(data=df, x='Temperature(°C)', y='Rented Bike Count',hue=\"Seasons\",palette=[c1,c2,c3,c4],s=15) \n",
    "plt.title('Gemietete Fahrräder zur Temperatur') \n",
    "plt.xlabel('Temperatur in °C') \n",
    "plt.ylabel('Anzahl der Vermietungen')\n",
    "plt.xticks()\n",
    "plt.grid(True) \n",
    "plt.show() "
   ]
  },
  {
   "cell_type": "markdown",
   "id": "990794c9",
   "metadata": {},
   "source": [
    "<b>Fragen</b>:\n",
    "- Wie viele Punkte sollte es hier zu sehen geben? (Wichtig: Einige Punkte überlagern sich)\n",
    "- Angenommen, in einer Stunde wurden 2000 Fahrräder ausgeliehen und eine Temperatur von 20 Grad gemessen. Wo würde dieser Punkt liegen? Welche Farbe könnte der Punkt haben? Wofür stehen die Farben?\n",
    "- Was ist die höchste und was die niedrigste Temperatur? \n",
    "- Wie würdest du die Ausprägung der vier Jahreszeiten interpretieren?\n",
    "- Wie würdest du die Beziehung zwischen Temperatur und Fahrradausleihe beschreiben?"
   ]
  },
  {
   "cell_type": "markdown",
   "id": "cddcfa3d",
   "metadata": {},
   "source": [
    "<details>\n",
    "    <summary>&#x1F449;  Hier klicken, um einen Lösungsvorschlag zu sehen &#x1F448;</summary>\n",
    "Im Streudiagramm sind insgesamt so viele Punkte abgebildet, wie im Datenset existieren, also 8760. Exakt auf dem Datenpunkt (2000,20) gibt es keinen Datenpunkt. Allerdings liegen von jeder Jahreszeit, außer Winter, Punkte in der Nähe vor. Die niedrigste Temperatur liegt bei etwa -18°C und die höchste bei etwa 39°C. Die vier Jahreszeiten sind teilweise recht gut voneinander abgrenzbar, zumindest hinsichtlich der Temperaturen. Der Winter zeigt fast exklusiv Minusgrade und scheint bis maximal 10°C zu reichen, während die Temperaturen sowohl im Frühling als auch im Herbst vorwiegend zwischen 0°C und 20°C liegen, aber auch darüber. Im Sommer dagegen scheinen die Temperaturen überwiegend zwischen 20°C und 30°C zu liegen, vereinzelt auch darüber. Zu beachten ist hier, dass jede Uhrzeit mit einem eigenen Punkt abgebildet ist, also auch die Temperaturen in der Nacht in die Darstellung eingehen. Für die Fahrradausleihe zeigt sich mit diesem Diagramm, dass die Anzahl der Ausleihen mit steigenden Temperaturen zunehmen. In unserem Fall sieht es aus, als ob der Höhepunkt bei etwa 27°C mit den meisten Ausleihen erreicht ist. Steigt die Temperatur über diesen Punkt, nehmen die Ausleihen mit zunehmender Wärme immer weiter ab. \n",
    "    </details>"
   ]
  },
  {
   "cell_type": "markdown",
   "id": "0cefc693",
   "metadata": {},
   "source": [
    "## Visualisierung III: Violinplot - Ein differenzierter Blick auf die vier Jahreszeiten"
   ]
  },
  {
   "cell_type": "markdown",
   "id": "330c6d6e",
   "metadata": {},
   "source": [
    "Eine Möglichkeit, sowohl mehrere Variablen als auch statistische Kennwerte zu visualisieren, ist ein sogenannter Violin- bzw. Geigenplot. Der von uns im Folgenden erzeugte Violinplot zeigt die Ausleihen nach Jahreszeiten. Schau ihn dir an, bevor du dich den Fragen widmest. Durch die Art und Weise, wie der Plot erzeugt wird, können tatsächlich Werte unter 0 angezeigt werden, die wir jedoch mit <code>cut=0</code> abschneiden."
   ]
  },
  {
   "cell_type": "markdown",
   "id": "ba786286",
   "metadata": {},
   "source": [
    "👇 Führe die Zeile Code aus, um das Diagramm darstellen zu lassen."
   ]
  },
  {
   "cell_type": "code",
   "execution_count": null,
   "id": "4bfd582c",
   "metadata": {},
   "outputs": [],
   "source": [
    "plt.figure(figsize=(12, 6)) \n",
    "sns.violinplot(data=df, y=\"Rented Bike Count\", x=\"Seasons\",cut=0)\n",
    "plt.title('Verteilung der Fahrradverleihe über die Jahreszeiten') \n",
    "plt.grid(True)\n",
    "plt.xlabel('Jahreszeit') \n",
    "plt.ylabel('Anzahl der Fahrradvermietungen') \n",
    "plt.show() "
   ]
  },
  {
   "cell_type": "markdown",
   "id": "bae3447f",
   "metadata": {},
   "source": [
    "<b>Fragen:</b>\n",
    "- Was bedeutet die Länge jeder \"Geige\"?\n",
    "- Wofür steht die Farbe der jeweils ausgemalten Fläche? Warum ist die Fläche an manchen Stellen schmaler und an anderen Stellen weiter geformt?\n",
    "- Innerhalb der Violine sind einige Merkmale zu sehen: eine dünne Linie oberhalb und unterhalb einer dickeren Linie sowie ein weißer Punkt. Wie heißen diese Bestandteile und wofür stehen sie? Warum beginnen und enden sie dort, wo sie abgebildet sind?\n",
    "- Was lässt sich grob anhand der Darstellung der Fahrradausleihen nach Jahreszeiten sagen? Wie würdest du die Bereitstellung von Fahrrädern im Winter und im Sommer gestalten?"
   ]
  },
  {
   "cell_type": "markdown",
   "id": "c00ed712",
   "metadata": {},
   "source": [
    "<details>\n",
    "    <summary>&#x1F449;  Hier klicken, um einen Lösungsvorschlag zu sehen &#x1F448;</summary>\n",
    "Ein Violinplot eignet sich insbesondere dafür, statistische Kennzahlen darstellen zu lassen. Die \"Höhe\" der \"Geigen\" zeigt den Maximalwert an und der \"Boden\" den Minimalwert. Die Dicke der \"Violinen\" zeigt die Dichte der Datenpunkte an (d.h. deren Anzahl bezogen auf den jeweiligen Wert der y-Achse), welche beispielsweise im Winter bei etwa 250 Ausleihen am höchsten ist und nachfolgend immer niedriger wird. Das Maximum liegt bei etwas unter 1000 Fahrradausleihen. Der weiße Punkt innerhalb der Violinen zeigt den Median, also nicht das arithmetische Mittel aller Einträge, sondern den genau in der Mitte liegenden aller Datenpunkte. Er ist weniger anfällig gegenüber Ausreißern, also extremen Datenwerten, und zeigt eine robuste zentrale Tendenz an. Die die dickere Linie, die den Median umgibt, sowie die dünneren Linien, die sich jeweils oberhalb und unterhalb der dickeren befinden, repräsentieren Streumaße der deskriptiven Statistik: Das Erste Quartil (Q1) - die untere dünne Linie - ist der Bereich, in dem unter 25% der Werte liegen, die dünnere Linie oberhalb, das Dritte Quartil (Q3), zeigt die Werte oberhalb der übrigen 75% und die dickere Linie in der Mitte ist der Interquartilsabstand (IQA), welcher sich aus der Differenz von Q3 und Q1 ergibt und die Verteilung der mittleren 50% der Werte darstellt. \n",
    "    </details>"
   ]
  },
  {
   "cell_type": "markdown",
   "id": "066b82cc",
   "metadata": {},
   "source": [
    "<div class=\"alert alert-block alert-success\">\n",
    "    🚩<b>Fast geschafft!</b> <br>Im Folgenden <b>fassen wir das Notebook noch einmal kurz zusammen</b> und zeigen einen <b>Ausblick</b> anhand von <b>zwei Hauptrichtungen</b>. \n",
    "</div>"
   ]
  },
  {
   "cell_type": "markdown",
   "id": "7be60b4c",
   "metadata": {},
   "source": [
    "# Rückblick und Ausblick"
   ]
  },
  {
   "cell_type": "markdown",
   "id": "a44e3b6c",
   "metadata": {},
   "source": [
    "## Rückblick"
   ]
  },
  {
   "cell_type": "markdown",
   "id": "fcd3bd7d",
   "metadata": {},
   "source": [
    "Im Notebook wurde gezeigt, wie man ein unbekanntes Datenset erkundet, welche Fragen man stellen kann und wie entsprechenden mathematischen und statistischen Überlegungen mit Python-Code nachgegangen werden kann. Zu Beginn wurde auf eine Herausforderung aufmerksam gemacht: das Öffnen eines Datensets. Der Hauptfragestellung des Datensets, wann und wie viele Fahrradausleihen zu erwarten sind, haben wir uns <b>mit statistischen Kennzahlen und Graphen</b> genähert. Nach dieser Einführung sollte man ein Verständnis für den Einfluss der Features auf die Fahrradausleihe erworben haben und wissen, wie bei der Untersuchung weiterer Features vorgegangen werden kann. Anhand einiger der oben gezeigten Ergebnisse, kann man der Frage nachgehen, welche typischen Schulzeiten oder Kernarbeitszeiten gelten. Man könnte auch zusätzliche Nachforschungen dazu anstellen, warum die Menschen in Seoul überhaupt Fahrräder ausleihen. Ersetzt das Rad andere Verkehrsmittel oder fahren sie überwiegend kurze Strecken, beispielsweise zur nächsten U-Bahnstation?<br><br>\n",
    "    Wie es weitergehen kann, ist tatsächlich eine wichtige Frage und hängt, wie gezeigt wurde, vom (Forschungs-)Interesse ab. Dir steht es nun frei, wie du ab hier fortfahren möchtest. Grundsätzlich kannst du ein weiteres Notebook erstellen und selbstständig bestimmten Fragen nachgehen. <br><br>Im nun folgenden <b>Ausblick</b> werden <b>zwei weiterführende Ansätze</b> mit Erläuterungen und anregenden (offenen) Fragestellungen vorgestellt."
   ]
  },
  {
   "cell_type": "markdown",
   "id": "9a9ea454",
   "metadata": {},
   "source": [
    "## Ausblick I: Analyse"
   ]
  },
  {
   "cell_type": "markdown",
   "id": "73fb3eca",
   "metadata": {},
   "source": [
    "Anhand der <b>mitgelieferten Daten</b> kann man erkennen, dass die Fragen, die wir an die Daten stellen, unterschiedlich aussagekräftige Antworten liefern. Außerdem kann die Art der Fragen, die wir an die Daten richten, variieren. Bei einfachen Fragestellungen <b>\"innerhalb der Daten\"</b>, also solchen Fragen, die allein mithilfe des Datensatzes beantwortet werden können, konnten wir bereits bestimmte Muster erkennen. Weiterführend kann man hier Methoden aus der Statistik anwenden, beispielsweise Inferenzstatistik oder Modelle wie lineare und gemischte Modelle (mixed models). Mit den hier durchgeführten Berechnungen können wir bereits aussagen, dass in diesem Winter deutlich weniger Ausleihen pro Stunde getätigt wurden als in den anderen Jahreszeiten und dass vor und nach Arbeits- bzw. Schulzeiten die meisten Fahrräder ausgeliehen wurden. Können wir daran Prognosen für die zukünftige Fahrradausleihen ableiten?\n",
    "<br>\n",
    "Während wir im Wesentlichen versucht haben zu ermitteln, wie sich einzelne Features (z.B. die soeben erwähnten <code>Season</code> und <code>Hour</code>) auf die Fahrradausleihe auswirken, könnte der Datensatz auch an eine Person übergeben werden, mit der Aufgabe, eine Art Jahresbericht zu erstellen. In unserer Beispielrechnung haben wir zumindest den ungefähren Jahresumsatz ermitteln können. Allerdings fehlen für Fragestellungen rund um den Jahresumsatz wesentliche Informationen, die <b>\"außerhalb der Daten\"</b> liegen. Das bedeutet, dass wir zusätzliche Daten und Informationen recherchieren bzw. heranziehen müssen, die über den vorliegenden Datensatz hinausgehen.\n",
    "<br>\n",
    "Neben diesen rein finanziellen Fragestellungen könnten auch die Dauer, der Ort der Ausleihe und der Rückgabeort interessant sein. Damit könnte man begründete Thesen aufstellen, warum Menschen diese Fahrräder ausleihen: Fahren sie damit zur U-Bahn, zur Arbeit, nach Hause oder in eines der angesagten Viertel? Diese Angaben könnten auch für Stadtplaner:innen relevant sein, um entsprechende Stellplätze für diese Art von Fortbewegung bereitzustellen und damit nachhaltige Mobilität großflächig zu ermöglichen. "
   ]
  },
  {
   "cell_type": "markdown",
   "id": "f96d6ef8",
   "metadata": {},
   "source": [
    "<b>Anregungen zu weiteren Fragestellungen</b>:"
   ]
  },
  {
   "cell_type": "markdown",
   "id": "a2db689b",
   "metadata": {},
   "source": [
    "- Welche „Spalten“ fehlen dir, um weiteren für dich interessanten Fragestellungen nachgehen zu können?\n",
    "- Bis jetzt haben wir immer von „Arbeits- und Schulbeginn“ und „Feierabend“ gesprochen. Wie schätzt du den Einfluss der Wochentage auf die Ausleihe aus und was ist mit dem Wochenende?\n",
    "- Welche Daten, vermutest du, wurden nicht im Datenset mitgegeben?\n",
    "- Denkst du, dass man anhand der Daten feststellen kann, wie viele Fahrräder es gibt?"
   ]
  },
  {
   "cell_type": "markdown",
   "id": "00e58d8a",
   "metadata": {},
   "source": [
    "## Ausblick II: Datenaufbereitung und Erstellung eines KI-Modells"
   ]
  },
  {
   "cell_type": "markdown",
   "id": "452fe01c",
   "metadata": {},
   "source": [
    "Mithilfe des Datensets lassen sich noch eine Reihe von Untersuchungen anstellen, insbesondere solche, die sich auf die verfügbaren Kategorien bzw. Features beziehen, wie den Einfluss von Sichtweite, Luftfeuchtigkeit, Regen, Wind oder Feiertage. Während man zunächst ein intuitives Gefühl für jede dieser Kategorien haben kann (z. B. weil man annehmen könnte, dass die wenigsten Menschen gerne bei Regen Fahrrad fahren), können mathematische und weiterführende statistische Untersuchungen genau aufzeigen, welche Features einen wie großen Einfluss auf die Fahrradausleihen haben und welche weniger relevant sind. Einige dieser Ansätze haben wir weiter oben angedeutet."
   ]
  },
  {
   "cell_type": "markdown",
   "id": "969b3e91",
   "metadata": {},
   "source": [
    "Um zu berechnen, wie viele Fahrradausleihen an einem bestimmten Tag und zu einer bestimmten Stunde getätigt werden, kann man überlegen, welche Features ausschlaggebend sind, insbesondere, wenn alle Features gemeinsam betrachtet werden. Dazu gehört auch die Frage, ob und in welcher Weise die Werte der Features überhaupt mathematisch bzw. statistisch weiter aufbereitet werden müssen und ob gegebenenfalls aus vorhandenen Features neue erzeugt werden sollten. Es könnte sinnvoll sein zwischen Werktagen und Wochenenden zu unterscheiden, sofern – nach einer Recherche – beide Begriffe so stark zu trennen sind wie beispielsweise hierzulande. Dies kann auch durch eine genauere Untersuchung der Daten mit statistischen Analysen ermittelt werden und ist somit auch für den Analysepfad interessant."
   ]
  },
  {
   "cell_type": "markdown",
   "id": "0ac6c8fb",
   "metadata": {},
   "source": [
    "Die gerade beschriebenen Überlegungen sind Herangehensweisen und Strategien des sogenannten Feature Engineering sowie der Datenexploration. Sollten wir durch eine Analyse herausfinden, dass sich Werktage und Wochenenden tatsächlich merklich unterscheiden, können wir diese Entdeckung nutzen und eine neue Spalte (also ein neues Feature) mit dieser Unterscheidung im Datenset hinzufügen."
   ]
  },
  {
   "cell_type": "markdown",
   "id": "b8d3a58a",
   "metadata": {},
   "source": [
    "Die beiden in Wechselwirkung stehenden Herangehensweisen zielen in der Regel darauf ab, ein (KI-)Modell zu erstellen, das die mitgelieferten Features durch ein Verfahren und mittels einer Metrik im Zusammenspiel betrachtet, um einen Wert vorherzusagen (\"predict\"). Die Features neu aufzubereiten kann helfen, exaktere Ergebnisse zu erzielen. Um ein Modell zu trainieren und Anfragen zu stellen, ist es in jedem Fall notwendig, die Werte aller Features maschinenlesbar zu machen: Anstelle von <code>Montag</code> und <code>Sonntag</code> könnten <code>0</code> und <code>6</code> stehen, anstelle von <code>Urlaub</code> <code>1</code> und anstelle von <code>keinem Urlaub</code> <code>0</code>."
   ]
  },
  {
   "cell_type": "markdown",
   "id": "a2bffd10",
   "metadata": {},
   "source": [
    "Welche Verfahren (z.B. Maschinelles Lernen, Deep Learning) und welche Metriken (z.B. Genauigkeit, Mean Absolute Error) im Bereich der künstlichen Intelligenz für ein bestimmtes Datenset relevant sein könnten, werden im Folgenden nicht behandelt und sind ein Thema für sich. Um dennoch eine Vorstellung von einer solchen Vorhersage zu bekommen, wird in der folgenden Zeile ein Code-Beispiel gezeigt, dass eine Anfrage an ein fertig trainiertes Modell exemplarisch veranschaulicht:"
   ]
  },
  {
   "cell_type": "markdown",
   "id": "150c95d7",
   "metadata": {},
   "source": [
    "<code>  ... </code>\n",
    "```python\n",
    "values_tomorrow=np.array([[3,7,2024,18,30,30,2.3,2000,24,0,0,0,2,0,1]])\n",
    "predict_tomorrow=model.predict(values_tomorrow)\n",
    "print(\"Morgen, am 3. Juli 2024 werden 18 Uhr\", predict_tomorrow, \"Fahrradausleihen erwartet.\")\n",
    " ```\n",
    "Output: <code> \"Morgen, am 3. Juli 2024 werden 18 Uhr 2440 Fahrradausleihen erwartet.\" </code>"
   ]
  },
  {
   "cell_type": "markdown",
   "id": "899fb4f8",
   "metadata": {},
   "source": [
    "In diesem exemplarischen Modell wurden alle ursprünglichen Features beibehalten, aber das Feature <code>date</code> wurde in <code>Tag</code>, <code>Monat</code> und <code>Jahr</code> aufgespalten. Außerdem wurden die letzten drei Spalten in numerische Werte überführt, sodass beispielsweise die Jahreszeit <code>'Summer'</code> nun der Zahl <code>2</code> entspricht. Das Modell errechnet für das Datum 3. Juli 2024 um 18 Uhr eine erwartete Fahrradausleihe von <code>2440</code>. Je nach Wahl der Metrik und der Parameter wird beim Training eines solchen Modells auf unterschiedliche Gütemaße Wert gelegt, und die Vorhersage wird immer wieder mit einem Teil der verfügbaren Daten abgeglichen. Je näher die Vorhersage an den tatsächlichen Werten liegt, desto stärker wird angenommen, dass das Modell auch in Zukunft „richtig“ liegen wird!"
   ]
  },
  {
   "cell_type": "markdown",
   "id": "25ab904a",
   "metadata": {},
   "source": [
    "<div class=\"alert alert-block alert-success\">\n",
    "    Die Erstellung des noch zu justierenden KI-Modells kann ein Lösungsansatz sein, um die Hauptaufgabe zu erfüllen - zur Erinnerung:<br> <b>\"The crucial part is the prediction of bike count required at each hour for the stable supply of rental bikes.\" <a href=\"https://archive.ics.uci.edu/dataset/560/seoul+bike+sharing+demand\">UC Irvine Machine Learning Repository</a></b>\n",
    "    <br>\n",
    "Es ist üblich, dass große Plattformen, die Datensätze bereitstellen, auch Lösungsmetriken vorgeben, die es zu optimieren gilt. Solche Formate, häufig als 'Challenges' bezeichnet, bieten die Möglichkeit, selbst dazuzulernen, gelegentlich Preisgelder zu gewinnen und die eigenen Chancen auf dem Arbeitsmarkt zu verbessern, da entsprechende Kompetenzen stark gefragt sind. In der Regel werden solche Notebooks gehostet oder öffentlich zugänglich gemacht. Alternativ kann man diese Notebooks auch selbst veröffentlichen, um sie anderen zugänglich zu machen.\n",
    "</div>"
   ]
  },
  {
   "cell_type": "markdown",
   "id": "065484e1",
   "metadata": {},
   "source": [
    "<b>Anregungen zu weiteren Fragestellungen</b>:"
   ]
  },
  {
   "cell_type": "markdown",
   "id": "f1037809",
   "metadata": {},
   "source": [
    "Ein „richtiges“ bzw. „gutes“ Modell zu erstellen, ist – wie bereits angesprochen – sehr komplex und aufwendig und wird in anderen Lerneinheiten behandelt. Nachfolgend findest du einige Anregungen, die relevant sein könnten"
   ]
  },
  {
   "cell_type": "markdown",
   "id": "91fc8621",
   "metadata": {},
   "source": [
    "- Welche Einwände könnte man dagegen haben, das vorliegende Datenset als Grundlage für ein KI-Modell zu nutzen?\n",
    "- Wie schätzt du den vorgegebenen Zeitraum von 365 Tagen ein? Können wir damit Ausleihen in einem anderen Jahr vorhersagen?\n",
    "- Wie schätzt du in diesem Zusammenhang die Rolle von Wetterdaten ein? Auch für unsere Anfragen an das exemplarische Ki-Modell haben wir Wetterdaten übermittelt.\n",
    "- Wie sollte man mit der Spalte <code>Functioning Day</code> umgehen? Sind Ausfälle in jedem Jahr an den gleichen Tagen zu erwarten?\n",
    "- Welche Verfahren werden allgemein genutzt, um überhaupt Vorhersagen zu treffen?\n",
    "- Es wird in diesem Bereich von einem KI-Modell gesprochen. Entspricht es deiner Vorstellung von KI? "
   ]
  },
  {
   "cell_type": "markdown",
   "id": "cdbe52f8",
   "metadata": {},
   "source": [
    "<div class=\"alert alert-block alert-success\">\n",
    "    🚩<b>Vielen Dank</b> für das Durcharbeiten dieses Notebooks <b>und viel Spaß bei deinen zukünftigen Erkundungen!</b>\n",
    "</div>"
   ]
  }
 ],
 "metadata": {
  "kernelspec": {
   "display_name": "Python 3 (ipykernel)",
   "language": "python",
   "name": "python3"
  },
  "language_info": {
   "codemirror_mode": {
    "name": "ipython",
    "version": 3
   },
   "file_extension": ".py",
   "mimetype": "text/x-python",
   "name": "python",
   "nbconvert_exporter": "python",
   "pygments_lexer": "ipython3",
   "version": "3.11.9"
  },
  "toc": {
   "base_numbering": 1,
   "nav_menu": {
    "height": "322.4px",
    "width": "382.4px"
   },
   "number_sections": true,
   "sideBar": true,
   "skip_h1_title": false,
   "title_cell": "Table of Contents",
   "title_sidebar": "Contents",
   "toc_cell": false,
   "toc_position": {
    "height": "calc(100% - 180px)",
    "left": "10px",
    "top": "150px",
    "width": "210.225px"
   },
   "toc_section_display": true,
   "toc_window_display": false
  }
 },
 "nbformat": 4,
 "nbformat_minor": 5
}
