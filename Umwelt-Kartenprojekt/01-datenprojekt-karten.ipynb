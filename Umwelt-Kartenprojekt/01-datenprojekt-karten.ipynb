{
 "cells": [
  {
   "cell_type": "markdown",
   "id": "840ff5ff",
   "metadata": {},
   "source": [
    "# Datenprojekt (Umwelt-)Karten erstellen"
   ]
  },
  {
   "cell_type": "markdown",
   "id": "46a6983b",
   "metadata": {},
   "source": [
    "\n",
    "\n",
    "<table><tr>\n",
    "<td>\n",
    "<p xmlns:cc=\"http://creativecommons.org/ns#\" xmlns:dct=\"http://purl.org/dc/terms/\"><span property=\"dct:title\">Datenprojekt (Umwelt-)Karten erstellen</span> by <span property=\"cc:attributionName\">Martin Lechner</span> is licensed under <a href=\"http://creativecommons.org/licenses/by/4.0/?ref=chooser-v1\" target=\"_blank\" rel=\"license noopener noreferrer\" style=\"display:inline-block;\">CC BY 4.0</a></p>\n",
    "</td> \n",
    "<td> <img src=\"https://mirrors.creativecommons.org/presskit/icons/cc.svg?ref=chooser-v1\"/ width=\"20\"; height=\"20\"> </td>\n",
    "<td> <img src=\"https://mirrors.creativecommons.org/presskit/icons/by.svg?ref=chooser-v1\"/ width=\"20\"; height=\"20\"> </td>\n",
    "</tr></table>"
   ]
  },
  {
   "cell_type": "markdown",
   "id": "d577db1b",
   "metadata": {},
   "source": [
    "# Einleitung"
   ]
  },
  {
   "cell_type": "markdown",
   "id": "b7e6b122",
   "metadata": {},
   "source": [
    "Willkommen zum Einführungstraining „Datenprojekt (Umwelt-)Karten erstellen\". Wie kann eine (Daten)-Frage beantwortet werden und wie lassen sich einzelne Teile davon mithilfe von Datenwerkzeugen lösen? In diesem Notebook wird ein umfassendes Datenprojekt zur Visualisierung von Umweltdaten als Karte vorgestellt, einschließlich Herangehensweisen, möglicher (Daten-)Quellen, Datenverarbeitungswerkzeugen sowie deren Zusammenspiel. Wie ein Datenprojekt aussieht, das als Ergbnis Luftverschmutzungsdaten auf einer Karte anzeigt, erfährst du in diesem Notebook!"
   ]
  },
  {
   "cell_type": "markdown",
   "id": "94aa7f5c",
   "metadata": {},
   "source": [
    "👶 Für dieses Notebook benötigst du keine Vorkenntnisse:\n",
    "- Lies dir die Texte sorgfältig durch und folge den Anweisungen.\n",
    "- Es wird stellenweise von dir verlangt Zeilen Code auszuführen. Dies wird gleich erklärt!\n",
    "- An bestimmten Stellen wirst du aufgefordert, selbst Code zu schreiben. Diese Stellen sind mit: <code># dein Code </code>gekennzeichnet.\n",
    "- Es gibt immer Lösungsvorschläge. Sie dienen der Selbstkontrolle und helfen dabei, den roten Faden des Notebooks voranzubringen.\n"
   ]
  },
  {
   "cell_type": "markdown",
   "id": "650618b1",
   "metadata": {},
   "source": [
    "In diesem Notebook lernst du<br>\n",
    " ... einzelne Schritte eines Datenprojekts kennen.<br>\n",
    " ... wie Python und Hilfsbibliotheken miteinander interagieren und das (Daten-)Leben erleichtern.<br>\n",
    " ... wie  du  selbst eine Karte erstellen und Geodaten nutzen kannst.<br>\n",
    " ... Code in einem realen Szenario kennen, den du direkt ausführen und anpassen kannst!\n"
   ]
  },
  {
   "cell_type": "markdown",
   "id": "2139443f",
   "metadata": {},
   "source": [
    "Das Notebook ist in drei größere Abschnitte unterteilt:<br>\n",
    "In Teil 1️⃣ wird das Szenario vorgestellt und es werden entsprechende Vorüberlegungen angeregt.<br>\n",
    "In Teil 2️⃣ wird die Hilfsbibliothek Folium vorgestellt. Mit dem mitgelieferten Beispielcode wird eine Karte erzeugt und angepasst. Der Code wird anhand der Hauptaufgabenstellung diskutiert. Anschließend werden Daten in das Notebook geladen und eine Karte manuell erstellt.<br>\n",
    "Im letzten Teil 3️⃣ werden verschiedene Datenverarbeitungsmöglichkeiten vorgestellt. Schleifen, Bedingungen und Funktionen werden sukzessive im Zusammenspiel mit einem DataFrame der Hilfsbibliothek Pandas erklärt, um schließlich eine umfangreichere und individuell anpassbare Karte zu erstellen. In jedem Abschnitt werden auch kleine Anpassungen vorgestellt, die zum Weiterkommen notwendig sind.<br> "
   ]
  },
  {
   "cell_type": "markdown",
   "id": "0fbf1717",
   "metadata": {},
   "source": [
    "Bevor dir das interaktive Konzept dieses Notebooks vorgestellt wird: Bedenke, dass dieses Notebook einen komplexen Ablauf darstellt und versucht, jeder Facette ausreichend Raum für Fragen und Erklärungen zu geben. Einige Facetten eröffnen dabei ganz neue Welten – was auch Teil der Motivation dieses Notebooks ist. <br>Über die Lösungsvorschläge geht es in jedem Fall immer weiter. Viel Spaß!"
   ]
  },
  {
   "cell_type": "markdown",
   "id": "196dc587",
   "metadata": {},
   "source": [
    "## Das interaktive Konzept dieses Notebooks: Ausführen von Code, eigener Code und Fragestellungen"
   ]
  },
  {
   "cell_type": "markdown",
   "id": "c5f1b382",
   "metadata": {},
   "source": [
    "Hier stellen wir zunächst das interaktive Konzept des Notebooks vor."
   ]
  },
  {
   "cell_type": "markdown",
   "id": "9251c445",
   "metadata": {},
   "source": [
    "Die meisten Code-Zeilen für dieses Notebook sind bereits vorgeschrieben. Diese Zeilen müssen in der Reihenfolge ihres Erscheinens ausgeführt werden. <b>Klicke dafür zunächst in die entsprechende Zeile Code</b>. Anschließend <b>drücke gleichzeitig \"Shift+Enter\" auf der Tastatur</b>. Alternativ kannst du mit dem Cursor auf die untere rechte Ecke der Zeile Code navigieren und sie mit dem Textsymbol <b>Run code: Ctrl + Enter</b> ausführen. In einigen Umgebungen kann es sein, dass es zum Ausführen des Codes lediglich einen <b>\"Play\"-Button links neben der entsprechenden Zeile Code </b> gibt, der erscheint, wenn man den Cursor dorthin bewegt. "
   ]
  },
  {
   "cell_type": "markdown",
   "id": "b4156106",
   "metadata": {},
   "source": [
    "<b> a) Ausführen von Code </b>"
   ]
  },
  {
   "cell_type": "markdown",
   "id": "d155914f",
   "metadata": {},
   "source": [
    "👇 Unten findest du ist eine Zeile Code, die lediglich einen Text ausgeben wird. Führe sie wie oben beschrieben aus! "
   ]
  },
  {
   "cell_type": "code",
   "execution_count": null,
   "id": "1a71049b",
   "metadata": {},
   "outputs": [],
   "source": [
    "print(\"Hallo Welt!\")"
   ]
  },
  {
   "cell_type": "markdown",
   "id": "e2e9c231",
   "metadata": {},
   "source": [
    "Bei korrekter Ausführung sollte der Text <code>Hallo Welt!</code> unterhalb der Zeile erscheinen. Außerdem sollte in der Zeile neben dem Code nun eine Zahl innerhalb der eckigen Klammern stehen, z.B. <code>[1]</code>."
   ]
  },
  {
   "cell_type": "markdown",
   "id": "79a27cbc",
   "metadata": {},
   "source": [
    "<b> b) Eigener Code </b>"
   ]
  },
  {
   "cell_type": "markdown",
   "id": "f284b2b1",
   "metadata": {},
   "source": [
    "Schreibe den gleichen Code wie oben, aber ersetze das Wort \"Welt\" mit einem Namen deiner Wahl! Vergiss nicht die Zeile Code auszuführen 👇."
   ]
  },
  {
   "cell_type": "code",
   "execution_count": null,
   "id": "e57af272",
   "metadata": {},
   "outputs": [],
   "source": [
    "# dein Code\n"
   ]
  },
  {
   "cell_type": "markdown",
   "id": "e326becc",
   "metadata": {},
   "source": [
    "<details>\n",
    "    <summary>&#x1F449;  Hier klicken, um einen Lösungsvorschlag zu sehen &#x1F448;</summary>\n",
    "    \n",
    " ```python\n",
    "# dein Code\n",
    "print(\"Hallo, Kai!\")\n",
    "```\n",
    "Hallo, Kai!\n",
    "\n",
    "</details>"
   ]
  },
  {
   "cell_type": "markdown",
   "id": "bb424b4b",
   "metadata": {},
   "source": [
    "<b> c) (offene) Fragen </b>"
   ]
  },
  {
   "cell_type": "markdown",
   "id": "eefcda23",
   "metadata": {},
   "source": [
    "In diesem Notebook gibt es häufig Fragen. Einige davon sind als Aufgabenstellungen zu verstehen. Bei diesen gibt es immer einen Lösungsvorschlag, der entsprechend gekennzeichnet ist. Offene Fragen sollen hingegen zum Nachdenken anregen, werden aber in diesem Sinne nicht kontrolliert oder beantwortet."
   ]
  },
  {
   "cell_type": "markdown",
   "id": "63e1bfa1",
   "metadata": {},
   "source": [
    "<b>Frage: </b> Hast du dieses Prinzip verstanden?"
   ]
  },
  {
   "cell_type": "markdown",
   "id": "5be9e15e",
   "metadata": {},
   "source": [
    "<details>\n",
    "    <summary>&#x1F449;  Hier klicken, um einen Lösungsvorschlag zu sehen &#x1F448;</summary>\n",
    "Ja! :) (Hoffen wir.) \n",
    "\n",
    "</details>"
   ]
  },
  {
   "cell_type": "markdown",
   "id": "afe8628f",
   "metadata": {},
   "source": [
    "<b>d) Feedback</b>"
   ]
  },
  {
   "cell_type": "markdown",
   "id": "c7b44264",
   "metadata": {},
   "source": [
    "Wie du oben gesehen hast, gibt es in diesem Notebook zur Selbstkontrolle mit <code>👉 Lösungsvorschlag/Anregung 👈</code> gekennzeichnete Felder, die angeklickt werden müssen, um ihren Inhalt zu offenbaren. Zwei davon solltest du bereits \"aufgeklappt\" haben. Diese Felder sollten in jedem Fall gelesen werden, da sie <b>neben der Vermittlung von Lösungsvorschlägen auch zur Vertiefung des Inhalts dienen</b>."
   ]
  },
  {
   "cell_type": "markdown",
   "id": "26d3f9bd",
   "metadata": {},
   "source": [
    "<div class=\"alert alert-block alert-warning\">    \n",
    "    <b>Zeilen erneut ausführen</b><br>\n",
    "    Wenn du das Notebook zu einem späteren Zeitpunkt wieder öffnest, ist es fast immer der Fall, dass der Zwischenspeicher geleert wurde. Das bedeutet, dass du mindestens ab der <b>🔖Markierung</b> alle Zeilen darunter erneut ausführen musst, damit entsprechende Daten und Funktionen wieder nutzbar sind. Solltest du auch während der Nutzung Fehlermeldungen bekommen (z.B. „X is not defined“), solltest du noch einmal zurückgehen und die Zeilen ausführen.\n",
    "    <br>\n",
    "    <b>Viele Wege führen zum Ziel</b><br>\n",
    "Es gibt verschiedene Wege, ans Ziel zu kommen, insbesondere in der Welt des Codes und beim Arbeiten mit Daten! Das Tolle ist: Wenn du einen anderen Weg gefunden hast (oder ausprobieren möchtest), arbeitest du bereits in der richtigen Umgebung dafür. Versuch dies am besten in deinem eigenen Notebook, um seine Struktur zu verstehen. Versteh die folgenden Zeilen als einen Vorschlag und als Lockerungsübung, die darauf hinleitet, über Code nachzudenken und dann eigenständig zu verfahren kann.\n",
    "</div>\n"
   ]
  },
  {
   "cell_type": "markdown",
   "id": "3e45ce81",
   "metadata": {},
   "source": [
    "# Szenario"
   ]
  },
  {
   "cell_type": "markdown",
   "id": "2dfe1a05",
   "metadata": {},
   "source": [
    "## Hintergrund und Aufgabenstellung"
   ]
  },
  {
   "cell_type": "markdown",
   "id": "3c8e4dc9",
   "metadata": {},
   "source": [
    "Der zur Data Week 2024 in Leipzig gehaltene Workshop „Mit Daten Stadt gestalten - Smart City“ stand im Zeichen von Umweltdaten. Er sollte einen niedrigschwelligen Zugang zum Arbeiten mit Daten bieten und zeigte am Beispiel eines Datenkreislaufs, welche verschiedenen Etappen es beim Arbeiten mit Daten geben kann und was notwendig ist, um diese Etappen umzusetzen. Als übergeordnetes Beispiel wurde Umweltverschmutzung gewählt, insbesondere Daten zu Luftverschmutzung. Das Thema Luftverschmutzung ist natürlich kein neues Thema, bereits sehr gut erforscht und, wie wir sehen werden, hinsichtlich offener Daten und Visualisierungen sogar schon äußerst transparent ausgestaltet. Wir rekonstruieren hier in gewisser Weise, was bereits existiert.\n",
    "\n",
    "Dieses Notebook stellt den Teil des Workshops dar, der sich mit der Visualisierung von Daten in einer Karte beschäftigt. In diesem Sinne kann das Notebook auch als Einblick in Geoinformationssysteme gesehen werden.\n"
   ]
  },
  {
   "cell_type": "markdown",
   "id": "10fe634c",
   "metadata": {},
   "source": [
    "<b>Szenario</b>: Du nimmst die Rolle einer Person ein, die von einer Führungskraft in einer erdachten städtischen Verwaltungseinheit folgenden Auftrag erhält:\n",
    "\n",
    "> <b>Aufgabenstellung</b>: <i>\"Könnten Sie mal eben und rasch für eine Präsentation am Nachmittag eine Karte erstellen, die die Luftverschmutzung zu einer bestimmten Zeit in einem bestimmten Gebiet anzeigen kann? Also für Leipzig?!\"</i>"
   ]
  },
  {
   "cell_type": "markdown",
   "id": "9c6190de",
   "metadata": {},
   "source": [
    "<b>Aufgabe</b>: Nimm dir mindestens 5 Minuten Zeit, um selbst zu überlegen, wie du mit dieser Aufgabe umgehen und sie letztlich angehen würdest!"
   ]
  },
  {
   "cell_type": "markdown",
   "id": "0a134f3a",
   "metadata": {},
   "source": [
    "<details>\n",
    "    <summary>&#x1F449;  Hier klicken, um eine Anregung zu erhalten &#x1F448;</summary>\n",
    "    \n",
    "Tatsächlich wird sehr viel auf einmal gefragt. \n",
    "<br><b>Vielleicht ergibt es Sinn, die Aufgabe in Teilfragen bzw. -aufgaben zu zerlegen und diesen nachzugehen!</b>\n",
    "\n",
    "</details>"
   ]
  },
  {
   "cell_type": "markdown",
   "id": "cc5e80f6",
   "metadata": {},
   "source": [
    "<details>\n",
    "    <summary>&#x1F449;  Hier klicken, um einen Lösungsvorschlag zu sehen &#x1F448;</summary>\n",
    "Es ergibt für solche Aufgaben immer Sinn, die Aufgabenstellungen in Teilaufgaben einzuteilen, auch wenn diese, wie in dieser Aufgabenstellung, auf sehr engem Raum untergebracht sind.\n",
    "\n",
    "Die zu den Teilaufgaben passenden Fragen können lauten: \n",
    "- Woher bekomme ich die entsprechenden Umweltdaten?\n",
    "- Wie wird \"Lufverschmutzung\" in Daten hinterlegt?\n",
    "- Mit welcher Software/Programm/Umgebung kann man Karten überhaupt bauen?\n",
    "- Wie kann ich diese Software/Programm/Umgebung nutzen?\n",
    "</details>"
   ]
  },
  {
   "cell_type": "markdown",
   "id": "29dd3b30",
   "metadata": {},
   "source": [
    "## Vorüberlegung zu den Teilaufgabenstellungen"
   ]
  },
  {
   "cell_type": "markdown",
   "id": "a3ddf78e-41c2-4581-a0e1-fc1a3d9de46e",
   "metadata": {},
   "source": [
    "Im Folgenden gehen wir den im Lösungsvorschlag angeregten Teilfragen nach. Wenn du das Gefühl hast, nicht zu wissen, woher man die nötigen Informationen bekommen soll, ist das ganz normal. Sehr viele Antworten erfordern in der Tat einige Vorüberlegungen, und jede Teilfrage enthält eigentlich auch eine Welt für sich! Wir gehen diese gemeinsam durch."
   ]
  },
  {
   "cell_type": "markdown",
   "id": "ccada9bc",
   "metadata": {},
   "source": [
    "<b>Aufgabe</b>: Lies dir die untenstehenden Teilaufgaben sukzessive durch und überlege dir, wie du diese beantworten würdest. Lass dir dann Anregungen anzeigen. Im Verlauf des Notebooks werden wir uns im Wesentlichen auf diese stützen!"
   ]
  },
  {
   "cell_type": "markdown",
   "id": "e2988476",
   "metadata": {},
   "source": [
    "<details>\n",
    "    <summary><b>Was bedeutet Umweltverschmutzung? Was bedeutet Luftverschmutzung im Speziellen? Wie wird sie gemessen und was sind die Kennzahlen/-größen dazu?</b><br> &#x1F449; Hier klicken, um eine Anregung zu erhalten &#x1F448;</summary>\n",
    "    Eine gute Anlaufstelle könnte hierzu die entsprechenden Kategorien auf der Website des Umweltbundesamtes sein. Für die Luftqualität kann die Seite zu den <a href=\"https://www.umweltbundesamt.de/berechnungsgrundlagen-luftqualitaetsindex\" target=\"_blank\">Berechnungsgrundlagen des Luftqualitätsindex</a> herangezogen werden!\n",
    "</details>\n"
   ]
  },
  {
   "cell_type": "markdown",
   "id": "e8019ed9",
   "metadata": {},
   "source": [
    "<details>\n",
    "    <summary><b>Woher bekomme ich Daten zur Umweltverschmutzung, insbesondere zur Luftverschmutzung?</b><br> &#x1F449; Hier klicken, um eine Anregung zu erhalten &#x1F448;</summary>\n",
    "\n",
    "Offene Daten gibt es unter anderem in der Kategorie: <a href=\"https://www.umweltbundesamt.de/daten/luft/luftdaten/stationen\" target=\"_blank\">Luftdaten der Wetterstationen des Umweltbundesamtes</a>.<br>\n",
    "Es gibt auch lokale Akteure, die entsprechende Daten freigeben. Im Workshop haben wir beispielsweise auch Daten vom \n",
    "<a href=\"https://www.umwelt.sachsen.de/umwelt/infosysteme/luftonline/recherche.aspx\" target=\"_blank\">Sächsischen Landesamt für Umwelt, Landwirtschaft und Geologie</a> benutzt.\n",
    "\n",
    "</details>\n"
   ]
  },
  {
   "cell_type": "markdown",
   "id": "0afaee03",
   "metadata": {},
   "source": [
    "<details>\n",
    "    <summary><b>Wie wird die Position eines bestimmten Ortes auf der Erde bestimmt?</b><br> &#x1F449; Hier klicken, um eine Anregung zu erhalten &#x1F448;</summary>\n",
    "Gemeint ist die gängige Variante mit dem GPS-Koordinatensystem, um eine Position zu bestimmen. Diese Technologie, die früher vorwiegend für die Navigation von Flugzeugen genutzt wurde, ist über Navigationsgeräte in Fahrzeugen und ähnlicher Funktionen in Smartphones bereits in \"unsere Hosentasche\" gewandert. Nicht nur zur Navigation werden hier Geodaten genutzt, sondern sie sind teilweise auch in den Metadaten von Bildern gespeichert, die wir mit unseren Smartphones aufnehmen.\n",
    "\n",
    "</details>\n"
   ]
  },
  {
   "cell_type": "markdown",
   "id": "b9310aea",
   "metadata": {},
   "source": [
    "<details>\n",
    "    <summary><b>Womit kann ich Daten in einer Karte darstellen, d.h. \"kartografieren\"?</b><br> &#x1F449; Hier klicken, um eine Anregung zu erhalten &#x1F448;</summary>\n",
    "    - Als Vehikel nutzen wir in dieser Jupyter Notebook- (bzw. Python-)Umgebung, die Hilfsbibliothek <code>Folium</code>.<br>\n",
    "- <a href=\"https://ipyleaflet.readthedocs.io/en/latest/\" target=\"_blank\">ipyleaflet</a> könnte eine weitere nützliche Bibliothek darstellen.<br>\n",
    "- Es gibt auch weitere Software, die insbesondere im Kontext von Geoinformationssystemen (GIS) genutzt werden kann und in der Regel GI oder GIS im Namen trägt.\n",
    "</details>\n"
   ]
  },
  {
   "cell_type": "markdown",
   "id": "f293349d",
   "metadata": {},
   "source": [
    "<details>\n",
    "    <summary><b>Wie bekomme ich all das zusammen?</b><br> &#x1F449;  Hier klicken, um eine Anregung zu erhalten &#x1F448;\n",
    "</summary>\n",
    "In diesem Notebook zeigen wir es!\n",
    "  </details> "
   ]
  },
  {
   "cell_type": "markdown",
   "id": "b628f428",
   "metadata": {},
   "source": [
    "In den nächsten Kapiteln widmen wir uns bestimmten Aspekten dieser (und anderer) Teilfragen auf verschiedene Art und Weise!"
   ]
  },
  {
   "cell_type": "markdown",
   "id": "8c2a7490",
   "metadata": {},
   "source": [
    "# Folium: Kartografieren!"
   ]
  },
  {
   "cell_type": "markdown",
   "id": "5ac70ece",
   "metadata": {},
   "source": [
    "Wir beginnen zunächst mit der Hilfsbibliothek <code>Folium</code>und einem bereitgestelten Beispielcode, an dem wir uns für dieses Notebook orientieren werden. Wir denken also in gewisser Weise vom Ende her."
   ]
  },
  {
   "cell_type": "markdown",
   "id": "9ef5d79d",
   "metadata": {},
   "source": [
    "## Einführung von Folium"
   ]
  },
  {
   "cell_type": "markdown",
   "id": "3a27eea6",
   "metadata": {},
   "source": [
    "Die Beschreibung der Hilfsbibliothek __[Folium](https://python-visualization.github.io/folium/latest/index.html)__  zeigt, dass es sich bei Folium um eine Kombination aus der Programmiersprache __[Python](https://www.python.org/)__, dem offenen Kartenanbieter __[OpenStreetMaps](https://www.openstreetmap.org/)__ und der in JavaScript geschriebenen Umgebung __[Leaflet](https://leafletjs.com/)__  handelt. Während OpenStreetMap grundsätzlich Kartenmaterial digitalisiert bereitstellt, ist Leaflet ein eigenständiges, in JavaScript geschriebenes Tool, um diese Karten interaktiv zu erstellen. Das bedeutet, dass theoretisch auch vollständig mit Leaflet bzw. JavaScript gearbeitet werden könnte. Die Hilfsbibliothek Folium nutzt jedoch die Vorteile von Python (was unter anderem die einfachere Arbeit mit Daten ermöglicht) und stellt eigenen Python-Code bereit, der von uns genutzt werden kann, um entsprechende Karten zu erstellen."
   ]
  },
  {
   "cell_type": "markdown",
   "id": "1cfb3902",
   "metadata": {},
   "source": [
    "Die Kombination der Flexibilität der Programmiersprache Python mit den Funktionen der in JavaScript geschriebenen Kartenbibliothek Leaflet ermöglicht eine vereinfachte Datenverarbeitung und -manipulation, insbesondere von größeren Datenmengen, wie diese Lerneinheit veranschaulichen wird."
   ]
  },
  {
   "cell_type": "markdown",
   "id": "55d7180a",
   "metadata": {},
   "source": [
    "<b>Offene Aufgabe</b>: Der Aufbau und die Inhalte der oben verlinkten Webseiten mögen auf den ersten Blick ungewohnt erscheinen. Es lohnt sich jedoch, ein wenig herumzuklicken und zu schauen, was sie machen, warum sie es machen und was du von deinem Besuch auf den Webseiten erwarten kannst. Ein Blick auf die Navigationsleiste kann dabei schon hilfreich sein."
   ]
  },
  {
   "cell_type": "markdown",
   "id": "36d1b9df",
   "metadata": {},
   "source": [
    "<div class=\"alert alert-block alert-success\">\n",
    "Ohne diese Anbieter:innen und die entsprechenden Menschen, die offene Daten und Datenwerkzeuge erweitern sowie Kompatibilitäten schaffen, wären Notebooks wie dieses nicht möglich. 😍\n",
    "</div>"
   ]
  },
  {
   "cell_type": "markdown",
   "id": "37d8ef2f",
   "metadata": {},
   "source": [
    "## Eine Beispielkarte mit Folium erzeugen"
   ]
  },
  {
   "cell_type": "markdown",
   "id": "b8eba809",
   "metadata": {},
   "source": [
    "Hilfsbibliotheken wie Folium sind in der Regel gut dokumentiert. Folium ist sogar in einem Maße dokumentiert, dass es eine eigene Anleitung bereitstellt, die nicht nur zeigt, was man alles machen kann, sondern auch Hinweise gibt, wie man es machen kann. Wir machen uns diese Anleitung bzw. Dokumentation zunutze und passen ein Beispiel an unsere Bedürfnisse an."
   ]
  },
  {
   "cell_type": "markdown",
   "id": "b5307996",
   "metadata": {},
   "source": [
    "Schau dir die __[Anleitung zu Folium (Englisch)]( https://python-visualization.github.io/folium/latest/getting_started.html)__ an und lies dir diese bis zu dem Beispiel \"adding Markers\" durch. Unten haben wir den Code bereits für dich in das Notebook übertragen. Wie du sehen wirst, ist es derselbe wie in der Anleitung! Du kannst also bei künftigen Projekten einfach Copy&Paste machen... sehr praktisch."
   ]
  },
  {
   "cell_type": "markdown",
   "id": "e63079d3",
   "metadata": {},
   "source": [
    "<div class=\"alert alert-block alert-warning\">    \n",
    "    <b>Hinweis (🔖 Markierung)</b>: Ab hier wirst du aufgefordert, Zeilen Code auszuführen. Solltest du dieses Notebook zu einem späteren Zeitpunkt erneut laden, kann es passieren, dass der Zwischenspeicher gelöscht wird. Um mit deiner bisherigen Aufgabe fortzufahren, musst du ab hier alle folgenden Zeilen Code der Reihe nach erneut ausführen!\n",
    "</div>\n"
   ]
  },
  {
   "cell_type": "markdown",
   "id": "b9ee6bf9",
   "metadata": {},
   "source": [
    "In der Anleitung wird erwähnt, dass es zunächst notwendig ist, Folium zu installieren."
   ]
  },
  {
   "cell_type": "markdown",
   "id": "96015a20",
   "metadata": {},
   "source": [
    "👇  Klicke in die Zeile Code und führe diese aus. Damit wird Folium installiert. Du musst nichts weiter tun. Es sollten einige Zeilen erscheinen."
   ]
  },
  {
   "cell_type": "code",
   "execution_count": null,
   "id": "d6c491db",
   "metadata": {},
   "outputs": [],
   "source": [
    "!pip install Folium "
   ]
  },
  {
   "cell_type": "markdown",
   "id": "d09167eb",
   "metadata": {},
   "source": [
    "<b>Hinweis</b>: Je nach Betriebssystem und der Umgebung, in der Python bzw. Jupyter Notebook eingerichtet ist, gibt es auch andere Befehle, um Hilfsbibliotheken zu installieren. In diesem Fall funktioniert es über „pip install“. In der Regel würde man entsprechende Hilfsbibliotheken z.B. in einer Konsole installieren, und müsste sie nicht jedes Mal in einer Umgebung neu installieren."
   ]
  },
  {
   "cell_type": "markdown",
   "id": "1a12ffbb",
   "metadata": {},
   "source": [
    "Ist eine Hilfsbibliothek installiert, muss sie in ein Jupyter Notebook geladen werden, was man „importieren“ nennt. Sollte man ein Notebook zu einem späteren Zeitpunkt wieder öffnen, ist es nicht unüblich, dass der Zwischenspeicher geleert wurde. Führt man eine Zeile innerhalb des Notebooks aus, die auf <code>Folium</code> verweist, müssen alle Zeilen, die <code>Folium</code> importieren, erneut ausgeführt werden, damit es wieder „aktiv“ ist."
   ]
  },
  {
   "cell_type": "markdown",
   "id": "cc330b2d",
   "metadata": {},
   "source": [
    "👇  Klicke in die Zeile Code und führe diese aus. Damit wird Folium in dieses Notebook importiert und wir können damit arbeiten!"
   ]
  },
  {
   "cell_type": "code",
   "execution_count": null,
   "id": "10123bcf",
   "metadata": {},
   "outputs": [],
   "source": [
    "import folium"
   ]
  },
  {
   "cell_type": "markdown",
   "id": "6bed3755",
   "metadata": {},
   "source": [
    "Wir folgen weiterhin der Dokumentation und fügen den Code im Abschnitt <i>Adding Markers</i> in das Notebook ein."
   ]
  },
  {
   "cell_type": "markdown",
   "id": "4a608c73",
   "metadata": {},
   "source": [
    "👇 Unten folgt eine Zeile Code. Führe sie aus und es wird direkt eine Karte erzeugt und angezeigt! <br><b>Hinweis</b>: Sollte nichts erscheinen, stelle sicher, dass du oben die Zeilen „!pip install folium“ sowie anschließend „import folium“ ausgeführt hast.\n"
   ]
  },
  {
   "cell_type": "code",
   "execution_count": null,
   "id": "cdeec91b",
   "metadata": {
    "scrolled": true
   },
   "outputs": [],
   "source": [
    "m = folium.Map([45.35, -121.6972], zoom_start=12)\n",
    "\n",
    "folium.Marker(\n",
    "    location=[45.3288, -121.6625],\n",
    "    tooltip=\"Click me!\",\n",
    "    popup=\"Mt. Hood Meadows\",\n",
    "    icon=folium.Icon(icon=\"cloud\"),\n",
    ").add_to(m)\n",
    "\n",
    "folium.Marker(\n",
    "    location=[45.3311, -121.7113],\n",
    "    tooltip=\"Click me!\",\n",
    "    popup=\"Timberline Lodge\",\n",
    "    icon=folium.Icon(color=\"green\"),\n",
    ").add_to(m)\n",
    "\n",
    "m"
   ]
  },
  {
   "cell_type": "markdown",
   "id": "58198b28",
   "metadata": {},
   "source": [
    "<div class=\"alert alert-block alert-success\">\n",
    "🚩 Prima! Wir haben mit dem Beispielcode eine Karte erstellt! Das ging doch schneller als gedacht, oder? Aber was ist da passiert?\n",
    "</div>"
   ]
  },
  {
   "cell_type": "markdown",
   "id": "e2ec5682",
   "metadata": {},
   "source": [
    "## Den Beispielcode nachvollziehen"
   ]
  },
  {
   "cell_type": "markdown",
   "id": "1609beaf",
   "metadata": {},
   "source": [
    "Nachdem wir eine Karte erstellt haben, müssen wir diese nur noch an unsere Bedürfnisse anpassen! Dazu widmen wir uns zunächst dem oben beschriebenen Code, schauen uns an, was passiert, zerlegen ihn in einzelne Teile und setzen sie dann Stück für Stück zusammen."
   ]
  },
  {
   "cell_type": "markdown",
   "id": "12afd1dc",
   "metadata": {},
   "source": [
    "<b>Aufgabe: die Visualisierung nachvollziehen</b> <br> Nimm dir Zeit und schau dir die Karte genau an. Vergleiche das, was du siehst, mit dem geschriebenen Code. Interagiere dabei auch mit der Karte: Was passiert, wenn du auf die grüne Markierung klickst, und was, wenn du auf die Markierung mit der Wolke drückst? Wo befindet sich dieser Ort überhaupt? Kannst du vielleicht zoomen? Kannst du „übersetzen“, wie der Code mit der Karte zusammenhängt? Was bedeuten die Zahlen? Was steht in der unteren rechten Ecke der Karte?"
   ]
  },
  {
   "cell_type": "markdown",
   "id": "baa55e70",
   "metadata": {},
   "source": [
    "<details>    \n",
    "    <summary>&#x1F449; Hier klicken, um einen Lösungsvorschlag zu sehen &#x1F448;</summary>\n",
    "    Grundsätzlich gibt es vier Dinge, die passiert sind. Zunächst wird der Variable <code>m</code> mit Folium eine Karte zugewiesen, die auf einen bestimmten Ort ausgerichtet ist. Offenbar kann mit <code>Zoom</code> festgelegt werden, wie weit die Karte rein oder raus „zoomt“. \n",
    "    <br>\n",
    "    Im Anschluss wird zweimal eine Funktion <code>folium.Marker()</code> aufgerufen, in die jeweils bestimmte Merkmale ausgefüllt werden. In diesem Fall werden vier Merkmale vorgestellt: location, tooltip, popup und icon. Ähnlich wie in der ersten Zeile wird ein bestimmter Ort über zwei Zahlen festgelegt: Geodaten. Diese sind Longitude und Latitude – also die Position im Längen- und Breitengrad. Für Folium sollen die Geodaten als eine Liste <code>[ ]</code> aus zwei Zahlen <code>[1,2]</code> angegeben werden. \n",
    "    <br>\n",
    "    Mit der Endung <code>.add_to(m)</code> werden die Marker jeweils dem Objekt <code>m</code> hinzugefügt. \n",
    "    <br>\n",
    "    Zum Schluss sieht man nur ein <code>m</code> stehen, welches in Jupyter Notebook dafür sorgt, dass die Variable <code>m</code> aufgerufen wird – in diesem Fall unsere instanziierte Karte und die zwei Markierungen, die wir gesetzt und zu <code>m</code> hinzugefügt haben.\n",
    "    Wir haben also schon fast alles, was wir wollen: Wir können mit <code>folium.Map([45.35, -121.6972], zoom_start=12)</code> einen Kartenausschnitt überall auf der Welt erstellen und in etwa eingrenzen, wie viel wir sehen wollen. Außerdem können wir mit <code>folium.Marker()</code> Markierungen auf der Karte platzieren, die sich individualisieren lassen.\n",
    "</details>\n"
   ]
  },
  {
   "cell_type": "markdown",
   "id": "30d0ef87",
   "metadata": {},
   "source": [
    "<b>Aufgabe</b>: <b>Die Datengrundlage erfassen</b><br> Neben dem Code gibt es eine Reihe von Informationen, die \"zwischen dem Code\" stehen. Im obigen Beispiel sind diese für uns sichtbar. Nimm dir gerne ein Blatt Papier und schreibe dir auf, welche Informationen du für die beiden \"Marker\" sammeln kannst. Das kann auch in Form einer Tabelle geschehen. Dabei ist es natürlich auch möglich, Tabellenkalkulationsprogramme oder jegliche andere Hilfssoftware zu nutzen. Versuche dabei, so vollständig wie möglich vorzugehen und dir auch eigene Kategorien zu überlegen.\n"
   ]
  },
  {
   "cell_type": "markdown",
   "id": "820a1bc7",
   "metadata": {},
   "source": [
    "<details>\n",
    "    <summary>&#x1F449;  Hier klicken, um einen Lösungsvorschlag zu sehen &#x1F448;</summary>\n",
    "<br>Die Informationen <u>kann</u> man in Form einer Tabelle darstellen:\n",
    "    \n",
    "|Art| location (lon)| location (lat)|popup|tooltip|Icon (color)|Icon (icon)|\n",
    "| -----------| ----------- | ----------- |----------- |----------- |----------- |-----------|\n",
    "|Marker| 45.3288|-121.6625|\"Click me!\"|Mt. Hood Meadows||cloud|\n",
    "|Marker| 45.3311|-121.7113|\"Click me!\"|Timberline Lodge|green|\n",
    "\n",
    "    \n",
    "Außerdem sehen wir im Code, dass die Karte einen <code>Zoom_start</code> von <code>12</code> nutzt und die Karte an den Koordinaten [45.35, -121.6972] ausgerichtet ist. \n",
    "    \n",
    "</details>"
   ]
  },
  {
   "cell_type": "markdown",
   "id": "5bf93bbb",
   "metadata": {},
   "source": [
    "<b>Offene Aufgabe</b>:<b> Vorbetrachtung zur eigenen Karte</b><br> Überlege dir, wie wir die Daten in Anlehnung an die Hauptaufgabenstellung strukturieren können. Zur Erinnerung: Wir wollen eine interaktive Karte erstellen, die Luftverschmutzung an zwei Orten (für Präsentationszwecke) darstellt. Was benötigen wir dafür? \"Wo\" würdest du welche Informationen darstellen? Wofür könnten die Farben und Icons verwendet werden?"
   ]
  },
  {
   "cell_type": "markdown",
   "id": "a49d3906",
   "metadata": {},
   "source": [
    "## Den Code anpassen: eine einfache Karte erzeugen"
   ]
  },
  {
   "cell_type": "markdown",
   "id": "b48c1dc9",
   "metadata": {},
   "source": [
    "Für diesen Abschnitt wollen wir ein minimales Ziel festlegen: \n",
    "> Eine Karte soll erstellt werden, die auf den Leipziger Markt ausgerichtet ist und möglichst das ganze Stadtgebiet zeigt. Außerdem soll auf dem Leipziger Markt eine Markierung erzeugt werden, die \"Leipzig Markt\" anzeigt, wenn man darauf klickt.\n"
   ]
  },
  {
   "cell_type": "markdown",
   "id": "fda2bf2f",
   "metadata": {},
   "source": [
    "Um zu erfahren, wie das geht, nutze https://www.openstreetmap.org/ und folge den Anweisungen:<br>\n",
    "    <b>A</b> Finde Leipzig.<br>\n",
    "    <b>B</b> Finde den Leipziger Markt (südlich des Hauptbahnhofs im Leipziger Zentrum).<br>\n",
    "    <b>C</b> Rechtsklicke auf den blauen Schriftzug \"Leipziger Markt\" und wähle \"Adresse anzeigen\". Was bedeuten die beiden Zahlen, die nun ausgegeben werden?<br>\n",
    "    <b>D</b> Ausgehend von diesem Ort, scrolle entweder mit dem Mausrad oder mit Klicks oben rechts auf das Minus-Symbol <b>-</b> (\"verkleinern\"), bis die Karte Leipzig in der Gänze zeigt. Beobachte dabei die Adresszeile. Bemerkst du Veränderungen? Kannst du herauslesen, was die Zahlen bedeuten?<br>\n"
   ]
  },
  {
   "cell_type": "markdown",
   "id": "32787527",
   "metadata": {},
   "source": [
    "👇Unten siehst du den gleichen Code wie oben. <u>Bevor du die Zeile Code ausführst, ersetze die Koordinaten und den <code>zoom_start</code>entweder mit deinen eigenen Angaben oder denen aus der Lösung. Tu das gleiche für die Koordinaten innerhalb von <code>.Marker()</code>. Als Text für das Popup könnte \"Leipzig Markt\" stehen.</u> Führe anschließend die Zeile Code aus."
   ]
  },
  {
   "cell_type": "code",
   "execution_count": null,
   "id": "a690eb5f",
   "metadata": {
    "scrolled": true
   },
   "outputs": [],
   "source": [
    "m_leipzig = folium.Map([45.35, -121.6972], zoom_start=13) \n",
    "\n",
    "folium.Marker(\n",
    "    location=[45.3288, -121.6625],\n",
    "    tooltip=\"Click me!\",\n",
    "    popup=\"Mt. Hood Meadows\",\n",
    ").add_to(m_leipzig)\n",
    "\n",
    "m_leipzig"
   ]
  },
  {
   "cell_type": "markdown",
   "id": "1e2fd5fa",
   "metadata": {},
   "source": [
    "<div class=\"alert alert-block alert-success\">\n",
    "🚩 Prima! Wir haben eine erste Karte und einen Marker erstellt. Durch die bereits sehr ausgereiften Funktionen und die Arbeit von OpenStreetmap und Leaflet haben diese Angaben ausgereicht, um eine interaktive Karte mit den gewünschten Informationen anzuzeigen.\n",
    "</div>"
   ]
  },
  {
   "cell_type": "markdown",
   "id": "04638885",
   "metadata": {},
   "source": [
    "# Manuelles Erstellen einer Karte"
   ]
  },
  {
   "cell_type": "markdown",
   "id": "73eabddc",
   "metadata": {},
   "source": [
    "Mit dem Beispielcode haben wir die Grundlage geschaffen, eine Karte zu erzeugen, wie sie in der Aufgabenstellung gesucht wird. Jetzt geht es darum, die eigentlichen Umweltdaten in diese Karte zu integrieren. Dazu sollen Daten zunächst bezogen und anschließend manuell in den Code eingepflegt werden. Im nächsten Kapitel erfolgt dann die Erstellung einer Karte mithilfe von weiterem Code."
   ]
  },
  {
   "cell_type": "markdown",
   "id": "3ff8815c",
   "metadata": {},
   "source": [
    "<b>Wichtig: Die für dieses Notebook verwendeten Daten im CSV-Format sind bereits hochgeladen und befinden sich im selben Ordner wie dieses Notebook!</b>"
   ]
  },
  {
   "cell_type": "markdown",
   "id": "5f42206c",
   "metadata": {},
   "source": [
    "## Daten finden"
   ]
  },
  {
   "cell_type": "markdown",
   "id": "b6f72a96-41e8-4f15-8d59-687d7ef71f84",
   "metadata": {},
   "source": [
    "In den Vorüberlegungen haben wir bereits zwei mögliche Quellen identifiziert. Diese sind zum einen das \n",
    "[Umweltbundesamt](https://www.umweltbundesamt.de/daten/luft/luftdaten/stationen) \n",
    "und als lokale Quelle Leipzigs Daten aus dem [Freistaat Sachsen](https://www.umwelt.sachsen.de/umwelt/infosysteme/luftonline/recherche.aspx).\n"
   ]
  },
  {
   "cell_type": "markdown",
   "id": "a07685a7",
   "metadata": {},
   "source": [
    "Am Tag des Workshops, dem 17.04.2024, haben wir als Luftdaten den Tagesmittelwert vom 16.06.2024 für ganz Sachsen zum Schadstoff PM10 vom Umweltbundesamt bezogen. Zur bereits geladenen <code>CSV-Datei Bundesland-Messnetz_Sachsen.csv</code> gehört folgender Quellenvermerk:\n",
    "\n",
    "> Quelle: Umweltbundesamt, [https://www.umweltbundesamt.de/daten/luft/luftdaten/stationen](https://www.umweltbundesamt.de/daten/luft/luftdaten/stationen) (Abruf: 17.04.2024). Alle Uhrzeiten sind in der jeweils zum Messzeitpunkt gültigen Zeit (MEZ bzw. MESZ) angegeben.\n"
   ]
  },
  {
   "cell_type": "markdown",
   "id": "5dc7bd45",
   "metadata": {},
   "source": [
    "<b>Offene Übung</b>: Besuche einmal die Seite des Umweltbundesamts und gib die gleichen Parameter ein. Lade dir die Datei herunter und schau nach, ob du die gleichen Daten erhältst, wie unten. <i>Hinweis</i>: Die Dateien sind hier bereits hinterlegt. Du musst die Datei nicht herunter- und hier hochladen."
   ]
  },
  {
   "cell_type": "markdown",
   "id": "6a3b0a38",
   "metadata": {},
   "source": [
    "## Daten herunterladen und inspizieren\n"
   ]
  },
  {
   "cell_type": "markdown",
   "id": "4b5bf985",
   "metadata": {},
   "source": [
    "Wie bereits erwähnt, ist die entsprechende CSV-Datei mit den Daten bereits im Training hochgeladen. Du kannst diese und (falls du der oben genannten offenen Übung gefolgt bist) einmal öffnen. Das kann z.B. auf deinem lokalen PC geschehen. Da es hier nicht primär um CSV-Dateien gehen soll, haben wir die Ansicht so imitiert, als würde man die Datei mit einem Editor (o.Ä.) öffnen. Diese Darstellung (unten) ist auf die ersten drei Zeilen der Datei verkürzt. (Durch den Zeilenumbruch werden mehr Zeilen angezeigt. Es handelt sich aber nur um drei, die wir als Vorschau darstellen!)"
   ]
  },
  {
   "cell_type": "markdown",
   "id": "aa4615a6",
   "metadata": {},
   "source": [
    "<code>\n",
    "    \n",
    "\"Bundesland / Messnetz\";Stationscode;Stationsname;Stationsumgebung;\"Art der Station\";Schadstoff;\"Art der Auswertung\";Datum;Uhrzeit;Messwert;Einheit\n",
    "    \n",
    "Sachsen;DESN001;Annaberg-Buchholz;\"städtisches Gebiet\";Hintergrund;\"Feinstaub (PM₁₀)\";\"Tagesmittel (1TMW)\";14.04.2024;-;10;µg/m³\n",
    "\n",
    "Sachsen;DESN004;Bautzen;\"städtisches Gebiet\";Hintergrund;\"Feinstaub (PM₁₀)\";\"Tagesmittel (1TMW)\";14.04.2024;-;10;µg/m³\n",
    "...\n",
    "    </code>    "
   ]
  },
  {
   "cell_type": "markdown",
   "id": "fecf07a6",
   "metadata": {},
   "source": [
    "Schau dir die Struktur der Daten einmal genau an. Solltest du die Datei in der Navigation (gemeint ist der \"Explorer\" neben diesem Notebook) oder in einem Tabellenkalkulationsprogramm haben, vergleiche die Darstellung mit der Darstellung oben. Wir werden im übernächsten Abschnitt eine solche Darstellung erzeugen. Die erste Zeile (beginnend bei \"Bundesland / Messnetz\" und endend bei \"Einheit\") ist die Kopfzeile.  \n",
    "Diese Werte werden mit einem `;` getrennt. Kannst du anhand der obigen Darstellung erkennen, wie die Datenstruktur funktioniert?\n"
   ]
  },
  {
   "cell_type": "markdown",
   "id": "fe8b63f4",
   "metadata": {},
   "source": [
    "<b>Aufgabe</b>: Hinsichtlich der Daten, die wir für die Hauptaufgabenstellung benötigen: – Welche Daten sind verfügbar und welche sind möglicherweise nicht vorhanden? Welche Daten brauchen wir darüber hinaus in Bezug auf die Hilfsbibliothek Folium?"
   ]
  },
  {
   "cell_type": "markdown",
   "id": "1083fde6",
   "metadata": {},
   "source": [
    "<details>\n",
    "    <summary>&#x1F449;  Hier klicken, um einen Lösungsvorschlag zu sehen &#x1F448;</summary>\n",
    "    Folgen wir der Kopfzeile, haben wir zu folgenden Bestandteilen detaillierte Daten erhalten: <br> \n",
    "    <code>\"Bundesland / Messnetz\";Stationscode;Stationsname;Stationsumgebung;\"Art der Station\";Schadstoff;\"Art der Auswertung\";Datum;Uhrzeit;Messwert;Einheit</code>.  <br>\n",
    "    Ein erstes Problem ist, dass wir lediglich Daten für Leipzig benötigen, was die Daten auf 4 Zeilen (1x Kopfzeile und 3x Informationen zu Leipziger Stationen) reduzieren würde.  \n",
    "    <u>Es kann sinnvoll sein, die Daten ohne Bezugz zu Leipzig zu löschen.</u>  \n",
    "    Ein zweites Problem ist, dass wir zwar einen Stationscode und Stationsnamen haben, aber keine Geodaten. Wenn wir als Koordinaten z.B. <code>Leipzig Lützner Str.</code> übermitteln, wird dies nicht funktionieren.  \n",
    "    <u>Wir müssen also diese Geodaten ergänzen.</u>\n",
    "</details>\n"
   ]
  },
  {
   "cell_type": "markdown",
   "id": "77880ba9",
   "metadata": {},
   "source": [
    "## Daten anpassen"
   ]
  },
  {
   "cell_type": "markdown",
   "id": "5dd6140c",
   "metadata": {},
   "source": [
    "Nachdem wir entdeckt haben, dass wir etwas an den Daten ändern sollten, wird in diesem Teil gezeigt, wie das für das vorliegende Notebook bereits umgesetzt wurde. In diesem Abschnitt wird erläutert, wie die Daten für unsere Bedürfnisse angepasst, d.h. ergänzt bzw. gelöscht, wurden. Für kleinere Arbeiten ist das hier vorgestellte manuelle Vorgehen durchaus akzeptabel. Für größere Datenmengen gibt es jedoch andere Ansätze."
   ]
  },
  {
   "cell_type": "markdown",
   "id": "0d0efdbd",
   "metadata": {},
   "source": [
    "Um unsere Ursprungsdatei (\"Rohdaten\") zu bewahren, soll nun zunächst eine neue Datei erzeugt werden, mit der wir fortan arbeiten. Dafür haben wir für die Ausgangsdatei <code>Bundesland-Messnetz_Sachsen.csv</code> dupliziert und die Kopie in <code>sachsen1604.csv</code> umbenannt."
   ]
  },
  {
   "cell_type": "markdown",
   "id": "853def9a",
   "metadata": {},
   "source": [
    "Anschließend wurden Einträge, die nichts mit Leipzig zu tun haben, im Editor manuell markiert und aus der Datei gelöscht. Übrig blieben die Kopfzeile und drei Zeilen mit direktem Bezug zu Leipzig."
   ]
  },
  {
   "cell_type": "markdown",
   "id": "f3e9c076",
   "metadata": {},
   "source": [
    "Ergänzend wurden Geodaten hinzugefügt, damit <code>Folium</code> diese zur Weiterverarbeitung einsetzen kann. Dazu wurden drei Koordinaten herausgesucht, die sich an den Stationsnamen <code>Leipzig-Mitte</code>, <code>Leipzig-West</code>, <code>Leipzig Lützner Str.</code> orientieren und (wahrscheinlich) nicht die korrekte Position darstellen. Diese Geodaten wurden erneut via <code>OpenStreetMap</code> ermittelt. Eine Diskussion über den Zusammenhang von Luftwerten und Position der Messstation ist hier nur eingeschränkt möglich!"
   ]
  },
  {
   "cell_type": "markdown",
   "id": "0a5cb2da",
   "metadata": {},
   "source": [
    "Die entsprechenden Koordinaten wurden dann manuell ans Ende der Zeilen in die CSV-Datei <code>sachsen1604.csv</code> eingefügt. Das Ende dieser Zeilen sieht nun so aus:"
   ]
  },
  {
   "cell_type": "markdown",
   "id": "8cf88cf6",
   "metadata": {},
   "source": [
    "<code>...</code>Messwert;Einheit;Koordinaten<br>\n",
    "<code>...</code>7;µg/m³;51.3399245430177, 12.376188426395611<br>\n",
    "<code>...</code>4;µg/m³;51.33173426111588, 12.335482033453422<br>\n",
    "<code>...</code>10;µg/m³;51.345307844335196, 12.42239220746719<br>"
   ]
  },
  {
   "cell_type": "markdown",
   "id": "2d098af4",
   "metadata": {},
   "source": [
    "Wichtig ist, dass wir die Dateistruktur berücksichtigt haben: Die einzelnen Einträge werden mit `;` getrennt. Da die Geodaten mit `,` getrennt werden, entsteht hier kein Konflikt. Würden diese allerdings auch mit `;` getrennt, müsste man sich überlegen, wie man die Datenstruktur anpasst.\n"
   ]
  },
  {
   "cell_type": "markdown",
   "id": "26af6759",
   "metadata": {},
   "source": [
    "<div class=\"alert alert-block alert-success\">\n",
    "    🚩 Prima! Die Datei <code>sachsen1604.csv</code> enhält nun <b>nur Einträge mit Bezug zu Leipzig</b>, ergänz um die zugehörigen <b>Geodaten</b>. Wir behalten im Folgenden den Namen bei, auch wenn es sich nur um Einträge aus Leipzig handelt. \n",
    "</div>"
   ]
  },
  {
   "cell_type": "markdown",
   "id": "bf4f7727",
   "metadata": {},
   "source": [
    "## CSV-Dateien in Pandas in Python laden, um ein DataFrame zu erzeugen."
   ]
  },
  {
   "cell_type": "markdown",
   "id": "383b8c3e",
   "metadata": {},
   "source": [
    "Um insbesondere die datenverarbeitenden Fähigkeiten von Python freizusetzen, wird nun die CSV-Datei mit der Hilfsbibliothek <code>Pandas</code> geladen."
   ]
  },
  {
   "cell_type": "markdown",
   "id": "1d90311c",
   "metadata": {},
   "source": [
    "Wenn du die folgende Zeile Code ausführst, wird ein sogenanntes DataFrame erzeugt und werden die Inhalte in Form einer Tabelle dargestellt. Beachte hierbei, dass wir der Methode <code>pd.read_csv</code> nicht nur den Dateinamen übermitteln, sondern auch mitteilen, dass die einzelnen Werte bzw. Spalten mit <code>;</code> getrennt werden."
   ]
  },
  {
   "cell_type": "markdown",
   "id": "9d0a16d1",
   "metadata": {},
   "source": [
    "👇 Du findest unten eine Zeile Code. Führe diese aus, um die CSV-Datei zu laden und ein DataFrame zu erzeugen, welches die Daten bereits in Form einer Tabelle ausgibt."
   ]
  },
  {
   "cell_type": "code",
   "execution_count": null,
   "id": "b205e888",
   "metadata": {
    "scrolled": true
   },
   "outputs": [],
   "source": [
    "import pandas as pd\n",
    "\n",
    "df = pd.read_csv(\"sachsen1604.csv\", delimiter=\";\")\n",
    "# Datenquelle:\n",
    "# Quelle: Umweltbundesamt, https://www.umweltbundesamt.de/daten/luft/luftdaten/stationen (Abruf: 17.04.2024). Alle Uhrzeiten sind in der jeweils zum Messzeitpunkt gültigen Zeit (MEZ bzw. MESZ) angegeben\n",
    "# Bearbeitungshinweis: es handelt sich \n",
    "df"
   ]
  },
  {
   "cell_type": "markdown",
   "id": "3a40a7fc",
   "metadata": {},
   "source": [
    "<div class=\"alert alert-block alert-success\">\n",
    "    🚩 Prima! Die Datei <code>sachsen1604.csv</code> steht nun als DataFrame zur Verfügung!\n",
    "</div>"
   ]
  },
  {
   "cell_type": "markdown",
   "id": "ba15c6b4",
   "metadata": {},
   "source": [
    "## Manuell ans Ziel!"
   ]
  },
  {
   "cell_type": "markdown",
   "id": "b5f6d237",
   "metadata": {},
   "source": [
    "Prinzipiell haben wir nun alles, um die in der Hauptaufgabenstellung gewünschte Karte zu erzeugen. Tatsächlich werden wir das DataFrame aber erst ab dem übernächsten Schritt richtig benutzen. Für die nun folgenden Schritte wollen wir es lediglich als Tabelle bzw. als \"Informationsspender\" betrachten. "
   ]
  },
  {
   "cell_type": "markdown",
   "id": "daee1c03",
   "metadata": {},
   "source": [
    "**Aufgabe**: Unten findest du zwei Darstellungen. Zum einen siehst du erneut die Darstellung der Daten in Form eines DataFrames aus dem vorherigen Abschnitt, zum anderen einen mit Fragezeichen versehenen Code-Ausschnitt von Folium zur Erstellung einer Karte, wie er zu Beginn des Notebooks vorgestellt wurde.  \n",
    "Welche Informationen aus der Tabelle würdest du an welche Stelle in den Code eintragen? Wie viele `folium.Marker` werden benötigt?"
   ]
  },
  {
   "cell_type": "markdown",
   "id": "8bfaba07",
   "metadata": {},
   "source": [
    "|    | Bundesland / Messnetz   | Stationscode   | Stationsname         | Stationsumgebung      | Art der Station   | Schadstoff       | Art der Auswertung   | Datum      | Uhrzeit   |   Messwert | Einheit   | Koordinaten                           |\n",
    "|---:|:------------------------|:---------------|:---------------------|:----------------------|:------------------|:-----------------|:---------------------|:-----------|:----------|-----------:|:----------|:--------------------------------------|\n",
    "|  0 | Sachsen                 | DESN025        | Leipzig-Mitte        | städtisches Gebiet    | Verkehr           | Feinstaub (PM₁₀) | Tagesmittel (1TMW)   | 16.04.2024 | -         |          7 | µg/m³     | 51.3399245430177, 12.376188426395611  |\n",
    "|  1 | Sachsen                 | DESN059        | Leipzig-West         | vorstädtisches Gebiet | Hintergrund       | Feinstaub (PM₁₀) | Tagesmittel (1TMW)   | 16.04.2024 | -         |          4 | µg/m³     | 51.33173426111588, 12.335482033453422 |\n",
    "|  2 | Sachsen                 | DESN077        | Leipzig Lützner Str. | städtisches Gebiet    | Verkehr           | Feinstaub (PM₁₀) | Tagesmittel (1TMW)   | 16.04.2024 | -         |         10 | µg/m³     | 51.345307844335196, 12.42239220746719 |"
   ]
  },
  {
   "cell_type": "markdown",
   "id": "e144759f",
   "metadata": {},
   "source": [
    "```python\n",
    "m_leipzig = folium.Map([51.34060,12.37459], zoom_start=13)\n",
    "\n",
    "folium.Marker(\n",
    "    location=[???????, ???????],\n",
    "    tooltip=\"???????\",\n",
    "    popup=\"???????\",\n",
    ").add_to(m_leipzig)\n",
    "\n",
    "folium.Marker(\n",
    "    location=[???????, ???????],\n",
    "    tooltip=\"???????\",\n",
    "    popup=\"???????\",\n",
    ").add_to(m_leipzig)\n",
    "\n",
    "folium.Marker(\n",
    "    location=[???????, ???????],\n",
    "    tooltip=\"???????\",\n",
    "    popup=\"???????\",\n",
    ").add_to(m_leipzig)\n",
    "....\n",
    "\n",
    "m_leipzig\n",
    "    \n",
    "```"
   ]
  },
  {
   "cell_type": "markdown",
   "id": "b9448b6f",
   "metadata": {},
   "source": [
    "Im nächsten Feld gibt es einen Lösungsvorschlag. Versuche aber einmal selbst, die fehlenden Werte in die Code-Zeile einzutragen. Falls dir das nicht gelingt, kannst du einfach den Code aus dem Lösungsvorschlag unten in die Zeile Code kopieren und dann ausführen!"
   ]
  },
  {
   "cell_type": "markdown",
   "id": "7296d680",
   "metadata": {},
   "source": [
    "<details>\n",
    "    <summary>&#x1F449;  Hier klicken, um einen Lösungsvorschlag zu sehen &#x1F448;</summary>\n",
    "\n",
    "Es gibt viele Lösungsvorschläge. Der für diesen Abschnitt angeregte manuelle Lösungsansatz lautet:\n",
    "    \n",
    "    \n",
    "```python\n",
    "m_leipzig = folium.Map([51.34060,12.37459], zoom_start=13)\n",
    "\n",
    "folium.Marker(\n",
    "    location=[51.3399245430177, 12.376188426395611],\n",
    "    tooltip=\"Leipzig-Mitte\",\n",
    "    popup=\"7\",\n",
    ").add_to(m_leipzig)\n",
    "\n",
    "folium.Marker(\n",
    "    location=[51.33173426111588, 12.335482033453422],\n",
    "    tooltip=\"Leipzig-West\",\n",
    "    popup=\"4\"\n",
    ").add_to(m_leipzig)\n",
    "   \n",
    "folium.Marker(\n",
    "    location=[51.345307844335196, 12.42239220746719],\n",
    "    tooltip=\"Leipzig Lützner Str.\",\n",
    "    popup=\"10\"\n",
    ").add_to(m_leipzig)\n",
    "\n",
    "m_leipzig\n",
    "\n",
    "\n",
    "```\n",
    " </details>"
   ]
  },
  {
   "cell_type": "code",
   "execution_count": null,
   "id": "09cae0d6",
   "metadata": {},
   "outputs": [],
   "source": [
    "## Du kannst den Code aus dem Lösungsvorschlag in die nächste Zeile dieser Zeile Code einfügen und ausführen.\n"
   ]
  },
  {
   "cell_type": "markdown",
   "id": "d8ea1451",
   "metadata": {},
   "source": [
    "<div class=\"alert alert-block alert-success\">\n",
    "🚩 Prima! Wenn du mindestens den Code aus dem Lösungsvorschlag in die Zelle oberhalb kopiert und ausgeführt hast,wird eine funktionierende Karte ausgegeben worden sein, auf der der Verschmutzungsgrad angezeigt wird, wenn man auf einen Marker klickt. Das entspricht genau der Aufgabenstellung!\n",
    "</div>"
   ]
  },
  {
   "cell_type": "markdown",
   "id": "8aec02e9",
   "metadata": {},
   "source": [
    "<div class=\"alert alert-block alert-warning\">\n",
    "Die Daten auf diese Weise zu übergeben, ist legitim und führt auch zum Ziel. Allerdings wird es oft schwierig sein, Änderungen vorzunehmen, da wir jedes Mal manuell in den Code schreiben müssen. Bei den dargestellten drei Markern ist es vermutlich nicht so kompliziert, diese von Hand zu setzen. Aber was ist, wenn wir sehr viel mehr Marker setzen wollen, sagen wir 50? Das wird schnell fummelig! Wie damit und mit anderen Umständen umgegangen werden kann, wird in den folgenden Abschnitten erläutert.\n",
    "\n",
    "</div>"
   ]
  },
  {
   "cell_type": "markdown",
   "id": "277e8ec0",
   "metadata": {},
   "source": [
    "# Automatisiertes Erstellen von Karten: Potentiale von Schleifen, Bedingungen und Co."
   ]
  },
  {
   "cell_type": "markdown",
   "id": "7a4efcdc",
   "metadata": {},
   "source": [
    "Oben haben wir Daten manuell in den Code überführt. Für kleine Projekte mit einer Handvoll Informationen kann eine solche Handarbeit durchaus sinnvoll sein, da sie präzise und im Vergleich zu möglichen Automatisierungslösungen auch zeitsparend sein kann. Allerdings birgt sie die Gefahr sich zu vertippen, und damit Probleme zu erzeugen, die man identifizieren und lösen muss. <br>Um insbesondere mit größeren Datenmengen zu arbeiten, empfiehlt es sich jedoch, einen Teil zu automatisieren. Dies ist möglich, indem man grundlegende Bestandteile von Python benutzt, nämlich Schleifen, Bedingungen und Funktionen. Diese sind in Verbindung mit der Hilfsbibliothek Pandas klassische Werkzeuge in der Datenverarbeitung."
   ]
  },
  {
   "cell_type": "markdown",
   "id": "9e01f1f6",
   "metadata": {},
   "source": [
    "In diesem Kapitel gehen wir auf die drei Konzepte Schleifen, Bedingungen und Funktionen ein und zeigen, wie sie uns über das Vehikel des <code>DataFrames</code> von <code>Pandas</code> helfen, komplexere Karten zu gestalten, „zeit- sowie platzsparend“ größere Datenmengen zu verarbeiten, die Karte zu individualisieren und Vieles mehr! Doch auch beim Automatisieren muss nicht immer gleich alles funktionieren – auf mögliche Probleme und Lösungen wird im Folgenden eingegangen!"
   ]
  },
  {
   "cell_type": "markdown",
   "id": "2be0aef0",
   "metadata": {},
   "source": [
    "## Mit der For-Schleife und Iterationen größere Datenmengen verarbeiten"
   ]
  },
  {
   "cell_type": "markdown",
   "id": "10fb3f77",
   "metadata": {},
   "source": [
    "In der Karte oben haben wir einige redundante Schritte vollzogen: Nicht nur haben wir mehrere Marker erstellt, sondern auch jedes Mal alle Informationen manuell in die jeweiligen Marker eingetragen. Wie Schleifen und Iterationen hier Abhilfe schaffen können, wird im Folgenden vorgestellt."
   ]
  },
  {
   "cell_type": "markdown",
   "id": "d49868d8",
   "metadata": {},
   "source": [
    "In Python gibt es im Wesentlichen zwei Schleifen: <code>For-Schleifen</code> und <code>While-Schleifen</code>. Für dieses Notebook klammern wir die While-Schleife erst einmal aus. Wenn du mehr dazu wissen willst, gibt es am Ende ein Feld, das du ausklappen kannst!"
   ]
  },
  {
   "cell_type": "markdown",
   "id": "040770e3",
   "metadata": {},
   "source": [
    "### Die For-Schleife"
   ]
  },
  {
   "cell_type": "markdown",
   "id": "54e3b4b3-ef7a-4aa1-8ab7-5c4443869543",
   "metadata": {},
   "source": [
    "👇 Klicke in die Zeile Code und führe diese aus. Sieh dir den Output-Teil unter der Zelle Code an. Was ist passiert?"
   ]
  },
  {
   "cell_type": "code",
   "execution_count": null,
   "id": "08342caf",
   "metadata": {},
   "outputs": [],
   "source": [
    "l1 = [0,1,2,3,4]\n",
    "for number in l1:\n",
    "    print(\"Zahl:\", number)"
   ]
  },
  {
   "cell_type": "markdown",
   "id": "bbf2665e",
   "metadata": {},
   "source": [
    "**Erklärung**: Übergeben wird eine `Liste` – erkennbar an den eckigen Klammern `[ ]` , die 5 Einträge enthält, nämlich 0, 1, 2, 3 und 4. Listen sind Kernbestandteile von Python. Mit der For-Schleife wird die Liste `l1` in iterative Schritte unterteilt. Für jede Iteration wird ein Element (in diesem Fall eine Zahl) in die Variable `number` zwischengespeichert, beginnend mit dem ersten Listenplatz, hier der Zahl 0. Wir geben diesen Eintrag mit `print(\"Zahl:\", number)` aus und erhalten den Output \"Zahl: 0\" aus. Im Anschluss wird die Schleife erneut durchgeführt, dieses Mal mit der Zahl 1. Die Schleife endet, wenn alle Listenplätze abgearbeitet wurden. Die korrekte Eindrückung (Indentation) der Zeilen unter der Schleifen-Einleitung ist zu beachten, da sie Teil der Schleife sind."
   ]
  },
  {
   "cell_type": "markdown",
   "id": "c754999f-634a-4826-b27b-1248f757cef0",
   "metadata": {},
   "source": [
    "👇  Klicke in die Zeile Code und führe diese aus. Sieh dir den Output unter der Zelle Code an. Was ist passiert?"
   ]
  },
  {
   "cell_type": "code",
   "execution_count": null,
   "id": "e38fa485",
   "metadata": {},
   "outputs": [],
   "source": [
    "Obstschale= [\"Apfel\", \"Birne\", \"Kiwi\", \"Banane\", \"Orange\"]\n",
    "for Obst in Obstschale:\n",
    "    print(\"In der Schale liegt:\", Obst)"
   ]
  },
  {
   "cell_type": "markdown",
   "id": "fe0f41da",
   "metadata": {},
   "source": [
    "Während wir im ersten Beispiel `number` benutzt haben, um Zahlen aus der Liste `l1` pro Iteration als Variable festzulegen, ist es in diesem Beispiel `Obst`. Je nach Sachverhalt könnte hier auch einfach `x` stehen oder ein anderer Variablenname, der idealerweise für eine spätere Nachnutzung des Codes nachvollziehbar ist. Neben dieser Nachvollziehbarkeit sollte der Variablenname einzigartig sein, um zu vermeiden, dass eine Variable überschrieben wird."
   ]
  },
  {
   "cell_type": "markdown",
   "id": "d62261cd-6535-4722-89cd-29c1db998c5a",
   "metadata": {},
   "source": [
    "Es gibt noch weitere Anwendungsmöglichkeiten von diesen Iterationen. Diese werden im nächsten Abschnitt gezeigt."
   ]
  },
  {
   "cell_type": "markdown",
   "id": "b7217c9e",
   "metadata": {},
   "source": [
    "<details>\n",
    "    <summary>&#x1F449;  Wenn du etwas über While-Schleifen erfahren willst, klicke hier. &#x1F448;</summary>\n",
    "Auch mit einer While-Schleife (auch „While-Loop“) können Iterationen durchgeführt werden. Der Code unten würde zum gleichen Ergebnis führen wie die obige  For-Schleife.\n",
    "    \n",
    "    \n",
    "```python\n",
    "Zahl = 0\n",
    "while Zahl < 5:\n",
    "    print(\"Zahl:\", Zahl)\n",
    "    Zahl += 1\n",
    "               \n",
    "Zahl: 0\n",
    "Zahl: 1\n",
    "Zahl: 2\n",
    "Zahl: 3\n",
    "Zahl: 4\n",
    "```\n",
    "Allerdings haben wir hier keine Liste, sondern eine ganzzahlige Variable „Zahl“, die als Startwert die Zahl 0 zugewiesen bekommt und für jede Abfrage sich selbst nimmt und um eins erhöht (+= 1).\n",
    "Diese Addition geschieht so lange (while), bis die Zahl nicht mehr kleiner als 5 ist. Die Schleife endet also, wenn die Variable „Zahl“ den Wert 5 einnimmt.\n",
    "Die Anwendung der While-Schleife für solche Fälle ist nicht unbedingt sinnvoll. Vielmehr wird sie benutzt, um beispielsweise dynamische Fenster aufrechtzuerhalten. Beispielsweise kann durch den Klick auf einen Button ein interaktives Fenster geöffnet und dadurch eine solche Schleife aufgerufen werden, die sich schließt, wenn man den Button \"Beenden\" drückt. Währenddessen werden bestimmte Aktionen durchgeführt, wie zum Beispiel Musik abgespielt.\n"
   ]
  },
  {
   "cell_type": "markdown",
   "id": "80d772ab",
   "metadata": {},
   "source": [
    "<div class=\"alert alert-block alert-warning\">\n",
    "    <b>Wichtig:</b> In beiden Formen von Schleifen besteht die Gefahr, durch bestimmte Bedingungen <b>Endlosschleifen</b> zu erzeugen, die es zu verhindern gilt! Im Beispiel der While-Schleife würde die Schleife endlos arbeiten, wenn wir keine schließende Bedingung setzen, beispielsweise indem wir den Wert nicht erhöhen und damit immer eine Zahl unter 5 haben.\n",
    "</div>\n"
   ]
  },
  {
   "cell_type": "markdown",
   "id": "5a53f653",
   "metadata": {},
   "source": [
    "### Anwendung der For-Schleife auf eine Spalte des DataFrames"
   ]
  },
  {
   "cell_type": "markdown",
   "id": "d7c7fa13",
   "metadata": {},
   "source": [
    "Die Darstellung der Daten als Tabelle, die sowohl aus Spalten als auch aus Zeilen besteht, erinnert stark an eine Liste oben. Vielleicht lässt sich hier etwas kombinieren?\n"
   ]
  },
  {
   "cell_type": "markdown",
   "id": "6a483e8e",
   "metadata": {},
   "source": [
    "Zunächst schauen wir uns noch einmal die Daten an und hier insbesondere die Spalte <code>Koordinaten</code>."
   ]
  },
  {
   "cell_type": "markdown",
   "id": "a83a2c64",
   "metadata": {},
   "source": [
    "👇  Klicke in die Zeile Code und führe diese aus. Sieh dir die Darstellung der Spalte an."
   ]
  },
  {
   "cell_type": "code",
   "execution_count": null,
   "id": "43c5df00",
   "metadata": {},
   "outputs": [],
   "source": [
    "df[\"Koordinaten\"]"
   ]
  },
  {
   "cell_type": "markdown",
   "id": "f670d157",
   "metadata": {},
   "source": [
    "Du siehst einen Index (0, 1, 2) und daneben jeweils die Koordinaten. Hat das nicht bereits einen kleinen \"iterativen\" Charakter? Wir können den obigen Befehl (df[\"Koordinaten\"]) auch in Form einer For-Schleife ausdrücken und die Koordinaten ohne Index  ausgeben lassen.\n"
   ]
  },
  {
   "cell_type": "markdown",
   "id": "c123ba8a-7ceb-4caa-8510-4a3b9a598520",
   "metadata": {},
   "source": [
    "👇  Klicke hierzu in die Zeile Code und führe diese aus."
   ]
  },
  {
   "cell_type": "code",
   "execution_count": null,
   "id": "dba8d5bc",
   "metadata": {},
   "outputs": [],
   "source": [
    "for Koordinate in df[\"Koordinaten\"]:\n",
    "    print(Koordinate)"
   ]
  },
  {
   "cell_type": "markdown",
   "id": "6f1d708d",
   "metadata": {},
   "source": [
    "<div class=\"alert alert-block alert-success\">\n",
    "🚩  Prima! Wir können durch das DataFrame und die Tabelle zeilenweise iterieren! Beachte allerdings den folgenden  Zwischenschritt für Koordinaten.\n",
    "</div>\n"
   ]
  },
  {
   "cell_type": "markdown",
   "id": "053f64d7",
   "metadata": {},
   "source": [
    "### Daten für Methoden anpassen"
   ]
  },
  {
   "cell_type": "markdown",
   "id": "2b7ad17c",
   "metadata": {},
   "source": [
    "Vergleiche die Art und Weise, wie die Koordinaten `51.3399245430177, 12.376188426395611` dargestellt sind, mit der bisherigen Art und Weise, wie diese vorher eingetragen wurden: `[51.34060, 12.37459]`. Fällt dir etwas auf? Wir gehen im nächsten Abschnitt darauf ein.\n"
   ]
  },
  {
   "cell_type": "markdown",
   "id": "0e1e493c",
   "metadata": {},
   "source": [
    "Übergeben wir die Koordinaten, wie sie gerade in der Schleife erzeugt wurden, würden wir eine Fehlermeldung erhalten:"
   ]
  },
  {
   "cell_type": "markdown",
   "id": "2c49cfcb",
   "metadata": {},
   "source": [
    "><code><span style=\"color:red\">❗️ValueError</span>: Expected two (lat, lon) values for location, instead got: '51.3399245430177, 12.376188426395611'.</code>"
   ]
  },
  {
   "cell_type": "markdown",
   "id": "42004d66",
   "metadata": {},
   "source": [
    "Lies dir die Fehlermeldung genau durch und schau dir noch einmal die Koordinaten an, wie sie im Code im letzten Kapitel ausgegeben worden sind."
   ]
  },
  {
   "cell_type": "markdown",
   "id": "1645ea79",
   "metadata": {},
   "source": [
    "Koordinaten, wie sie Folium erhalten möchte, sehen vor, dass \"links\" als Zahl die Longitude und \"rechts\" als Zahl die Latitude steht. Folium toleriert dabei eine Liste `[longitude, latitude]` oder, wie in der Fehlermeldung deutlich wird, ein Tupel, das mit runden Klammern `( , )` angezeigt wird. Auch in der Dokumentation kannst du diese Anforderung nachlesen: [Anleitung Folium](https://python-visualization.github.io/folium/latest/reference.html). Nutze dazu die Suchfunktion und suche nach \"location\".\n"
   ]
  },
  {
   "cell_type": "markdown",
   "id": "de958304",
   "metadata": {},
   "source": [
    "Es kommt häufig vor, dass kleinere Anpassungen nötig sind, damit bestimmte Hilfsbibliotheken wie gewünscht funktionieren. Oft handelt es sich tatsächlich um solche kleineren Anpassungen. Gemäß der Fehlermeldung sind die Koordinaten bisher nicht im Tupel- oder Listen-Format. Aber welches Format wird erwartet?"
   ]
  },
  {
   "cell_type": "markdown",
   "id": "8ba3216a",
   "metadata": {},
   "source": [
    "👇  Klicke in die Zeile Code und führe diese aus, um dir den <code>type</code> anzeigen zu lassen."
   ]
  },
  {
   "cell_type": "code",
   "execution_count": null,
   "id": "2e846228",
   "metadata": {},
   "outputs": [],
   "source": [
    "for Eintrag in df[\"Koordinaten\"]:\n",
    "    print(type(Eintrag), Eintrag)"
   ]
  },
  {
   "cell_type": "markdown",
   "id": "45adadea",
   "metadata": {},
   "source": [
    "Mit <code>type()</code> können wir uns ausgeben lassen, welches Format hinterlegt ist. Jede Koordinate ist momentan als sogenannter String, d.h. als Zeichenfolge, die als Textdaten interpretiert wird, hinterlegt. Die eigentlichen Koordinaten liegen also nicht als kommagetrennte Einzelwerte für Längen- und Breitengrade vor, sie sind also nicht als Tupel oder Liste dargestellt). Das mag merkwürdig erscheinen, da der Ausdruckgleich aussieht."
   ]
  },
  {
   "cell_type": "markdown",
   "id": "76ab8f16",
   "metadata": {},
   "source": [
    "Eine Möglichkeit, einen <code>string</code> in eine Liste aufzuspalten, bietet die Funktion <code>.split()</code>. Mit ihr können wir ein bestimmtes Zeichen auswählen, das genutzt wird, um das, was davor steht, von dem zu trennen, was nach dem Zeichen folgt, und somit in einzelne Listeneinträge zu unterteilen. Sieh dir zunächst das Beispiel unten an:\n"
   ]
  },
  {
   "cell_type": "markdown",
   "id": "66d71648",
   "metadata": {},
   "source": [
    "👇  Klicke in die Zeile Code und führe diese aus. Es gibt einen <code>string</code> mit Zahlen, die mit Komma getrennt wurden. Der String wird mit <code>.split(\",\")</code> in eine Liste überführt."
   ]
  },
  {
   "cell_type": "code",
   "execution_count": null,
   "id": "52349443",
   "metadata": {},
   "outputs": [],
   "source": [
    "l2 = \"0,1,2,3,4\"\n",
    "l2_liste = l2.split(\",\")\n",
    "print(l2_liste)"
   ]
  },
  {
   "cell_type": "markdown",
   "id": "009de9a4",
   "metadata": {},
   "source": [
    "Wir können nun probieren, das auf jeden Eintrag der Spalte Koordinaten anzuwenden."
   ]
  },
  {
   "cell_type": "markdown",
   "id": "e83ecafe",
   "metadata": {},
   "source": [
    "👇  Klicke in die Zeile Code und führe diese aus."
   ]
  },
  {
   "cell_type": "code",
   "execution_count": null,
   "id": "e45df34e",
   "metadata": {},
   "outputs": [],
   "source": [
    "for Eintrag in df[\"Koordinaten\"]:\n",
    "    print(Eintrag.split(\",\"))"
   ]
  },
  {
   "cell_type": "markdown",
   "id": "f6977569",
   "metadata": {},
   "source": [
    "Für dieses Notebook und die Koordinatenfunktion von Folium können wir hiermit weitermachen. Dennoch: Schau dir den Output beider obigen Beispiele noch einmal genau an. Was könnte Probleme bereiten?\n"
   ]
  },
  {
   "cell_type": "markdown",
   "id": "f1752892",
   "metadata": {},
   "source": [
    "<details>\n",
    "    <summary>&#x1F449;  Hier klicken, um einen Lösungsvorschlag zu sehen &#x1F448;</summary>\n",
    "Tatsächlich werden die Koordinaten in zwei Teilen in eine Liste eingetragen, allerdings weiterhin als String hinterlegt. Es sei an dieser Stelle erwähnt, dass es notwendig sein kann, jeden Eintrag in der Liste in eine Zahl, also einen Integer oder Float, umzuwandeln. Dazu wird in einer anderen Lehreinheit mehr erklärt. <br>\n",
    "Folium kann in unserem Fall damit umgehen, wie weiter unten gezeigt wird.\n",
    " </details>\n",
    "\n",
    "    "
   ]
  },
  {
   "cell_type": "markdown",
   "id": "f5afb84c",
   "metadata": {},
   "source": [
    "<div class=\"alert alert-block alert-info\">\n",
    "Ob in Python, R oder in Tabellenkalkulationsprogrammen – Werte in kompatible Formate umzuwandeln, damit Funktionen, Methoden oder andere Funktionsweisen richtig funktionieren, ist eine Kernproblematik.\n",
    "</div>"
   ]
  },
  {
   "cell_type": "markdown",
   "id": "e793ff89",
   "metadata": {},
   "source": [
    "Um mehr über <code>.split()</code> zu erfahren, kann die [Python-Dokumentation](https://docs.python.org/3/library/stdtypes.html) mit Hilfe der Suchfunktion nach \"str.split\" durchsucht werden.\n"
   ]
  },
  {
   "cell_type": "markdown",
   "id": "d3cf75a8",
   "metadata": {},
   "source": [
    "### Durch Zeilen im Dataframe iterieren"
   ]
  },
  {
   "cell_type": "markdown",
   "id": "2e61a1b9",
   "metadata": {},
   "source": [
    "Es ist nun an der Zeit, das Konzept der For-Schleife auf unsere Daten anzuwenden. <code>Pandas</code>, die Hilfsbibliothek, mit der wir das <code>DataFrame</code> erzeugt haben, bietet zahlreiche Methoden, die das Arbeiten mit Daten erleichtern. Eine solche Methode ist <code>.iterrows()</code>. Hierbei werden zwei Variablen pro Iteration ausgegeben, wobei die erste Variable den <code>Index</code> gibt, weshalb wir sie <code>i</code> nennen, und die zweite Variable jeweils eine Zeile zurückgibt, weshalb wir sie <code>Reihe</code> (oder \"row\") nennen. Die <code>Reihe</code> müssen wir etwas spezifizieren, damit wir genau die Werte erhalten, die wir wollen. Dazu werden wir insbesondere die <code>Variable Reihe</code> je Iteration öfter nutzen und entsprechende Spaltennamen verwenden, um genau den gewünschten Wert zu erhalten. Weitere Informationen zur Funktionsweise der Methode findest du in der [Pandas .iterrows() Dokumentation](https://pandas.pydata.org/docs/reference/api/pandas.DataFrame.iterrows.html).\n"
   ]
  },
  {
   "cell_type": "markdown",
   "id": "cc0d3043",
   "metadata": {},
   "source": [
    "Um insbesondere die Spalten genau anzusteuern, benötigen wir die Namen, genau so wie sie tatsächlich hinterlegt sind."
   ]
  },
  {
   "cell_type": "markdown",
   "id": "be2db59c",
   "metadata": {},
   "source": [
    "👇Führe folgenden Code aus. Es werden alle Spaltennamen ausgegeben."
   ]
  },
  {
   "cell_type": "code",
   "execution_count": null,
   "id": "c50236e4",
   "metadata": {},
   "outputs": [],
   "source": [
    "df.columns"
   ]
  },
  {
   "cell_type": "markdown",
   "id": "9efe94d4",
   "metadata": {},
   "source": [
    "<b>Hinweis</b>: Solltest du dir einmal sehr sicher sein, dass du den Namen einer Spalte richtig eingetragen hast, versuche den Code oben und vergleiche die Ausgabe des hinterlegten Namens mit dem Namen, den du geschrieben hast!"
   ]
  },
  {
   "cell_type": "markdown",
   "id": "621a3e8c",
   "metadata": {},
   "source": [
    "Unten haben wir die richtigen Namen bereits an die entsprechenden Stellen geschrieben. Je Zeile bzw. Reihe werden die Werte entsprechend in einem Text eingebettet ausgegeben."
   ]
  },
  {
   "cell_type": "markdown",
   "id": "7ea36d1e",
   "metadata": {},
   "source": [
    "👇Führe den Code unten aus. "
   ]
  },
  {
   "cell_type": "code",
   "execution_count": null,
   "id": "1598688c",
   "metadata": {},
   "outputs": [],
   "source": [
    "for i, Reihe in df.iterrows():\n",
    "    print(\"Bei der Station\", Reihe[\"Stationsname\"], \"wurde ein Wert von\", Reihe[\"Messwert\"], Reihe[\"Einheit\"],Reihe[\"Schadstoff\"], \"gemessen.\")"
   ]
  },
  {
   "cell_type": "markdown",
   "id": "b1643400",
   "metadata": {},
   "source": [
    "### Ergebnis: Karte mit Iteration erstellen"
   ]
  },
  {
   "cell_type": "markdown",
   "id": "c757f63d",
   "metadata": {},
   "source": [
    "<b>Aufgabe:</b> Überlege noch einmal anhand der gerade gelernten Bestandteile, wie du den Code für die Karte nun schreiben könntest. Schau dir den folgenden Code-Ausschnitt an:"
   ]
  },
  {
   "cell_type": "markdown",
   "id": "db097055",
   "metadata": {},
   "source": [
    "```python\n",
    "m_leipzig = folium.Map([51.34060,12.37459], zoom_start=13)\n",
    "\n",
    "folium.Marker(\n",
    "    location=[???????, ???????],\n",
    "    tooltip=\"???????\",\n",
    "    popup=\"???????\",\n",
    "    icon=folium.Icon(??????),      # Icon ignorieren wir erstmal!\n",
    ").add_to(m_leipzig)\n",
    "\n",
    "....\n",
    "\n",
    "m_leipzig\n",
    "    \n",
    "```"
   ]
  },
  {
   "cell_type": "markdown",
   "id": "b24663c0",
   "metadata": {},
   "source": [
    "Verbringe einige Zeit damit zu überlegen, wie du den Code nun schreiben würdest. Was würde alles innerhalb einer Schleife stehen, was außerhalb? "
   ]
  },
  {
   "cell_type": "markdown",
   "id": "a66dc2f8",
   "metadata": {},
   "source": [
    "<details>\n",
    "    <summary>&#x1F449;  Hier klicken, um einen Lösungsvorschlag zu sehen &#x1F448;</summary>\n",
    "    \n",
    "```python\n",
    "leipzig = folium.Map([51.34417054753383, 12.379179885861797], zoom_start=13)\n",
    "\n",
    "for i, row in df.iterrows():\n",
    "    folium.Marker(\n",
    "        location=row[\"Koordinaten\"].split(\",\"),\n",
    "        tooltip=row[\"Messwert\"],\n",
    "        popup=row[\"Stationsname\"],\n",
    "    ).add_to(leipzig)\n",
    "leipzig\n",
    "```\n",
    " </details>"
   ]
  },
  {
   "cell_type": "markdown",
   "id": "38cdeec0",
   "metadata": {},
   "source": [
    "👇 Unten findest du eine Zeile Code. Kopiere den Code aus dem Lösungsvorschlag in die Zeile und führe sie anschließend aus!"
   ]
  },
  {
   "cell_type": "code",
   "execution_count": null,
   "id": "b04f4568",
   "metadata": {},
   "outputs": [],
   "source": [
    "## Kopiere den Code von oben hierher und führe ihn aus.\n"
   ]
  },
  {
   "cell_type": "markdown",
   "id": "7f38e19a",
   "metadata": {},
   "source": [
    "<div class=\"alert alert-block alert-success\">\n",
    "🚩 Prima! Wir haben eine erste Karte und einen Marker erstellt mit Daten, die wir aus dem Internet bezogen haben! Prinzipell haben wir die Hauptaufgabenstellung damit eleganter erfüllt und sind gewappnet für größere Datenmengen. Auch wissen wir nun, dass bestimmte Fehlermeldungen Hinweise darauf geben, dass Namensgebung nicht übereinstimmen Formattypen umgewandelt werden müssen.\n",
    "</div>"
   ]
  },
  {
   "cell_type": "markdown",
   "id": "8e9bfae3",
   "metadata": {},
   "source": [
    "## Mit Bedingungen Individualisierung erreichen, mit Funktionen Redundanzen vermeiden"
   ]
  },
  {
   "cell_type": "markdown",
   "id": "3abbbea8",
   "metadata": {},
   "source": [
    "Die bisherige Karte zeigt bereits die Verschmutzung, wenn wir auf ein Icon klicken. Für die drei Marker ist es vermutlich vertretbar, sich die drei Werte zu merken, ohne sie unmittelbar wieder zu sehen. Es ist jedoch besser, eine Darstellungsform zu finden, die einerseits die Werte sofort anzeigt und andererseits intuitiver und auf einen Blick zeigt, ob „alles in Ordnung“ ist."
   ]
  },
  {
   "cell_type": "markdown",
   "id": "46bd1bcf",
   "metadata": {},
   "source": [
    "Dazu kommen wir noch einmal auf den Teilaspekt zurück, wie die Luftverschmutzung aufgeschlüsselt wird und welche Handlungsempfehlungen damit verbunden sind, zurück. <a href=\"https://www.umweltbundesamt.de/berechnungsgrundlagen-luftqualitaetsindex\" target=\"_blank\">Die Berechnungsgrundlage des Umweltbundesamts</a> gibt übersichtlich dargestellt Aufschluss darüber. Es wird sowohl der Wertebereich als auch die dazugehörige Beurteilung und Handlungsempfehlung angegeben. Für die Visualisierung auf der Karte wollen wir hierzu insbesondere auf <code>icon=folium.Icon(color=\"green\")</code> eingehen, um die Werte für den <b>Schadstoff PM10 in μg/m³</b> farblich darzustellen.\n"
   ]
  },
  {
   "cell_type": "markdown",
   "id": "f0e4deeb",
   "metadata": {},
   "source": [
    "Aber wie ist es möglich, diese Grundlage und so viele Möglichkeiten abzudecken und dabei \"platzsparend\" zu sein? Was wir im Folgenden tun werden, ist, diese Konzepte zusammenzubringen, indem wir Bedingungen und Funktionen nutzen.\n"
   ]
  },
  {
   "cell_type": "markdown",
   "id": "5352234b",
   "metadata": {},
   "source": [
    "### Bedingungen"
   ]
  },
  {
   "cell_type": "markdown",
   "id": "ebac0901",
   "metadata": {},
   "source": [
    "Zunächst wollen wir uns anschauen, wie Bedingungen in Python geschrieben werden können. Grundsätzlich gibt es hier drei \"Vokabeln\", die für Bedingungen wichtig sind: <code>if</code>, <code>else</code> und <code>elif</code>. Sieh dir die folgenden drei Beispiele an, auch hinsichtlich der Art und Weise, wie die Bedingung gestellt wird:\n"
   ]
  },
  {
   "cell_type": "markdown",
   "id": "02692c44",
   "metadata": {},
   "source": [
    "👇  Klicke in die Zeile Code und führe diese aus."
   ]
  },
  {
   "cell_type": "code",
   "execution_count": null,
   "id": "be12f9bc",
   "metadata": {},
   "outputs": [],
   "source": [
    "number= 5\n",
    "if number <= 20:\n",
    "    print(\"Der Wert\",number,\"ist kleinergleich 20 und damit ist die Qualität der Luft als 'sehr gut' zu bewerten\")"
   ]
  },
  {
   "cell_type": "markdown",
   "id": "a737dfe6",
   "metadata": {},
   "source": [
    "Die erste Bedingung prüft, ob die Zahl in der Variable <code>number</code> kleiner oder gleich <code>20</code> ist. Wenn dies der Fall ist, wird ein entsprechender Text als Ausgabe generiert. In diesem Code wird keine Ausgabe erzeugt, wenn diese Bedingung nicht erfüllt ist."
   ]
  },
  {
   "cell_type": "markdown",
   "id": "3f193b34",
   "metadata": {},
   "source": [
    "Wenn wir <code>else</code> hinzufügen, können wir festlegen, was passiert, wenn die Bedingung **nicht** erfüllt **wird**."
   ]
  },
  {
   "cell_type": "markdown",
   "id": "1e765879",
   "metadata": {},
   "source": [
    "👇  Klicke in die Zeile Code und führe diese aus."
   ]
  },
  {
   "cell_type": "code",
   "execution_count": null,
   "id": "4ae37681",
   "metadata": {},
   "outputs": [],
   "source": [
    "number= 21\n",
    "if number <= 20:\n",
    "    print(\"Der Wert\",number,\"ist kleinergleich 20 und damit ist die Qualität der Luft als 'sehr gut' zu bewerten\")\n",
    "else:\n",
    "    print(\"Der Wert\",number,\"ist größer als 20 und damit zumindest nicht mehr 'sehr gut'.\")"
   ]
  },
  {
   "cell_type": "markdown",
   "id": "33d36507",
   "metadata": {},
   "source": [
    "Die Zahl <code>21</code> erfüllt die erste Bedingung nicht. Dies wird durch die <code>else</code>-Bedingung aufgefangen, und eine entsprechende Ausgabe wird generiert. Diese Ausgabe ist jedoch sehr allgemein gehalten. Eigentlich möchten wir für den Wert <code>21</code> die richtige Einordnung ausgeben, die als 'mäßig' bezeichnet wird. <br>Um den Luftqualitätsindex vollständig abzudecken, benötigen wir jedoch mehr Bedingungen. Das können wir mit <code>elif</code> erreichen!"
   ]
  },
  {
   "cell_type": "markdown",
   "id": "f92be081",
   "metadata": {},
   "source": [
    "👇  Klicke in die Zeile Code und führe diese aus."
   ]
  },
  {
   "cell_type": "code",
   "execution_count": null,
   "id": "489add81",
   "metadata": {},
   "outputs": [],
   "source": [
    "number= 10\n",
    "if number > 100:\n",
    "    print(\"Der Wert ist größer gleich 50. Damit ist die Qualität der Luft als 'sehr schlecht' zu bewerten\")\n",
    "elif 51 <= number <= 100: \n",
    "    print(\"schlecht\")\n",
    "elif 36 <= number <= 50: \n",
    "    print(\"mäßig\")\n",
    "elif 21 <= number <= 35: \n",
    "    print(\"gut\")\n",
    "elif 0 <= number <= 20: \n",
    "    print(\"sehr gut\")\n",
    "else:\n",
    "    print(\"Keine Zuordnung möglich\")"
   ]
  },
  {
   "cell_type": "markdown",
   "id": "798bf47d",
   "metadata": {},
   "source": [
    "Durch <code>elif</code> können wir mehr Bedingungen hinzufügen. Wir haben die Berechnungsgrundlagen des Luftqualitätsindex nachgestellt und alle Bedingungen und Bewertungen für PM10 implementiert. Prinzipiell können wir den Code in unsere Iteration einbinden und das Verhalten anpassen, wenn eine Bedingung erfüllt ist."
   ]
  },
  {
   "cell_type": "markdown",
   "id": "f9ec2232",
   "metadata": {},
   "source": [
    "### Mit Funktionen Platzsparen und Redundanzen vermeiden. "
   ]
  },
  {
   "cell_type": "markdown",
   "id": "47f6ce19",
   "metadata": {},
   "source": [
    "Wir wollen nun die Farbe des Icons verwenden, um intuitiv darzustellen, ob die Luftqualität gut oder schlecht ist. Welche Farben es gibt und wie man sie aufruft, dazu gibt die Dokumentation mehr Auskunft. Öffne dazu <a href=\"https://python-visualization.github.io/folium/latest/reference.html\" target=\"_blank\">die Dokumentation von Folium</a> und <b>suche nach folium.Icon(color)</b>."
   ]
  },
  {
   "cell_type": "markdown",
   "id": "61454b3c",
   "metadata": {},
   "source": [
    "Es werden folgende Farben gelistet: <code><br>[‘red’, ‘blue’, ‘green’, ‘purple’, ‘orange’, ‘darkred’, ’lightred’, ‘beige’, ‘darkblue’, ‘darkgreen’, ‘cadetblue’, ‘darkpurple’, ‘white’, ‘pink’, ‘lightblue’, ‘lightgreen’, ‘gray’, ‘black’, ‘lightgray’]</code>\n"
   ]
  },
  {
   "cell_type": "markdown",
   "id": "bd2848be",
   "metadata": {},
   "source": [
    "Da Gelb nicht angeboten wird, verwenden wir stattdessen Orange!"
   ]
  },
  {
   "cell_type": "markdown",
   "id": "a22551e0",
   "metadata": {},
   "source": [
    "Grundsätzlich kann dieses Bedingungskonstrukt wie oben in die zuvor genutzte Iteration eingebaut werden. Aber mindestens zwei Gründe sprechen dafür, dies in eine Funktion zu packen: Zum einen ist es, wie wir sehen werden, übersichtlicher, eine Funktion aufzurufen, als eine große Anzahl von Abfragen zu haben. Darüber hinaus bietet eine Funktion die Möglichkeit, sie in anderen Datenprojekten zu verwenden und sogar für andere zugänglich zu machen. (Warum sollte man nicht auch solche Funktionen als Hilfsbibliotheken bereitstellen?) Doch im Wesentlichen ermöglicht es, schnell und \"an einer Stelle\" Änderungen vorzunehmen, ohne diese immer für jede Karte separat übertragen zu müssen."
   ]
  },
  {
   "cell_type": "markdown",
   "id": "d82f7f43",
   "metadata": {},
   "source": [
    "Im Folgenden werden die Bedingungen von oben innerhalb einer Funktion verbaut, die Anstelle der Bewertung (wie \"gut\" oder \"schlecht\") eine entsprechende Farbe zurückgibt. Tatsächlich gibt es viell mehr zu Funktionen zu sagen und es könnten tatsächlich beide Werte ausgegeben werden. Für diesen Teil soll es beispielhaft geschehen, um ein Gefühl dafür zu bekommen, wann sie in diesem Kontext sinnvoll sein können!"
   ]
  },
  {
   "cell_type": "markdown",
   "id": "0a869b18",
   "metadata": {},
   "source": [
    "Funktionen folgen, wie unten dargestellt, einem bestimmten Schema, um zu funktionieren. Das Hauptmerkmal ist das Schlüsselwort <code>def</code> zu Beginn, gefolgt vom gewünschten Namen der Funktion. Innerhalb der Klammern werden mögliche Parameter definiert, die verarbeitet werden sollen. Anschließend werden bestimmte Operationen durchgeführt, und die Funktion kann ein Ergebnis zurückgeben. Im Beispiel unten wird eine Zahl durch einen Bedingungsbaum verarbeitet. Die Funktion wurde so gestaltet, dass nach der Prüfung der Zahl eine bestimmte Farbe zurückgegeben wird. Haben wir also den Luftverschmutzungswert von 36, gibt die Funktion <code>color_pm10(35)</code> <code>'orange'</code> aus."
   ]
  },
  {
   "cell_type": "markdown",
   "id": "054ff1c0",
   "metadata": {},
   "source": [
    "👇Klicke in die Zeile Code und führe diesen aus."
   ]
  },
  {
   "cell_type": "code",
   "execution_count": null,
   "id": "d48107f0",
   "metadata": {},
   "outputs": [],
   "source": [
    "def color_pm10(number):\n",
    "    number=float(number)\n",
    "    if number > 100:\n",
    "        return(\"darkred\")\n",
    "    elif 51 <= number <= 100: \n",
    "        return(\"lightred\")\n",
    "    elif 36 <= number <= 50: \n",
    "        return(\"orange\")\n",
    "    elif 21 <= number <= 35: \n",
    "        return(\"lightgreen\")\n",
    "    elif 0 <= number <= 20: \n",
    "        return(\"lightblue\")\n",
    "    else:\n",
    "        return(\"lightgray\")"
   ]
  },
  {
   "cell_type": "markdown",
   "id": "2ca04a73",
   "metadata": {},
   "source": [
    "Das Ausführen der obigen Zeile wird keinen Output generieren. Wir können aber jetzt mit <code>color_pm10()</code> die entsprechende Funktion nutzen!"
   ]
  },
  {
   "cell_type": "markdown",
   "id": "9885510f",
   "metadata": {},
   "source": [
    "Es ist hier im Grunde alles möglich. Auch eine konkrete Handlungsempfehlung könnte ausgegeben werden: <code>lungesafe_pm10(100)</code> würde <code>\"Du solltest zu Hause bleiben!\"</code> zurückgeben. Für die Individualisierung der Karte bleiben wir jedoch bei den Farben!"
   ]
  },
  {
   "cell_type": "markdown",
   "id": "e30a98f5",
   "metadata": {},
   "source": [
    "👇 Klicke auf die Zeile Code und führe sie aus. Wir nutzen zum ersten Mal die \"eigene\" Funktion. Ändere nach Belieben den Wert der <code>Variable verschmutzung</code>."
   ]
  },
  {
   "cell_type": "code",
   "execution_count": null,
   "id": "a7977e03",
   "metadata": {},
   "outputs": [],
   "source": [
    "verschmutzung=55\n",
    "color= color_pm10(verschmutzung)\n",
    "print(color)"
   ]
  },
  {
   "cell_type": "markdown",
   "id": "83a6252b",
   "metadata": {},
   "source": [
    "Du kannst oben ein bisschen mit dem Output spielen. Wir haben bisher keine Maßnahme ergriffen, Text zu verarbeiten. Was passiert dann?"
   ]
  },
  {
   "cell_type": "markdown",
   "id": "d3008729",
   "metadata": {},
   "source": [
    "Wie sehen die Ergebnisse der Funktion mit den Werten aus der eigentlichen Tabelle aus? Wie viel Potential unserer Funktion wurde hier genutzt?"
   ]
  },
  {
   "cell_type": "markdown",
   "id": "0eba73cd",
   "metadata": {},
   "source": [
    "👇  Klicke in die Zeile Code und führe diese aus. "
   ]
  },
  {
   "cell_type": "code",
   "execution_count": null,
   "id": "f9c4c787",
   "metadata": {},
   "outputs": [],
   "source": [
    "for value in df[\"Messwert\"]:\n",
    "    farbe=color_pm10(value)\n",
    "    print(\"Dem Wert\", value,\"wird die Farbe\", farbe, \"zugewiesen.\")"
   ]
  },
  {
   "cell_type": "markdown",
   "id": "446e0db8",
   "metadata": {},
   "source": [
    "### Ergebnis"
   ]
  },
  {
   "cell_type": "markdown",
   "id": "65e3026e",
   "metadata": {},
   "source": [
    "Die Werte liegen im Bereich kleiner oder gleich 10 und sind damit eigentlich immer mit der gleichen Farbe versehen. Für die Gesundheitsempfehlung in den Gebieten ist das sicherlich gut, aber für das Potenzial unserer Funktion ein bisschen schade."
   ]
  },
  {
   "cell_type": "markdown",
   "id": "59251714",
   "metadata": {},
   "source": [
    "Damit nicht nur \"lightblue\" auf der Karte erzeugt wird, wurden \"Fake\"-Wetterstationen erfunden, um zu zeigen, was die geschriebene Funktion in diesem Zusammenhang leisten kann."
   ]
  },
  {
   "cell_type": "markdown",
   "id": "8cd72d22",
   "metadata": {},
   "source": [
    "👇  Klicke in die Zeile Code und führe diese aus. Wir laden hier einige zusätzliche Daten, die allerdings erfunden sind."
   ]
  },
  {
   "cell_type": "code",
   "execution_count": null,
   "id": "f16e014d",
   "metadata": {},
   "outputs": [],
   "source": [
    "erfunden_df= pd.read_csv(\"sachsen1604_erfunden.csv\", delimiter=\";\")"
   ]
  },
  {
   "cell_type": "markdown",
   "id": "a030850e",
   "metadata": {},
   "source": [
    "Für dieses Finale geben wir das Ergebnis bereits vor. Dazu wurden zwei Schleifen erstellt: eine für die tatsächlichen Daten und eine für die erfundenen Daten. Führe den Code aus und sieh dir an, was entstanden ist."
   ]
  },
  {
   "cell_type": "markdown",
   "id": "dcfa7e2c",
   "metadata": {},
   "source": [
    "👇  Klicke in die Zeile Code und führe diese aus."
   ]
  },
  {
   "cell_type": "code",
   "execution_count": null,
   "id": "1e1aa592",
   "metadata": {
    "scrolled": true
   },
   "outputs": [],
   "source": [
    "leipzig = folium.Map([51.34417054753383, 12.379179885861797], zoom_start=13)\n",
    "\n",
    "# Bisherige Wetterstationen\n",
    "for i, row in df.iterrows():\n",
    "    folium.Marker(\n",
    "        location=row[\"Koordinaten\"].split(\",\"),\n",
    "        tooltip=row[\"Messwert\"],\n",
    "        popup=row[\"Stationsname\"],\n",
    "        icon=folium.Icon(color=color_pm10(row[\"Messwert\"])),\n",
    "    ).add_to(leipzig)\n",
    "\n",
    "#gefakete Wetterstationen\n",
    "for i, row in erfunden_df.iterrows():\n",
    "    folium.Marker(\n",
    "        location=row[\"Koordinaten\"].split(\",\"),\n",
    "        tooltip=row[\"Messwert\"],\n",
    "        popup=row[\"Stationsname\"],\n",
    "        icon=folium.Icon(icon=\"cloud\", color=color_pm10(row[\"Messwert\"])),\n",
    "    ).add_to(leipzig)\n",
    "\n",
    "leipzig"
   ]
  },
  {
   "cell_type": "markdown",
   "id": "61d729df",
   "metadata": {},
   "source": [
    "<div class=\"alert alert-block alert-success\">\n",
    "🚩 Prima! Für dieses Notebook wurde die letzte Karte erstellt. Kannst du sehen, wie die Bestandteile zusammenspielen und welches Potenzial jeder von ihnen hat, um größere Datenmengen zu verarbeiten?\n",
    "</div>"
   ]
  },
  {
   "cell_type": "markdown",
   "id": "f3fff7c4",
   "metadata": {},
   "source": [
    "# Ausblick"
   ]
  },
  {
   "cell_type": "markdown",
   "id": "c81100df",
   "metadata": {},
   "source": [
    "In diesem Notebook hast du am Beispiel der Erstellung einer Karte zur Luftverschmutzung erfahren, wie du mit Daten und entsprechenden Hilfsbibliotheken arbeiten kannst. Neben der Beschaffung und Anpassung von Daten wurde auch die Arbeit mit Bedingungen und Funktionen im Zusammenhang mit der Datenverarbeitung vorgestellt. Zusätzlich zu diesen technischen Aspekten hast du gesehen, wie auch inhaltliche Aspekte eingebunden werden können, so wurde beispielsweise die Verschmutzungsskala in den Code integriert, um Markierungen auf der Karte einzufärben. Hier könnte alternativ auch direkt eine Handlungsanweisung ausgegeben werden (beispielsweise bei einem Wert über 50 die Wohnung nicht zu verlassen)."
   ]
  },
  {
   "cell_type": "markdown",
   "id": "e422e6ad",
   "metadata": {},
   "source": [
    "Natürlich ist im Zusammenhang mit allen hier beschriebenen Schritten noch weit mehr möglich, und die Anforderungen variieren je nach Projekt bzw. Fragestellung. Ein vertiefender Blick in die Dokumentation von Folium zeigt, dass hiermit eine Vielzahl unterschiedlicher Karten erstellt werden kann. Es gibt auch einige Plug-ins für Content-Management-Systeme, mit denen Karten ohne den oben beschriebenen Code erzeugt werden können, oder gänzlich andere Anbieter. Selbstverständlich gibt es neben Karten auch völlig andere Visualisierungsmöglichkeiten der verwendeten Daten."
   ]
  },
  {
   "cell_type": "markdown",
   "id": "34f45178",
   "metadata": {},
   "source": [
    "Bei jeder Art von Karte, die dir begegnet oder die du aktiv, beispielsweise über eine App, nutzt, kannst du dir überlegen, wie sie erstellt wurde und wie möglicherweise die Ursprungsdaten aussehen (und woher diese stammen). Hinsichtlich des im diesem Notebook verwendeten Hintergrunds der Luftverschmutzung empfiehlt es sich, wie eingangs erwähnt, die Sektionen auf der Seite zur Luftqualität des [Umweltbundesamt Luftqualität](https://www.umweltbundesamt.de/themen/luft/luftqualitaet#luftdaten)  zu betrachten."
   ]
  },
  {
   "cell_type": "markdown",
   "id": "30ec7def",
   "metadata": {},
   "source": [
    "Falls du gerne Feedback geben möchtest, freuen wir uns, wenn du diesen Feedbackbogen (https://forms.office.com/e/A70FnwY8vU) ausfüllst. Vielen Dank!"
   ]
  }
 ],
 "metadata": {
  "kernelspec": {
   "display_name": "Python 3 (ipykernel)",
   "language": "python",
   "name": "python3"
  },
  "language_info": {
   "codemirror_mode": {
    "name": "ipython",
    "version": 3
   },
   "file_extension": ".py",
   "mimetype": "text/x-python",
   "name": "python",
   "nbconvert_exporter": "python",
   "pygments_lexer": "ipython3",
   "version": "3.11.9"
  },
  "toc": {
   "base_numbering": 1,
   "nav_menu": {},
   "number_sections": true,
   "sideBar": true,
   "skip_h1_title": false,
   "title_cell": "Table of Contents",
   "title_sidebar": "Contents",
   "toc_cell": false,
   "toc_position": {
    "height": "calc(100% - 180px)",
    "left": "10px",
    "top": "150px",
    "width": "165px"
   },
   "toc_section_display": true,
   "toc_window_display": false
  }
 },
 "nbformat": 4,
 "nbformat_minor": 5
}
