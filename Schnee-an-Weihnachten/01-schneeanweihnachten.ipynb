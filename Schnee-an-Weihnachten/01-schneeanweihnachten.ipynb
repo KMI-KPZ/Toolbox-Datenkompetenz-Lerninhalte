{
 "cells": [
  {
   "cell_type": "markdown",
   "id": "5a190723",
   "metadata": {},
   "source": [
    "# Training Schnee an Weihnachten Teil 1"
   ]
  },
  {
   "cell_type": "markdown",
   "id": "f6409a72",
   "metadata": {},
   "source": [
    "\n",
    "\n",
    "<table><tr>\n",
    "<td>\n",
    "<p xmlns:cc=\"http://creativecommons.org/ns#\" xmlns:dct=\"http://purl.org/dc/terms/\"><span property=\"dct:title\">Training Schnee an Weihnachten Teil 1</span> by <span property=\"cc:attributionName\">Martin Lechner</span> is licensed under <a href=\"http://creativecommons.org/licenses/by/4.0/?ref=chooser-v1\" target=\"_blank\" rel=\"license noopener noreferrer\" style=\"display:inline-block;\">CC BY 4.0</a></p>\n",
    "</td> \n",
    "<td> <img src=\"https://mirrors.creativecommons.org/presskit/icons/cc.svg?ref=chooser-v1\"/ width=\"20\"; height=\"20\"> </td>\n",
    "<td> <img src=\"https://mirrors.creativecommons.org/presskit/icons/by.svg?ref=chooser-v1\"/ width=\"20\"; height=\"20\"> </td>\n",
    "</tr></table>"
   ]
  },
  {
   "cell_type": "markdown",
   "id": "808f9710",
   "metadata": {},
   "source": [
    "Willkommen zum Begleitnotebook der Veranstaltung <i>Coding Workshop – Data Exploration mit der Toolbox Datenkompetenz: „Früher lag mehr Schnee an Weihnachten?!“</i>, welches vom Forschungsteam der Toolbox Datenkompetenz (InfAI e.V., Leipzig) anlässlich des Markts der digitalen Möglichkeiten im Rahmen des Digitalgipfels 2023 am 21.11.2023 in Jena vorgetragen und hier aufbereitet bereitgestellt wird.<br>Das Notebook richtet sich primär zur Vor- und Nachbereitung der Teilnehmenden, als auch an alle Interessierten, die sehen möchten, wie einfache Fragestellungen mit Python bearbeitet werden können. <br>\n"
   ]
  },
  {
   "cell_type": "markdown",
   "id": "cede6b7c",
   "metadata": {},
   "source": [
    "Auch wenn du in diesem Notebook \"nur Zeilen Code ausführst\" wirst, wird bereits mit realen Hilfsmitteln gearbeitet. Es wird noch einen ausführlicheren Kurs rund um den Mythos \"Schnee an Weihnachten\" und entsprechende Datenverarbeitungsansätze und -übungen geben. Wundere dich also nicht, wenn einige Fragen offen bleiben. Ein bisschen ist es auch gewollt."
   ]
  },
  {
   "cell_type": "markdown",
   "id": "ee631e1d",
   "metadata": {},
   "source": [
    "> Fragestellung: <b>An wie vielen der letzten 100 Jahre hat es an einem bestimmten Ort geschneit?</b>\n"
   ]
  },
  {
   "cell_type": "markdown",
   "id": "fd493347",
   "metadata": {},
   "source": [
    "<u>Wir werden...</u>\n",
    "1. der oben genannten Fragestellung nachgehen</b>\n",
    "1. eine Datenquelle für historische Klimadaten ansehen ([Meteostat](https://meteostat.net/de/))\n",
    "1. mit Hilfe der bereitgestellten Infrastruktur einen Beispielcode für eine Datenabfrage durchführen\n",
    "1. dank des Beispielcodes zum ersten Mal Daten erhalten\n",
    "1. den Beispielcode an unsere Bedürfnisse anpassen (Zeitraum und Geodaten) und damit Daten unserer Wahl erhalten 🔖\n",
    "1. die erhaltenen Daten inspizieren und für unsere Fragestellungen einfache Selektionen vornehmen\n",
    "1. ein erstes Ergebnis erhalten\n",
    "1. auf Grundlage des ersten Ergebnisses zu weiteren Fragestellungen anregen"
   ]
  },
  {
   "cell_type": "markdown",
   "id": "449e88d8",
   "metadata": {},
   "source": [
    "<u>Wie wird in diesem Jupyter Notebook gearbeitet?</u><br>\n",
    "Das Jupyter Notebook soll Stück für Stück durchgearbeitet werden. Hierzu wird sukzessive der Text gelesen und Code ausgeführt werden, der einigen Textabschnitten folgt. Das Notebook ist so aufgebaut, dass auch ohne Vorwissen rein durch das Ausführen des Codes ein einheitliches Ergebnis gezeigt wird. Der Mehrwert erhöht sich. je mehr Raum den einzelnen Schritten geben wird: sowohl, um nachzuvollziehen, was gerade passiert, als auch, was für (Teil-)Ergebnisse zu sehen sind. <br>\n",
    "<br>\n",
    "Das vorliegende Notebook wird zu einem anderen Zeitpunkt in einen ausführlichen Kurs eingebettet. Es kann hier daher nicht allen Aspekten gleichmaßen nachgekommen werden.\n",
    "<br>\n",
    "<br>\n",
    "Nachdem das Notebook einmalig durchgearbeitet wurde, können ab dem Abschnitt \"Datenanfrage anpassen🔖\" eigene Geodaten angewendet werden. \n"
   ]
  },
  {
   "cell_type": "markdown",
   "id": "6abf1fd1",
   "metadata": {},
   "source": [
    "Die Code-Zeilen für dieses Notebook sind bereits von uns beschrieben. Diese Zeilen müssen in der Reihenfolge ihres Erscheinens ausgeführt werden. <b>Klicke dazu zunächst in die entsprechende Zeile Code</b>. Anschließend <b>drücke auf der Tastatur \"Shift+Enter\" gleichzeitig</b>. Alternativ kann mit dem Cursor die untere rechte Ecke der Zeile Code navigiert werden und mit dem Textsymbol <b>run code: Ctrl + Enter</b> die Zeile ausgeführt werden."
   ]
  },
  {
   "cell_type": "markdown",
   "id": "884ca131",
   "metadata": {},
   "source": [
    "👇 Unterhalb ist eine Zeile Code, die lediglichen einen Text ausgeben wird. Führe sie wie beschrieben aus!"
   ]
  },
  {
   "cell_type": "code",
   "execution_count": 1,
   "id": "ddd79a40",
   "metadata": {},
   "outputs": [
    {
     "name": "stdout",
     "output_type": "stream",
     "text": [
      "Meine erste Zeile Code und Output!\n"
     ]
    }
   ],
   "source": [
    "print(\"Meine erste Zeile Code und Output!\")"
   ]
  },
  {
   "cell_type": "markdown",
   "id": "78a2cd0f",
   "metadata": {},
   "source": [
    "☝️ <br> Nach dem Ausführen sehen wir:<br> \n",
    "- unterhalb der Zeile erscheint der Output: ```Meine erste Zeile Code und Output!```<br>\n",
    "- links neben der Zeile ein Wandel von ```In [ ]```(nicht ausgeführt) zu ```In [1]```.<br>\n",
    "\n",
    "<br> \n",
    "Die Ziffer in der eckigen Klammer zeigt die Anzahl der bisher aufgeführten Zeilen Code. Prinzipiell kann eine Zeile mehrmals durchgeführt werden, allerdings sollten die Zeilen stets in der Reihenfolge des Erscheinens einmalig ausgeführt werden, um Folgefehler zu vermeiden (und Fehlermeldungen zu Umgehen). Es wird mit dem Zeigende-Hand-Emoji darauf hingewiesen."
   ]
  },
  {
   "cell_type": "markdown",
   "id": "7548fe15",
   "metadata": {},
   "source": [
    "<div class=\"alert alert-block alert-success\">\n",
    "🚩 Prima. Wir stellen jetzt direkt die Datenquelle vor und arbeiten mit Code!\n",
    "</div>"
   ]
  },
  {
   "cell_type": "markdown",
   "id": "460b26a4",
   "metadata": {},
   "source": [
    "# Datenquellen erkunden und Daten erhalten"
   ]
  },
  {
   "cell_type": "markdown",
   "id": "5bf11d18",
   "metadata": {},
   "source": [
    "<b> Meteostat (Datenquelle erkunden)</b>"
   ]
  },
  {
   "cell_type": "markdown",
   "id": "f8282cc9",
   "metadata": {},
   "source": [
    "Wir arbeiten in diesem Notebook mit historischen Klimadaten, die von [Meteostat](https://meteostat.net/de/) bezogen werden. Hervorzuheben ist hier die Mühe, die Daten zu sammeln,  eine Infrastruktur einzurichten und diese für alle offen bereitzustellen. Hinsichtlich unserer klimarelevanten Fragestellung können wir also unmittelbar verlässliche historische Daten erhalten und nutzen. So läuft Open Data! "
   ]
  },
  {
   "cell_type": "markdown",
   "id": "177634da",
   "metadata": {},
   "source": [
    "Als wäre das noch nicht alles, bietet Meteostat auch eine Entwicklungsumgebung für Python. Und Python benutzen wir gerade. Die  [entsprechende Dokumentation von Meteostat](https://dev.meteostat.net/) ist sehr gut erklärt. Es gibt sogar eine eigene `Library \"Meteostat\"`, die wir nutzen können. Die Dokumetation gibt uns darüber Aufschluss, wie wir mit Meteostat \"reden\" müssen, um an die gewünschten Ergebnisse zu kommen. Auch Aussagen über Datenqualität etc. sind enthalten.  Für weitergehende Fragen macht es immer Sinn - egal ob es sich um Meteostat oder andere Bibliotheken handelt - die Dokumentation zu konsultieren. Dafür ist sie da. <br>Im Nachfolgenden orientieren wir uns an dem von Meteostat bereitgestellten Beispielcode."
   ]
  },
  {
   "cell_type": "markdown",
   "id": "a9bb8f2c",
   "metadata": {},
   "source": [
    "## Beispieldaten mit dem Beispielcode erhalten\n"
   ]
  },
  {
   "cell_type": "markdown",
   "id": "a388a1bf",
   "metadata": {},
   "source": [
    "Im nachfolgenden installieren wir `Meteostat`, importieren es (gemeinsam mit anderen Libraries) in unser Jupyter Notebook und führen einen Beispielcode aus. Funktioniert alles? "
   ]
  },
  {
   "cell_type": "markdown",
   "id": "2d7cba46",
   "metadata": {},
   "source": [
    "👇 Klicke in die Zeile Code und führe diese aus. Meteostat wird daraufhin installiert, sofern es nicht bereits installiert ist. Nach dem Ausführen der Zeile Code kann fortgefahren werden"
   ]
  },
  {
   "cell_type": "code",
   "execution_count": 2,
   "id": "346e8b8d",
   "metadata": {},
   "outputs": [
    {
     "name": "stdout",
     "output_type": "stream",
     "text": [
      "Collecting meteostat\n",
      "  Downloading meteostat-1.6.7-py3-none-any.whl.metadata (4.6 kB)\n",
      "Requirement already satisfied: pandas>=1.1 in /home/jovyan/.virtualenvs/training_env/lib/python3.8/site-packages (from meteostat) (2.0.3)\n",
      "Requirement already satisfied: pytz in /home/jovyan/.virtualenvs/training_env/lib/python3.8/site-packages (from meteostat) (2023.3.post1)\n",
      "Requirement already satisfied: numpy in /home/jovyan/.virtualenvs/training_env/lib/python3.8/site-packages (from meteostat) (1.23.5)\n",
      "Requirement already satisfied: python-dateutil>=2.8.2 in /home/jovyan/.virtualenvs/training_env/lib/python3.8/site-packages (from pandas>=1.1->meteostat) (2.8.2)\n",
      "Requirement already satisfied: tzdata>=2022.1 in /home/jovyan/.virtualenvs/training_env/lib/python3.8/site-packages (from pandas>=1.1->meteostat) (2023.4)\n",
      "Requirement already satisfied: six>=1.5 in /home/jovyan/.virtualenvs/training_env/lib/python3.8/site-packages (from python-dateutil>=2.8.2->pandas>=1.1->meteostat) (1.16.0)\n",
      "Downloading meteostat-1.6.7-py3-none-any.whl (31 kB)\n",
      "Installing collected packages: meteostat\n",
      "Successfully installed meteostat-1.6.7\n",
      "\n",
      "\u001b[1m[\u001b[0m\u001b[34;49mnotice\u001b[0m\u001b[1;39;49m]\u001b[0m\u001b[39;49m A new release of pip is available: \u001b[0m\u001b[31;49m23.3.1\u001b[0m\u001b[39;49m -> \u001b[0m\u001b[32;49m24.0\u001b[0m\n",
      "\u001b[1m[\u001b[0m\u001b[34;49mnotice\u001b[0m\u001b[1;39;49m]\u001b[0m\u001b[39;49m To update, run: \u001b[0m\u001b[32;49mpip install --upgrade pip\u001b[0m\n"
     ]
    }
   ],
   "source": [
    " !pip install meteostat"
   ]
  },
  {
   "cell_type": "markdown",
   "id": "fcf754ca",
   "metadata": {},
   "source": [
    "Die [Dokumentation](https://dev.meteostat.net/python/#installation) gibt uns einen Code vor, mit dem für einen bestimmten Ort in einer bestimmten Zeitspanne Daten abgefragt werden können. Wir kopieren diesen Code und schauen, was passiert, wenn wir diesen ausführen.\n",
    "<br>👇 Klicke in diesen großen Codeblock und führe ihn aus."
   ]
  },
  {
   "cell_type": "code",
   "execution_count": 3,
   "id": "dcfb64a2",
   "metadata": {},
   "outputs": [
    {
     "data": {
      "image/png": "[encoded data removed]",
      "text/plain": [
       "<Figure size 640x480 with 1 Axes>"
      ]
     },
     "metadata": {},
     "output_type": "display_data"
    }
   ],
   "source": [
    "# Import Meteostat library and dependencies\n",
    "from datetime import datetime\n",
    "import matplotlib.pyplot as plt\n",
    "from meteostat import Point, Daily\n",
    "\n",
    "# Set time period\n",
    "start = datetime(2018, 1, 1)\n",
    "end = datetime(2018, 12, 31)\n",
    "\n",
    "# Create Point for Vancouver, BC\n",
    "vancouver = Point(49.2497, -123.1193, 70)\n",
    "\n",
    "# Get daily data for 2018\n",
    "data = Daily(vancouver, start, end)\n",
    "data = data.fetch()\n",
    "\n",
    "# Plot line chart including average, minimum and maximum temperature\n",
    "data.plot(y=['tavg', 'tmin', 'tmax'])\n",
    "plt.show()"
   ]
  },
  {
   "cell_type": "markdown",
   "id": "fa3f8fff",
   "metadata": {},
   "source": [
    "Es wird ein Diagramm bzw. \"Plot\" dargestellt, wie in der Dokumentation angezeigt. Die Visualisierung beruht auf bereits bestehenden bzw. gerade abgefragten Daten. Wir wollen nun einen Blick in diese Daten werfen. <br>👇  Klicke dazu in die Zeile Code und führe diese aus. "
   ]
  },
  {
   "cell_type": "code",
   "execution_count": 4,
   "id": "96ee92a0",
   "metadata": {},
   "outputs": [
    {
     "data": {
      "text/html": [
       "<div>\n",
       "<style scoped>\n",
       "    .dataframe tbody tr th:only-of-type {\n",
       "        vertical-align: middle;\n",
       "    }\n",
       "\n",
       "    .dataframe tbody tr th {\n",
       "        vertical-align: top;\n",
       "    }\n",
       "\n",
       "    .dataframe thead th {\n",
       "        text-align: right;\n",
       "    }\n",
       "</style>\n",
       "<table border=\"1\" class=\"dataframe\">\n",
       "  <thead>\n",
       "    <tr style=\"text-align: right;\">\n",
       "      <th></th>\n",
       "      <th>tavg</th>\n",
       "      <th>tmin</th>\n",
       "      <th>tmax</th>\n",
       "      <th>prcp</th>\n",
       "      <th>snow</th>\n",
       "      <th>wdir</th>\n",
       "      <th>wspd</th>\n",
       "      <th>wpgt</th>\n",
       "      <th>pres</th>\n",
       "      <th>tsun</th>\n",
       "    </tr>\n",
       "    <tr>\n",
       "      <th>time</th>\n",
       "      <th></th>\n",
       "      <th></th>\n",
       "      <th></th>\n",
       "      <th></th>\n",
       "      <th></th>\n",
       "      <th></th>\n",
       "      <th></th>\n",
       "      <th></th>\n",
       "      <th></th>\n",
       "      <th></th>\n",
       "    </tr>\n",
       "  </thead>\n",
       "  <tbody>\n",
       "    <tr>\n",
       "      <th>2018-01-01</th>\n",
       "      <td>1.8</td>\n",
       "      <td>-0.4</td>\n",
       "      <td>4.0</td>\n",
       "      <td>0.0</td>\n",
       "      <td>0.0</td>\n",
       "      <td>NaN</td>\n",
       "      <td>8.7</td>\n",
       "      <td>0.0</td>\n",
       "      <td>1030.7</td>\n",
       "      <td>NaN</td>\n",
       "    </tr>\n",
       "    <tr>\n",
       "      <th>2018-01-02</th>\n",
       "      <td>1.8</td>\n",
       "      <td>-0.4</td>\n",
       "      <td>3.9</td>\n",
       "      <td>0.0</td>\n",
       "      <td>0.0</td>\n",
       "      <td>NaN</td>\n",
       "      <td>7.1</td>\n",
       "      <td>0.0</td>\n",
       "      <td>1028.5</td>\n",
       "      <td>NaN</td>\n",
       "    </tr>\n",
       "    <tr>\n",
       "      <th>2018-01-03</th>\n",
       "      <td>2.3</td>\n",
       "      <td>1.2</td>\n",
       "      <td>3.4</td>\n",
       "      <td>0.0</td>\n",
       "      <td>NaN</td>\n",
       "      <td>NaN</td>\n",
       "      <td>6.8</td>\n",
       "      <td>0.0</td>\n",
       "      <td>1022.5</td>\n",
       "      <td>NaN</td>\n",
       "    </tr>\n",
       "    <tr>\n",
       "      <th>2018-01-04</th>\n",
       "      <td>4.1</td>\n",
       "      <td>1.6</td>\n",
       "      <td>6.6</td>\n",
       "      <td>0.0</td>\n",
       "      <td>0.0</td>\n",
       "      <td>NaN</td>\n",
       "      <td>6.1</td>\n",
       "      <td>0.0</td>\n",
       "      <td>1016.7</td>\n",
       "      <td>NaN</td>\n",
       "    </tr>\n",
       "    <tr>\n",
       "      <th>2018-01-05</th>\n",
       "      <td>7.6</td>\n",
       "      <td>5.7</td>\n",
       "      <td>9.5</td>\n",
       "      <td>30.4</td>\n",
       "      <td>0.0</td>\n",
       "      <td>NaN</td>\n",
       "      <td>10.0</td>\n",
       "      <td>0.0</td>\n",
       "      <td>1014.5</td>\n",
       "      <td>NaN</td>\n",
       "    </tr>\n",
       "    <tr>\n",
       "      <th>...</th>\n",
       "      <td>...</td>\n",
       "      <td>...</td>\n",
       "      <td>...</td>\n",
       "      <td>...</td>\n",
       "      <td>...</td>\n",
       "      <td>...</td>\n",
       "      <td>...</td>\n",
       "      <td>...</td>\n",
       "      <td>...</td>\n",
       "      <td>...</td>\n",
       "    </tr>\n",
       "    <tr>\n",
       "      <th>2018-12-27</th>\n",
       "      <td>3.6</td>\n",
       "      <td>1.8</td>\n",
       "      <td>5.3</td>\n",
       "      <td>0.0</td>\n",
       "      <td>0.0</td>\n",
       "      <td>74.0</td>\n",
       "      <td>7.2</td>\n",
       "      <td>NaN</td>\n",
       "      <td>1027.8</td>\n",
       "      <td>NaN</td>\n",
       "    </tr>\n",
       "    <tr>\n",
       "      <th>2018-12-28</th>\n",
       "      <td>3.8</td>\n",
       "      <td>2.8</td>\n",
       "      <td>4.8</td>\n",
       "      <td>24.5</td>\n",
       "      <td>0.0</td>\n",
       "      <td>66.0</td>\n",
       "      <td>17.6</td>\n",
       "      <td>NaN</td>\n",
       "      <td>1025.2</td>\n",
       "      <td>NaN</td>\n",
       "    </tr>\n",
       "    <tr>\n",
       "      <th>2018-12-29</th>\n",
       "      <td>7.5</td>\n",
       "      <td>4.6</td>\n",
       "      <td>10.3</td>\n",
       "      <td>16.6</td>\n",
       "      <td>0.0</td>\n",
       "      <td>180.0</td>\n",
       "      <td>25.3</td>\n",
       "      <td>208.8</td>\n",
       "      <td>1013.7</td>\n",
       "      <td>NaN</td>\n",
       "    </tr>\n",
       "    <tr>\n",
       "      <th>2018-12-30</th>\n",
       "      <td>4.8</td>\n",
       "      <td>2.2</td>\n",
       "      <td>7.3</td>\n",
       "      <td>0.2</td>\n",
       "      <td>0.0</td>\n",
       "      <td>319.0</td>\n",
       "      <td>16.0</td>\n",
       "      <td>241.2</td>\n",
       "      <td>1021.5</td>\n",
       "      <td>NaN</td>\n",
       "    </tr>\n",
       "    <tr>\n",
       "      <th>2018-12-31</th>\n",
       "      <td>3.2</td>\n",
       "      <td>-0.3</td>\n",
       "      <td>6.8</td>\n",
       "      <td>0.0</td>\n",
       "      <td>0.0</td>\n",
       "      <td>110.0</td>\n",
       "      <td>6.8</td>\n",
       "      <td>NaN</td>\n",
       "      <td>1032.1</td>\n",
       "      <td>NaN</td>\n",
       "    </tr>\n",
       "  </tbody>\n",
       "</table>\n",
       "<p>365 rows × 10 columns</p>\n",
       "</div>"
      ],
      "text/plain": [
       "            tavg  tmin  tmax  prcp  snow   wdir  wspd   wpgt    pres  tsun\n",
       "time                                                                      \n",
       "2018-01-01   1.8  -0.4   4.0   0.0   0.0    NaN   8.7    0.0  1030.7   NaN\n",
       "2018-01-02   1.8  -0.4   3.9   0.0   0.0    NaN   7.1    0.0  1028.5   NaN\n",
       "2018-01-03   2.3   1.2   3.4   0.0   NaN    NaN   6.8    0.0  1022.5   NaN\n",
       "2018-01-04   4.1   1.6   6.6   0.0   0.0    NaN   6.1    0.0  1016.7   NaN\n",
       "2018-01-05   7.6   5.7   9.5  30.4   0.0    NaN  10.0    0.0  1014.5   NaN\n",
       "...          ...   ...   ...   ...   ...    ...   ...    ...     ...   ...\n",
       "2018-12-27   3.6   1.8   5.3   0.0   0.0   74.0   7.2    NaN  1027.8   NaN\n",
       "2018-12-28   3.8   2.8   4.8  24.5   0.0   66.0  17.6    NaN  1025.2   NaN\n",
       "2018-12-29   7.5   4.6  10.3  16.6   0.0  180.0  25.3  208.8  1013.7   NaN\n",
       "2018-12-30   4.8   2.2   7.3   0.2   0.0  319.0  16.0  241.2  1021.5   NaN\n",
       "2018-12-31   3.2  -0.3   6.8   0.0   0.0  110.0   6.8    NaN  1032.1   NaN\n",
       "\n",
       "[365 rows x 10 columns]"
      ]
     },
     "execution_count": 4,
     "metadata": {},
     "output_type": "execute_result"
    }
   ],
   "source": [
    "data"
   ]
  },
  {
   "cell_type": "markdown",
   "id": "e557f0e5",
   "metadata": {},
   "source": [
    "Im Beispielcode wurde in die Variable `data` diese Tabelle gespeichert. In einem Jupyter Notebook kann man sich die Variable so wie oberhalb dargestellt einfach anzeigen lassen. Bei dieser Tabelle oberhalb handelt es sich um ein sogenanntes `Dataframe`, das von der `Library \"Pandas\"` bereitgestellt wird. Wir werden im Folgenden kontinuierlich damit arbeiten, es allerdings an anderer Stelle weiter erörtern."
   ]
  },
  {
   "cell_type": "markdown",
   "id": "27e134a3",
   "metadata": {},
   "source": [
    "<div class=\"alert alert-block alert-success\">\n",
    "🚩Prima! Wir sind dem Beispielcode gefolgt und haben (das erste Mal) Daten erhalten! Tatsächlich haben wir einen sogenannten \"API-Call\" durchgeführt, den uns Meteostat abgenommen hat. Das ist gut und erspart uns einige hakelige Anfragen. Wir können uns an dem Code richten und unsere Anfrage spezifizieren.\n",
    "</div>"
   ]
  },
  {
   "cell_type": "markdown",
   "id": "5b0ebeda",
   "metadata": {},
   "source": [
    "## Datenanfrage anpassen"
   ]
  },
  {
   "cell_type": "markdown",
   "id": "45a2bdb1",
   "metadata": {},
   "source": [
    "> 🔖 Wenn das Notebook einmal durchgearbeitet wurde, kann an diese Stelle zurückgekehrt werden. Du kannst so die Geodaten zu den Geodaten deines Wunschortes ändern! <b> Beachte: du musst dann alle Zeilen der Reihenfolge nach wieder ausführen, damit der Code die neuen Daten verarbeitet.</b> Geodaten können beispielsweise mit Hilfe von Google Maps bezogen werden, indem man rechts auf einen Ort klickt. Das Ziffernpaar sind Geodaten, die du weiter unten in diesem Notebook an der Stelle mit dem Symbol 🔖 abändern kannst. Meteostat sucht dann die nächstgelegene Wetterstation, von der es Daten hat. Komfortabel!"
   ]
  },
  {
   "cell_type": "markdown",
   "id": "168cd078",
   "metadata": {},
   "source": [
    "Im Folgenden passen wir nun die Anfrage an und ändern dazu sowohl ein paar Variablennamen als auch Werte. "
   ]
  },
  {
   "cell_type": "markdown",
   "id": "a39496a5",
   "metadata": {},
   "source": [
    "📅 Lass uns die Zeit ändern. Wir gehen 100 Jahre zurück. (Hinweis: Dank der `Library datetime` werden Zeitangaben maschinell lesbar und sind damit für die Abfrage verständlich)"
   ]
  },
  {
   "cell_type": "markdown",
   "id": "1aeb87e8",
   "metadata": {},
   "source": [
    "👇 Vergess nicht, die kommenden Zeilen Code der Reihenfolge nach auszuführen."
   ]
  },
  {
   "cell_type": "code",
   "execution_count": null,
   "id": "e3134aa9",
   "metadata": {},
   "outputs": [],
   "source": [
    "startdatum = datetime(1919, 1, 1)\n",
    "enddatum = datetime(2018, 12, 31)"
   ]
  },
  {
   "cell_type": "markdown",
   "id": "007ef758",
   "metadata": {},
   "source": [
    "Für den Ort nehmen wir für unser Beispiel das Brandenburger Tor. Hinweis: a) Die Höhe müssen wir nicht angeben, b) Zuvor wurde die Variable  `Vancover ` genutzt. Ab hier nehmen wir eine flexiblere Variable namens `Ort`. Merke: Ausschlaggebend ist in diesem Fall nicht der Name der Variable, sondern sind die Koordinaten, die wir übermitteln!"
   ]
  },
  {
   "cell_type": "markdown",
   "id": "126c0f82",
   "metadata": {},
   "source": [
    "👇  Klicke in die Zeile Code und führe diese aus."
   ]
  },
  {
   "cell_type": "code",
   "execution_count": null,
   "id": "932e4d37",
   "metadata": {},
   "outputs": [],
   "source": [
    "# Ändere die Geodaten gerne nach dem ersten Durchlauf\n",
    "# Berlin Brandenburger Tor: Ort = Point(52.5163, 13.3776)\n",
    "Ort = Point(52.5163, 13.3776)#🔖in der Klammer kannst du deine Geodaten einfügen"
   ]
  },
  {
   "cell_type": "markdown",
   "id": "d7327c4d",
   "metadata": {},
   "source": [
    "Wir formulieren nun die Anfrage, indem wir die drei Variablen übermitteln, und erhalten hoffentlich die Daten für den genannten Zeitraum und Zielort. Die Anfrage so auszuführen ist recht komfortabel. Die Arbeit an der API und entsprechende Schritte übernimmt das System für uns!"
   ]
  },
  {
   "cell_type": "markdown",
   "id": "fd0984c8",
   "metadata": {},
   "source": [
    "👇  Klicke in die Zeile Code und führe diese aus."
   ]
  },
  {
   "cell_type": "code",
   "execution_count": null,
   "id": "9ca423ea",
   "metadata": {},
   "outputs": [],
   "source": [
    "data = Daily(Ort, startdatum, enddatum)\n",
    "data = data.fetch()"
   ]
  },
  {
   "cell_type": "markdown",
   "id": "ec28764e",
   "metadata": {},
   "source": [
    "Der Output kommt im nächsten Abschnitt!"
   ]
  },
  {
   "cell_type": "markdown",
   "id": "82a48146",
   "metadata": {},
   "source": [
    "<div class=\"alert alert-block alert-success\">\n",
    "🚩 Wir haben die Daten für eine Wetterstation in der Nähe unseres Zielortes und Zeitraumes erhalten. \n",
    "</div>"
   ]
  },
  {
   "cell_type": "markdown",
   "id": "c32be70c",
   "metadata": {},
   "source": [
    "#  Datenanalyse"
   ]
  },
  {
   "cell_type": "markdown",
   "id": "e7106c5c",
   "metadata": {},
   "source": [
    "In diesem Abschnitt werden wir nun die erhaltenen Daten analysieren. Dabei ist es ganz normal, die Daten zu erkunden und verschiedene Fragen zu stellen. Dafür sind in der Regel einschlägige Kenntnisse in Python bzw. ein entsprechender  Umgang mit Libraries wie Numpy oder Pandas nötig. Das können wir hier nicht leisten - aber exemplarisch vorstellen!"
   ]
  },
  {
   "cell_type": "markdown",
   "id": "8d92c710",
   "metadata": {},
   "source": [
    "<b>Datenexploration</b>"
   ]
  },
  {
   "cell_type": "markdown",
   "id": "13743d7c",
   "metadata": {},
   "source": [
    "Der Umfang von Datenexplorationen variiert je nach Fragestellung, Datensätzen und Vorerfahrung enorm. Sie reicht von einer oberflächlichen bis hin zu einer extrem detaillierten Auseinandersetzung mit den vorliegenden Daten oder Aspekten dieser. Für dieses Beispiel können wir es einfach halten - auch, weil Daten zu Wetter und Klima recht intuitiv sein sollten."
   ]
  },
  {
   "cell_type": "markdown",
   "id": "e42cb6a2",
   "metadata": {},
   "source": [
    "👇 Klicke in die Zeile Code und führe diese aus. "
   ]
  },
  {
   "cell_type": "code",
   "execution_count": null,
   "id": "83f5b285",
   "metadata": {},
   "outputs": [],
   "source": [
    "data"
   ]
  },
  {
   "cell_type": "markdown",
   "id": "e5ff635c",
   "metadata": {},
   "source": [
    "Wir sehen ein Dataframe, das die Daten der Abfrage beinhaltet. Schaue dir an, wie es aufgebaut ist."
   ]
  },
  {
   "cell_type": "markdown",
   "id": "ad794bbc",
   "metadata": {},
   "source": [
    "Es werden im Output die ersten und die letzten fünf Einträge des Dataframes dargestellt. Außerdem wird unterhalb \"36525 rows × 10 columns\" ausgegeben.<br>\n",
    "Die Reihen (rows) stehen hier für Tage, die im `datetime` Format hinterlegt sind (YYYY-MM-TT). Jedem Tag sind Werte zugeordnet, in diesem Fall 10 innerhalb der Spalten (columns). Siehst du `NaN` in der Tabelle, bedeutet es, dass es hierzu keinen Eintrag gibt. Was `NaN` genau bedeutet und wofür die Spalten mit ihren entsprechenden Werten stehen, wird in der Dokumentation notiert und lässt sich dort nachlesen."
   ]
  },
  {
   "cell_type": "markdown",
   "id": "6653ef3c",
   "metadata": {},
   "source": [
    "Die Benennung der Daten im Datensatz ist zum Glück intuitiv: Snow meint Schnee, und time meint Zeit (in diesem Fall das Datum)."
   ]
  },
  {
   "cell_type": "markdown",
   "id": "52d4a304",
   "metadata": {},
   "source": [
    "Alle Tage befinden sich im Index im `datetime Format` hinterlegt. Eigentlich haben wir drei Angaben: Jahr, Monat, Tag. Dank Kompatibilität mit `datetime`-, können wir diese drei Angaben unabhängig voneinander ansprechen."
   ]
  },
  {
   "cell_type": "markdown",
   "id": "9be52b39",
   "metadata": {},
   "source": [
    "<b> Datenselektion </b>"
   ]
  },
  {
   "cell_type": "markdown",
   "id": "3fda99ae",
   "metadata": {},
   "source": [
    "👇  Klicke in die Zeile Code und führe diese aus."
   ]
  },
  {
   "cell_type": "code",
   "execution_count": null,
   "id": "f9a35ca6",
   "metadata": {},
   "outputs": [],
   "source": [
    "# Datensatz wird auf den Monat Dezember eingegrenzt\n",
    "data=data[data.index.month==12]"
   ]
  },
  {
   "cell_type": "markdown",
   "id": "b3c7bcc8",
   "metadata": {},
   "source": [
    "👇  Klicke in die Zeile Code und führe diese aus."
   ]
  },
  {
   "cell_type": "code",
   "execution_count": null,
   "id": "fa277bf6",
   "metadata": {},
   "outputs": [],
   "source": [
    "# Datensatz wird auf den 24. reduziert \n",
    "data=data[data.index.day==24]"
   ]
  },
  {
   "cell_type": "markdown",
   "id": "85949a42",
   "metadata": {},
   "source": [
    "Im Anschluss wird die Zeit nur anhand des Jahres dargestellt. "
   ]
  },
  {
   "cell_type": "markdown",
   "id": "ed422bba",
   "metadata": {},
   "source": [
    "👇  Klicke in die Zeile Code und führe diese aus."
   ]
  },
  {
   "cell_type": "code",
   "execution_count": null,
   "id": "fc6149ea",
   "metadata": {},
   "outputs": [],
   "source": [
    "data.index=data.index.year\n",
    "data"
   ]
  },
  {
   "cell_type": "markdown",
   "id": "5857ff92",
   "metadata": {},
   "source": [
    "Wichtig: Sollen Änderungen langfristig geschehen, muss einer Variable (hier  `data`) sich wieder zugeordnet werden (hier  `data = data ...`), damit die Änderungen beibehalten werden. Ohne dies wird zwar ein neues Ergebnis bzw. eine neue Ansicht angezeigt, allerdings fortlaufend nicht gespeichert."
   ]
  },
  {
   "cell_type": "markdown",
   "id": "42fc7a43",
   "metadata": {},
   "source": [
    "Mit bloßem Auge lässt sich in der Tabelle erkennen, dass in einigen Jahren offensichtlich kein Schnee gefallen ist. Ein Überblick wäre jetzt gut."
   ]
  },
  {
   "cell_type": "markdown",
   "id": "d2c08e66",
   "metadata": {},
   "source": [
    "<b>Daten visualisieren<b>"
   ]
  },
  {
   "cell_type": "markdown",
   "id": "b8542a5e",
   "metadata": {},
   "source": [
    "Daten werden häufig visualisiert, um mit und an den Daten weiter zu arbeiten. Wir können einen \"Plot\" generieren und schauen uns in einen Balkendiagramm an, wie oft es geschneit hat in den letzten 100 Jahren."
   ]
  },
  {
   "cell_type": "markdown",
   "id": "111746fe",
   "metadata": {},
   "source": [
    "👇  Klicke in die Zeile Code und führe diese aus. "
   ]
  },
  {
   "cell_type": "code",
   "execution_count": null,
   "id": "29023df5",
   "metadata": {},
   "outputs": [],
   "source": [
    "data[\"snow\"].plot(kind=\"bar\",figsize=(16,12))"
   ]
  },
  {
   "cell_type": "markdown",
   "id": "03f63b24",
   "metadata": {},
   "source": [
    "Auch wenn es nicht die schönste Darstellung ist: Wir sehen, dass es an Weihnachten nicht so oft geschneit hat. Auch die Schneemenge scheint stark zu variieren. Was siehst du? "
   ]
  },
  {
   "cell_type": "markdown",
   "id": "485aaec2",
   "metadata": {},
   "source": [
    "Jetzt wollen wir eine konkrete Aussage generieren: an welchen Jahren hat es überhaupt geschneit? In wie vielen der letzten 100 Jahre hat es damit insgesamt geschneit?"
   ]
  },
  {
   "cell_type": "markdown",
   "id": "a6b7c93f",
   "metadata": {},
   "source": [
    "Hierzu schließen wir erst einmal die Jahre aus, in denen es nicht geschneit hat. <br> 👇  Klicke hierzu in die Zeile Code und führe diese aus."
   ]
  },
  {
   "cell_type": "code",
   "execution_count": null,
   "id": "292b0a00",
   "metadata": {},
   "outputs": [],
   "source": [
    "data=data[data[\"snow\"]!=0]\n",
    "data"
   ]
  },
  {
   "cell_type": "markdown",
   "id": "8e37b861",
   "metadata": {},
   "source": [
    "# Ergebnis und Ergebnisinterpretation"
   ]
  },
  {
   "cell_type": "markdown",
   "id": "321c831f",
   "metadata": {},
   "source": [
    "Mit `.shape` können wir uns ausgeben lassen, wie viele Zeilen (links) und Spalten (rechts) die vorherige Abfrage erzeugt hat."
   ]
  },
  {
   "cell_type": "markdown",
   "id": "748502a4",
   "metadata": {},
   "source": [
    "👇  Klicke in die Zeile Code und führe diese aus."
   ]
  },
  {
   "cell_type": "code",
   "execution_count": null,
   "id": "6f12a6e7",
   "metadata": {},
   "outputs": [],
   "source": [
    "# .shape zeigt uns die Gesamtzahl der Zeilen an und die Gesamtzahl der Spalten)\n",
    "data.shape"
   ]
  },
  {
   "cell_type": "markdown",
   "id": "9fc70f29",
   "metadata": {},
   "source": [
    "<div class=\"alert alert-block alert-success\">\n",
    "    🚩 Prima, unser erstes Ergebnis:<br> Innerhalb der letzten 100 Jahre gab es an <b>22 Jahren </b> Schneefall an Weihnachten am Ort Berlin, Brandenburger Tor mit den Daten aus der gegebenen Quelle.\n",
    "</div>"
   ]
  },
  {
   "cell_type": "markdown",
   "id": "060a939e",
   "metadata": {},
   "source": [
    "<div class=\"alert alert-block alert-info\">\n",
    "<b>Ergebnisinterpretation:</b> Was bedeutet das Ergebnis <b>22 Jahre</b> prinzipiell für unsere Hauptfragestellung: Gab es nun mehr Schnee oder nicht? Wie würdest du nun auf diese Frage antworten?\n",
    "</div>"
   ]
  },
  {
   "cell_type": "markdown",
   "id": "adc80d18",
   "metadata": {},
   "source": [
    "<div class=\"alert alert-block alert-info\">\n",
    " <b>Fragestellung anpassen:</b> \n",
    "Bist du überhaupt zufrieden mit dem Ergebnis? Wurde etwas nicht beachtet? Überlege, welche weiteren Fragestellungen möglich sind! Scrolle dazu hoch und sieh dir sowohl die Visualiserung als auch die Tabellen (aka Dataframe) an. Unterhalb findest du weitere Anregungen!\n",
    "</div>\n",
    "\n"
   ]
  },
  {
   "cell_type": "markdown",
   "id": "9e52431e",
   "metadata": {},
   "source": [
    "<div class=\"alert alert-block alert-warning\">\n",
    "<b>Prozessreflektion:</b> Wir sind in dem Notebook Stück für Stück vorgegangen und haben mit Hilfe von Python, Python Libaries und Meteostat sowohl Daten erhalten als auch damit gearbeitet. Was wäre, wenn wir keine Library Meteostat oder keine Library datetime gehabt hätten? Was wären Alternativen gewesen? Denkst du, die Alternativen sind einfacher? Was wäre ohne dieses Jupyter Notebook als Medium gewesen?\n",
    "</div>"
   ]
  },
  {
   "cell_type": "markdown",
   "id": "9d62332f",
   "metadata": {},
   "source": [
    "<div class=\"alert alert-block alert-danger\">\n",
    "<b>Hinterfragen der erhaltenen Daten:</b><br> Es gibt festgelegte Wetterstationen <a href=\"https://dev.meteostat.net/python/api/stations/#parameters\">Stations</a> von denen wir Daten direkt beziehen können, indem wir statt der Koordinaten eine entsprechende id übermitteln. Allerdings sind Wetterstationen nicht gleich alt und messen nicht immer von an Anfang für alle Zeiträume bestimmte Wetterphänomene. Die Datengrundlage könnte also hier und da ein wenig \"löchrig\" sein und es gibt bestimmte Wege damit umzugehen.<br>\n",
    "Indem wir Koordinaten mit `Point()` übermittelt haben, werden laut Dokumentation <a href=\"https://dev.meteostat.net/python/point.html#api\">Point</a> für diesen geografischen Punkt spezielle (auch wählbare) Interpolationsmethoden eingesetzt, um Daten von umliegenden Wetterstationen zu diesem (ziemlich vollständig erscheinenden) Datensatz zu bündeln. In einem Zeitraum von 100 Jahren sind vermutlich ältere Einträge stärker von Interpolarisierung betroffen als neuere.<br> Für unser Beispiel \"Brandenburger Tor\" müssten wir uns noch einmal genauer mit der Dokumentation und den angewandten Interpolationsmethoden beschäftigen. Das ist kein Spezialproblem, sondern Bestandteil der Routine beim Arbeiten mit Daten, um die Datengrundlage und letztlich die Aussagefähigkeit von Ergebnissen abzusichern. Dazu zu einem späteren Zeitpunkt mehr. <br><br>Für den verbleibenden Teil dieses Trainings (und darüber hinaus) gehen wir davon aus, dass die erhaltene Datengrundlage sehr zutreffend ist und bestmöglichst berechnet wurde)! <br>\n",
    "<br> Wie schätzt du diesen Umstand in Bezug auf das Ergebnis <b>22 Jahre</b> ein? \n",
    "</div>"
   ]
  },
  {
   "cell_type": "markdown",
   "id": "f0c25407",
   "metadata": {},
   "source": [
    "<b>Anregungen, zu weiteren Fragestellungen</b><br>\n",
    "Die folgenden Felder können mit einem Linksklick aufgeklappt werden. Nimm dir zunächst etwas Zeit und gehe den obigen Anregungen nach. Hättest du vielleicht etwas anders gemacht oder würdest das Ergebnis gerne verfeinern?  Unterhalb bieten wir ein paar Anregungen. <br>Diejenigen, die bereits Kenntnisse in Python haben, können gerne ein gesondertes Jupyter Notebook im Workspace der Plattform öffnen, um eigenen Fragen nachzugehen und Analysen selbstständig durchzuführen."
   ]
  },
  {
   "cell_type": "markdown",
   "id": "45943e4d",
   "metadata": {},
   "source": [
    "<details>\n",
    "    <summary>Anregung  1 (Linksklick zum Aufklappen)🔖 </summary>\n",
    "    Berlin ist ein Ort in Deutschland. Wie sieht es an einem anderen Ort aus? Ändere dazu oben 🔖die Geodaten und führe alle Zeilen Code ab einschließlich der geänderten Zeile Code erneut aus! Sei dir bewusst, dass der Text sich nicht an dein Beispiel anpasst, sondern lediglich der Output der Zeilen Code. Es kann vorkommen, dass für einige andere Orte bestimmte Fälle auftauchen. Darunter könnte sein, dass `NaN` auftaucht, was bedeutet, dass hier keine Daten eingetragen worden sind: Wir wissen es also nicht!\n",
    "</details>"
   ]
  },
  {
   "cell_type": "markdown",
   "id": "6001c43b",
   "metadata": {},
   "source": [
    "<details>\n",
    "    <summary>Anregung  2 (Linksklick zum Aufklappen)</summary>\n",
    "    Schau dir diese kleine Tabelle an. Was bedeutet sie? Was sagt sie in Bezug zu einer \"weißer Weihnacht\" und zu deiner Einschätzung einer \"wirklich\" weißen Weihnacht? Bist du mit dem bisherigen Ergebnis \"22\" noch einverstanden?\n",
    "<code>\n",
    "10.0     6\n",
    "30.0     3\n",
    "40.0     1\n",
    "60.0     2\n",
    "70.0     3\n",
    "80.0     1\n",
    "100.0    1\n",
    "130.0    1\n",
    "140.0    1\n",
    "170.0    1\n",
    "200.0    1\n",
    "220.0    1</code>\n",
    "</details>"
   ]
  },
  {
   "cell_type": "markdown",
   "id": "240de0af",
   "metadata": {},
   "source": [
    "<details>\n",
    "    <summary>Anregung  3 (Linksklick zum Aufklappen)</summary>\n",
    "    Schau dir diese kleine Tabelle an. Was bedeutet sie? Was sagt sie in Bezug zu \"weißer Weihnacht\" und zu deiner Einschätzung einer \"wirklich\" weißen Weihnacht? Bist du mit dem bisherigen Ergebnis \"22\" noch einverstanden?\n",
    "<code>\n",
    " 6.8    1\n",
    " 3.0    1\n",
    " 2.0    1\n",
    " 1.1    1\n",
    " 0.8    2\n",
    " 0.7    1\n",
    "-0.2    1\n",
    "-1.4    1\n",
    "-1.5    1\n",
    "-1.6    1\n",
    "-2.2    1\n",
    "-3.2    1\n",
    "-3.7    1\n",
    "-3.8    1\n",
    "-6.2    1\n",
    "-6.6    1\n",
    "-6.9    1\n",
    "-7.1    1\n",
    "-7.6    1\n",
    "-8.0    1\n",
    "-8.4    1</code>\n",
    "</details>"
   ]
  },
  {
   "cell_type": "markdown",
   "id": "1fece68a",
   "metadata": {},
   "source": [
    "<details>\n",
    "    <summary>Anregung  4 (Linksklick zum Aufklappen)</summary>\n",
    "Wir haben uns bisher auf den 24.12. geinigt. Auch wenn es an dem Tag nicht geschneit hat, lag vielleicht noch Schnee?\n",
    "</details>"
   ]
  },
  {
   "cell_type": "markdown",
   "id": "1baf25ae",
   "metadata": {},
   "source": [
    "<details>\n",
    "    <summary>Anregung  5 (Linksklick zum Aufklappen)</summary>\n",
    "Was sagen Suchmaschinen, Sprachassistent:innen und Large Language Model basierte Assistent:innen dazu? Zu welchem Ergebnis kommen sie? Kannst du abschätzen (oder sie fragen) wie sie vorgegangen sind, um zu dem jeweiligem Ergebnis zu kommen? </details>"
   ]
  },
  {
   "cell_type": "markdown",
   "id": "68df1d9f",
   "metadata": {},
   "source": [
    "Abschließend: Was sagt eigentlich die entsprechende Stelle [Deutscher Wetterdienst](https://www.dwd.de/) dazu?"
   ]
  },
  {
   "cell_type": "code",
   "execution_count": null,
   "id": "48c7ff2f",
   "metadata": {},
   "outputs": [],
   "source": [
    "## Wenn du die entsprechenden Fähigkeiten mitbringst, kannst du hier gerne selbstständig weiter arbeiten."
   ]
  }
 ],
 "metadata": {
  "kernelspec": {
   "display_name": "Python 3 (ipykernel)",
   "language": "python",
   "name": "python3"
  },
  "language_info": {
   "codemirror_mode": {
    "name": "ipython",
    "version": 3
   },
   "file_extension": ".py",
   "mimetype": "text/x-python",
   "name": "python",
   "nbconvert_exporter": "python",
   "pygments_lexer": "ipython3",
   "version": "3.11.9"
  },
  "toc": {
   "base_numbering": 1,
   "nav_menu": {},
   "number_sections": true,
   "sideBar": true,
   "skip_h1_title": false,
   "title_cell": "Table of Contents",
   "title_sidebar": "Contents",
   "toc_cell": false,
   "toc_position": {
    "height": "calc(100% - 180px)",
    "left": "10px",
    "top": "150px",
    "width": "165px"
   },
   "toc_section_display": true,
   "toc_window_display": true
  }
 },
 "nbformat": 4,
 "nbformat_minor": 5
}
